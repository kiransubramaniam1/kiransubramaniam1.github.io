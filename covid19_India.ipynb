{
 "cells": [
  {
   "cell_type": "code",
   "execution_count": 1,
   "metadata": {},
   "outputs": [],
   "source": [
    "import requests\n",
    "from flask import jsonify\n",
    "import pandas as pd\n",
    "#URL = \"http://159.65.158.4:7000/case-intake-structured-proc\"\n",
    "URL = \"https://api.covid19india.org/raw_data.json\"\n",
    "from tqdm import tqdm\n",
    "import plotly.express as px\n",
    "import numpy as np"
   ]
  },
  {
   "cell_type": "code",
   "execution_count": 25,
   "metadata": {
    "scrolled": true
   },
   "outputs": [
    {
     "name": "stderr",
     "output_type": "stream",
     "text": [
      "100%|████████████████████████████████████████████████████████████████████████| 11040/11040 [00:00<00:00, 302485.70it/s]\n"
     ]
    }
   ],
   "source": [
    "r = requests.get(url = URL)\n",
    "try:\n",
    "    d = r.json()\n",
    "except:\n",
    "    d = r.text\n",
    "    \n",
    "#variables in the file\n",
    "agebracket = []\n",
    "backupnotes = []\n",
    "contractedfromwhichpatientsuspected = []\n",
    "currentstatus = []\n",
    "dateannounced = []\n",
    "detectedcity = []\n",
    "detecteddistrict = []\n",
    "detectedstate = []\n",
    "estimatedonsetdate = []\n",
    "gender = []\n",
    "nationality = []\n",
    "notes = []\n",
    "patientnumber = []\n",
    "source1 = []\n",
    "source2 = []\n",
    "source3 = []\n",
    "statecode = []\n",
    "statepatientnumber = []\n",
    "statuschangedate = []\n",
    "typeoftransmission = []\n",
    "\n",
    "for ee in tqdm(d['raw_data']):\n",
    "    agebracket.append(ee['agebracket'])\n",
    "    backupnotes.append(ee['backupnotes'])\n",
    "    contractedfromwhichpatientsuspected.append(ee['contractedfromwhichpatientsuspected'])\n",
    "    currentstatus.append(ee['currentstatus'])\n",
    "    dateannounced.append(ee['dateannounced'])\n",
    "    detectedcity.append(ee['detectedcity'])\n",
    "    detecteddistrict.append(ee['detecteddistrict'])\n",
    "    detectedstate.append(ee['detectedstate'])\n",
    "    estimatedonsetdate.append(ee['estimatedonsetdate'])\n",
    "    gender.append(ee['gender'])\n",
    "    nationality.append(ee['nationality'])\n",
    "    notes.append(ee['notes'])\n",
    "    patientnumber.append(ee['patientnumber'])\n",
    "    source1.append(ee['source1'])\n",
    "    source2.append(ee['source2'])\n",
    "    source3.append(ee['source3'])\n",
    "    statecode.append(ee['statecode'])\n",
    "    statepatientnumber.append(ee['statepatientnumber'])\n",
    "    statuschangedate.append(ee['statuschangedate'])\n",
    "    typeoftransmission.append(ee['typeoftransmission'])\n",
    "df = pd.DataFrame()\n",
    "df['agebracket'] = agebracket\n",
    "df['backupnotes'] = backupnotes\n",
    "df['contractedfromwhichpatientsuspected'] = contractedfromwhichpatientsuspected\n",
    "df['currentstatus'] = currentstatus\n",
    "df['dateannounced'] = dateannounced\n",
    "df['detectedcity'] = detectedcity\n",
    "df['detecteddistrict'] = detecteddistrict\n",
    "df['detectedstate'] = detectedstate\n",
    "df['estimatedonsetdate'] = estimatedonsetdate\n",
    "df['gender'] = gender\n",
    "df['nationality'] = nationality\n",
    "df['notes'] = notes\n",
    "df['patientnumber'] = patientnumber\n",
    "df['source1'] = source1\n",
    "df['source2'] = source2\n",
    "df['source3'] = source3\n",
    "df['statecode'] = statecode\n",
    "df['statepatientnumber'] = statepatientnumber\n",
    "df['statuschangedate'] = statuschangedate\n",
    "df['statuschangedate']= pd.to_datetime(df['statuschangedate'])\n",
    "df['typeoftransmission'] = typeoftransmission\n",
    "df.loc[df['dateannounced']=='', 'dateannounced'] = '01/01/2000'\n",
    "df['dateannounced']= pd.to_datetime(df['dateannounced'], format='%d/%m/%Y')\n",
    "#df['weekannounced'] = df['dateannounced'].dt.week\n",
    "df['week_year'] = df['dateannounced'].dt.strftime('%Y, Week %W')\n",
    "df.to_csv('updated_file.csv', index = False)"
   ]
  },
  {
   "cell_type": "code",
   "execution_count": 26,
   "metadata": {},
   "outputs": [
    {
     "data": {
      "text/html": [
       "<div>\n",
       "<style scoped>\n",
       "    .dataframe tbody tr th:only-of-type {\n",
       "        vertical-align: middle;\n",
       "    }\n",
       "\n",
       "    .dataframe tbody tr th {\n",
       "        vertical-align: top;\n",
       "    }\n",
       "\n",
       "    .dataframe thead th {\n",
       "        text-align: right;\n",
       "    }\n",
       "</style>\n",
       "<table border=\"1\" class=\"dataframe\">\n",
       "  <thead>\n",
       "    <tr style=\"text-align: right;\">\n",
       "      <th></th>\n",
       "      <th>agebracket</th>\n",
       "      <th>backupnotes</th>\n",
       "      <th>contractedfromwhichpatientsuspected</th>\n",
       "      <th>currentstatus</th>\n",
       "      <th>dateannounced</th>\n",
       "      <th>detectedcity</th>\n",
       "      <th>detecteddistrict</th>\n",
       "      <th>detectedstate</th>\n",
       "      <th>estimatedonsetdate</th>\n",
       "      <th>gender</th>\n",
       "      <th>...</th>\n",
       "      <th>notes</th>\n",
       "      <th>patientnumber</th>\n",
       "      <th>source1</th>\n",
       "      <th>source2</th>\n",
       "      <th>source3</th>\n",
       "      <th>statecode</th>\n",
       "      <th>statepatientnumber</th>\n",
       "      <th>statuschangedate</th>\n",
       "      <th>typeoftransmission</th>\n",
       "      <th>week_year</th>\n",
       "    </tr>\n",
       "  </thead>\n",
       "  <tbody>\n",
       "    <tr>\n",
       "      <th>0</th>\n",
       "      <td>20</td>\n",
       "      <td>Student from Wuhan</td>\n",
       "      <td>NaN</td>\n",
       "      <td>Recovered</td>\n",
       "      <td>2020-01-30</td>\n",
       "      <td>Thrissur</td>\n",
       "      <td>Thrissur</td>\n",
       "      <td>Kerala</td>\n",
       "      <td>NaN</td>\n",
       "      <td>F</td>\n",
       "      <td>...</td>\n",
       "      <td>Travelled from Wuhan</td>\n",
       "      <td>1</td>\n",
       "      <td>https://twitter.com/vijayanpinarayi/status/1222819465143832577</td>\n",
       "      <td>https://weather.com/en-IN/india/news/news/2020-02-14-kerala-defeats-coronavirus-indias-three-covid-19-patients-successfully</td>\n",
       "      <td>NaN</td>\n",
       "      <td>KL</td>\n",
       "      <td>KL-TS-P1</td>\n",
       "      <td>2020-02-14</td>\n",
       "      <td>Imported</td>\n",
       "      <td>2020, Week 04</td>\n",
       "    </tr>\n",
       "    <tr>\n",
       "      <th>1</th>\n",
       "      <td>NaN</td>\n",
       "      <td>Student from Wuhan</td>\n",
       "      <td>NaN</td>\n",
       "      <td>Recovered</td>\n",
       "      <td>2020-02-02</td>\n",
       "      <td>Alappuzha</td>\n",
       "      <td>Alappuzha</td>\n",
       "      <td>Kerala</td>\n",
       "      <td>NaN</td>\n",
       "      <td>NaN</td>\n",
       "      <td>...</td>\n",
       "      <td>Travelled from Wuhan</td>\n",
       "      <td>2</td>\n",
       "      <td>https://www.indiatoday.in/india/story/kerala-reports-second-case-of-coronavirus-1642494-2020-02-02</td>\n",
       "      <td>https://weather.com/en-IN/india/news/news/2020-02-14-kerala-defeats-coronavirus-indias-three-covid-19-patients-successfully</td>\n",
       "      <td>NaN</td>\n",
       "      <td>KL</td>\n",
       "      <td>KL-AL-P1</td>\n",
       "      <td>2020-02-14</td>\n",
       "      <td>Imported</td>\n",
       "      <td>2020, Week 04</td>\n",
       "    </tr>\n",
       "    <tr>\n",
       "      <th>2</th>\n",
       "      <td>NaN</td>\n",
       "      <td>Student from Wuhan</td>\n",
       "      <td>NaN</td>\n",
       "      <td>Recovered</td>\n",
       "      <td>2020-02-03</td>\n",
       "      <td>Kasaragod</td>\n",
       "      <td>Kasaragod</td>\n",
       "      <td>Kerala</td>\n",
       "      <td>NaN</td>\n",
       "      <td>NaN</td>\n",
       "      <td>...</td>\n",
       "      <td>Travelled from Wuhan</td>\n",
       "      <td>3</td>\n",
       "      <td>https://www.indiatoday.in/india/story/kerala-now-confirms-third-case-of-coronavirus-1642789-2020-02-03</td>\n",
       "      <td>https://twitter.com/ANI/status/1224221485805395968?s=20</td>\n",
       "      <td>https://weather.com/en-IN/india/news/news/2020-02-14-kerala-defeats-coronavirus-indias-three-covid-19-patients-successfully</td>\n",
       "      <td>KL</td>\n",
       "      <td>KL-KS-P1</td>\n",
       "      <td>2020-02-14</td>\n",
       "      <td>Imported</td>\n",
       "      <td>2020, Week 05</td>\n",
       "    </tr>\n",
       "    <tr>\n",
       "      <th>3</th>\n",
       "      <td>45</td>\n",
       "      <td>Travel history to Italy and Austria</td>\n",
       "      <td>NaN</td>\n",
       "      <td>Recovered</td>\n",
       "      <td>2020-03-02</td>\n",
       "      <td>East Delhi (Mayur Vihar)</td>\n",
       "      <td>East Delhi</td>\n",
       "      <td>Delhi</td>\n",
       "      <td>NaN</td>\n",
       "      <td>M</td>\n",
       "      <td>...</td>\n",
       "      <td>Travelled from Austria, Italy</td>\n",
       "      <td>4</td>\n",
       "      <td>https://www.indiatoday.in/india/story/not-a-jail-delhi-s-1st-covid-19-patient-recalls-time-in-isolation-ward-has-this-one-tip-for-others-1656088-2020-03-16</td>\n",
       "      <td>https://economictimes.indiatimes.com/news/politics-and-nation/coronavirus-cases-in-india-live-news-latest-updates-mar2/liveblog/74432375.cms</td>\n",
       "      <td>NaN</td>\n",
       "      <td>DL</td>\n",
       "      <td>DL-P1</td>\n",
       "      <td>2020-03-15</td>\n",
       "      <td>Imported</td>\n",
       "      <td>2020, Week 09</td>\n",
       "    </tr>\n",
       "    <tr>\n",
       "      <th>4</th>\n",
       "      <td>24</td>\n",
       "      <td>Travel history to Dubai, Singapore contact</td>\n",
       "      <td>NaN</td>\n",
       "      <td>Recovered</td>\n",
       "      <td>2020-03-02</td>\n",
       "      <td>Hyderabad</td>\n",
       "      <td>Hyderabad</td>\n",
       "      <td>Telangana</td>\n",
       "      <td>NaN</td>\n",
       "      <td>M</td>\n",
       "      <td>...</td>\n",
       "      <td>Travelled from Dubai to Bangalore on 20th Feb, stayed there for 2 days and took a bus to Hyderabad</td>\n",
       "      <td>5</td>\n",
       "      <td>https://www.deccanherald.com/national/south/quarantine-not-a-jail-no-stigma-attached-telanganas-first-coronavirus-case-and-survivor-819012.html</td>\n",
       "      <td>https://www.indiatoday.in/india/story/coronavirus-in-india-tracking-country-s-first-50-covid-19-cases-what-numbers-tell-1654468-2020-03-12</td>\n",
       "      <td>https://www.thehindu.com/news/national/coronavirus-live-updates-march-14-2020/article31066969.ece</td>\n",
       "      <td>TG</td>\n",
       "      <td>TS-P1</td>\n",
       "      <td>2020-02-03</td>\n",
       "      <td>Imported</td>\n",
       "      <td>2020, Week 09</td>\n",
       "    </tr>\n",
       "  </tbody>\n",
       "</table>\n",
       "<p>5 rows × 21 columns</p>\n",
       "</div>"
      ],
      "text/plain": [
       "  agebracket                                 backupnotes  \\\n",
       "0  20         Student from Wuhan                           \n",
       "1  NaN        Student from Wuhan                           \n",
       "2  NaN        Student from Wuhan                           \n",
       "3  45         Travel history to Italy and Austria          \n",
       "4  24         Travel history to Dubai, Singapore contact   \n",
       "\n",
       "  contractedfromwhichpatientsuspected currentstatus dateannounced  \\\n",
       "0  NaN                                 Recovered     2020-01-30     \n",
       "1  NaN                                 Recovered     2020-02-02     \n",
       "2  NaN                                 Recovered     2020-02-03     \n",
       "3  NaN                                 Recovered     2020-03-02     \n",
       "4  NaN                                 Recovered     2020-03-02     \n",
       "\n",
       "               detectedcity detecteddistrict detectedstate  \\\n",
       "0  Thrissur                  Thrissur         Kerala         \n",
       "1  Alappuzha                 Alappuzha        Kerala         \n",
       "2  Kasaragod                 Kasaragod        Kerala         \n",
       "3  East Delhi (Mayur Vihar)  East Delhi       Delhi          \n",
       "4  Hyderabad                 Hyderabad        Telangana      \n",
       "\n",
       "   estimatedonsetdate gender  ...  \\\n",
       "0 NaN                  F      ...   \n",
       "1 NaN                  NaN    ...   \n",
       "2 NaN                  NaN    ...   \n",
       "3 NaN                  M      ...   \n",
       "4 NaN                  M      ...   \n",
       "\n",
       "                                                                                                notes  \\\n",
       "0  Travelled from Wuhan                                                                                 \n",
       "1  Travelled from Wuhan                                                                                 \n",
       "2  Travelled from Wuhan                                                                                 \n",
       "3  Travelled from Austria, Italy                                                                        \n",
       "4  Travelled from Dubai to Bangalore on 20th Feb, stayed there for 2 days and took a bus to Hyderabad   \n",
       "\n",
       "  patientnumber  \\\n",
       "0  1              \n",
       "1  2              \n",
       "2  3              \n",
       "3  4              \n",
       "4  5              \n",
       "\n",
       "                                                                                                                                                       source1  \\\n",
       "0  https://twitter.com/vijayanpinarayi/status/1222819465143832577                                                                                                \n",
       "1  https://www.indiatoday.in/india/story/kerala-reports-second-case-of-coronavirus-1642494-2020-02-02                                                            \n",
       "2  https://www.indiatoday.in/india/story/kerala-now-confirms-third-case-of-coronavirus-1642789-2020-02-03                                                        \n",
       "3  https://www.indiatoday.in/india/story/not-a-jail-delhi-s-1st-covid-19-patient-recalls-time-in-isolation-ward-has-this-one-tip-for-others-1656088-2020-03-16   \n",
       "4  https://www.deccanherald.com/national/south/quarantine-not-a-jail-no-stigma-attached-telanganas-first-coronavirus-case-and-survivor-819012.html               \n",
       "\n",
       "                                                                                                                                        source2  \\\n",
       "0  https://weather.com/en-IN/india/news/news/2020-02-14-kerala-defeats-coronavirus-indias-three-covid-19-patients-successfully                    \n",
       "1  https://weather.com/en-IN/india/news/news/2020-02-14-kerala-defeats-coronavirus-indias-three-covid-19-patients-successfully                    \n",
       "2  https://twitter.com/ANI/status/1224221485805395968?s=20                                                                                        \n",
       "3  https://economictimes.indiatimes.com/news/politics-and-nation/coronavirus-cases-in-india-live-news-latest-updates-mar2/liveblog/74432375.cms   \n",
       "4  https://www.indiatoday.in/india/story/coronavirus-in-india-tracking-country-s-first-50-covid-19-cases-what-numbers-tell-1654468-2020-03-12     \n",
       "\n",
       "                                                                                                                       source3  \\\n",
       "0  NaN                                                                                                                           \n",
       "1  NaN                                                                                                                           \n",
       "2  https://weather.com/en-IN/india/news/news/2020-02-14-kerala-defeats-coronavirus-indias-three-covid-19-patients-successfully   \n",
       "3  NaN                                                                                                                           \n",
       "4  https://www.thehindu.com/news/national/coronavirus-live-updates-march-14-2020/article31066969.ece                             \n",
       "\n",
       "  statecode statepatientnumber statuschangedate typeoftransmission  \\\n",
       "0  KL        KL-TS-P1           2020-02-14       Imported            \n",
       "1  KL        KL-AL-P1           2020-02-14       Imported            \n",
       "2  KL        KL-KS-P1           2020-02-14       Imported            \n",
       "3  DL        DL-P1              2020-03-15       Imported            \n",
       "4  TG        TS-P1              2020-02-03       Imported            \n",
       "\n",
       "       week_year  \n",
       "0  2020, Week 04  \n",
       "1  2020, Week 04  \n",
       "2  2020, Week 05  \n",
       "3  2020, Week 09  \n",
       "4  2020, Week 09  \n",
       "\n",
       "[5 rows x 21 columns]"
      ]
     },
     "execution_count": 26,
     "metadata": {},
     "output_type": "execute_result"
    }
   ],
   "source": [
    "df = pd.read_csv('updated_file.csv')\n",
    "df.head()"
   ]
  },
  {
   "cell_type": "code",
   "execution_count": 27,
   "metadata": {},
   "outputs": [
    {
     "data": {
      "text/plain": [
       "11040"
      ]
     },
     "execution_count": 27,
     "metadata": {},
     "output_type": "execute_result"
    }
   ],
   "source": [
    "len(df)"
   ]
  },
  {
   "cell_type": "code",
   "execution_count": 28,
   "metadata": {},
   "outputs": [],
   "source": [
    "import seaborn as sns\n",
    "import matplotlib.pyplot as plt"
   ]
  },
  {
   "cell_type": "code",
   "execution_count": 29,
   "metadata": {
    "scrolled": false
   },
   "outputs": [
    {
     "name": "stdout",
     "output_type": "stream",
     "text": [
      "Hospitalized    10738\n",
      "Recovered       167  \n",
      "Deceased        32   \n",
      "Migrated        1    \n",
      "Name: currentstatus, dtype: int64\n",
      "Maharashtra                    2455\n",
      "Delhi                          1510\n",
      "Tamil Nadu                     1204\n",
      "Rajasthan                      969 \n",
      "Uttar Pradesh                  657 \n",
      "Gujarat                        617 \n",
      "Madhya Pradesh                 614 \n",
      "Telangana                      592 \n",
      "Andhra Pradesh                 473 \n",
      "Kerala                         386 \n",
      "Jammu and Kashmir              278 \n",
      "Karnataka                      258 \n",
      "Haryana                        198 \n",
      "West Bengal                    190 \n",
      "Punjab                         184 \n",
      "Bihar                          66  \n",
      "Odisha                         60  \n",
      "Uttarakhand                    35  \n",
      "Chhattisgarh                   33  \n",
      "Himachal Pradesh               32  \n",
      "Assam                          31  \n",
      "Jharkhand                      24  \n",
      "Chandigarh                     21  \n",
      "Ladakh                         17  \n",
      "Andaman and Nicobar Islands    11  \n",
      "Puducherry                     7   \n",
      "Goa                            7   \n",
      "Manipur                        2   \n",
      "Tripura                        2   \n",
      "Meghalaya                      1   \n",
      "Nagaland                       1   \n",
      "Dadra and Nagar Haveli         1   \n",
      "Arunachal Pradesh              1   \n",
      "Mizoram                        1   \n",
      "Name: detectedstate, dtype: int64\n",
      "Local        1664\n",
      "TBD          637 \n",
      "Imported     598 \n",
      "Imported     2   \n",
      "Name: typeoftransmission, dtype: int64\n",
      "M     1543\n",
      "F     614 \n",
      "36    1   \n",
      "74    1   \n",
      "Name: gender, dtype: int64\n"
     ]
    },
    {
     "data": {
      "image/png": "[encoded data removed]",
      "text/plain": [
       "<Figure size 1440x720 with 1 Axes>"
      ]
     },
     "metadata": {
      "needs_background": "light"
     },
     "output_type": "display_data"
    },
    {
     "data": {
      "image/png": "[encoded data removed]",
      "text/plain": [
       "<Figure size 1440x720 with 1 Axes>"
      ]
     },
     "metadata": {
      "needs_background": "light"
     },
     "output_type": "display_data"
    },
    {
     "data": {
      "image/png": "[encoded data removed]",
      "text/plain": [
       "<Figure size 1440x720 with 1 Axes>"
      ]
     },
     "metadata": {
      "needs_background": "light"
     },
     "output_type": "display_data"
    },
    {
     "data": {
      "image/png": "[encoded data removed]",
      "text/plain": [
       "<Figure size 1440x720 with 1 Axes>"
      ]
     },
     "metadata": {
      "needs_background": "light"
     },
     "output_type": "display_data"
    }
   ],
   "source": [
    "feats = ['currentstatus', 'detectedstate', 'typeoftransmission', 'gender']\n",
    "for ef in feats:\n",
    "    plt.figure(figsize=(20,10))\n",
    "    plt.xticks(rotation=70)\n",
    "    print(df[ef].value_counts())\n",
    "    sns.countplot(x=ef, data=df)"
   ]
  },
  {
   "cell_type": "code",
   "execution_count": 30,
   "metadata": {},
   "outputs": [],
   "source": [
    "#df1 = df['notes'].value_counts().rename_axis('unique_values').reset_index(name='counts')"
   ]
  },
  {
   "cell_type": "code",
   "execution_count": 31,
   "metadata": {},
   "outputs": [
    {
     "name": "stderr",
     "output_type": "stream",
     "text": [
      "11040it [00:01, 6555.81it/s]\n"
     ]
    }
   ],
   "source": [
    "df.loc[df['notes']=='', 'notes'] = 'NA'\n",
    "keys = []\n",
    "grouped_terms = {\n",
    "    'travelled':'Travel', 'contact':'Contact','train':'Contact','airport':'Travel','sister':'Family','from':'Travel',\n",
    "    'family':'Contact','friend':'Contact', 'relative':'Contact', 'son':'Contact','husband':'Contact','cousin':'Contact',\n",
    "    'daughter':'Contact', 'wife':'Contact', 'father':'Contact', 'mother':'Contact','uncle':'Contact','neighbour':'Contact',\n",
    "    'spouse':'Contact', 'details awaited':'Details Awaited', 'brother':'Contact','aunt':'Contact','tenant':'Tenant',\n",
    "         'cook':'Contact','doctor':'Govt Staff','staff':'Contact','boss':'Contact','roommate':'Contact','parent':'Family',\n",
    "    'passenger':'Contact','driver':'Contact','work':'Contact','travel history':'Travel',\n",
    "    'tourist':'Travel','indonesian':'Travel','national':'Travel','employee':'Contact',\n",
    "    'hospital':'Govt Staff','nurse':'Govt Staff','mohfw':'NA','officer':'Govt Staff'\n",
    "    ,'army':'Govt Staff','local':'Contact','kashmir':'Contact', 'visit':'Travel','with p':'Contact', 'no travel':'No Travel History'\n",
    "    ,'no history':'No Travel History', 'related to':'Contact', 'belongs to':'Contact','neighbor':'Contact',\n",
    "    'foreign':'Travel','delhi':'Travel','conf':'Travel','investigation':'Investigation in Progress','guard':'Contact',\n",
    "    'travel to':'Travel','match':'Travel','returned':'Travel','domestic t':'Travel','unknown':'Investigation in Progress'\n",
    "}\n",
    "\n",
    "for i,euv in tqdm(df.iterrows()):\n",
    "    if(euv['notes'] == ''):\n",
    "        retex = str(euv['backupnotes']).lower()\n",
    "    else:\n",
    "        retex = str(euv['notes']).lower()\n",
    "    break_tex = retex.split(' ')\n",
    "    appt = ['NA']\n",
    "    for et in grouped_terms:\n",
    "        if(et in retex):\n",
    "            if('NA' not in appt):\n",
    "                if(grouped_terms[et] not in appt):\n",
    "                    appt.append(grouped_terms[et])\n",
    "            else:\n",
    "                if(grouped_terms[et] not in appt):\n",
    "                    appt = [grouped_terms[et]]\n",
    "    appt1 = ''\n",
    "    appt.sort(reverse=False)\n",
    "    for evi in appt:\n",
    "        if(appt1 == ''):\n",
    "            if(evi!='Details Awaited'):\n",
    "                appt1 = evi\n",
    "        else:\n",
    "            if(evi!='Details Awaited'):\n",
    "                appt1 = appt1 +','+evi\n",
    "    if(appt1 ==''):\n",
    "        appt1 = 'NA'\n",
    "    keys.append(appt1)\n",
    "df['keys'] = keys"
   ]
  },
  {
   "cell_type": "code",
   "execution_count": 32,
   "metadata": {},
   "outputs": [
    {
     "name": "stdout",
     "output_type": "stream",
     "text": [
      "2411\n"
     ]
    },
    {
     "data": {
      "application/vnd.plotly.v1+json": {
       "config": {
        "plotlyServerURL": "https://plot.ly"
       },
       "data": [
        {
         "alignmentgroup": "True",
         "hovertemplate": "keys=Contact<br>week_year=%{x}<br>counts=%{y}<extra></extra>",
         "legendgroup": "Contact",
         "marker": {
          "color": "#636efa"
         },
         "name": "Contact",
         "offsetgroup": "Contact",
         "orientation": "v",
         "showlegend": true,
         "textposition": "auto",
         "type": "bar",
         "x": [
          "2020, Week 09",
          "2020, Week 10",
          "2020, Week 11",
          "2020, Week 12",
          "2020, Week 13",
          "2020, Week 14",
          "2020, Week 15"
         ],
         "xaxis": "x",
         "y": [
          8,
          19,
          40,
          115,
          190,
          202,
          37
         ],
         "yaxis": "y"
        },
        {
         "alignmentgroup": "True",
         "hovertemplate": "keys=Contact,Family<br>week_year=%{x}<br>counts=%{y}<extra></extra>",
         "legendgroup": "Contact,Family",
         "marker": {
          "color": "#EF553B"
         },
         "name": "Contact,Family",
         "offsetgroup": "Contact,Family",
         "orientation": "v",
         "showlegend": true,
         "textposition": "auto",
         "type": "bar",
         "x": [
          "2020, Week 12",
          "2020, Week 14"
         ],
         "xaxis": "x",
         "y": [
          1,
          1
         ],
         "yaxis": "y"
        },
        {
         "alignmentgroup": "True",
         "hovertemplate": "keys=Contact,Family,Travel<br>week_year=%{x}<br>counts=%{y}<extra></extra>",
         "legendgroup": "Contact,Family,Travel",
         "marker": {
          "color": "#00cc96"
         },
         "name": "Contact,Family,Travel",
         "offsetgroup": "Contact,Family,Travel",
         "orientation": "v",
         "showlegend": true,
         "textposition": "auto",
         "type": "bar",
         "x": [
          "2020, Week 13"
         ],
         "xaxis": "x",
         "y": [
          1
         ],
         "yaxis": "y"
        },
        {
         "alignmentgroup": "True",
         "hovertemplate": "keys=Contact,Govt Staff<br>week_year=%{x}<br>counts=%{y}<extra></extra>",
         "legendgroup": "Contact,Govt Staff",
         "marker": {
          "color": "#ab63fa"
         },
         "name": "Contact,Govt Staff",
         "offsetgroup": "Contact,Govt Staff",
         "orientation": "v",
         "showlegend": true,
         "textposition": "auto",
         "type": "bar",
         "x": [
          "2020, Week 11",
          "2020, Week 12",
          "2020, Week 13"
         ],
         "xaxis": "x",
         "y": [
          5,
          5,
          1
         ],
         "yaxis": "y"
        },
        {
         "alignmentgroup": "True",
         "hovertemplate": "keys=Contact,Investigation in Progress<br>week_year=%{x}<br>counts=%{y}<extra></extra>",
         "legendgroup": "Contact,Investigation in Progress",
         "marker": {
          "color": "#FFA15A"
         },
         "name": "Contact,Investigation in Progress",
         "offsetgroup": "Contact,Investigation in Progress",
         "orientation": "v",
         "showlegend": true,
         "textposition": "auto",
         "type": "bar",
         "x": [
          "2020, Week 11",
          "2020, Week 12",
          "2020, Week 13",
          "2020, Week 14"
         ],
         "xaxis": "x",
         "y": [
          8,
          3,
          19,
          14
         ],
         "yaxis": "y"
        },
        {
         "alignmentgroup": "True",
         "hovertemplate": "keys=Contact,Investigation in Progress,Travel<br>week_year=%{x}<br>counts=%{y}<extra></extra>",
         "legendgroup": "Contact,Investigation in Progress,Travel",
         "marker": {
          "color": "#19d3f3"
         },
         "name": "Contact,Investigation in Progress,Travel",
         "offsetgroup": "Contact,Investigation in Progress,Travel",
         "orientation": "v",
         "showlegend": true,
         "textposition": "auto",
         "type": "bar",
         "x": [
          "2020, Week 12",
          "2020, Week 13"
         ],
         "xaxis": "x",
         "y": [
          1,
          9
         ],
         "yaxis": "y"
        },
        {
         "alignmentgroup": "True",
         "hovertemplate": "keys=Contact,No Travel History,Travel<br>week_year=%{x}<br>counts=%{y}<extra></extra>",
         "legendgroup": "Contact,No Travel History,Travel",
         "marker": {
          "color": "#FF6692"
         },
         "name": "Contact,No Travel History,Travel",
         "offsetgroup": "Contact,No Travel History,Travel",
         "orientation": "v",
         "showlegend": true,
         "textposition": "auto",
         "type": "bar",
         "x": [
          "2020, Week 12"
         ],
         "xaxis": "x",
         "y": [
          9
         ],
         "yaxis": "y"
        },
        {
         "alignmentgroup": "True",
         "hovertemplate": "keys=Contact,Travel<br>week_year=%{x}<br>counts=%{y}<extra></extra>",
         "legendgroup": "Contact,Travel",
         "marker": {
          "color": "#B6E880"
         },
         "name": "Contact,Travel",
         "offsetgroup": "Contact,Travel",
         "orientation": "v",
         "showlegend": true,
         "textposition": "auto",
         "type": "bar",
         "x": [
          "2020, Week 09",
          "2020, Week 10",
          "2020, Week 11",
          "2020, Week 12",
          "2020, Week 13",
          "2020, Week 14",
          "2020, Week 15"
         ],
         "xaxis": "x",
         "y": [
          1,
          20,
          20,
          46,
          33,
          12,
          2
         ],
         "yaxis": "y"
        },
        {
         "alignmentgroup": "True",
         "hovertemplate": "keys=Family<br>week_year=%{x}<br>counts=%{y}<extra></extra>",
         "legendgroup": "Family",
         "marker": {
          "color": "#FF97FF"
         },
         "name": "Family",
         "offsetgroup": "Family",
         "orientation": "v",
         "showlegend": true,
         "textposition": "auto",
         "type": "bar",
         "x": [
          "2020, Week 11",
          "2020, Week 13",
          "2020, Week 14"
         ],
         "xaxis": "x",
         "y": [
          1,
          2,
          1
         ],
         "yaxis": "y"
        },
        {
         "alignmentgroup": "True",
         "hovertemplate": "keys=Family,Govt Staff,Investigation in Progress,Travel<br>week_year=%{x}<br>counts=%{y}<extra></extra>",
         "legendgroup": "Family,Govt Staff,Investigation in Progress,Travel",
         "marker": {
          "color": "#FECB52"
         },
         "name": "Family,Govt Staff,Investigation in Progress,Travel",
         "offsetgroup": "Family,Govt Staff,Investigation in Progress,Travel",
         "orientation": "v",
         "showlegend": true,
         "textposition": "auto",
         "type": "bar",
         "x": [
          "2020, Week 13"
         ],
         "xaxis": "x",
         "y": [
          1
         ],
         "yaxis": "y"
        },
        {
         "alignmentgroup": "True",
         "hovertemplate": "keys=Family,Travel<br>week_year=%{x}<br>counts=%{y}<extra></extra>",
         "legendgroup": "Family,Travel",
         "marker": {
          "color": "#636efa"
         },
         "name": "Family,Travel",
         "offsetgroup": "Family,Travel",
         "orientation": "v",
         "showlegend": true,
         "textposition": "auto",
         "type": "bar",
         "x": [
          "2020, Week 10",
          "2020, Week 12",
          "2020, Week 13"
         ],
         "xaxis": "x",
         "y": [
          1,
          1,
          1
         ],
         "yaxis": "y"
        },
        {
         "alignmentgroup": "True",
         "hovertemplate": "keys=Govt Staff<br>week_year=%{x}<br>counts=%{y}<extra></extra>",
         "legendgroup": "Govt Staff",
         "marker": {
          "color": "#EF553B"
         },
         "name": "Govt Staff",
         "offsetgroup": "Govt Staff",
         "orientation": "v",
         "showlegend": true,
         "textposition": "auto",
         "type": "bar",
         "x": [
          "2020, Week 11",
          "2020, Week 12",
          "2020, Week 13"
         ],
         "xaxis": "x",
         "y": [
          9,
          6,
          1
         ],
         "yaxis": "y"
        },
        {
         "alignmentgroup": "True",
         "hovertemplate": "keys=Govt Staff,Travel<br>week_year=%{x}<br>counts=%{y}<extra></extra>",
         "legendgroup": "Govt Staff,Travel",
         "marker": {
          "color": "#00cc96"
         },
         "name": "Govt Staff,Travel",
         "offsetgroup": "Govt Staff,Travel",
         "orientation": "v",
         "showlegend": true,
         "textposition": "auto",
         "type": "bar",
         "x": [
          "2020, Week 10",
          "2020, Week 11",
          "2020, Week 12",
          "2020, Week 13",
          "2020, Week 15"
         ],
         "xaxis": "x",
         "y": [
          3,
          2,
          8,
          4,
          1
         ],
         "yaxis": "y"
        },
        {
         "alignmentgroup": "True",
         "hovertemplate": "keys=Investigation in Progress<br>week_year=%{x}<br>counts=%{y}<extra></extra>",
         "legendgroup": "Investigation in Progress",
         "marker": {
          "color": "#ab63fa"
         },
         "name": "Investigation in Progress",
         "offsetgroup": "Investigation in Progress",
         "orientation": "v",
         "showlegend": true,
         "textposition": "auto",
         "type": "bar",
         "x": [
          "2020, Week 13",
          "2020, Week 14"
         ],
         "xaxis": "x",
         "y": [
          3,
          1
         ],
         "yaxis": "y"
        },
        {
         "alignmentgroup": "True",
         "hovertemplate": "keys=Investigation in Progress,Tenant<br>week_year=%{x}<br>counts=%{y}<extra></extra>",
         "legendgroup": "Investigation in Progress,Tenant",
         "marker": {
          "color": "#FFA15A"
         },
         "name": "Investigation in Progress,Tenant",
         "offsetgroup": "Investigation in Progress,Tenant",
         "orientation": "v",
         "showlegend": true,
         "textposition": "auto",
         "type": "bar",
         "x": [
          "2020, Week 13"
         ],
         "xaxis": "x",
         "y": [
          5
         ],
         "yaxis": "y"
        },
        {
         "alignmentgroup": "True",
         "hovertemplate": "keys=No Travel History<br>week_year=%{x}<br>counts=%{y}<extra></extra>",
         "legendgroup": "No Travel History",
         "marker": {
          "color": "#19d3f3"
         },
         "name": "No Travel History",
         "offsetgroup": "No Travel History",
         "orientation": "v",
         "showlegend": true,
         "textposition": "auto",
         "type": "bar",
         "x": [
          "2020, Week 12",
          "2020, Week 13"
         ],
         "xaxis": "x",
         "y": [
          3,
          1
         ],
         "yaxis": "y"
        },
        {
         "alignmentgroup": "True",
         "hovertemplate": "keys=No Travel History,Travel<br>week_year=%{x}<br>counts=%{y}<extra></extra>",
         "legendgroup": "No Travel History,Travel",
         "marker": {
          "color": "#FF6692"
         },
         "name": "No Travel History,Travel",
         "offsetgroup": "No Travel History,Travel",
         "orientation": "v",
         "showlegend": true,
         "textposition": "auto",
         "type": "bar",
         "x": [
          "2020, Week 10",
          "2020, Week 11",
          "2020, Week 12",
          "2020, Week 13"
         ],
         "xaxis": "x",
         "y": [
          1,
          1,
          11,
          6
         ],
         "yaxis": "y"
        },
        {
         "alignmentgroup": "True",
         "hovertemplate": "keys=Travel<br>week_year=%{x}<br>counts=%{y}<extra></extra>",
         "legendgroup": "Travel",
         "marker": {
          "color": "#B6E880"
         },
         "name": "Travel",
         "offsetgroup": "Travel",
         "orientation": "v",
         "showlegend": true,
         "textposition": "auto",
         "type": "bar",
         "x": [
          "2020, Week 04",
          "2020, Week 05",
          "2020, Week 09",
          "2020, Week 10",
          "2020, Week 11",
          "2020, Week 12",
          "2020, Week 13",
          "2020, Week 14",
          "2020, Week 15"
         ],
         "xaxis": "x",
         "y": [
          2,
          1,
          26,
          29,
          176,
          247,
          838,
          186,
          10
         ],
         "yaxis": "y"
        }
       ],
       "layout": {
        "autosize": false,
        "barmode": "relative",
        "height": 1000,
        "legend": {
         "title": {
          "text": "keys"
         },
         "tracegroupgap": 0
        },
        "margin": {
         "t": 60
        },
        "template": {
         "data": {
          "bar": [
           {
            "error_x": {
             "color": "#2a3f5f"
            },
            "error_y": {
             "color": "#2a3f5f"
            },
            "marker": {
             "line": {
              "color": "#E5ECF6",
              "width": 0.5
             }
            },
            "type": "bar"
           }
          ],
          "barpolar": [
           {
            "marker": {
             "line": {
              "color": "#E5ECF6",
              "width": 0.5
             }
            },
            "type": "barpolar"
           }
          ],
          "carpet": [
           {
            "aaxis": {
             "endlinecolor": "#2a3f5f",
             "gridcolor": "white",
             "linecolor": "white",
             "minorgridcolor": "white",
             "startlinecolor": "#2a3f5f"
            },
            "baxis": {
             "endlinecolor": "#2a3f5f",
             "gridcolor": "white",
             "linecolor": "white",
             "minorgridcolor": "white",
             "startlinecolor": "#2a3f5f"
            },
            "type": "carpet"
           }
          ],
          "choropleth": [
           {
            "colorbar": {
             "outlinewidth": 0,
             "ticks": ""
            },
            "type": "choropleth"
           }
          ],
          "contour": [
           {
            "colorbar": {
             "outlinewidth": 0,
             "ticks": ""
            },
            "colorscale": [
             [
              0,
              "#0d0887"
             ],
             [
              0.1111111111111111,
              "#46039f"
             ],
             [
              0.2222222222222222,
              "#7201a8"
             ],
             [
              0.3333333333333333,
              "#9c179e"
             ],
             [
              0.4444444444444444,
              "#bd3786"
             ],
             [
              0.5555555555555556,
              "#d8576b"
             ],
             [
              0.6666666666666666,
              "#ed7953"
             ],
             [
              0.7777777777777778,
              "#fb9f3a"
             ],
             [
              0.8888888888888888,
              "#fdca26"
             ],
             [
              1,
              "#f0f921"
             ]
            ],
            "type": "contour"
           }
          ],
          "contourcarpet": [
           {
            "colorbar": {
             "outlinewidth": 0,
             "ticks": ""
            },
            "type": "contourcarpet"
           }
          ],
          "heatmap": [
           {
            "colorbar": {
             "outlinewidth": 0,
             "ticks": ""
            },
            "colorscale": [
             [
              0,
              "#0d0887"
             ],
             [
              0.1111111111111111,
              "#46039f"
             ],
             [
              0.2222222222222222,
              "#7201a8"
             ],
             [
              0.3333333333333333,
              "#9c179e"
             ],
             [
              0.4444444444444444,
              "#bd3786"
             ],
             [
              0.5555555555555556,
              "#d8576b"
             ],
             [
              0.6666666666666666,
              "#ed7953"
             ],
             [
              0.7777777777777778,
              "#fb9f3a"
             ],
             [
              0.8888888888888888,
              "#fdca26"
             ],
             [
              1,
              "#f0f921"
             ]
            ],
            "type": "heatmap"
           }
          ],
          "heatmapgl": [
           {
            "colorbar": {
             "outlinewidth": 0,
             "ticks": ""
            },
            "colorscale": [
             [
              0,
              "#0d0887"
             ],
             [
              0.1111111111111111,
              "#46039f"
             ],
             [
              0.2222222222222222,
              "#7201a8"
             ],
             [
              0.3333333333333333,
              "#9c179e"
             ],
             [
              0.4444444444444444,
              "#bd3786"
             ],
             [
              0.5555555555555556,
              "#d8576b"
             ],
             [
              0.6666666666666666,
              "#ed7953"
             ],
             [
              0.7777777777777778,
              "#fb9f3a"
             ],
             [
              0.8888888888888888,
              "#fdca26"
             ],
             [
              1,
              "#f0f921"
             ]
            ],
            "type": "heatmapgl"
           }
          ],
          "histogram": [
           {
            "marker": {
             "colorbar": {
              "outlinewidth": 0,
              "ticks": ""
             }
            },
            "type": "histogram"
           }
          ],
          "histogram2d": [
           {
            "colorbar": {
             "outlinewidth": 0,
             "ticks": ""
            },
            "colorscale": [
             [
              0,
              "#0d0887"
             ],
             [
              0.1111111111111111,
              "#46039f"
             ],
             [
              0.2222222222222222,
              "#7201a8"
             ],
             [
              0.3333333333333333,
              "#9c179e"
             ],
             [
              0.4444444444444444,
              "#bd3786"
             ],
             [
              0.5555555555555556,
              "#d8576b"
             ],
             [
              0.6666666666666666,
              "#ed7953"
             ],
             [
              0.7777777777777778,
              "#fb9f3a"
             ],
             [
              0.8888888888888888,
              "#fdca26"
             ],
             [
              1,
              "#f0f921"
             ]
            ],
            "type": "histogram2d"
           }
          ],
          "histogram2dcontour": [
           {
            "colorbar": {
             "outlinewidth": 0,
             "ticks": ""
            },
            "colorscale": [
             [
              0,
              "#0d0887"
             ],
             [
              0.1111111111111111,
              "#46039f"
             ],
             [
              0.2222222222222222,
              "#7201a8"
             ],
             [
              0.3333333333333333,
              "#9c179e"
             ],
             [
              0.4444444444444444,
              "#bd3786"
             ],
             [
              0.5555555555555556,
              "#d8576b"
             ],
             [
              0.6666666666666666,
              "#ed7953"
             ],
             [
              0.7777777777777778,
              "#fb9f3a"
             ],
             [
              0.8888888888888888,
              "#fdca26"
             ],
             [
              1,
              "#f0f921"
             ]
            ],
            "type": "histogram2dcontour"
           }
          ],
          "mesh3d": [
           {
            "colorbar": {
             "outlinewidth": 0,
             "ticks": ""
            },
            "type": "mesh3d"
           }
          ],
          "parcoords": [
           {
            "line": {
             "colorbar": {
              "outlinewidth": 0,
              "ticks": ""
             }
            },
            "type": "parcoords"
           }
          ],
          "pie": [
           {
            "automargin": true,
            "type": "pie"
           }
          ],
          "scatter": [
           {
            "marker": {
             "colorbar": {
              "outlinewidth": 0,
              "ticks": ""
             }
            },
            "type": "scatter"
           }
          ],
          "scatter3d": [
           {
            "line": {
             "colorbar": {
              "outlinewidth": 0,
              "ticks": ""
             }
            },
            "marker": {
             "colorbar": {
              "outlinewidth": 0,
              "ticks": ""
             }
            },
            "type": "scatter3d"
           }
          ],
          "scattercarpet": [
           {
            "marker": {
             "colorbar": {
              "outlinewidth": 0,
              "ticks": ""
             }
            },
            "type": "scattercarpet"
           }
          ],
          "scattergeo": [
           {
            "marker": {
             "colorbar": {
              "outlinewidth": 0,
              "ticks": ""
             }
            },
            "type": "scattergeo"
           }
          ],
          "scattergl": [
           {
            "marker": {
             "colorbar": {
              "outlinewidth": 0,
              "ticks": ""
             }
            },
            "type": "scattergl"
           }
          ],
          "scattermapbox": [
           {
            "marker": {
             "colorbar": {
              "outlinewidth": 0,
              "ticks": ""
             }
            },
            "type": "scattermapbox"
           }
          ],
          "scatterpolar": [
           {
            "marker": {
             "colorbar": {
              "outlinewidth": 0,
              "ticks": ""
             }
            },
            "type": "scatterpolar"
           }
          ],
          "scatterpolargl": [
           {
            "marker": {
             "colorbar": {
              "outlinewidth": 0,
              "ticks": ""
             }
            },
            "type": "scatterpolargl"
           }
          ],
          "scatterternary": [
           {
            "marker": {
             "colorbar": {
              "outlinewidth": 0,
              "ticks": ""
             }
            },
            "type": "scatterternary"
           }
          ],
          "surface": [
           {
            "colorbar": {
             "outlinewidth": 0,
             "ticks": ""
            },
            "colorscale": [
             [
              0,
              "#0d0887"
             ],
             [
              0.1111111111111111,
              "#46039f"
             ],
             [
              0.2222222222222222,
              "#7201a8"
             ],
             [
              0.3333333333333333,
              "#9c179e"
             ],
             [
              0.4444444444444444,
              "#bd3786"
             ],
             [
              0.5555555555555556,
              "#d8576b"
             ],
             [
              0.6666666666666666,
              "#ed7953"
             ],
             [
              0.7777777777777778,
              "#fb9f3a"
             ],
             [
              0.8888888888888888,
              "#fdca26"
             ],
             [
              1,
              "#f0f921"
             ]
            ],
            "type": "surface"
           }
          ],
          "table": [
           {
            "cells": {
             "fill": {
              "color": "#EBF0F8"
             },
             "line": {
              "color": "white"
             }
            },
            "header": {
             "fill": {
              "color": "#C8D4E3"
             },
             "line": {
              "color": "white"
             }
            },
            "type": "table"
           }
          ]
         },
         "layout": {
          "annotationdefaults": {
           "arrowcolor": "#2a3f5f",
           "arrowhead": 0,
           "arrowwidth": 1
          },
          "coloraxis": {
           "colorbar": {
            "outlinewidth": 0,
            "ticks": ""
           }
          },
          "colorscale": {
           "diverging": [
            [
             0,
             "#8e0152"
            ],
            [
             0.1,
             "#c51b7d"
            ],
            [
             0.2,
             "#de77ae"
            ],
            [
             0.3,
             "#f1b6da"
            ],
            [
             0.4,
             "#fde0ef"
            ],
            [
             0.5,
             "#f7f7f7"
            ],
            [
             0.6,
             "#e6f5d0"
            ],
            [
             0.7,
             "#b8e186"
            ],
            [
             0.8,
             "#7fbc41"
            ],
            [
             0.9,
             "#4d9221"
            ],
            [
             1,
             "#276419"
            ]
           ],
           "sequential": [
            [
             0,
             "#0d0887"
            ],
            [
             0.1111111111111111,
             "#46039f"
            ],
            [
             0.2222222222222222,
             "#7201a8"
            ],
            [
             0.3333333333333333,
             "#9c179e"
            ],
            [
             0.4444444444444444,
             "#bd3786"
            ],
            [
             0.5555555555555556,
             "#d8576b"
            ],
            [
             0.6666666666666666,
             "#ed7953"
            ],
            [
             0.7777777777777778,
             "#fb9f3a"
            ],
            [
             0.8888888888888888,
             "#fdca26"
            ],
            [
             1,
             "#f0f921"
            ]
           ],
           "sequentialminus": [
            [
             0,
             "#0d0887"
            ],
            [
             0.1111111111111111,
             "#46039f"
            ],
            [
             0.2222222222222222,
             "#7201a8"
            ],
            [
             0.3333333333333333,
             "#9c179e"
            ],
            [
             0.4444444444444444,
             "#bd3786"
            ],
            [
             0.5555555555555556,
             "#d8576b"
            ],
            [
             0.6666666666666666,
             "#ed7953"
            ],
            [
             0.7777777777777778,
             "#fb9f3a"
            ],
            [
             0.8888888888888888,
             "#fdca26"
            ],
            [
             1,
             "#f0f921"
            ]
           ]
          },
          "colorway": [
           "#636efa",
           "#EF553B",
           "#00cc96",
           "#ab63fa",
           "#FFA15A",
           "#19d3f3",
           "#FF6692",
           "#B6E880",
           "#FF97FF",
           "#FECB52"
          ],
          "font": {
           "color": "#2a3f5f"
          },
          "geo": {
           "bgcolor": "white",
           "lakecolor": "white",
           "landcolor": "#E5ECF6",
           "showlakes": true,
           "showland": true,
           "subunitcolor": "white"
          },
          "hoverlabel": {
           "align": "left"
          },
          "hovermode": "closest",
          "mapbox": {
           "style": "light"
          },
          "paper_bgcolor": "white",
          "plot_bgcolor": "#E5ECF6",
          "polar": {
           "angularaxis": {
            "gridcolor": "white",
            "linecolor": "white",
            "ticks": ""
           },
           "bgcolor": "#E5ECF6",
           "radialaxis": {
            "gridcolor": "white",
            "linecolor": "white",
            "ticks": ""
           }
          },
          "scene": {
           "xaxis": {
            "backgroundcolor": "#E5ECF6",
            "gridcolor": "white",
            "gridwidth": 2,
            "linecolor": "white",
            "showbackground": true,
            "ticks": "",
            "zerolinecolor": "white"
           },
           "yaxis": {
            "backgroundcolor": "#E5ECF6",
            "gridcolor": "white",
            "gridwidth": 2,
            "linecolor": "white",
            "showbackground": true,
            "ticks": "",
            "zerolinecolor": "white"
           },
           "zaxis": {
            "backgroundcolor": "#E5ECF6",
            "gridcolor": "white",
            "gridwidth": 2,
            "linecolor": "white",
            "showbackground": true,
            "ticks": "",
            "zerolinecolor": "white"
           }
          },
          "shapedefaults": {
           "line": {
            "color": "#2a3f5f"
           }
          },
          "ternary": {
           "aaxis": {
            "gridcolor": "white",
            "linecolor": "white",
            "ticks": ""
           },
           "baxis": {
            "gridcolor": "white",
            "linecolor": "white",
            "ticks": ""
           },
           "bgcolor": "#E5ECF6",
           "caxis": {
            "gridcolor": "white",
            "linecolor": "white",
            "ticks": ""
           }
          },
          "title": {
           "x": 0.05
          },
          "xaxis": {
           "automargin": true,
           "gridcolor": "white",
           "linecolor": "white",
           "ticks": "",
           "title": {
            "standoff": 15
           },
           "zerolinecolor": "white",
           "zerolinewidth": 2
          },
          "yaxis": {
           "automargin": true,
           "gridcolor": "white",
           "linecolor": "white",
           "ticks": "",
           "title": {
            "standoff": 15
           },
           "zerolinecolor": "white",
           "zerolinewidth": 2
          }
         }
        },
        "width": 1500,
        "xaxis": {
         "anchor": "y",
         "domain": [
          0,
          1
         ],
         "title": {
          "text": "week_year"
         }
        },
        "yaxis": {
         "anchor": "x",
         "domain": [
          0,
          1
         ],
         "title": {
          "text": "counts"
         }
        }
       }
      },
      "text/html": [
       "<div>\n",
       "        \n",
       "        \n",
       "            <div id=\"17ef93ae-a370-4b19-be1c-b31e00b6007f\" class=\"plotly-graph-div\" style=\"height:1000px; width:1500px;\"></div>\n",
       "            <script type=\"text/javascript\">\n",
       "                require([\"plotly\"], function(Plotly) {\n",
       "                    window.PLOTLYENV=window.PLOTLYENV || {};\n",
       "                    \n",
       "                if (document.getElementById(\"17ef93ae-a370-4b19-be1c-b31e00b6007f\")) {\n",
       "                    Plotly.newPlot(\n",
       "                        '17ef93ae-a370-4b19-be1c-b31e00b6007f',\n",
       "                        [{\"alignmentgroup\": \"True\", \"hovertemplate\": \"keys=Contact<br>week_year=%{x}<br>counts=%{y}<extra></extra>\", \"legendgroup\": \"Contact\", \"marker\": {\"color\": \"#636efa\"}, \"name\": \"Contact\", \"offsetgroup\": \"Contact\", \"orientation\": \"v\", \"showlegend\": true, \"textposition\": \"auto\", \"type\": \"bar\", \"x\": [\"2020, Week 09\", \"2020, Week 10\", \"2020, Week 11\", \"2020, Week 12\", \"2020, Week 13\", \"2020, Week 14\", \"2020, Week 15\"], \"xaxis\": \"x\", \"y\": [8, 19, 40, 115, 190, 202, 37], \"yaxis\": \"y\"}, {\"alignmentgroup\": \"True\", \"hovertemplate\": \"keys=Contact,Family<br>week_year=%{x}<br>counts=%{y}<extra></extra>\", \"legendgroup\": \"Contact,Family\", \"marker\": {\"color\": \"#EF553B\"}, \"name\": \"Contact,Family\", \"offsetgroup\": \"Contact,Family\", \"orientation\": \"v\", \"showlegend\": true, \"textposition\": \"auto\", \"type\": \"bar\", \"x\": [\"2020, Week 12\", \"2020, Week 14\"], \"xaxis\": \"x\", \"y\": [1, 1], \"yaxis\": \"y\"}, {\"alignmentgroup\": \"True\", \"hovertemplate\": \"keys=Contact,Family,Travel<br>week_year=%{x}<br>counts=%{y}<extra></extra>\", \"legendgroup\": \"Contact,Family,Travel\", \"marker\": {\"color\": \"#00cc96\"}, \"name\": \"Contact,Family,Travel\", \"offsetgroup\": \"Contact,Family,Travel\", \"orientation\": \"v\", \"showlegend\": true, \"textposition\": \"auto\", \"type\": \"bar\", \"x\": [\"2020, Week 13\"], \"xaxis\": \"x\", \"y\": [1], \"yaxis\": \"y\"}, {\"alignmentgroup\": \"True\", \"hovertemplate\": \"keys=Contact,Govt Staff<br>week_year=%{x}<br>counts=%{y}<extra></extra>\", \"legendgroup\": \"Contact,Govt Staff\", \"marker\": {\"color\": \"#ab63fa\"}, \"name\": \"Contact,Govt Staff\", \"offsetgroup\": \"Contact,Govt Staff\", \"orientation\": \"v\", \"showlegend\": true, \"textposition\": \"auto\", \"type\": \"bar\", \"x\": [\"2020, Week 11\", \"2020, Week 12\", \"2020, Week 13\"], \"xaxis\": \"x\", \"y\": [5, 5, 1], \"yaxis\": \"y\"}, {\"alignmentgroup\": \"True\", \"hovertemplate\": \"keys=Contact,Investigation in Progress<br>week_year=%{x}<br>counts=%{y}<extra></extra>\", \"legendgroup\": \"Contact,Investigation in Progress\", \"marker\": {\"color\": \"#FFA15A\"}, \"name\": \"Contact,Investigation in Progress\", \"offsetgroup\": \"Contact,Investigation in Progress\", \"orientation\": \"v\", \"showlegend\": true, \"textposition\": \"auto\", \"type\": \"bar\", \"x\": [\"2020, Week 11\", \"2020, Week 12\", \"2020, Week 13\", \"2020, Week 14\"], \"xaxis\": \"x\", \"y\": [8, 3, 19, 14], \"yaxis\": \"y\"}, {\"alignmentgroup\": \"True\", \"hovertemplate\": \"keys=Contact,Investigation in Progress,Travel<br>week_year=%{x}<br>counts=%{y}<extra></extra>\", \"legendgroup\": \"Contact,Investigation in Progress,Travel\", \"marker\": {\"color\": \"#19d3f3\"}, \"name\": \"Contact,Investigation in Progress,Travel\", \"offsetgroup\": \"Contact,Investigation in Progress,Travel\", \"orientation\": \"v\", \"showlegend\": true, \"textposition\": \"auto\", \"type\": \"bar\", \"x\": [\"2020, Week 12\", \"2020, Week 13\"], \"xaxis\": \"x\", \"y\": [1, 9], \"yaxis\": \"y\"}, {\"alignmentgroup\": \"True\", \"hovertemplate\": \"keys=Contact,No Travel History,Travel<br>week_year=%{x}<br>counts=%{y}<extra></extra>\", \"legendgroup\": \"Contact,No Travel History,Travel\", \"marker\": {\"color\": \"#FF6692\"}, \"name\": \"Contact,No Travel History,Travel\", \"offsetgroup\": \"Contact,No Travel History,Travel\", \"orientation\": \"v\", \"showlegend\": true, \"textposition\": \"auto\", \"type\": \"bar\", \"x\": [\"2020, Week 12\"], \"xaxis\": \"x\", \"y\": [9], \"yaxis\": \"y\"}, {\"alignmentgroup\": \"True\", \"hovertemplate\": \"keys=Contact,Travel<br>week_year=%{x}<br>counts=%{y}<extra></extra>\", \"legendgroup\": \"Contact,Travel\", \"marker\": {\"color\": \"#B6E880\"}, \"name\": \"Contact,Travel\", \"offsetgroup\": \"Contact,Travel\", \"orientation\": \"v\", \"showlegend\": true, \"textposition\": \"auto\", \"type\": \"bar\", \"x\": [\"2020, Week 09\", \"2020, Week 10\", \"2020, Week 11\", \"2020, Week 12\", \"2020, Week 13\", \"2020, Week 14\", \"2020, Week 15\"], \"xaxis\": \"x\", \"y\": [1, 20, 20, 46, 33, 12, 2], \"yaxis\": \"y\"}, {\"alignmentgroup\": \"True\", \"hovertemplate\": \"keys=Family<br>week_year=%{x}<br>counts=%{y}<extra></extra>\", \"legendgroup\": \"Family\", \"marker\": {\"color\": \"#FF97FF\"}, \"name\": \"Family\", \"offsetgroup\": \"Family\", \"orientation\": \"v\", \"showlegend\": true, \"textposition\": \"auto\", \"type\": \"bar\", \"x\": [\"2020, Week 11\", \"2020, Week 13\", \"2020, Week 14\"], \"xaxis\": \"x\", \"y\": [1, 2, 1], \"yaxis\": \"y\"}, {\"alignmentgroup\": \"True\", \"hovertemplate\": \"keys=Family,Govt Staff,Investigation in Progress,Travel<br>week_year=%{x}<br>counts=%{y}<extra></extra>\", \"legendgroup\": \"Family,Govt Staff,Investigation in Progress,Travel\", \"marker\": {\"color\": \"#FECB52\"}, \"name\": \"Family,Govt Staff,Investigation in Progress,Travel\", \"offsetgroup\": \"Family,Govt Staff,Investigation in Progress,Travel\", \"orientation\": \"v\", \"showlegend\": true, \"textposition\": \"auto\", \"type\": \"bar\", \"x\": [\"2020, Week 13\"], \"xaxis\": \"x\", \"y\": [1], \"yaxis\": \"y\"}, {\"alignmentgroup\": \"True\", \"hovertemplate\": \"keys=Family,Travel<br>week_year=%{x}<br>counts=%{y}<extra></extra>\", \"legendgroup\": \"Family,Travel\", \"marker\": {\"color\": \"#636efa\"}, \"name\": \"Family,Travel\", \"offsetgroup\": \"Family,Travel\", \"orientation\": \"v\", \"showlegend\": true, \"textposition\": \"auto\", \"type\": \"bar\", \"x\": [\"2020, Week 10\", \"2020, Week 12\", \"2020, Week 13\"], \"xaxis\": \"x\", \"y\": [1, 1, 1], \"yaxis\": \"y\"}, {\"alignmentgroup\": \"True\", \"hovertemplate\": \"keys=Govt Staff<br>week_year=%{x}<br>counts=%{y}<extra></extra>\", \"legendgroup\": \"Govt Staff\", \"marker\": {\"color\": \"#EF553B\"}, \"name\": \"Govt Staff\", \"offsetgroup\": \"Govt Staff\", \"orientation\": \"v\", \"showlegend\": true, \"textposition\": \"auto\", \"type\": \"bar\", \"x\": [\"2020, Week 11\", \"2020, Week 12\", \"2020, Week 13\"], \"xaxis\": \"x\", \"y\": [9, 6, 1], \"yaxis\": \"y\"}, {\"alignmentgroup\": \"True\", \"hovertemplate\": \"keys=Govt Staff,Travel<br>week_year=%{x}<br>counts=%{y}<extra></extra>\", \"legendgroup\": \"Govt Staff,Travel\", \"marker\": {\"color\": \"#00cc96\"}, \"name\": \"Govt Staff,Travel\", \"offsetgroup\": \"Govt Staff,Travel\", \"orientation\": \"v\", \"showlegend\": true, \"textposition\": \"auto\", \"type\": \"bar\", \"x\": [\"2020, Week 10\", \"2020, Week 11\", \"2020, Week 12\", \"2020, Week 13\", \"2020, Week 15\"], \"xaxis\": \"x\", \"y\": [3, 2, 8, 4, 1], \"yaxis\": \"y\"}, {\"alignmentgroup\": \"True\", \"hovertemplate\": \"keys=Investigation in Progress<br>week_year=%{x}<br>counts=%{y}<extra></extra>\", \"legendgroup\": \"Investigation in Progress\", \"marker\": {\"color\": \"#ab63fa\"}, \"name\": \"Investigation in Progress\", \"offsetgroup\": \"Investigation in Progress\", \"orientation\": \"v\", \"showlegend\": true, \"textposition\": \"auto\", \"type\": \"bar\", \"x\": [\"2020, Week 13\", \"2020, Week 14\"], \"xaxis\": \"x\", \"y\": [3, 1], \"yaxis\": \"y\"}, {\"alignmentgroup\": \"True\", \"hovertemplate\": \"keys=Investigation in Progress,Tenant<br>week_year=%{x}<br>counts=%{y}<extra></extra>\", \"legendgroup\": \"Investigation in Progress,Tenant\", \"marker\": {\"color\": \"#FFA15A\"}, \"name\": \"Investigation in Progress,Tenant\", \"offsetgroup\": \"Investigation in Progress,Tenant\", \"orientation\": \"v\", \"showlegend\": true, \"textposition\": \"auto\", \"type\": \"bar\", \"x\": [\"2020, Week 13\"], \"xaxis\": \"x\", \"y\": [5], \"yaxis\": \"y\"}, {\"alignmentgroup\": \"True\", \"hovertemplate\": \"keys=No Travel History<br>week_year=%{x}<br>counts=%{y}<extra></extra>\", \"legendgroup\": \"No Travel History\", \"marker\": {\"color\": \"#19d3f3\"}, \"name\": \"No Travel History\", \"offsetgroup\": \"No Travel History\", \"orientation\": \"v\", \"showlegend\": true, \"textposition\": \"auto\", \"type\": \"bar\", \"x\": [\"2020, Week 12\", \"2020, Week 13\"], \"xaxis\": \"x\", \"y\": [3, 1], \"yaxis\": \"y\"}, {\"alignmentgroup\": \"True\", \"hovertemplate\": \"keys=No Travel History,Travel<br>week_year=%{x}<br>counts=%{y}<extra></extra>\", \"legendgroup\": \"No Travel History,Travel\", \"marker\": {\"color\": \"#FF6692\"}, \"name\": \"No Travel History,Travel\", \"offsetgroup\": \"No Travel History,Travel\", \"orientation\": \"v\", \"showlegend\": true, \"textposition\": \"auto\", \"type\": \"bar\", \"x\": [\"2020, Week 10\", \"2020, Week 11\", \"2020, Week 12\", \"2020, Week 13\"], \"xaxis\": \"x\", \"y\": [1, 1, 11, 6], \"yaxis\": \"y\"}, {\"alignmentgroup\": \"True\", \"hovertemplate\": \"keys=Travel<br>week_year=%{x}<br>counts=%{y}<extra></extra>\", \"legendgroup\": \"Travel\", \"marker\": {\"color\": \"#B6E880\"}, \"name\": \"Travel\", \"offsetgroup\": \"Travel\", \"orientation\": \"v\", \"showlegend\": true, \"textposition\": \"auto\", \"type\": \"bar\", \"x\": [\"2020, Week 04\", \"2020, Week 05\", \"2020, Week 09\", \"2020, Week 10\", \"2020, Week 11\", \"2020, Week 12\", \"2020, Week 13\", \"2020, Week 14\", \"2020, Week 15\"], \"xaxis\": \"x\", \"y\": [2, 1, 26, 29, 176, 247, 838, 186, 10], \"yaxis\": \"y\"}],\n",
       "                        {\"autosize\": false, \"barmode\": \"relative\", \"height\": 1000, \"legend\": {\"title\": {\"text\": \"keys\"}, \"tracegroupgap\": 0}, \"margin\": {\"t\": 60}, \"template\": {\"data\": {\"bar\": [{\"error_x\": {\"color\": \"#2a3f5f\"}, \"error_y\": {\"color\": \"#2a3f5f\"}, \"marker\": {\"line\": {\"color\": \"#E5ECF6\", \"width\": 0.5}}, \"type\": \"bar\"}], \"barpolar\": [{\"marker\": {\"line\": {\"color\": \"#E5ECF6\", \"width\": 0.5}}, \"type\": \"barpolar\"}], \"carpet\": [{\"aaxis\": {\"endlinecolor\": \"#2a3f5f\", \"gridcolor\": \"white\", \"linecolor\": \"white\", \"minorgridcolor\": \"white\", \"startlinecolor\": \"#2a3f5f\"}, \"baxis\": {\"endlinecolor\": \"#2a3f5f\", \"gridcolor\": \"white\", \"linecolor\": \"white\", \"minorgridcolor\": \"white\", \"startlinecolor\": \"#2a3f5f\"}, \"type\": \"carpet\"}], \"choropleth\": [{\"colorbar\": {\"outlinewidth\": 0, \"ticks\": \"\"}, \"type\": \"choropleth\"}], \"contour\": [{\"colorbar\": {\"outlinewidth\": 0, \"ticks\": \"\"}, \"colorscale\": [[0.0, \"#0d0887\"], [0.1111111111111111, \"#46039f\"], [0.2222222222222222, \"#7201a8\"], [0.3333333333333333, \"#9c179e\"], [0.4444444444444444, \"#bd3786\"], [0.5555555555555556, \"#d8576b\"], [0.6666666666666666, \"#ed7953\"], [0.7777777777777778, \"#fb9f3a\"], [0.8888888888888888, \"#fdca26\"], [1.0, \"#f0f921\"]], \"type\": \"contour\"}], \"contourcarpet\": [{\"colorbar\": {\"outlinewidth\": 0, \"ticks\": \"\"}, \"type\": \"contourcarpet\"}], \"heatmap\": [{\"colorbar\": {\"outlinewidth\": 0, \"ticks\": \"\"}, \"colorscale\": [[0.0, \"#0d0887\"], [0.1111111111111111, \"#46039f\"], [0.2222222222222222, \"#7201a8\"], [0.3333333333333333, \"#9c179e\"], [0.4444444444444444, \"#bd3786\"], [0.5555555555555556, \"#d8576b\"], [0.6666666666666666, \"#ed7953\"], [0.7777777777777778, \"#fb9f3a\"], [0.8888888888888888, \"#fdca26\"], [1.0, \"#f0f921\"]], \"type\": \"heatmap\"}], \"heatmapgl\": [{\"colorbar\": {\"outlinewidth\": 0, \"ticks\": \"\"}, \"colorscale\": [[0.0, \"#0d0887\"], [0.1111111111111111, \"#46039f\"], [0.2222222222222222, \"#7201a8\"], [0.3333333333333333, \"#9c179e\"], [0.4444444444444444, \"#bd3786\"], [0.5555555555555556, \"#d8576b\"], [0.6666666666666666, \"#ed7953\"], [0.7777777777777778, \"#fb9f3a\"], [0.8888888888888888, \"#fdca26\"], [1.0, \"#f0f921\"]], \"type\": \"heatmapgl\"}], \"histogram\": [{\"marker\": {\"colorbar\": {\"outlinewidth\": 0, \"ticks\": \"\"}}, \"type\": \"histogram\"}], \"histogram2d\": [{\"colorbar\": {\"outlinewidth\": 0, \"ticks\": \"\"}, \"colorscale\": [[0.0, \"#0d0887\"], [0.1111111111111111, \"#46039f\"], [0.2222222222222222, \"#7201a8\"], [0.3333333333333333, \"#9c179e\"], [0.4444444444444444, \"#bd3786\"], [0.5555555555555556, \"#d8576b\"], [0.6666666666666666, \"#ed7953\"], [0.7777777777777778, \"#fb9f3a\"], [0.8888888888888888, \"#fdca26\"], [1.0, \"#f0f921\"]], \"type\": \"histogram2d\"}], \"histogram2dcontour\": [{\"colorbar\": {\"outlinewidth\": 0, \"ticks\": \"\"}, \"colorscale\": [[0.0, \"#0d0887\"], [0.1111111111111111, \"#46039f\"], [0.2222222222222222, \"#7201a8\"], [0.3333333333333333, \"#9c179e\"], [0.4444444444444444, \"#bd3786\"], [0.5555555555555556, \"#d8576b\"], [0.6666666666666666, \"#ed7953\"], [0.7777777777777778, \"#fb9f3a\"], [0.8888888888888888, \"#fdca26\"], [1.0, \"#f0f921\"]], \"type\": \"histogram2dcontour\"}], \"mesh3d\": [{\"colorbar\": {\"outlinewidth\": 0, \"ticks\": \"\"}, \"type\": \"mesh3d\"}], \"parcoords\": [{\"line\": {\"colorbar\": {\"outlinewidth\": 0, \"ticks\": \"\"}}, \"type\": \"parcoords\"}], \"pie\": [{\"automargin\": true, \"type\": \"pie\"}], \"scatter\": [{\"marker\": {\"colorbar\": {\"outlinewidth\": 0, \"ticks\": \"\"}}, \"type\": \"scatter\"}], \"scatter3d\": [{\"line\": {\"colorbar\": {\"outlinewidth\": 0, \"ticks\": \"\"}}, \"marker\": {\"colorbar\": {\"outlinewidth\": 0, \"ticks\": \"\"}}, \"type\": \"scatter3d\"}], \"scattercarpet\": [{\"marker\": {\"colorbar\": {\"outlinewidth\": 0, \"ticks\": \"\"}}, \"type\": \"scattercarpet\"}], \"scattergeo\": [{\"marker\": {\"colorbar\": {\"outlinewidth\": 0, \"ticks\": \"\"}}, \"type\": \"scattergeo\"}], \"scattergl\": [{\"marker\": {\"colorbar\": {\"outlinewidth\": 0, \"ticks\": \"\"}}, \"type\": \"scattergl\"}], \"scattermapbox\": [{\"marker\": {\"colorbar\": {\"outlinewidth\": 0, \"ticks\": \"\"}}, \"type\": \"scattermapbox\"}], \"scatterpolar\": [{\"marker\": {\"colorbar\": {\"outlinewidth\": 0, \"ticks\": \"\"}}, \"type\": \"scatterpolar\"}], \"scatterpolargl\": [{\"marker\": {\"colorbar\": {\"outlinewidth\": 0, \"ticks\": \"\"}}, \"type\": \"scatterpolargl\"}], \"scatterternary\": [{\"marker\": {\"colorbar\": {\"outlinewidth\": 0, \"ticks\": \"\"}}, \"type\": \"scatterternary\"}], \"surface\": [{\"colorbar\": {\"outlinewidth\": 0, \"ticks\": \"\"}, \"colorscale\": [[0.0, \"#0d0887\"], [0.1111111111111111, \"#46039f\"], [0.2222222222222222, \"#7201a8\"], [0.3333333333333333, \"#9c179e\"], [0.4444444444444444, \"#bd3786\"], [0.5555555555555556, \"#d8576b\"], [0.6666666666666666, \"#ed7953\"], [0.7777777777777778, \"#fb9f3a\"], [0.8888888888888888, \"#fdca26\"], [1.0, \"#f0f921\"]], \"type\": \"surface\"}], \"table\": [{\"cells\": {\"fill\": {\"color\": \"#EBF0F8\"}, \"line\": {\"color\": \"white\"}}, \"header\": {\"fill\": {\"color\": \"#C8D4E3\"}, \"line\": {\"color\": \"white\"}}, \"type\": \"table\"}]}, \"layout\": {\"annotationdefaults\": {\"arrowcolor\": \"#2a3f5f\", \"arrowhead\": 0, \"arrowwidth\": 1}, \"coloraxis\": {\"colorbar\": {\"outlinewidth\": 0, \"ticks\": \"\"}}, \"colorscale\": {\"diverging\": [[0, \"#8e0152\"], [0.1, \"#c51b7d\"], [0.2, \"#de77ae\"], [0.3, \"#f1b6da\"], [0.4, \"#fde0ef\"], [0.5, \"#f7f7f7\"], [0.6, \"#e6f5d0\"], [0.7, \"#b8e186\"], [0.8, \"#7fbc41\"], [0.9, \"#4d9221\"], [1, \"#276419\"]], \"sequential\": [[0.0, \"#0d0887\"], [0.1111111111111111, \"#46039f\"], [0.2222222222222222, \"#7201a8\"], [0.3333333333333333, \"#9c179e\"], [0.4444444444444444, \"#bd3786\"], [0.5555555555555556, \"#d8576b\"], [0.6666666666666666, \"#ed7953\"], [0.7777777777777778, \"#fb9f3a\"], [0.8888888888888888, \"#fdca26\"], [1.0, \"#f0f921\"]], \"sequentialminus\": [[0.0, \"#0d0887\"], [0.1111111111111111, \"#46039f\"], [0.2222222222222222, \"#7201a8\"], [0.3333333333333333, \"#9c179e\"], [0.4444444444444444, \"#bd3786\"], [0.5555555555555556, \"#d8576b\"], [0.6666666666666666, \"#ed7953\"], [0.7777777777777778, \"#fb9f3a\"], [0.8888888888888888, \"#fdca26\"], [1.0, \"#f0f921\"]]}, \"colorway\": [\"#636efa\", \"#EF553B\", \"#00cc96\", \"#ab63fa\", \"#FFA15A\", \"#19d3f3\", \"#FF6692\", \"#B6E880\", \"#FF97FF\", \"#FECB52\"], \"font\": {\"color\": \"#2a3f5f\"}, \"geo\": {\"bgcolor\": \"white\", \"lakecolor\": \"white\", \"landcolor\": \"#E5ECF6\", \"showlakes\": true, \"showland\": true, \"subunitcolor\": \"white\"}, \"hoverlabel\": {\"align\": \"left\"}, \"hovermode\": \"closest\", \"mapbox\": {\"style\": \"light\"}, \"paper_bgcolor\": \"white\", \"plot_bgcolor\": \"#E5ECF6\", \"polar\": {\"angularaxis\": {\"gridcolor\": \"white\", \"linecolor\": \"white\", \"ticks\": \"\"}, \"bgcolor\": \"#E5ECF6\", \"radialaxis\": {\"gridcolor\": \"white\", \"linecolor\": \"white\", \"ticks\": \"\"}}, \"scene\": {\"xaxis\": {\"backgroundcolor\": \"#E5ECF6\", \"gridcolor\": \"white\", \"gridwidth\": 2, \"linecolor\": \"white\", \"showbackground\": true, \"ticks\": \"\", \"zerolinecolor\": \"white\"}, \"yaxis\": {\"backgroundcolor\": \"#E5ECF6\", \"gridcolor\": \"white\", \"gridwidth\": 2, \"linecolor\": \"white\", \"showbackground\": true, \"ticks\": \"\", \"zerolinecolor\": \"white\"}, \"zaxis\": {\"backgroundcolor\": \"#E5ECF6\", \"gridcolor\": \"white\", \"gridwidth\": 2, \"linecolor\": \"white\", \"showbackground\": true, \"ticks\": \"\", \"zerolinecolor\": \"white\"}}, \"shapedefaults\": {\"line\": {\"color\": \"#2a3f5f\"}}, \"ternary\": {\"aaxis\": {\"gridcolor\": \"white\", \"linecolor\": \"white\", \"ticks\": \"\"}, \"baxis\": {\"gridcolor\": \"white\", \"linecolor\": \"white\", \"ticks\": \"\"}, \"bgcolor\": \"#E5ECF6\", \"caxis\": {\"gridcolor\": \"white\", \"linecolor\": \"white\", \"ticks\": \"\"}}, \"title\": {\"x\": 0.05}, \"xaxis\": {\"automargin\": true, \"gridcolor\": \"white\", \"linecolor\": \"white\", \"ticks\": \"\", \"title\": {\"standoff\": 15}, \"zerolinecolor\": \"white\", \"zerolinewidth\": 2}, \"yaxis\": {\"automargin\": true, \"gridcolor\": \"white\", \"linecolor\": \"white\", \"ticks\": \"\", \"title\": {\"standoff\": 15}, \"zerolinecolor\": \"white\", \"zerolinewidth\": 2}}}, \"width\": 1500, \"xaxis\": {\"anchor\": \"y\", \"domain\": [0.0, 1.0], \"title\": {\"text\": \"week_year\"}}, \"yaxis\": {\"anchor\": \"x\", \"domain\": [0.0, 1.0], \"title\": {\"text\": \"counts\"}}},\n",
       "                        {\"responsive\": true}\n",
       "                    ).then(function(){\n",
       "                            \n",
       "var gd = document.getElementById('17ef93ae-a370-4b19-be1c-b31e00b6007f');\n",
       "var x = new MutationObserver(function (mutations, observer) {{\n",
       "        var display = window.getComputedStyle(gd).display;\n",
       "        if (!display || display === 'none') {{\n",
       "            console.log([gd, 'removed!']);\n",
       "            Plotly.purge(gd);\n",
       "            observer.disconnect();\n",
       "        }}\n",
       "}});\n",
       "\n",
       "// Listen for the removal of the full notebook cells\n",
       "var notebookContainer = gd.closest('#notebook-container');\n",
       "if (notebookContainer) {{\n",
       "    x.observe(notebookContainer, {childList: true});\n",
       "}}\n",
       "\n",
       "// Listen for the clearing of the current output cell\n",
       "var outputEl = gd.closest('.output');\n",
       "if (outputEl) {{\n",
       "    x.observe(outputEl, {childList: true});\n",
       "}}\n",
       "\n",
       "                        })\n",
       "                };\n",
       "                });\n",
       "            </script>\n",
       "        </div>"
      ]
     },
     "metadata": {},
     "output_type": "display_data"
    }
   ],
   "source": [
    "df1 = df[df['keys']!='']\n",
    "df1 = df1[df1['keys']!='NA']\n",
    "#df1 = df1[df1['travel']==True]\n",
    "print(len(df1))\n",
    "dfa = pd.DataFrame(df1.groupby(['keys', 'week_year']).size().reset_index(name='counts'))\n",
    "fig = px.bar(dfa, x='week_year', y='counts', color='keys')\n",
    "fig.update_layout(\n",
    "    autosize=False,\n",
    "    width=1500,\n",
    "    height=1000,\n",
    "    )\n",
    "fig.show()\n",
    "fig.write_html(\"file.html\")"
   ]
  },
  {
   "cell_type": "code",
   "execution_count": 33,
   "metadata": {},
   "outputs": [
    {
     "data": {
      "text/plain": [
       "contacts of earlier positive cases of #COVID19 & have no travel history    5\n",
       "Politican with no travel history or contact history, details waited        1\n",
       "No Travel History, Contact with Indonesian Group                           1\n",
       "No travel history, husband has had contact with a colleague from London    1\n",
       "No Travel History (Husband, Son and 2 domestic workers in isolation)       1\n",
       "Name: notes, dtype: int64"
      ]
     },
     "execution_count": 33,
     "metadata": {},
     "output_type": "execute_result"
    }
   ],
   "source": [
    "df[df['keys'].isin(['Contact,No Travel History,Travel'])]['notes'].value_counts()"
   ]
  },
  {
   "cell_type": "code",
   "execution_count": 34,
   "metadata": {},
   "outputs": [
    {
     "name": "stderr",
     "output_type": "stream",
     "text": [
      "C:\\Users\\Kiran Subramaniam\\Anaconda3\\lib\\site-packages\\ipykernel_launcher.py:1: FutureWarning:\n",
      "\n",
      "Passing a negative integer is deprecated in version 1.0 and will not be supported in future version. Instead, use None to not limit the column width.\n",
      "\n",
      "C:\\Users\\Kiran Subramaniam\\Anaconda3\\lib\\site-packages\\ipykernel_launcher.py:3: SettingWithCopyWarning:\n",
      "\n",
      "\n",
      "A value is trying to be set on a copy of a slice from a DataFrame.\n",
      "Try using .loc[row_indexer,col_indexer] = value instead\n",
      "\n",
      "See the caveats in the documentation: https://pandas.pydata.org/pandas-docs/stable/user_guide/indexing.html#returning-a-view-versus-a-copy\n",
      "\n"
     ]
    }
   ],
   "source": [
    "pd.set_option('display.max_colwidth', -1)\n",
    "df['travel'] = False\n",
    "df[df['keys'] == 'Travel']['travel'] = True\n",
    "re = df[df['keys'] == 'Travel'][['notes','backupnotes','source1']]\n",
    "#re"
   ]
  },
  {
   "cell_type": "markdown",
   "metadata": {},
   "source": [
    "# Breaking down cluster for 'Travel'"
   ]
  },
  {
   "cell_type": "code",
   "execution_count": 35,
   "metadata": {},
   "outputs": [],
   "source": [
    "import geonamescache\n",
    "cities_list = []\n",
    "country_list = []\n",
    "country_list_big = []\n",
    "gc = geonamescache.GeonamesCache()\n",
    "countries = gc.get_countries()\n",
    "#prepping list of cities\n",
    "cities = gc.get_cities()\n",
    "for every_city in (cities):\n",
    "    \n",
    "    country_code = cities[every_city]['countrycode']\n",
    "    if(True):\n",
    "        cities_list.append(cities[every_city]['name'])\n",
    "        country_list_big.append(countries[country_code]['name'])\n",
    "        if(countries[country_code]['name'] not in country_list):\n",
    "            country_list.append(countries[country_code]['name'])\n",
    "#Adding missing country list to countries\n",
    "append_missing = ['US', 'Middle East', 'Saudi','UK','UAE','Abudhabi','Congo','Abhudhabi',\n",
    "                 'Scotland','Dubai','Sharjah','Rajasthan', 'Jharkhand','Rishikesh']\n",
    "replacement_text = {'US':'International Travel', 'Middle East':'International Travel',\n",
    "                    'Saudi':'International Travel','UK':'International Travel','UAE':'International Travel',\n",
    "                    'Abudhabi':'International Travel','Congo':'International Travel','Abhudhabi':'International Travel',\n",
    "                    'Scotland':'International Travel','Dubai':'International Travel','Sharjah':'International Travel',\n",
    "                   'Italy':'International Travel','France':'International Travel','Indonesia':'International Travel',\n",
    "                    'Spain':'International Travel','Germany':'International Travel','Philipines':'International Travel',\n",
    "                    'Singapore':'International Travel','Turkey':'International Travel','Qatar':'International Travel',\n",
    "                    'Sri Lanka':'International Travel','Thailand':'International Travel','Netherlands':'International Travel',\n",
    "                    'United Kingdom':'International Travel','Bahrain':'International Travel','Ireland':'International Travel',\n",
    "                    'Japan':'International Travel','Canada':'International Travel','Oman':'International Travel'\n",
    "                   }\n",
    "for ec in append_missing:\n",
    "    country_list.append(ec)\n",
    "    \n",
    "def return_country(text):\n",
    "    ret = 'NA'\n",
    "    broken_tex = text.lower().split(' ')\n",
    "    for ev in cities_list:\n",
    "        if(ev.lower() in text.lower()):\n",
    "            ret = country_list_big[cities_list.index(ev)]\n",
    "            if ret == 'India':\n",
    "                if(ev == 'Delhi'):\n",
    "                    ret = 'Domestic Travel Delhi'\n",
    "                else:\n",
    "                    ret = 'Domestic Travel'\n",
    "            else:\n",
    "                ret = 'International Travel'\n",
    "    for ev in country_list:\n",
    "        if(ev.lower() in text.lower()):\n",
    "            #print(text)\n",
    "            try:\n",
    "                ret = replacement_text[ev]\n",
    "            except:\n",
    "                if(ev!='India'):\n",
    "                    ret = 'International Travel'\n",
    "                else:\n",
    "                    ret = 'Domestic Travel'\n",
    "    return(ret)"
   ]
  },
  {
   "cell_type": "code",
   "execution_count": 36,
   "metadata": {},
   "outputs": [
    {
     "name": "stderr",
     "output_type": "stream",
     "text": [
      "11040it [00:12, 870.63it/s] \n"
     ]
    }
   ],
   "source": [
    "df['travel'] = False\n",
    "for i, row in tqdm(df.iterrows()):\n",
    "    if(row['keys'] == 'Travel'):\n",
    "        country_ = return_country(str(row['notes']))\n",
    "        #print(country_)\n",
    "        df.at[i,'keys'] = country_\n",
    "        df.at[i,'travel'] = True"
   ]
  },
  {
   "cell_type": "code",
   "execution_count": 37,
   "metadata": {},
   "outputs": [
    {
     "data": {
      "text/html": [
       "<div>\n",
       "<style scoped>\n",
       "    .dataframe tbody tr th:only-of-type {\n",
       "        vertical-align: middle;\n",
       "    }\n",
       "\n",
       "    .dataframe tbody tr th {\n",
       "        vertical-align: top;\n",
       "    }\n",
       "\n",
       "    .dataframe thead th {\n",
       "        text-align: right;\n",
       "    }\n",
       "</style>\n",
       "<table border=\"1\" class=\"dataframe\">\n",
       "  <thead>\n",
       "    <tr style=\"text-align: right;\">\n",
       "      <th></th>\n",
       "      <th>notes</th>\n",
       "      <th>backupnotes</th>\n",
       "    </tr>\n",
       "  </thead>\n",
       "  <tbody>\n",
       "  </tbody>\n",
       "</table>\n",
       "</div>"
      ],
      "text/plain": [
       "Empty DataFrame\n",
       "Columns: [notes, backupnotes]\n",
       "Index: []"
      ]
     },
     "execution_count": 37,
     "metadata": {},
     "output_type": "execute_result"
    }
   ],
   "source": [
    "df[df['keys'] =='Travel to NA'][['notes','backupnotes']]"
   ]
  },
  {
   "cell_type": "code",
   "execution_count": 38,
   "metadata": {
    "scrolled": false
   },
   "outputs": [],
   "source": [
    "# weeks_l = df['week_year'].unique()\n",
    "# weeks_l.sort()\n",
    "# for every_week in weeks_l:\n",
    "#     data = df[~df['keys'].isin(['','NA'])]\n",
    "#     data = data[data['week_year'] == every_week]\n",
    "#     print('===================== Week', every_week)\n",
    "#     print(len(data))\n",
    "#     #print(data['keys'].value_counts()[:20])\n",
    "#     try:\n",
    "#         plt.figure(figsize=(10,12))\n",
    "#         plt.xticks(rotation=70)\n",
    "#         sns.countplot(x='keys', data=data)\n",
    "#         plt.show()\n",
    "#     except:\n",
    "#         pass"
   ]
  },
  {
   "cell_type": "code",
   "execution_count": 39,
   "metadata": {},
   "outputs": [
    {
     "name": "stdout",
     "output_type": "stream",
     "text": [
      "11040\n"
     ]
    },
    {
     "data": {
      "application/vnd.plotly.v1+json": {
       "config": {
        "plotlyServerURL": "https://plot.ly"
       },
       "data": [
        {
         "customdata": [
          [
           1510,
           356
          ],
          [
           2455,
           352
          ],
          [
           2455,
           229
          ],
          [
           2455,
           221
          ],
          [
           2455,
           210
          ],
          [
           2455,
           187
          ],
          [
           1510,
           183
          ],
          [
           1510,
           166
          ],
          [
           2455,
           150
          ],
          [
           2455,
           148
          ],
          [
           1510,
           141
          ],
          [
           969,
           139
          ],
          [
           2455,
           121
          ],
          [
           2455,
           121
          ],
          [
           2455,
           117
          ],
          [
           617,
           116
          ],
          [
           2455,
           112
          ],
          [
           1204,
           106
          ],
          [
           969,
           104
          ],
          [
           657,
           99
          ],
          [
           1204,
           98
          ],
          [
           1204,
           96
          ],
          [
           1510,
           93
          ],
          [
           969,
           93
          ],
          [
           1510,
           93
          ],
          [
           617,
           90
          ],
          [
           1510,
           85
          ],
          [
           2455,
           84
          ],
          [
           969,
           80
          ],
          [
           614,
           78
          ],
          [
           1204,
           77
          ],
          [
           2455,
           77
          ],
          [
           617,
           76
          ],
          [
           657,
           75
          ],
          [
           592,
           75
          ],
          [
           969,
           73
          ],
          [
           969,
           72
          ],
          [
           614,
           70
          ],
          [
           1204,
           69
          ],
          [
           2455,
           64
          ],
          [
           473,
           64
          ],
          [
           614,
           63
          ],
          [
           592,
           62
          ],
          [
           592,
           61
          ],
          [
           1510,
           59
          ],
          [
           1204,
           58
          ],
          [
           1510,
           58
          ],
          [
           969,
           56
          ],
          [
           617,
           56
          ],
          [
           614,
           52
          ],
          [
           1510,
           51
          ],
          [
           614,
           51
          ],
          [
           1510,
           51
          ],
          [
           592,
           49
          ],
          [
           617,
           48
          ],
          [
           1204,
           48
          ],
          [
           657,
           48
          ],
          [
           473,
           47
          ],
          [
           617,
           45
          ],
          [
           592,
           43
          ],
          [
           969,
           42
          ],
          [
           657,
           40
          ],
          [
           969,
           40
          ],
          [
           614,
           40
          ],
          [
           592,
           40
          ],
          [
           190,
           38
          ],
          [
           473,
           38
          ],
          [
           614,
           35
          ],
          [
           473,
           34
          ],
          [
           473,
           34
          ],
          [
           614,
           34
          ],
          [
           278,
           33
          ],
          [
           614,
           33
          ],
          [
           2455,
           33
          ],
          [
           657,
           32
          ],
          [
           614,
           32
          ],
          [
           1204,
           31
          ],
          [
           657,
           31
          ],
          [
           592,
           30
          ],
          [
           592,
           30
          ],
          [
           1510,
           29
          ],
          [
           969,
           29
          ],
          [
           473,
           28
          ],
          [
           592,
           28
          ],
          [
           592,
           27
          ],
          [
           190,
           27
          ],
          [
           198,
           26
          ],
          [
           278,
           26
          ],
          [
           278,
           25
          ],
          [
           2455,
           25
          ],
          [
           614,
           25
          ],
          [
           473,
           24
          ],
          [
           386,
           24
          ],
          [
           184,
           24
          ],
          [
           473,
           24
          ],
          [
           198,
           24
          ],
          [
           1510,
           23
          ],
          [
           657,
           23
          ],
          [
           657,
           23
          ],
          [
           969,
           23
          ],
          [
           278,
           23
          ],
          [
           2455,
           22
          ],
          [
           969,
           21
          ],
          [
           278,
           21
          ],
          [
           184,
           21
          ],
          [
           198,
           20
          ],
          [
           657,
           20
          ],
          [
           657,
           19
          ],
          [
           657,
           19
          ],
          [
           614,
           19
          ],
          [
           473,
           19
          ],
          [
           473,
           18
          ],
          [
           592,
           18
          ],
          [
           190,
           18
          ],
          [
           278,
           17
          ],
          [
           60,
           17
          ],
          [
           198,
           17
          ],
          [
           1510,
           17
          ],
          [
           278,
           17
          ],
          [
           2455,
           17
          ],
          [
           278,
           16
          ],
          [
           198,
           16
          ],
          [
           190,
           16
          ],
          [
           592,
           16
          ],
          [
           592,
           16
          ],
          [
           473,
           15
          ],
          [
           2455,
           15
          ],
          [
           473,
           15
          ],
          [
           473,
           15
          ],
          [
           657,
           14
          ],
          [
           190,
           14
          ],
          [
           592,
           14
          ],
          [
           614,
           14
          ],
          [
           190,
           13
          ],
          [
           657,
           12
          ],
          [
           1510,
           12
          ],
          [
           657,
           12
          ],
          [
           473,
           11
          ],
          [
           2455,
           11
          ],
          [
           190,
           11
          ],
          [
           2455,
           11
          ],
          [
           190,
           10
          ],
          [
           2455,
           10
          ],
          [
           657,
           9
          ],
          [
           258,
           9
          ],
          [
           614,
           9
          ],
          [
           1510,
           9
          ],
          [
           278,
           8
          ],
          [
           386,
           8
          ],
          [
           614,
           8
          ],
          [
           190,
           8
          ],
          [
           33,
           8
          ],
          [
           190,
           8
          ],
          [
           278,
           8
          ],
          [
           33,
           7
          ],
          [
           184,
           7
          ],
          [
           592,
           7
          ],
          [
           278,
           7
          ],
          [
           386,
           7
          ],
          [
           1510,
           7
          ],
          [
           278,
           7
          ],
          [
           657,
           7
          ],
          [
           592,
           7
          ],
          [
           969,
           7
          ],
          [
           60,
           7
          ],
          [
           617,
           7
          ],
          [
           2455,
           6
          ],
          [
           657,
           6
          ],
          [
           198,
           6
          ],
          [
           278,
           6
          ],
          [
           184,
           6
          ],
          [
           33,
           6
          ],
          [
           198,
           6
          ],
          [
           198,
           6
          ],
          [
           35,
           6
          ],
          [
           35,
           6
          ],
          [
           617,
           5
          ],
          [
           614,
           5
          ],
          [
           969,
           5
          ],
          [
           614,
           5
          ],
          [
           24,
           5
          ],
          [
           617,
           5
          ],
          [
           617,
           5
          ],
          [
           198,
           5
          ],
          [
           60,
           5
          ],
          [
           278,
           5
          ],
          [
           386,
           5
          ],
          [
           386,
           5
          ],
          [
           278,
           5
          ],
          [
           386,
           5
          ],
          [
           1510,
           5
          ],
          [
           198,
           5
          ],
          [
           592,
           5
          ],
          [
           969,
           5
          ],
          [
           35,
           4
          ],
          [
           614,
           4
          ],
          [
           1204,
           4
          ],
          [
           35,
           4
          ],
          [
           32,
           4
          ],
          [
           657,
           4
          ],
          [
           1204,
           4
          ],
          [
           617,
           4
          ],
          [
           386,
           4
          ],
          [
           35,
           4
          ],
          [
           66,
           4
          ],
          [
           32,
           4
          ],
          [
           190,
           4
          ],
          [
           198,
           3
          ],
          [
           278,
           3
          ],
          [
           617,
           3
          ],
          [
           969,
           3
          ],
          [
           60,
           3
          ],
          [
           198,
           3
          ],
          [
           66,
           3
          ],
          [
           969,
           3
          ],
          [
           386,
           3
          ],
          [
           198,
           3
          ],
          [
           969,
           3
          ],
          [
           592,
           3
          ],
          [
           184,
           3
          ],
          [
           386,
           3
          ],
          [
           184,
           3
          ],
          [
           184,
           3
          ],
          [
           386,
           3
          ],
          [
           66,
           3
          ],
          [
           60,
           3
          ],
          [
           2455,
           3
          ],
          [
           31,
           3
          ],
          [
           32,
           3
          ],
          [
           614,
           3
          ],
          [
           33,
           3
          ],
          [
           1510,
           3
          ],
          [
           24,
           3
          ],
          [
           258,
           2
          ],
          [
           184,
           2
          ],
          [
           66,
           2
          ],
          [
           198,
           2
          ],
          [
           386,
           2
          ],
          [
           66,
           2
          ],
          [
           386,
           2
          ],
          [
           969,
           2
          ],
          [
           258,
           2
          ],
          [
           258,
           2
          ],
          [
           21,
           2
          ],
          [
           7,
           2
          ],
          [
           1204,
           2
          ],
          [
           184,
           2
          ],
          [
           258,
           2
          ],
          [
           66,
           2
          ],
          [
           60,
           2
          ],
          [
           386,
           2
          ],
          [
           17,
           2
          ],
          [
           386,
           2
          ],
          [
           278,
           2
          ],
          [
           617,
           2
          ],
          [
           184,
           2
          ],
          [
           386,
           2
          ],
          [
           198,
           2
          ],
          [
           1510,
           2
          ],
          [
           969,
           2
          ],
          [
           617,
           2
          ],
          [
           969,
           2
          ],
          [
           1510,
           2
          ],
          [
           17,
           2
          ],
          [
           33,
           2
          ],
          [
           24,
           2
          ],
          [
           184,
           1
          ],
          [
           66,
           1
          ],
          [
           184,
           1
          ],
          [
           258,
           1
          ],
          [
           1204,
           1
          ],
          [
           184,
           1
          ],
          [
           386,
           1
          ],
          [
           32,
           1
          ],
          [
           1204,
           1
          ],
          [
           1,
           1
          ],
          [
           2,
           1
          ],
          [
           184,
           1
          ],
          [
           258,
           1
          ],
          [
           31,
           1
          ],
          [
           17,
           1
          ],
          [
           386,
           1
          ],
          [
           258,
           1
          ],
          [
           198,
           1
          ],
          [
           66,
           1
          ],
          [
           31,
           1
          ],
          [
           32,
           1
          ],
          [
           21,
           1
          ],
          [
           32,
           1
          ],
          [
           1,
           1
          ],
          [
           386,
           1
          ],
          [
           17,
           1
          ],
          [
           969,
           1
          ],
          [
           278,
           1
          ],
          [
           66,
           1
          ],
          [
           657,
           1
          ],
          [
           17,
           1
          ],
          [
           386,
           1
          ],
          [
           258,
           1
          ],
          [
           21,
           1
          ],
          [
           657,
           1
          ],
          [
           969,
           1
          ],
          [
           184,
           1
          ],
          [
           24,
           1
          ],
          [
           60,
           1
          ],
          [
           184,
           1
          ],
          [
           17,
           1
          ],
          [
           258,
           1
          ],
          [
           617,
           1
          ],
          [
           66,
           1
          ],
          [
           31,
           1
          ],
          [
           190,
           1
          ],
          [
           198,
           1
          ],
          [
           198,
           1
          ],
          [
           1510,
           1
          ],
          [
           184,
           1
          ],
          [
           60,
           1
          ],
          [
           617,
           1
          ],
          [
           198,
           1
          ],
          [
           11,
           1
          ],
          [
           190,
           1
          ],
          [
           35,
           1
          ]
         ],
         "hovertemplate": "keys=NA<br>dateannounced=%{x}<br>detectedstate=%{y}<br>total_ct_daily_log=%{marker.size}<br>total_ct=%{customdata[0]}<br>counts=%{customdata[1]}<extra></extra>",
         "legendgroup": "NA",
         "marker": {
          "color": "#636efa",
          "size": [
           5.87493073085203,
           5.863631175598097,
           5.43372200355424,
           5.3981627015177525,
           5.3471075307174685,
           5.231108616854587,
           5.209486152841421,
           5.111987788356544,
           5.0106352940962555,
           4.997212273764115,
           4.948759890378168,
           4.9344739331306915,
           4.795790545596741,
           4.795790545596741,
           4.762173934797756,
           4.7535901911063645,
           4.718498871295094,
           4.663439094112067,
           4.6443908991413725,
           4.59511985013459,
           4.584967478670572,
           4.564348191467836,
           4.532599493153256,
           4.532599493153256,
           4.532599493153256,
           4.499809670330265,
           4.442651256490317,
           4.477336814478207,
           4.382026634673881,
           4.356708826689592,
           4.343805421853684,
           4.406719247264253,
           4.330733340286331,
           4.31748811353631,
           4.31748811353631,
           4.584967478670572,
           4.276666119016055,
           4.248495242049359,
           4.23410650459726,
           4.1588830833596715,
           4.1588830833596715,
           4.143134726391533,
           4.127134385045092,
           4.110873864173311,
           4.07753744390572,
           4.060443010546419,
           4.060443010546419,
           4.0943445622221,
           4.02535169073515,
           3.9512437185814275,
           3.9318256327243257,
           3.9318256327243257,
           3.9318256327243257,
           3.8918202981106265,
           3.871201010907891,
           3.871201010907891,
           3.8918202981106265,
           3.8501476017100584,
           3.8066624897703196,
           3.7612001156935624,
           3.7376696182833684,
           4.0943445622221,
           3.6888794541139363,
           3.6888794541139363,
           3.6888794541139363,
           3.6375861597263857,
           3.6375861597263857,
           3.8501476017100584,
           3.5263605246161616,
           3.5263605246161616,
           3.5263605246161616,
           3.4965075614664802,
           3.4965075614664802,
           3.4965075614664802,
           3.784189633918261,
           3.4657359027997265,
           3.4339872044851463,
           3.4339872044851463,
           3.4011973816621555,
           3.4011973816621555,
           3.4657359027997265,
           3.5553480614894135,
           3.332204510175204,
           3.332204510175204,
           3.295836866004329,
           3.295836866004329,
           3.258096538021482,
           3.258096538021482,
           3.2188758248682006,
           3.332204510175204,
           3.2188758248682006,
           3.1780538303479458,
           3.4657359027997265,
           3.1780538303479458,
           4.204692619390966,
           3.1780538303479458,
           3.1354942159291497,
           3.1354942159291497,
           3.1780538303479458,
           3.295836866004329,
           3.1354942159291497,
           3.091042453358316,
           3.828641396489095,
           3.044522437723423,
           3.044522437723423,
           2.995732273553991,
           3.295836866004329,
           3.828641396489095,
           2.9444389791664403,
           2.9444389791664403,
           2.9444389791664403,
           2.8903717578961645,
           2.8903717578961645,
           2.8903717578961645,
           2.833213344056216,
           2.8903717578961645,
           3.4965075614664802,
           3.1354942159291497,
           2.833213344056216,
           2.833213344056216,
           2.772588722239781,
           2.772588722239781,
           2.772588722239781,
           2.772588722239781,
           2.772588722239781,
           2.70805020110221,
           2.70805020110221,
           2.70805020110221,
           2.70805020110221,
           3.367295829986474,
           2.70805020110221,
           2.6390573296152584,
           2.6390573296152584,
           2.5649493574615367,
           2.772588722239781,
           3.091042453358316,
           2.5649493574615367,
           2.3978952727983707,
           2.70805020110221,
           2.3978952727983707,
           2.8903717578961645,
           2.302585092994046,
           3.332204510175204,
           2.3978952727983707,
           2.833213344056216,
           2.1972245773362196,
           2.1972245773362196,
           2.0794415416798357,
           2.1972245773362196,
           2.0794415416798357,
           2.0794415416798357,
           2.0794415416798357,
           2.0794415416798357,
           2.0794415416798357,
           1.9459101490553132,
           1.9459101490553132,
           1.9459101490553132,
           2.3978952727983707,
           1.9459101490553132,
           3.2188758248682006,
           1.9459101490553132,
           1.9459101490553132,
           2.0794415416798357,
           1.9459101490553132,
           2.70805020110221,
           2.0794415416798357,
           2.4849066497880004,
           1.9459101490553132,
           1.791759469228055,
           2.5649493574615367,
           1.791759469228055,
           1.791759469228055,
           1.791759469228055,
           1.791759469228055,
           1.791759469228055,
           1.791759469228055,
           1.791759469228055,
           1.6094379124341003,
           1.6094379124341003,
           2.1972245773362196,
           1.6094379124341003,
           2.5649493574615367,
           2.0794415416798357,
           1.9459101490553132,
           1.791759469228055,
           1.6094379124341003,
           3.1780538303479458,
           3.044522437723423,
           1.6094379124341003,
           2.3978952727983707,
           1.9459101490553132,
           1.9459101490553132,
           2.995732273553991,
           2.5649493574615367,
           1.3862943611198906,
           2.302585092994046,
           4.04305126783455,
           1.6094379124341003,
           1.3862943611198906,
           3.295836866004329,
           3.912023005428146,
           1.3862943611198906,
           2.4849066497880004,
           1.3862943611198906,
           1.3862943611198906,
           1.3862943611198906,
           1.3862943611198906,
           1.0986122886681098,
           1.0986122886681098,
           1.3862943611198906,
           1.6094379124341003,
           1.6094379124341003,
           2.1972245773362196,
           1.3862943611198906,
           1.0986122886681098,
           2.1972245773362196,
           1.0986122886681098,
           1.3862943611198906,
           1.0986122886681098,
           1.3862943611198906,
           1.791759469228055,
           2.4849066497880004,
           1.0986122886681098,
           1.9459101490553132,
           1.0986122886681098,
           1.3862943611198906,
           1.0986122886681098,
           2.70805020110221,
           1.0986122886681098,
           2.0794415416798357,
           1.0986122886681098,
           1.3862943611198906,
           1.0986122886681098,
           2.3978952727983707,
           2.0794415416798357,
           1.791759469228055,
           0.6931471805599453,
           2.302585092994046,
           0.6931471805599453,
           2.995732273553991,
           2.995732273553991,
           2.4849066497880004,
           2.5649493574615367,
           0.6931471805599453,
           0.6931471805599453,
           4.624972813284271,
           2.4849066497880004,
           2.772588722239781,
           2.9444389791664403,
           0.6931471805599453,
           2.0794415416798357,
           0.6931471805599453,
           3.6635616461296463,
           1.791759469228055,
           0.6931471805599453,
           1.791759469228055,
           2.6390573296152584,
           0.6931471805599453,
           0.6931471805599453,
           1.9459101490553132,
           1.9459101490553132,
           2.0794415416798357,
           1.791759469228055,
           1.6094379124341003,
           0.6931471805599453,
           0.6931471805599453,
           2.995732273553991,
           0,
           1.9459101490553132,
           1.791759469228055,
           4.454347296253507,
           1.0986122886681098,
           2.0794415416798357,
           0,
           4.30406509320417,
           0,
           0,
           2.3978952727983707,
           2.4849066497880004,
           0,
           0,
           1.0986122886681098,
           2.70805020110221,
           0,
           0.6931471805599453,
           0.6931471805599453,
           1.9459101490553132,
           0,
           0,
           0,
           0.6931471805599453,
           0.6931471805599453,
           1.791759469228055,
           1.6094379124341003,
           0,
           1.3862943611198906,
           0.6931471805599453,
           2.9444389791664403,
           2.1972245773362196,
           0.6931471805599453,
           2.0794415416798357,
           2.6390573296152584,
           0,
           0,
           0,
           1.791759469228055,
           0,
           1.3862943611198906,
           0,
           1.791759469228055,
           0,
           0,
           0.6931471805599453,
           0,
           0,
           0.6931471805599453,
           0,
           1.9459101490553132,
           0,
           0,
           1.0986122886681098,
           0
          ],
          "sizemode": "area",
          "sizeref": 0.014687326827130077,
          "symbol": "circle"
         },
         "mode": "markers",
         "name": "NA",
         "showlegend": true,
         "type": "scatter",
         "x": [
          "2020-04-13",
          "2020-04-13",
          "2020-04-09",
          "2020-04-12",
          "2020-04-10",
          "2020-04-11",
          "2020-04-10",
          "2020-04-11",
          "2020-04-07",
          "2020-04-04",
          "2020-04-02",
          "2020-04-11",
          "2020-04-06",
          "2020-04-14",
          "2020-04-08",
          "2020-04-10",
          "2020-04-05",
          "2020-04-12",
          "2020-04-12",
          "2020-04-14",
          "2020-04-13",
          "2020-04-09",
          "2020-04-08",
          "2020-04-13",
          "2020-04-03",
          "2020-04-11",
          "2020-04-12",
          "2020-04-02",
          "2020-04-09",
          "2020-04-11",
          "2020-04-10",
          "2020-03-31",
          "2020-04-09",
          "2020-04-13",
          "2020-04-03",
          "2020-04-10",
          "2020-04-14",
          "2020-04-09",
          "2020-04-07",
          "2020-04-03",
          "2020-04-05",
          "2020-04-06",
          "2020-04-05",
          "2020-04-13",
          "2020-04-04",
          "2020-04-11",
          "2020-04-05",
          "2020-04-05",
          "2020-04-13",
          "2020-04-13",
          "2020-04-07",
          "2020-04-08",
          "2020-04-09",
          "2020-04-08",
          "2020-04-12",
          "2020-04-08",
          "2020-04-09",
          "2020-04-06",
          "2020-04-14",
          "2020-04-04",
          "2020-04-07",
          "2020-04-04",
          "2020-04-08",
          "2020-04-10",
          "2020-04-07",
          "2020-04-14",
          "2020-04-02",
          "2020-04-03",
          "2020-04-14",
          "2020-04-08",
          "2020-04-07",
          "2020-04-08",
          "2020-04-12",
          "2020-04-01",
          "2020-04-05",
          "2020-04-01",
          "2020-04-14",
          "2020-04-12",
          "2020-04-01",
          "2020-04-06",
          "2020-04-01",
          "2020-04-06",
          "2020-04-04",
          "2020-04-12",
          "2020-04-02",
          "2020-04-05",
          "2020-04-04",
          "2020-04-09",
          "2020-04-13",
          "2020-03-28",
          "2020-04-04",
          "2020-04-11",
          "2020-03-30",
          "2020-04-09",
          "2020-04-01",
          "2020-04-08",
          "2020-03-31",
          "2020-04-10",
          "2020-03-30",
          "2020-04-04",
          "2020-04-10",
          "2020-03-29",
          "2020-04-03",
          "2020-04-12",
          "2020-04-10",
          "2020-04-06",
          "2020-04-07",
          "2020-04-03",
          "2020-04-11",
          "2020-03-31",
          "2020-04-13",
          "2020-04-10",
          "2020-04-09",
          "2020-04-13",
          "2020-04-04",
          "2020-04-05",
          "2020-04-07",
          "2020-03-29",
          "2020-04-11",
          "2020-03-30",
          "2020-04-07",
          "2020-04-12",
          "2020-04-02",
          "2020-04-11",
          "2020-04-10",
          "2020-04-09",
          "2020-03-23",
          "2020-04-12",
          "2020-04-03",
          "2020-04-08",
          "2020-03-31",
          "2020-03-27",
          "2020-04-05",
          "2020-04-10",
          "2020-03-28",
          "2020-04-06",
          "2020-04-01",
          "2020-04-07",
          "2020-03-25",
          "2020-04-07",
          "2020-03-24",
          "2020-04-11",
          "2020-03-27",
          "2020-04-02",
          "2020-04-12",
          "2020-04-02",
          "2020-03-28",
          "2020-04-02",
          "2020-04-03",
          "2020-03-30",
          "2020-04-08",
          "2020-04-09",
          "2020-04-12",
          "2020-04-14",
          "2020-04-11",
          "2020-04-11",
          "2020-03-30",
          "2020-03-30",
          "2020-04-10",
          "2020-03-30",
          "2020-04-01",
          "2020-03-29",
          "2020-03-28",
          "2020-03-27",
          "2020-04-03",
          "2020-03-28",
          "2020-03-21",
          "2020-03-27",
          "2020-04-02",
          "2020-03-28",
          "2020-03-24",
          "2020-04-12",
          "2020-04-05",
          "2020-04-10",
          "2020-04-03",
          "2020-04-04",
          "2020-03-26",
          "2020-03-26",
          "2020-03-26",
          "2020-03-27",
          "2020-04-13",
          "2020-04-01",
          "2020-03-29",
          "2020-03-31",
          "2020-04-09",
          "2020-03-29",
          "2020-04-01",
          "2020-04-02",
          "2020-04-03",
          "2020-04-04",
          "2020-03-21",
          "2020-03-23",
          "2020-03-31",
          "2020-04-02",
          "2020-04-05",
          "2020-03-28",
          "2020-03-31",
          "2020-04-06",
          "2020-04-06",
          "2020-04-06",
          "2020-04-06",
          "2020-03-31",
          "2020-04-09",
          "2020-04-08",
          "2020-03-29",
          "2020-04-11",
          "2020-04-09",
          "2020-04-11",
          "2020-04-06",
          "2020-03-22",
          "2020-03-22",
          "2020-04-14",
          "2020-04-03",
          "2020-04-11",
          "2020-03-23",
          "2020-04-08",
          "2020-04-09",
          "2020-03-28",
          "2020-03-29",
          "2020-04-01",
          "2020-03-28",
          "2020-04-12",
          "2020-03-30",
          "2020-03-31",
          "2020-04-01",
          "2020-04-11",
          "2020-03-26",
          "2020-04-01",
          "2020-04-02",
          "2020-03-25",
          "2020-03-26",
          "2020-03-26",
          "2020-04-11",
          "2020-04-14",
          "2020-04-14",
          "2020-04-07",
          "2020-04-14",
          "2020-04-11",
          "2020-03-28",
          "2020-03-29",
          "2020-03-30",
          "2020-04-07",
          "2020-03-31",
          "2020-04-12",
          "2020-04-02",
          "2020-04-03",
          "2020-04-04",
          "2020-04-09",
          "2020-04-09",
          "2020-04-07",
          "2020-04-07",
          "2020-04-13",
          "2020-03-27",
          "2020-03-27",
          "2020-03-25",
          "2020-04-13",
          "2020-03-24",
          "2020-03-24",
          "2020-03-23",
          "2020-03-21",
          "2020-03-21",
          "2020-03-20",
          "2020-03-20",
          "2020-03-17",
          "2020-04-14",
          "2020-04-12",
          "2020-04-07",
          "2020-04-08",
          "2020-04-08",
          "2020-04-08",
          "2020-04-05",
          "2020-04-05",
          "2020-04-05",
          "2020-04-05",
          "2020-04-04",
          "2020-04-06",
          "2020-04-06",
          "2020-04-06",
          "2020-04-06",
          "2020-04-09",
          "2020-04-10",
          "2020-04-13",
          "2020-04-13",
          "2020-04-13",
          "2020-04-13",
          "2020-04-13",
          "2020-04-04",
          "2020-04-10",
          "2020-04-09",
          "2020-04-12",
          "2020-04-12",
          "2020-03-07",
          "2020-03-25",
          "2020-03-25",
          "2020-03-25",
          "2020-03-21",
          "2020-03-20",
          "2020-03-26",
          "2020-04-01",
          "2020-04-01",
          "2020-03-31",
          "2020-03-31",
          "2020-03-31",
          "2020-03-31",
          "2020-04-01",
          "2020-04-03",
          "2020-04-03",
          "2020-04-03",
          "2020-04-02",
          "2020-03-31",
          "2020-03-31",
          "2020-03-30",
          "2020-03-28",
          "2020-03-27",
          "2020-03-27",
          "2020-03-26",
          "2020-03-26",
          "2020-03-30",
          "2020-03-30",
          "2020-03-30",
          "2020-03-29",
          "2020-03-29"
         ],
         "xaxis": "x",
         "y": [
          "Delhi",
          "Maharashtra",
          "Maharashtra",
          "Maharashtra",
          "Maharashtra",
          "Maharashtra",
          "Delhi",
          "Delhi",
          "Maharashtra",
          "Maharashtra",
          "Delhi",
          "Rajasthan",
          "Maharashtra",
          "Maharashtra",
          "Maharashtra",
          "Gujarat",
          "Maharashtra",
          "Tamil Nadu",
          "Rajasthan",
          "Uttar Pradesh",
          "Tamil Nadu",
          "Tamil Nadu",
          "Delhi",
          "Rajasthan",
          "Delhi",
          "Gujarat",
          "Delhi",
          "Maharashtra",
          "Rajasthan",
          "Madhya Pradesh",
          "Tamil Nadu",
          "Maharashtra",
          "Gujarat",
          "Uttar Pradesh",
          "Telangana",
          "Rajasthan",
          "Rajasthan",
          "Madhya Pradesh",
          "Tamil Nadu",
          "Maharashtra",
          "Andhra Pradesh",
          "Madhya Pradesh",
          "Telangana",
          "Telangana",
          "Delhi",
          "Tamil Nadu",
          "Delhi",
          "Rajasthan",
          "Gujarat",
          "Madhya Pradesh",
          "Delhi",
          "Madhya Pradesh",
          "Delhi",
          "Telangana",
          "Gujarat",
          "Tamil Nadu",
          "Uttar Pradesh",
          "Andhra Pradesh",
          "Gujarat",
          "Telangana",
          "Rajasthan",
          "Uttar Pradesh",
          "Rajasthan",
          "Madhya Pradesh",
          "Telangana",
          "West Bengal",
          "Andhra Pradesh",
          "Madhya Pradesh",
          "Andhra Pradesh",
          "Andhra Pradesh",
          "Madhya Pradesh",
          "Jammu and Kashmir",
          "Madhya Pradesh",
          "Maharashtra",
          "Uttar Pradesh",
          "Madhya Pradesh",
          "Tamil Nadu",
          "Uttar Pradesh",
          "Telangana",
          "Telangana",
          "Delhi",
          "Rajasthan",
          "Andhra Pradesh",
          "Telangana",
          "Telangana",
          "West Bengal",
          "Haryana",
          "Jammu and Kashmir",
          "Jammu and Kashmir",
          "Maharashtra",
          "Madhya Pradesh",
          "Andhra Pradesh",
          "Kerala",
          "Punjab",
          "Andhra Pradesh",
          "Haryana",
          "Delhi",
          "Uttar Pradesh",
          "Uttar Pradesh",
          "Rajasthan",
          "Jammu and Kashmir",
          "Maharashtra",
          "Rajasthan",
          "Jammu and Kashmir",
          "Punjab",
          "Haryana",
          "Uttar Pradesh",
          "Uttar Pradesh",
          "Uttar Pradesh",
          "Madhya Pradesh",
          "Andhra Pradesh",
          "Andhra Pradesh",
          "Telangana",
          "West Bengal",
          "Jammu and Kashmir",
          "Odisha",
          "Haryana",
          "Delhi",
          "Jammu and Kashmir",
          "Maharashtra",
          "Jammu and Kashmir",
          "Haryana",
          "West Bengal",
          "Telangana",
          "Telangana",
          "Andhra Pradesh",
          "Maharashtra",
          "Andhra Pradesh",
          "Andhra Pradesh",
          "Uttar Pradesh",
          "West Bengal",
          "Telangana",
          "Madhya Pradesh",
          "West Bengal",
          "Uttar Pradesh",
          "Delhi",
          "Uttar Pradesh",
          "Andhra Pradesh",
          "Maharashtra",
          "West Bengal",
          "Maharashtra",
          "West Bengal",
          "Maharashtra",
          "Uttar Pradesh",
          "Karnataka",
          "Madhya Pradesh",
          "Delhi",
          "Jammu and Kashmir",
          "Kerala",
          "Madhya Pradesh",
          "West Bengal",
          "Chhattisgarh",
          "West Bengal",
          "Jammu and Kashmir",
          "Chhattisgarh",
          "Punjab",
          "Telangana",
          "Jammu and Kashmir",
          "Kerala",
          "Delhi",
          "Jammu and Kashmir",
          "Uttar Pradesh",
          "Telangana",
          "Rajasthan",
          "Odisha",
          "Gujarat",
          "Maharashtra",
          "Uttar Pradesh",
          "Haryana",
          "Jammu and Kashmir",
          "Punjab",
          "Chhattisgarh",
          "Haryana",
          "Haryana",
          "Uttarakhand",
          "Uttarakhand",
          "Gujarat",
          "Madhya Pradesh",
          "Rajasthan",
          "Madhya Pradesh",
          "Jharkhand",
          "Gujarat",
          "Gujarat",
          "Haryana",
          "Odisha",
          "Jammu and Kashmir",
          "Kerala",
          "Kerala",
          "Jammu and Kashmir",
          "Kerala",
          "Delhi",
          "Haryana",
          "Telangana",
          "Rajasthan",
          "Uttarakhand",
          "Madhya Pradesh",
          "Tamil Nadu",
          "Uttarakhand",
          "Himachal Pradesh",
          "Uttar Pradesh",
          "Tamil Nadu",
          "Gujarat",
          "Kerala",
          "Uttarakhand",
          "Bihar",
          "Himachal Pradesh",
          "West Bengal",
          "Haryana",
          "Jammu and Kashmir",
          "Gujarat",
          "Rajasthan",
          "Odisha",
          "Haryana",
          "Bihar",
          "Rajasthan",
          "Kerala",
          "Haryana",
          "Rajasthan",
          "Telangana",
          "Punjab",
          "Kerala",
          "Punjab",
          "Punjab",
          "Kerala",
          "Bihar",
          "Odisha",
          "Maharashtra",
          "Assam",
          "Himachal Pradesh",
          "Madhya Pradesh",
          "Chhattisgarh",
          "Delhi",
          "Jharkhand",
          "Karnataka",
          "Punjab",
          "Bihar",
          "Haryana",
          "Kerala",
          "Bihar",
          "Kerala",
          "Rajasthan",
          "Karnataka",
          "Karnataka",
          "Chandigarh",
          "Puducherry",
          "Tamil Nadu",
          "Punjab",
          "Karnataka",
          "Bihar",
          "Odisha",
          "Kerala",
          "Ladakh",
          "Kerala",
          "Jammu and Kashmir",
          "Gujarat",
          "Punjab",
          "Kerala",
          "Haryana",
          "Delhi",
          "Rajasthan",
          "Gujarat",
          "Rajasthan",
          "Delhi",
          "Ladakh",
          "Chhattisgarh",
          "Jharkhand",
          "Punjab",
          "Bihar",
          "Punjab",
          "Karnataka",
          "Tamil Nadu",
          "Punjab",
          "Kerala",
          "Himachal Pradesh",
          "Tamil Nadu",
          "Dadra and Nagar Haveli",
          "Tripura",
          "Punjab",
          "Karnataka",
          "Assam",
          "Ladakh",
          "Kerala",
          "Karnataka",
          "Haryana",
          "Bihar",
          "Assam",
          "Himachal Pradesh",
          "Chandigarh",
          "Himachal Pradesh",
          "Nagaland",
          "Kerala",
          "Ladakh",
          "Rajasthan",
          "Jammu and Kashmir",
          "Bihar",
          "Uttar Pradesh",
          "Ladakh",
          "Kerala",
          "Karnataka",
          "Chandigarh",
          "Uttar Pradesh",
          "Rajasthan",
          "Punjab",
          "Jharkhand",
          "Odisha",
          "Punjab",
          "Ladakh",
          "Karnataka",
          "Gujarat",
          "Bihar",
          "Assam",
          "West Bengal",
          "Haryana",
          "Haryana",
          "Delhi",
          "Punjab",
          "Odisha",
          "Gujarat",
          "Haryana",
          "Andaman and Nicobar Islands",
          "West Bengal",
          "Uttarakhand"
         ],
         "yaxis": "y"
        },
        {
         "customdata": [
          [
           1204,
           110
          ],
          [
           1204,
           98
          ],
          [
           1204,
           81
          ],
          [
           1204,
           73
          ],
          [
           1204,
           68
          ],
          [
           1204,
           50
          ],
          [
           473,
           43
          ],
          [
           1204,
           31
          ],
          [
           657,
           27
          ],
          [
           657,
           23
          ],
          [
           657,
           20
          ],
          [
           1510,
           18
          ],
          [
           198,
           16
          ],
          [
           592,
           15
          ],
          [
           657,
           15
          ],
          [
           969,
           12
          ],
          [
           31,
           12
          ],
          [
           657,
           12
          ],
          [
           473,
           12
          ],
          [
           1510,
           10
          ],
          [
           32,
           9
          ],
          [
           258,
           9
          ],
          [
           31,
           7
          ],
          [
           657,
           7
          ],
          [
           1510,
           6
          ],
          [
           617,
           6
          ],
          [
           969,
           6
          ],
          [
           32,
           6
          ],
          [
           258,
           5
          ],
          [
           2455,
           4
          ],
          [
           258,
           4
          ],
          [
           258,
           4
          ],
          [
           386,
           4
          ],
          [
           1204,
           4
          ],
          [
           35,
           3
          ],
          [
           258,
           3
          ],
          [
           617,
           3
          ],
          [
           386,
           3
          ],
          [
           258,
           3
          ],
          [
           31,
           3
          ],
          [
           969,
           3
          ],
          [
           184,
           3
          ],
          [
           7,
           2
          ],
          [
           258,
           2
          ],
          [
           184,
           2
          ],
          [
           2455,
           2
          ],
          [
           7,
           2
          ],
          [
           258,
           2
          ],
          [
           473,
           2
          ],
          [
           11,
           2
          ],
          [
           592,
           2
          ],
          [
           386,
           2
          ],
          [
           657,
           2
          ],
          [
           969,
           2
          ],
          [
           184,
           2
          ],
          [
           473,
           1
          ],
          [
           31,
           1
          ],
          [
           386,
           1
          ],
          [
           657,
           1
          ],
          [
           258,
           1
          ],
          [
           35,
           1
          ],
          [
           184,
           1
          ],
          [
           617,
           1
          ],
          [
           278,
           1
          ],
          [
           657,
           1
          ],
          [
           1204,
           1
          ],
          [
           1,
           1
          ],
          [
           2,
           1
          ],
          [
           969,
           1
          ],
          [
           617,
           1
          ],
          [
           60,
           1
          ],
          [
           33,
           1
          ],
          [
           386,
           1
          ]
         ],
         "hovertemplate": "keys=Domestic Travel Delhi<br>dateannounced=%{x}<br>detectedstate=%{y}<br>total_ct_daily_log=%{marker.size}<br>total_ct=%{customdata[0]}<br>counts=%{customdata[1]}<extra></extra>",
         "legendgroup": "Domestic Travel Delhi",
         "marker": {
          "color": "#EF553B",
          "size": [
           4.700480365792417,
           4.624972813284271,
           4.454347296253507,
           4.31748811353631,
           4.30406509320417,
           4.04305126783455,
           4.204692619390966,
           3.912023005428146,
           3.828641396489095,
           3.295836866004329,
           4.0943445622221,
           3.2188758248682006,
           3.4965075614664802,
           2.995732273553991,
           3.367295829986474,
           3.295836866004329,
           2.70805020110221,
           3.784189633918261,
           3.044522437723423,
           3.091042453358316,
           2.1972245773362196,
           2.6390573296152584,
           1.9459101490553132,
           3.295836866004329,
           3.1354942159291497,
           2.995732273553991,
           3.5553480614894135,
           1.9459101490553132,
           1.9459101490553132,
           4.477336814478207,
           2.4849066497880004,
           2.4849066497880004,
           2.0794415416798357,
           2.0794415416798357,
           1.0986122886681098,
           1.3862943611198906,
           2.8903717578961645,
           2.5649493574615367,
           2.772588722239781,
           1.0986122886681098,
           3.295836866004329,
           2.4849066497880004,
           0.6931471805599453,
           1.791759469228055,
           2.995732273553991,
           4.406719247264253,
           0.6931471805599453,
           2.772588722239781,
           0.6931471805599453,
           1.0986122886681098,
           1.3862943611198906,
           3.044522437723423,
           2.3978952727983707,
           3.828641396489095,
           1.791759469228055,
           1.791759469228055,
           0.6931471805599453,
           2.1972245773362196,
           3.8918202981106265,
           2.70805020110221,
           1.6094379124341003,
           2.3978952727983707,
           1.9459101490553132,
           0.6931471805599453,
           1.9459101490553132,
           2.833213344056216,
           0,
           0,
           2.5649493574615367,
           1.9459101490553132,
           2.70805020110221,
           0,
           2.3978952727983707
          ],
          "sizemode": "area",
          "sizeref": 0.014687326827130077,
          "symbol": "circle"
         },
         "mode": "markers",
         "name": "Domestic Travel Delhi",
         "showlegend": true,
         "type": "scatter",
         "x": [
          "2020-04-01",
          "2020-04-03",
          "2020-04-05",
          "2020-04-02",
          "2020-04-04",
          "2020-03-31",
          "2020-04-01",
          "2020-04-06",
          "2020-04-03",
          "2020-04-06",
          "2020-04-04",
          "2020-03-30",
          "2020-04-07",
          "2020-03-31",
          "2020-04-08",
          "2020-04-01",
          "2020-04-01",
          "2020-04-05",
          "2020-03-31",
          "2020-04-06",
          "2020-04-07",
          "2020-04-02",
          "2020-04-03",
          "2020-04-07",
          "2020-03-29",
          "2020-04-05",
          "2020-04-06",
          "2020-04-04",
          "2020-04-05",
          "2020-04-02",
          "2020-04-06",
          "2020-04-07",
          "2020-04-05",
          "2020-03-29",
          "2020-04-02",
          "2020-04-03",
          "2020-04-06",
          "2020-04-06",
          "2020-04-09",
          "2020-04-04",
          "2020-04-04",
          "2020-04-04",
          "2020-04-10",
          "2020-04-08",
          "2020-04-07",
          "2020-03-31",
          "2020-04-01",
          "2020-04-04",
          "2020-03-30",
          "2020-03-28",
          "2020-03-26",
          "2020-04-02",
          "2020-04-02",
          "2020-04-03",
          "2020-04-03",
          "2020-03-28",
          "2020-04-07",
          "2020-04-08",
          "2020-04-09",
          "2020-04-13",
          "2020-04-06",
          "2020-04-06",
          "2020-03-21",
          "2020-03-24",
          "2020-03-27",
          "2020-03-30",
          "2020-04-02",
          "2020-04-02",
          "2020-04-02",
          "2020-04-03",
          "2020-04-03",
          "2020-04-04",
          "2020-04-04"
         ],
         "xaxis": "x",
         "y": [
          "Tamil Nadu",
          "Tamil Nadu",
          "Tamil Nadu",
          "Tamil Nadu",
          "Tamil Nadu",
          "Tamil Nadu",
          "Andhra Pradesh",
          "Tamil Nadu",
          "Uttar Pradesh",
          "Uttar Pradesh",
          "Uttar Pradesh",
          "Delhi",
          "Haryana",
          "Telangana",
          "Uttar Pradesh",
          "Rajasthan",
          "Assam",
          "Uttar Pradesh",
          "Andhra Pradesh",
          "Delhi",
          "Himachal Pradesh",
          "Karnataka",
          "Assam",
          "Uttar Pradesh",
          "Delhi",
          "Gujarat",
          "Rajasthan",
          "Himachal Pradesh",
          "Karnataka",
          "Maharashtra",
          "Karnataka",
          "Karnataka",
          "Kerala",
          "Tamil Nadu",
          "Uttarakhand",
          "Karnataka",
          "Gujarat",
          "Kerala",
          "Karnataka",
          "Assam",
          "Rajasthan",
          "Punjab",
          "Puducherry",
          "Karnataka",
          "Punjab",
          "Maharashtra",
          "Puducherry",
          "Karnataka",
          "Andhra Pradesh",
          "Andaman and Nicobar Islands",
          "Telangana",
          "Kerala",
          "Uttar Pradesh",
          "Rajasthan",
          "Punjab",
          "Andhra Pradesh",
          "Assam",
          "Kerala",
          "Uttar Pradesh",
          "Karnataka",
          "Uttarakhand",
          "Punjab",
          "Gujarat",
          "Jammu and Kashmir",
          "Uttar Pradesh",
          "Tamil Nadu",
          "Arunachal Pradesh",
          "Manipur",
          "Rajasthan",
          "Gujarat",
          "Odisha",
          "Chhattisgarh",
          "Kerala"
         ],
         "yaxis": "y"
        },
        {
         "customdata": [
          [
           617,
           29
          ],
          [
           969,
           25
          ],
          [
           66,
           16
          ],
          [
           184,
           16
          ],
          [
           617,
           14
          ],
          [
           278,
           14
          ],
          [
           969,
           13
          ],
          [
           386,
           13
          ],
          [
           258,
           13
          ],
          [
           386,
           11
          ],
          [
           617,
           11
          ],
          [
           617,
           10
          ],
          [
           258,
           9
          ],
          [
           184,
           9
          ],
          [
           258,
           9
          ],
          [
           24,
           9
          ],
          [
           258,
           9
          ],
          [
           617,
           9
          ],
          [
           617,
           8
          ],
          [
           386,
           8
          ],
          [
           386,
           8
          ],
          [
           386,
           8
          ],
          [
           184,
           8
          ],
          [
           969,
           7
          ],
          [
           258,
           7
          ],
          [
           258,
           7
          ],
          [
           184,
           7
          ],
          [
           258,
           7
          ],
          [
           617,
           6
          ],
          [
           198,
           6
          ],
          [
           617,
           6
          ],
          [
           278,
           6
          ],
          [
           657,
           6
          ],
          [
           184,
           6
          ],
          [
           258,
           5
          ],
          [
           2455,
           5
          ],
          [
           184,
           5
          ],
          [
           1204,
           5
          ],
          [
           258,
           5
          ],
          [
           617,
           5
          ],
          [
           184,
           5
          ],
          [
           184,
           5
          ],
          [
           258,
           5
          ],
          [
           1204,
           5
          ],
          [
           258,
           5
          ],
          [
           2455,
           4
          ],
          [
           386,
           4
          ],
          [
           614,
           4
          ],
          [
           278,
           4
          ],
          [
           184,
           4
          ],
          [
           258,
           4
          ],
          [
           258,
           4
          ],
          [
           1204,
           4
          ],
          [
           657,
           4
          ],
          [
           278,
           4
          ],
          [
           657,
           4
          ],
          [
           386,
           4
          ],
          [
           278,
           4
          ],
          [
           657,
           3
          ],
          [
           1204,
           3
          ],
          [
           258,
           3
          ],
          [
           386,
           3
          ],
          [
           258,
           3
          ],
          [
           21,
           3
          ],
          [
           386,
           3
          ],
          [
           386,
           3
          ],
          [
           386,
           3
          ],
          [
           617,
           3
          ],
          [
           592,
           3
          ],
          [
           21,
           3
          ],
          [
           657,
           3
          ],
          [
           969,
           3
          ],
          [
           2455,
           3
          ],
          [
           190,
           3
          ],
          [
           66,
           2
          ],
          [
           386,
           2
          ],
          [
           66,
           2
          ],
          [
           60,
           2
          ],
          [
           258,
           2
          ],
          [
           386,
           2
          ],
          [
           60,
           2
          ],
          [
           258,
           2
          ],
          [
           473,
           2
          ],
          [
           386,
           2
          ],
          [
           198,
           2
          ],
          [
           66,
           2
          ],
          [
           473,
           2
          ],
          [
           969,
           2
          ],
          [
           617,
           2
          ],
          [
           66,
           2
          ],
          [
           190,
           2
          ],
          [
           614,
           2
          ],
          [
           258,
           2
          ],
          [
           184,
           2
          ],
          [
           617,
           2
          ],
          [
           473,
           2
          ],
          [
           386,
           2
          ],
          [
           386,
           2
          ],
          [
           258,
           2
          ],
          [
           1510,
           2
          ],
          [
           1510,
           2
          ],
          [
           2455,
           2
          ],
          [
           258,
           1
          ],
          [
           198,
           1
          ],
          [
           2455,
           1
          ],
          [
           2455,
           1
          ],
          [
           258,
           1
          ],
          [
           17,
           1
          ],
          [
           592,
           1
          ],
          [
           473,
           1
          ],
          [
           21,
           1
          ],
          [
           614,
           1
          ],
          [
           657,
           1
          ],
          [
           21,
           1
          ],
          [
           198,
           1
          ],
          [
           258,
           1
          ],
          [
           184,
           1
          ],
          [
           35,
           1
          ],
          [
           2455,
           1
          ],
          [
           657,
           1
          ],
          [
           278,
           1
          ],
          [
           657,
           1
          ],
          [
           657,
           1
          ],
          [
           2455,
           1
          ],
          [
           1510,
           1
          ],
          [
           278,
           1
          ],
          [
           24,
           1
          ],
          [
           66,
           1
          ],
          [
           60,
           1
          ],
          [
           386,
           1
          ],
          [
           60,
           1
          ],
          [
           386,
           1
          ],
          [
           24,
           1
          ],
          [
           614,
           1
          ],
          [
           258,
           1
          ],
          [
           386,
           1
          ],
          [
           614,
           1
          ],
          [
           2455,
           1
          ],
          [
           2455,
           1
          ],
          [
           184,
           1
          ],
          [
           592,
           1
          ],
          [
           278,
           1
          ],
          [
           184,
           1
          ],
          [
           1204,
           1
          ],
          [
           1204,
           1
          ],
          [
           657,
           1
          ],
          [
           278,
           1
          ],
          [
           7,
           1
          ],
          [
           386,
           1
          ],
          [
           21,
           1
          ],
          [
           1204,
           1
          ],
          [
           184,
           1
          ]
         ],
         "hovertemplate": "keys=Contact<br>dateannounced=%{x}<br>detectedstate=%{y}<br>total_ct_daily_log=%{marker.size}<br>total_ct=%{customdata[0]}<br>counts=%{customdata[1]}<extra></extra>",
         "legendgroup": "Contact",
         "marker": {
          "color": "#00cc96",
          "size": [
           3.367295829986474,
           4.584967478670572,
           2.9444389791664403,
           2.995732273553991,
           2.995732273553991,
           2.6390573296152584,
           3.295836866004329,
           3.1780538303479458,
           2.70805020110221,
           3.6635616461296463,
           2.3978952727983707,
           2.5649493574615367,
           2.4849066497880004,
           2.4849066497880004,
           2.772588722239781,
           2.1972245773362196,
           2.302585092994046,
           2.8903717578961645,
           2.5649493574615367,
           3.044522437723423,
           2.0794415416798357,
           3.4657359027997265,
           2.302585092994046,
           2.5649493574615367,
           2.3978952727983707,
           2.833213344056216,
           2.4849066497880004,
           2.0794415416798357,
           2.4849066497880004,
           2.1972245773362196,
           1.9459101490553132,
           1.791759469228055,
           1.9459101490553132,
           2.0794415416798357,
           1.9459101490553132,
           2.302585092994046,
           1.6094379124341003,
           2.833213344056216,
           1.6094379124341003,
           1.9459101490553132,
           1.9459101490553132,
           2.3978952727983707,
           2.4849066497880004,
           4.30406509320417,
           2.1972245773362196,
           3.332204510175204,
           2.4849066497880004,
           2.0794415416798357,
           1.6094379124341003,
           1.791759469228055,
           2.772588722239781,
           2.5649493574615367,
           2.0794415416798357,
           2.0794415416798357,
           2.3978952727983707,
           2.772588722239781,
           2.302585092994046,
           2.5649493574615367,
           1.3862943611198906,
           2.1972245773362196,
           2.6390573296152584,
           2.1972245773362196,
           1.791759469228055,
           1.3862943611198906,
           2.5649493574615367,
           2.4849066497880004,
           2.0794415416798357,
           1.791759469228055,
           1.791759469228055,
           1.6094379124341003,
           1.0986122886681098,
           1.6094379124341003,
           4.406719247264253,
           1.0986122886681098,
           1.0986122886681098,
           2.0794415416798357,
           0.6931471805599453,
           0.6931471805599453,
           2.302585092994046,
           2.6390573296152584,
           1.6094379124341003,
           2.4849066497880004,
           0.6931471805599453,
           1.9459101490553132,
           1.9459101490553132,
           1.6094379124341003,
           3.044522437723423,
           2.995732273553991,
           2.0794415416798357,
           1.791759469228055,
           1.0986122886681098,
           2.1972245773362196,
           2.1972245773362196,
           1.791759469228055,
           1.0986122886681098,
           0.6931471805599453,
           2.3978952727983707,
           1.6094379124341003,
           1.0986122886681098,
           1.9459101490553132,
           1.791759469228055,
           1.0986122886681098,
           0,
           0.6931471805599453,
           1.3862943611198906,
           1.3862943611198906,
           1.6094379124341003,
           1.0986122886681098,
           0.6931471805599453,
           0,
           0,
           0.6931471805599453,
           0.6931471805599453,
           0,
           1.9459101490553132,
           1.9459101490553132,
           0.6931471805599453,
           0,
           2.1972245773362196,
           0,
           0,
           0.6931471805599453,
           0.6931471805599453,
           1.0986122886681098,
           0,
           0.6931471805599453,
           0,
           1.3862943611198906,
           1.3862943611198906,
           1.0986122886681098,
           0,
           2.0794415416798357,
           0,
           3.8501476017100584,
           2.0794415416798357,
           2.9444389791664403,
           0,
           2.8903717578961645,
           2.70805020110221,
           0.6931471805599453,
           0.6931471805599453,
           1.0986122886681098,
           0.6931471805599453,
           4.31748811353631,
           1.0986122886681098,
           1.3862943611198906,
           1.791759469228055,
           0.6931471805599453,
           2.995732273553991,
           0.6931471805599453,
           4.04305126783455,
           1.3862943611198906
          ],
          "sizemode": "area",
          "sizeref": 0.014687326827130077,
          "symbol": "circle"
         },
         "mode": "markers",
         "name": "Contact",
         "showlegend": true,
         "type": "scatter",
         "x": [
          "2020-04-07",
          "2020-04-10",
          "2020-04-09",
          "2020-04-07",
          "2020-04-05",
          "2020-04-05",
          "2020-04-01",
          "2020-04-01",
          "2020-04-13",
          "2020-03-27",
          "2020-04-08",
          "2020-04-04",
          "2020-03-28",
          "2020-04-12",
          "2020-04-09",
          "2020-04-09",
          "2020-04-10",
          "2020-04-06",
          "2020-04-01",
          "2020-04-02",
          "2020-03-10",
          "2020-03-30",
          "2020-03-21",
          "2020-04-02",
          "2020-04-14",
          "2020-04-12",
          "2020-04-04",
          "2020-04-11",
          "2020-03-23",
          "2020-04-03",
          "2020-04-03",
          "2020-03-31",
          "2020-03-04",
          "2020-04-14",
          "2020-03-29",
          "2020-03-22",
          "2020-03-27",
          "2020-03-30",
          "2020-03-30",
          "2020-03-30",
          "2020-04-08",
          "2020-04-06",
          "2020-04-06",
          "2020-04-04",
          "2020-04-01",
          "2020-03-27",
          "2020-04-09",
          "2020-03-25",
          "2020-03-25",
          "2020-04-13",
          "2020-04-04",
          "2020-03-31",
          "2020-03-29",
          "2020-03-31",
          "2020-03-30",
          "2020-03-28",
          "2020-04-11",
          "2020-03-28",
          "2020-03-20",
          "2020-03-27",
          "2020-04-02",
          "2020-04-08",
          "2020-04-08",
          "2020-03-20",
          "2020-04-06",
          "2020-03-20",
          "2020-04-14",
          "2020-03-24",
          "2020-03-24",
          "2020-03-30",
          "2020-03-25",
          "2020-03-29",
          "2020-03-31",
          "2020-03-22",
          "2020-03-26",
          "2020-04-07",
          "2020-04-10",
          "2020-04-10",
          "2020-03-25",
          "2020-03-24",
          "2020-04-14",
          "2020-04-07",
          "2020-03-29",
          "2020-03-31",
          "2020-03-31",
          "2020-04-02",
          "2020-03-31",
          "2020-03-30",
          "2020-03-29",
          "2020-04-07",
          "2020-03-28",
          "2020-03-27",
          "2020-03-27",
          "2020-04-03",
          "2020-03-27",
          "2020-03-27",
          "2020-04-04",
          "2020-03-08",
          "2020-03-10",
          "2020-03-21",
          "2020-03-20",
          "2020-03-13",
          "2020-03-16",
          "2020-03-18",
          "2020-03-18",
          "2020-03-20",
          "2020-03-21",
          "2020-03-21",
          "2020-03-21",
          "2020-03-22",
          "2020-03-22",
          "2020-03-22",
          "2020-03-22",
          "2020-03-23",
          "2020-03-23",
          "2020-03-23",
          "2020-03-23",
          "2020-03-23",
          "2020-03-14",
          "2020-03-13",
          "2020-03-13",
          "2020-03-12",
          "2020-03-09",
          "2020-03-10",
          "2020-03-12",
          "2020-03-24",
          "2020-04-10",
          "2020-04-11",
          "2020-04-11",
          "2020-04-13",
          "2020-04-13",
          "2020-04-05",
          "2020-04-06",
          "2020-04-03",
          "2020-03-24",
          "2020-03-26",
          "2020-03-24",
          "2020-03-24",
          "2020-03-25",
          "2020-03-25",
          "2020-03-25",
          "2020-03-26",
          "2020-03-26",
          "2020-04-02",
          "2020-03-26",
          "2020-03-26",
          "2020-03-27",
          "2020-03-29",
          "2020-03-29",
          "2020-03-31",
          "2020-03-31",
          "2020-04-01"
         ],
         "xaxis": "x",
         "y": [
          "Gujarat",
          "Rajasthan",
          "Bihar",
          "Punjab",
          "Gujarat",
          "Jammu and Kashmir",
          "Rajasthan",
          "Kerala",
          "Karnataka",
          "Kerala",
          "Gujarat",
          "Gujarat",
          "Karnataka",
          "Punjab",
          "Karnataka",
          "Jharkhand",
          "Karnataka",
          "Gujarat",
          "Gujarat",
          "Kerala",
          "Kerala",
          "Kerala",
          "Punjab",
          "Rajasthan",
          "Karnataka",
          "Karnataka",
          "Punjab",
          "Karnataka",
          "Gujarat",
          "Haryana",
          "Gujarat",
          "Jammu and Kashmir",
          "Uttar Pradesh",
          "Punjab",
          "Karnataka",
          "Maharashtra",
          "Punjab",
          "Tamil Nadu",
          "Karnataka",
          "Gujarat",
          "Punjab",
          "Punjab",
          "Karnataka",
          "Tamil Nadu",
          "Karnataka",
          "Maharashtra",
          "Kerala",
          "Madhya Pradesh",
          "Jammu and Kashmir",
          "Punjab",
          "Karnataka",
          "Karnataka",
          "Tamil Nadu",
          "Uttar Pradesh",
          "Jammu and Kashmir",
          "Uttar Pradesh",
          "Kerala",
          "Jammu and Kashmir",
          "Uttar Pradesh",
          "Tamil Nadu",
          "Karnataka",
          "Kerala",
          "Karnataka",
          "Chandigarh",
          "Kerala",
          "Kerala",
          "Kerala",
          "Gujarat",
          "Telangana",
          "Chandigarh",
          "Uttar Pradesh",
          "Rajasthan",
          "Maharashtra",
          "West Bengal",
          "Bihar",
          "Kerala",
          "Bihar",
          "Odisha",
          "Karnataka",
          "Kerala",
          "Odisha",
          "Karnataka",
          "Andhra Pradesh",
          "Kerala",
          "Haryana",
          "Bihar",
          "Andhra Pradesh",
          "Rajasthan",
          "Gujarat",
          "Bihar",
          "West Bengal",
          "Madhya Pradesh",
          "Karnataka",
          "Punjab",
          "Gujarat",
          "Andhra Pradesh",
          "Kerala",
          "Kerala",
          "Karnataka",
          "Delhi",
          "Delhi",
          "Maharashtra",
          "Karnataka",
          "Haryana",
          "Maharashtra",
          "Maharashtra",
          "Karnataka",
          "Ladakh",
          "Telangana",
          "Andhra Pradesh",
          "Chandigarh",
          "Madhya Pradesh",
          "Uttar Pradesh",
          "Chandigarh",
          "Haryana",
          "Karnataka",
          "Punjab",
          "Uttarakhand",
          "Maharashtra",
          "Uttar Pradesh",
          "Jammu and Kashmir",
          "Uttar Pradesh",
          "Uttar Pradesh",
          "Maharashtra",
          "Delhi",
          "Jammu and Kashmir",
          "Jharkhand",
          "Bihar",
          "Odisha",
          "Kerala",
          "Odisha",
          "Kerala",
          "Jharkhand",
          "Madhya Pradesh",
          "Karnataka",
          "Kerala",
          "Madhya Pradesh",
          "Maharashtra",
          "Maharashtra",
          "Punjab",
          "Telangana",
          "Jammu and Kashmir",
          "Punjab",
          "Tamil Nadu",
          "Tamil Nadu",
          "Uttar Pradesh",
          "Jammu and Kashmir",
          "Goa",
          "Kerala",
          "Chandigarh",
          "Tamil Nadu",
          "Punjab"
         ],
         "yaxis": "y"
        },
        {
         "customdata": [
          [
           386,
           27
          ],
          [
           386,
           26
          ],
          [
           386,
           17
          ],
          [
           386,
           15
          ],
          [
           198,
           14
          ],
          [
           386,
           14
          ],
          [
           969,
           13
          ],
          [
           386,
           12
          ],
          [
           969,
           11
          ],
          [
           386,
           8
          ],
          [
           386,
           8
          ],
          [
           969,
           8
          ],
          [
           592,
           8
          ],
          [
           386,
           8
          ],
          [
           258,
           7
          ],
          [
           386,
           7
          ],
          [
           592,
           6
          ],
          [
           2455,
           6
          ],
          [
           386,
           6
          ],
          [
           386,
           6
          ],
          [
           617,
           6
          ],
          [
           258,
           6
          ],
          [
           2455,
           6
          ],
          [
           2455,
           6
          ],
          [
           258,
           6
          ],
          [
           1204,
           6
          ],
          [
           592,
           5
          ],
          [
           258,
           5
          ],
          [
           617,
           5
          ],
          [
           1204,
           5
          ],
          [
           386,
           5
          ],
          [
           66,
           5
          ],
          [
           258,
           5
          ],
          [
           258,
           5
          ],
          [
           617,
           5
          ],
          [
           2455,
           5
          ],
          [
           2455,
           5
          ],
          [
           386,
           4
          ],
          [
           258,
           4
          ],
          [
           258,
           4
          ],
          [
           386,
           3
          ],
          [
           969,
           3
          ],
          [
           2455,
           3
          ],
          [
           258,
           3
          ],
          [
           184,
           3
          ],
          [
           386,
           3
          ],
          [
           1510,
           3
          ],
          [
           386,
           3
          ],
          [
           1204,
           3
          ],
          [
           7,
           3
          ],
          [
           1510,
           3
          ],
          [
           617,
           3
          ],
          [
           258,
           3
          ],
          [
           592,
           3
          ],
          [
           2455,
           3
          ],
          [
           66,
           3
          ],
          [
           1204,
           3
          ],
          [
           657,
           3
          ],
          [
           592,
           3
          ],
          [
           386,
           3
          ],
          [
           2455,
           3
          ],
          [
           184,
           3
          ],
          [
           657,
           3
          ],
          [
           617,
           3
          ],
          [
           1204,
           3
          ],
          [
           386,
           3
          ],
          [
           2455,
           3
          ],
          [
           592,
           3
          ],
          [
           386,
           3
          ],
          [
           258,
           2
          ],
          [
           473,
           2
          ],
          [
           258,
           2
          ],
          [
           614,
           2
          ],
          [
           278,
           2
          ],
          [
           278,
           2
          ],
          [
           21,
           2
          ],
          [
           1204,
           2
          ],
          [
           969,
           2
          ],
          [
           258,
           2
          ],
          [
           66,
           2
          ],
          [
           66,
           2
          ],
          [
           2455,
           2
          ],
          [
           386,
           2
          ],
          [
           1510,
           2
          ],
          [
           617,
           2
          ],
          [
           2455,
           2
          ],
          [
           473,
           2
          ],
          [
           2455,
           2
          ],
          [
           32,
           2
          ],
          [
           198,
           2
          ],
          [
           66,
           2
          ],
          [
           969,
           2
          ],
          [
           1204,
           2
          ],
          [
           190,
           2
          ],
          [
           258,
           2
          ],
          [
           657,
           2
          ],
          [
           473,
           2
          ],
          [
           614,
           1
          ],
          [
           198,
           1
          ],
          [
           657,
           1
          ],
          [
           66,
           1
          ],
          [
           386,
           1
          ],
          [
           21,
           1
          ],
          [
           2,
           1
          ],
          [
           60,
           1
          ],
          [
           386,
           1
          ],
          [
           66,
           1
          ],
          [
           386,
           1
          ],
          [
           11,
           1
          ],
          [
           33,
           1
          ],
          [
           258,
           1
          ],
          [
           31,
           1
          ],
          [
           258,
           1
          ],
          [
           60,
           1
          ],
          [
           386,
           1
          ],
          [
           258,
           1
          ],
          [
           60,
           1
          ],
          [
           60,
           1
          ],
          [
           386,
           1
          ],
          [
           24,
           1
          ],
          [
           278,
           1
          ],
          [
           184,
           1
          ],
          [
           1510,
           1
          ],
          [
           473,
           1
          ],
          [
           258,
           1
          ],
          [
           2455,
           1
          ],
          [
           969,
           1
          ],
          [
           592,
           1
          ],
          [
           386,
           1
          ],
          [
           592,
           1
          ],
          [
           35,
           1
          ],
          [
           278,
           1
          ],
          [
           60,
           1
          ],
          [
           592,
           1
          ],
          [
           198,
           1
          ],
          [
           17,
           1
          ],
          [
           7,
           1
          ],
          [
           657,
           1
          ],
          [
           190,
           1
          ],
          [
           60,
           1
          ],
          [
           1204,
           1
          ],
          [
           592,
           1
          ],
          [
           7,
           1
          ],
          [
           190,
           1
          ],
          [
           614,
           1
          ],
          [
           258,
           1
          ],
          [
           278,
           1
          ],
          [
           617,
           1
          ],
          [
           33,
           1
          ],
          [
           657,
           1
          ],
          [
           473,
           1
          ],
          [
           66,
           1
          ],
          [
           198,
           1
          ],
          [
           21,
           1
          ],
          [
           66,
           1
          ],
          [
           657,
           1
          ],
          [
           473,
           1
          ],
          [
           2,
           1
          ],
          [
           617,
           1
          ],
          [
           473,
           1
          ],
          [
           35,
           1
          ],
          [
           33,
           1
          ],
          [
           969,
           1
          ],
          [
           969,
           1
          ],
          [
           33,
           1
          ],
          [
           617,
           1
          ],
          [
           617,
           1
          ],
          [
           7,
           1
          ],
          [
           66,
           1
          ],
          [
           1204,
           1
          ],
          [
           21,
           1
          ],
          [
           614,
           1
          ],
          [
           386,
           1
          ],
          [
           7,
           1
          ],
          [
           1204,
           1
          ],
          [
           258,
           1
          ],
          [
           24,
           1
          ],
          [
           614,
           1
          ],
          [
           184,
           1
          ],
          [
           657,
           1
          ],
          [
           21,
           1
          ],
          [
           190,
           1
          ],
          [
           60,
           1
          ],
          [
           386,
           1
          ],
          [
           33,
           1
          ],
          [
           198,
           1
          ],
          [
           473,
           1
          ],
          [
           184,
           1
          ],
          [
           2455,
           1
          ],
          [
           17,
           1
          ],
          [
           1510,
           1
          ],
          [
           1,
           1
          ],
          [
           386,
           1
          ],
          [
           386,
           1
          ],
          [
           386,
           1
          ],
          [
           1510,
           1
          ],
          [
           592,
           1
          ],
          [
           969,
           1
          ],
          [
           1510,
           1
          ],
          [
           657,
           1
          ],
          [
           1510,
           1
          ],
          [
           17,
           1
          ],
          [
           1204,
           1
          ],
          [
           278,
           1
          ],
          [
           184,
           1
          ],
          [
           969,
           1
          ],
          [
           190,
           1
          ]
         ],
         "hovertemplate": "keys=International Travel<br>dateannounced=%{x}<br>detectedstate=%{y}<br>total_ct_daily_log=%{marker.size}<br>total_ct=%{customdata[0]}<br>counts=%{customdata[1]}<extra></extra>",
         "legendgroup": "International Travel",
         "marker": {
          "color": "#ab63fa",
          "size": [
           3.332204510175204,
           3.6635616461296463,
           2.995732273553991,
           2.9444389791664403,
           2.6390573296152584,
           2.70805020110221,
           3.828641396489095,
           2.4849066497880004,
           2.6390573296152584,
           2.6390573296152584,
           2.4849066497880004,
           2.995732273553991,
           2.0794415416798357,
           2.1972245773362196,
           2.772588722239781,
           2.5649493574615367,
           1.791759469228055,
           2.4849066497880004,
           3.1780538303479458,
           3.044522437723423,
           2.8903717578961645,
           2.1972245773362196,
           2.8903717578961645,
           2.1972245773362196,
           1.9459101490553132,
           2.0794415416798357,
           1.791759469228055,
           2.0794415416798357,
           2.4849066497880004,
           1.791759469228055,
           2.0794415416798357,
           1.791759469228055,
           2.302585092994046,
           1.791759469228055,
           1.6094379124341003,
           1.9459101490553132,
           2.302585092994046,
           2.0794415416798357,
           1.6094379124341003,
           2.5649493574615367,
           1.791759469228055,
           1.0986122886681098,
           1.3862943611198906,
           1.0986122886681098,
           2.0794415416798357,
           2.302585092994046,
           1.0986122886681098,
           1.0986122886681098,
           1.0986122886681098,
           1.0986122886681098,
           1.0986122886681098,
           1.9459101490553132,
           2.1972245773362196,
           1.0986122886681098,
           1.3862943611198906,
           1.6094379124341003,
           1.3862943611198906,
           1.0986122886681098,
           1.0986122886681098,
           2.3978952727983707,
           1.0986122886681098,
           2.3978952727983707,
           1.3862943611198906,
           1.791759469228055,
           1.0986122886681098,
           1.0986122886681098,
           2.70805020110221,
           1.791759469228055,
           1.6094379124341003,
           1.9459101490553132,
           1.791759469228055,
           1.3862943611198906,
           2.1972245773362196,
           1.791759469228055,
           1.0986122886681098,
           1.6094379124341003,
           1.0986122886681098,
           3.295836866004329,
           2.3978952727983707,
           1.791759469228055,
           0.6931471805599453,
           1.0986122886681098,
           0.6931471805599453,
           1.791759469228055,
           0.6931471805599453,
           0.6931471805599453,
           0.6931471805599453,
           1.791759469228055,
           0.6931471805599453,
           0.6931471805599453,
           0.6931471805599453,
           1.6094379124341003,
           1.0986122886681098,
           0.6931471805599453,
           1.3862943611198906,
           1.3862943611198906,
           0.6931471805599453,
           2.0794415416798357,
           0.6931471805599453,
           0.6931471805599453,
           0.6931471805599453,
           0.6931471805599453,
           0,
           0,
           1.791759469228055,
           2.4849066497880004,
           2.9444389791664403,
           2.1972245773362196,
           0,
           0,
           2.4849066497880004,
           0.6931471805599453,
           0,
           0,
           0,
           2.4849066497880004,
           0,
           2.8903717578961645,
           2.0794415416798357,
           0,
           0,
           0,
           0,
           0,
           0,
           1.0986122886681098,
           0,
           0,
           0.6931471805599453,
           0,
           0,
           0,
           0,
           0,
           0,
           1.6094379124341003,
           0,
           0.6931471805599453,
           0,
           0,
           0,
           0.6931471805599453,
           0.6931471805599453,
           1.0986122886681098,
           0.6931471805599453,
           2.4849066497880004,
           2.5649493574615367,
           2.0794415416798357,
           0,
           0.6931471805599453,
           0,
           0,
           1.9459101490553132,
           0,
           0.6931471805599453,
           1.3862943611198906,
           0,
           0,
           1.791759469228055,
           0,
           0,
           0.6931471805599453,
           1.791759469228055,
           1.6094379124341003,
           0,
           2.5649493574615367,
           1.9459101490553132,
           0,
           0,
           4.624972813284271,
           1.3862943611198906,
           3.8501476017100584,
           2.1972245773362196,
           0,
           4.31748811353631,
           2.6390573296152584,
           0,
           1.3862943611198906,
           0,
           1.3862943611198906,
           0.6931471805599453,
           0,
           0,
           1.9459101490553132,
           0,
           0.6931471805599453,
           3.044522437723423,
           2.302585092994046,
           1.791759469228055,
           0,
           0,
           0,
           0,
           0,
           0,
           0,
           0,
           0,
           0,
           0,
           0,
           0.6931471805599453,
           0,
           0,
           0,
           0,
           0.6931471805599453
          ],
          "sizemode": "area",
          "sizeref": 0.014687326827130077,
          "symbol": "circle"
         },
         "mode": "markers",
         "name": "International Travel",
         "showlegend": true,
         "type": "scatter",
         "x": [
          "2020-03-23",
          "2020-03-27",
          "2020-03-29",
          "2020-03-26",
          "2020-03-04",
          "2020-03-22",
          "2020-04-03",
          "2020-03-21",
          "2020-03-31",
          "2020-03-24",
          "2020-03-20",
          "2020-03-30",
          "2020-03-18",
          "2020-03-25",
          "2020-04-04",
          "2020-04-06",
          "2020-03-22",
          "2020-03-21",
          "2020-04-01",
          "2020-04-02",
          "2020-04-06",
          "2020-03-27",
          "2020-03-24",
          "2020-03-14",
          "2020-03-23",
          "2020-03-25",
          "2020-03-23",
          "2020-03-24",
          "2020-03-23",
          "2020-03-24",
          "2020-04-14",
          "2020-03-31",
          "2020-03-25",
          "2020-03-22",
          "2020-03-20",
          "2020-03-16",
          "2020-03-22",
          "2020-04-07",
          "2020-03-21",
          "2020-03-31",
          "2020-03-28",
          "2020-03-18",
          "2020-03-18",
          "2020-03-18",
          "2020-03-22",
          "2020-04-11",
          "2020-03-17",
          "2020-03-16",
          "2020-03-22",
          "2020-03-25",
          "2020-03-19",
          "2020-03-21",
          "2020-04-01",
          "2020-03-20",
          "2020-03-20",
          "2020-04-02",
          "2020-03-28",
          "2020-03-19",
          "2020-03-19",
          "2020-04-04",
          "2020-03-19",
          "2020-04-06",
          "2020-03-23",
          "2020-03-24",
          "2020-03-21",
          "2020-03-13",
          "2020-03-25",
          "2020-03-24",
          "2020-03-08",
          "2020-03-29",
          "2020-03-28",
          "2020-03-26",
          "2020-03-27",
          "2020-03-27",
          "2020-03-26",
          "2020-03-30",
          "2020-03-26",
          "2020-04-01",
          "2020-04-14",
          "2020-04-07",
          "2020-04-03",
          "2020-03-12",
          "2020-03-12",
          "2020-03-20",
          "2020-03-19",
          "2020-03-17",
          "2020-03-19",
          "2020-03-15",
          "2020-03-20",
          "2020-03-20",
          "2020-03-22",
          "2020-03-22",
          "2020-03-23",
          "2020-03-24",
          "2020-03-17",
          "2020-03-21",
          "2020-03-21",
          "2020-03-25",
          "2020-03-18",
          "2020-03-18",
          "2020-04-13",
          "2020-04-12",
          "2020-03-19",
          "2020-04-10",
          "2020-04-09",
          "2020-04-09",
          "2020-04-09",
          "2020-04-08",
          "2020-04-08",
          "2020-03-19",
          "2020-04-07",
          "2020-04-07",
          "2020-03-19",
          "2020-04-06",
          "2020-03-19",
          "2020-04-06",
          "2020-03-19",
          "2020-04-05",
          "2020-04-05",
          "2020-04-05",
          "2020-03-18",
          "2020-03-19",
          "2020-03-18",
          "2020-03-12",
          "2020-03-13",
          "2020-03-13",
          "2020-03-14",
          "2020-03-14",
          "2020-03-15",
          "2020-03-15",
          "2020-03-15",
          "2020-03-16",
          "2020-03-16",
          "2020-03-16",
          "2020-03-17",
          "2020-03-17",
          "2020-03-17",
          "2020-03-17",
          "2020-03-17",
          "2020-04-04",
          "2020-03-19",
          "2020-03-21",
          "2020-03-29",
          "2020-03-28",
          "2020-03-22",
          "2020-03-28",
          "2020-03-28",
          "2020-03-28",
          "2020-03-28",
          "2020-03-22",
          "2020-03-23",
          "2020-03-23",
          "2020-03-23",
          "2020-03-27",
          "2020-03-27",
          "2020-03-26",
          "2020-03-24",
          "2020-03-24",
          "2020-03-26",
          "2020-03-26",
          "2020-03-25",
          "2020-03-25",
          "2020-03-25",
          "2020-03-29",
          "2020-03-30",
          "2020-04-04",
          "2020-03-30",
          "2020-04-04",
          "2020-04-04",
          "2020-04-03",
          "2020-03-20",
          "2020-04-03",
          "2020-04-03",
          "2020-04-03",
          "2020-04-02",
          "2020-04-02",
          "2020-04-02",
          "2020-03-20",
          "2020-03-20",
          "2020-03-20",
          "2020-04-01",
          "2020-03-20",
          "2020-03-31",
          "2020-03-31",
          "2020-03-31",
          "2020-03-21",
          "2020-03-31",
          "2020-03-21",
          "2020-03-11",
          "2020-03-11",
          "2020-03-11",
          "2020-03-25",
          "2020-01-30",
          "2020-02-02",
          "2020-02-03",
          "2020-03-02",
          "2020-03-02",
          "2020-03-03",
          "2020-03-05",
          "2020-03-05",
          "2020-03-06",
          "2020-03-07",
          "2020-03-07",
          "2020-03-09",
          "2020-03-09",
          "2020-03-10",
          "2020-03-21"
         ],
         "xaxis": "x",
         "y": [
          "Kerala",
          "Kerala",
          "Kerala",
          "Kerala",
          "Haryana",
          "Kerala",
          "Rajasthan",
          "Kerala",
          "Rajasthan",
          "Kerala",
          "Kerala",
          "Rajasthan",
          "Telangana",
          "Kerala",
          "Karnataka",
          "Kerala",
          "Telangana",
          "Maharashtra",
          "Kerala",
          "Kerala",
          "Gujarat",
          "Karnataka",
          "Maharashtra",
          "Maharashtra",
          "Karnataka",
          "Tamil Nadu",
          "Telangana",
          "Karnataka",
          "Gujarat",
          "Tamil Nadu",
          "Kerala",
          "Bihar",
          "Karnataka",
          "Karnataka",
          "Gujarat",
          "Maharashtra",
          "Maharashtra",
          "Kerala",
          "Karnataka",
          "Karnataka",
          "Kerala",
          "Rajasthan",
          "Maharashtra",
          "Karnataka",
          "Punjab",
          "Kerala",
          "Delhi",
          "Kerala",
          "Tamil Nadu",
          "Goa",
          "Delhi",
          "Gujarat",
          "Karnataka",
          "Telangana",
          "Maharashtra",
          "Bihar",
          "Tamil Nadu",
          "Uttar Pradesh",
          "Telangana",
          "Kerala",
          "Maharashtra",
          "Punjab",
          "Uttar Pradesh",
          "Gujarat",
          "Tamil Nadu",
          "Kerala",
          "Maharashtra",
          "Telangana",
          "Kerala",
          "Karnataka",
          "Andhra Pradesh",
          "Karnataka",
          "Madhya Pradesh",
          "Jammu and Kashmir",
          "Jammu and Kashmir",
          "Chandigarh",
          "Tamil Nadu",
          "Rajasthan",
          "Karnataka",
          "Bihar",
          "Bihar",
          "Maharashtra",
          "Kerala",
          "Delhi",
          "Gujarat",
          "Maharashtra",
          "Andhra Pradesh",
          "Maharashtra",
          "Himachal Pradesh",
          "Haryana",
          "Bihar",
          "Rajasthan",
          "Tamil Nadu",
          "West Bengal",
          "Karnataka",
          "Uttar Pradesh",
          "Andhra Pradesh",
          "Madhya Pradesh",
          "Haryana",
          "Uttar Pradesh",
          "Bihar",
          "Kerala",
          "Chandigarh",
          "Tripura",
          "Odisha",
          "Kerala",
          "Bihar",
          "Kerala",
          "Andaman and Nicobar Islands",
          "Chhattisgarh",
          "Karnataka",
          "Assam",
          "Karnataka",
          "Odisha",
          "Kerala",
          "Karnataka",
          "Odisha",
          "Odisha",
          "Kerala",
          "Jharkhand",
          "Jammu and Kashmir",
          "Punjab",
          "Delhi",
          "Andhra Pradesh",
          "Karnataka",
          "Maharashtra",
          "Rajasthan",
          "Telangana",
          "Kerala",
          "Telangana",
          "Uttarakhand",
          "Jammu and Kashmir",
          "Odisha",
          "Telangana",
          "Haryana",
          "Ladakh",
          "Puducherry",
          "Uttar Pradesh",
          "West Bengal",
          "Odisha",
          "Tamil Nadu",
          "Telangana",
          "Goa",
          "West Bengal",
          "Madhya Pradesh",
          "Karnataka",
          "Jammu and Kashmir",
          "Gujarat",
          "Chhattisgarh",
          "Uttar Pradesh",
          "Andhra Pradesh",
          "Bihar",
          "Haryana",
          "Chandigarh",
          "Bihar",
          "Uttar Pradesh",
          "Andhra Pradesh",
          "Manipur",
          "Gujarat",
          "Andhra Pradesh",
          "Uttarakhand",
          "Chhattisgarh",
          "Rajasthan",
          "Rajasthan",
          "Chhattisgarh",
          "Gujarat",
          "Gujarat",
          "Goa",
          "Bihar",
          "Tamil Nadu",
          "Chandigarh",
          "Madhya Pradesh",
          "Kerala",
          "Goa",
          "Tamil Nadu",
          "Karnataka",
          "Jharkhand",
          "Madhya Pradesh",
          "Punjab",
          "Uttar Pradesh",
          "Chandigarh",
          "West Bengal",
          "Odisha",
          "Kerala",
          "Chhattisgarh",
          "Haryana",
          "Andhra Pradesh",
          "Punjab",
          "Maharashtra",
          "Ladakh",
          "Delhi",
          "Mizoram",
          "Kerala",
          "Kerala",
          "Kerala",
          "Delhi",
          "Telangana",
          "Rajasthan",
          "Delhi",
          "Uttar Pradesh",
          "Delhi",
          "Ladakh",
          "Tamil Nadu",
          "Jammu and Kashmir",
          "Punjab",
          "Rajasthan",
          "West Bengal"
         ],
         "yaxis": "y"
        },
        {
         "customdata": [
          [
           1204,
           14
          ],
          [
           969,
           8
          ],
          [
           184,
           5
          ],
          [
           1204,
           4
          ],
          [
           17,
           2
          ],
          [
           473,
           2
          ],
          [
           969,
           2
          ],
          [
           60,
           2
          ],
          [
           17,
           1
          ],
          [
           184,
           1
          ],
          [
           1204,
           1
          ],
          [
           11,
           1
          ],
          [
           21,
           1
          ]
         ],
         "hovertemplate": "keys=Contact,Investigation in Progress<br>dateannounced=%{x}<br>detectedstate=%{y}<br>total_ct_daily_log=%{marker.size}<br>total_ct=%{customdata[0]}<br>counts=%{customdata[1]}<extra></extra>",
         "legendgroup": "Contact,Investigation in Progress",
         "marker": {
          "color": "#FFA15A",
          "size": [
           3.912023005428146,
           2.995732273553991,
           2.0794415416798357,
           4.454347296253507,
           1.0986122886681098,
           3.044522437723423,
           2.6390573296152584,
           2.70805020110221,
           0.6931471805599453,
           0.6931471805599453,
           2.0794415416798357,
           1.0986122886681098,
           0
          ],
          "sizemode": "area",
          "sizeref": 0.014687326827130077,
          "symbol": "circle"
         },
         "mode": "markers",
         "name": "Contact,Investigation in Progress",
         "showlegend": true,
         "type": "scatter",
         "x": [
          "2020-04-06",
          "2020-03-30",
          "2020-03-22",
          "2020-04-05",
          "2020-03-21",
          "2020-03-31",
          "2020-03-31",
          "2020-04-03",
          "2020-03-20",
          "2020-03-23",
          "2020-03-25",
          "2020-03-28",
          "2020-04-02"
         ],
         "xaxis": "x",
         "y": [
          "Tamil Nadu",
          "Rajasthan",
          "Punjab",
          "Tamil Nadu",
          "Ladakh",
          "Andhra Pradesh",
          "Rajasthan",
          "Odisha",
          "Ladakh",
          "Punjab",
          "Tamil Nadu",
          "Andaman and Nicobar Islands",
          "Chandigarh"
         ],
         "yaxis": "y"
        },
        {
         "customdata": [
          [
           2455,
           12
          ],
          [
           1204,
           10
          ],
          [
           614,
           10
          ],
          [
           190,
           5
          ],
          [
           2455,
           5
          ],
          [
           2455,
           4
          ],
          [
           258,
           3
          ],
          [
           614,
           3
          ],
          [
           258,
           3
          ],
          [
           258,
           3
          ],
          [
           386,
           3
          ],
          [
           473,
           3
          ],
          [
           1204,
           3
          ],
          [
           473,
           3
          ],
          [
           2455,
           2
          ],
          [
           258,
           2
          ],
          [
           258,
           2
          ],
          [
           2455,
           2
          ],
          [
           969,
           2
          ],
          [
           278,
           2
          ],
          [
           258,
           2
          ],
          [
           1204,
           2
          ],
          [
           35,
           2
          ],
          [
           2455,
           2
          ],
          [
           258,
           2
          ],
          [
           657,
           2
          ],
          [
           2455,
           2
          ],
          [
           258,
           1
          ],
          [
           1204,
           1
          ],
          [
           258,
           1
          ],
          [
           969,
           1
          ],
          [
           17,
           1
          ],
          [
           1510,
           1
          ],
          [
           258,
           1
          ],
          [
           657,
           1
          ],
          [
           592,
           1
          ],
          [
           657,
           1
          ],
          [
           258,
           1
          ],
          [
           386,
           1
          ],
          [
           184,
           1
          ],
          [
           21,
           1
          ],
          [
           258,
           1
          ],
          [
           184,
           1
          ],
          [
           386,
           1
          ],
          [
           258,
           1
          ],
          [
           198,
           1
          ],
          [
           386,
           1
          ],
          [
           31,
           1
          ],
          [
           386,
           1
          ],
          [
           278,
           1
          ],
          [
           617,
           1
          ],
          [
           11,
           1
          ],
          [
           657,
           1
          ],
          [
           190,
           1
          ],
          [
           617,
           1
          ],
          [
           258,
           1
          ],
          [
           617,
           1
          ],
          [
           386,
           1
          ],
          [
           1204,
           1
          ],
          [
           386,
           1
          ],
          [
           473,
           1
          ],
          [
           386,
           1
          ],
          [
           969,
           1
          ],
          [
           386,
           1
          ],
          [
           657,
           1
          ]
         ],
         "hovertemplate": "keys=Contact,Travel<br>dateannounced=%{x}<br>detectedstate=%{y}<br>total_ct_daily_log=%{marker.size}<br>total_ct=%{customdata[0]}<br>counts=%{customdata[1]}<extra></extra>",
         "legendgroup": "Contact,Travel",
         "marker": {
          "color": "#19d3f3",
          "size": [
           3.332204510175204,
           2.833213344056216,
           3.8501476017100584,
           1.6094379124341003,
           1.791759469228055,
           1.791759469228055,
           2.302585092994046,
           1.3862943611198906,
           2.5649493574615367,
           2.4849066497880004,
           2.4849066497880004,
           3.044522437723423,
           2.1972245773362196,
           1.791759469228055,
           1.9459101490553132,
           1.3862943611198906,
           2.0794415416798357,
           2.1972245773362196,
           0.6931471805599453,
           2.5649493574615367,
           2.4849066497880004,
           4.04305126783455,
           0.6931471805599453,
           0.6931471805599453,
           1.9459101490553132,
           2.0794415416798357,
           1.0986122886681098,
           0,
           0,
           0,
           0,
           1.6094379124341003,
           0,
           1.0986122886681098,
           0.6931471805599453,
           0,
           0.6931471805599453,
           1.3862943611198906,
           2.4849066497880004,
           1.9459101490553132,
           0.6931471805599453,
           2.4849066497880004,
           2.3978952727983707,
           2.1972245773362196,
           2.302585092994046,
           0.6931471805599453,
           2.302585092994046,
           0.6931471805599453,
           1.0986122886681098,
           1.791759469228055,
           1.0986122886681098,
           1.6094379124341003,
           1.3862943611198906,
           0.6931471805599453,
           1.3862943611198906,
           1.791759469228055,
           2.4849066497880004,
           3.332204510175204,
           1.0986122886681098,
           2.6390573296152584,
           0.6931471805599453,
           2.1972245773362196,
           1.791759469228055,
           2.9444389791664403,
           1.3862943611198906
          ],
          "sizemode": "area",
          "sizeref": 0.014687326827130077,
          "symbol": "circle"
         },
         "mode": "markers",
         "name": "Contact,Travel",
         "showlegend": true,
         "type": "scatter",
         "x": [
          "2020-03-27",
          "2020-03-30",
          "2020-04-03",
          "2020-03-27",
          "2020-03-11",
          "2020-03-15",
          "2020-03-25",
          "2020-03-20",
          "2020-03-31",
          "2020-04-07",
          "2020-04-09",
          "2020-03-31",
          "2020-03-27",
          "2020-03-28",
          "2020-03-16",
          "2020-03-26",
          "2020-03-24",
          "2020-03-14",
          "2020-03-19",
          "2020-03-28",
          "2020-03-28",
          "2020-03-31",
          "2020-03-19",
          "2020-03-09",
          "2020-04-05",
          "2020-03-31",
          "2020-03-10",
          "2020-03-12",
          "2020-03-18",
          "2020-03-09",
          "2020-03-04",
          "2020-03-17",
          "2020-03-13",
          "2020-03-10",
          "2020-03-17",
          "2020-03-17",
          "2020-03-09",
          "2020-03-17",
          "2020-03-20",
          "2020-04-08",
          "2020-03-31",
          "2020-04-06",
          "2020-04-06",
          "2020-04-08",
          "2020-04-10",
          "2020-03-21",
          "2020-04-11",
          "2020-04-13",
          "2020-04-13",
          "2020-03-27",
          "2020-03-27",
          "2020-03-27",
          "2020-03-21",
          "2020-03-21",
          "2020-03-22",
          "2020-03-22",
          "2020-03-23",
          "2020-03-23",
          "2020-03-23",
          "2020-03-24",
          "2020-03-25",
          "2020-03-25",
          "2020-03-25",
          "2020-03-26",
          "2020-03-26"
         ],
         "xaxis": "x",
         "y": [
          "Maharashtra",
          "Tamil Nadu",
          "Madhya Pradesh",
          "West Bengal",
          "Maharashtra",
          "Maharashtra",
          "Karnataka",
          "Madhya Pradesh",
          "Karnataka",
          "Karnataka",
          "Kerala",
          "Andhra Pradesh",
          "Tamil Nadu",
          "Andhra Pradesh",
          "Maharashtra",
          "Karnataka",
          "Karnataka",
          "Maharashtra",
          "Rajasthan",
          "Jammu and Kashmir",
          "Karnataka",
          "Tamil Nadu",
          "Uttarakhand",
          "Maharashtra",
          "Karnataka",
          "Uttar Pradesh",
          "Maharashtra",
          "Karnataka",
          "Tamil Nadu",
          "Karnataka",
          "Rajasthan",
          "Ladakh",
          "Delhi",
          "Karnataka",
          "Uttar Pradesh",
          "Telangana",
          "Uttar Pradesh",
          "Karnataka",
          "Kerala",
          "Punjab",
          "Chandigarh",
          "Karnataka",
          "Punjab",
          "Kerala",
          "Karnataka",
          "Haryana",
          "Kerala",
          "Assam",
          "Kerala",
          "Jammu and Kashmir",
          "Gujarat",
          "Andaman and Nicobar Islands",
          "Uttar Pradesh",
          "West Bengal",
          "Gujarat",
          "Karnataka",
          "Gujarat",
          "Kerala",
          "Tamil Nadu",
          "Kerala",
          "Andhra Pradesh",
          "Kerala",
          "Rajasthan",
          "Kerala",
          "Uttar Pradesh"
         ],
         "yaxis": "y"
        },
        {
         "customdata": [
          [
           969,
           7
          ],
          [
           258,
           1
          ],
          [
           473,
           1
          ],
          [
           1204,
           1
          ]
         ],
         "hovertemplate": "keys=Contact,Investigation in Progress,Travel<br>dateannounced=%{x}<br>detectedstate=%{y}<br>total_ct_daily_log=%{marker.size}<br>total_ct=%{customdata[0]}<br>counts=%{customdata[1]}<extra></extra>",
         "legendgroup": "Contact,Investigation in Progress,Travel",
         "marker": {
          "color": "#FF6692",
          "size": [
           3.828641396489095,
           2.6390573296152584,
           3.044522437723423,
           2.0794415416798357
          ],
          "sizemode": "area",
          "sizeref": 0.014687326827130077,
          "symbol": "circle"
         },
         "mode": "markers",
         "name": "Contact,Investigation in Progress,Travel",
         "showlegend": true,
         "type": "scatter",
         "x": [
          "2020-04-03",
          "2020-04-02",
          "2020-03-31",
          "2020-03-25"
         ],
         "xaxis": "x",
         "y": [
          "Rajasthan",
          "Karnataka",
          "Andhra Pradesh",
          "Tamil Nadu"
         ],
         "yaxis": "y"
        },
        {
         "customdata": [
          [
           969,
           5
          ],
          [
           592,
           2
          ],
          [
           969,
           2
          ],
          [
           1510,
           1
          ],
          [
           657,
           1
          ]
         ],
         "hovertemplate": "keys=Contact,Govt Staff<br>dateannounced=%{x}<br>detectedstate=%{y}<br>total_ct_daily_log=%{marker.size}<br>total_ct=%{customdata[0]}<br>counts=%{customdata[1]}<extra></extra>",
         "legendgroup": "Contact,Govt Staff",
         "marker": {
          "color": "#B6E880",
          "size": [
           1.9459101490553132,
           1.3862943611198906,
           1.791759469228055,
           1.3862943611198906,
           2.5649493574615367
          ],
          "sizemode": "area",
          "sizeref": 0.014687326827130077,
          "symbol": "circle"
         },
         "mode": "markers",
         "name": "Contact,Govt Staff",
         "showlegend": true,
         "type": "scatter",
         "x": [
          "2020-03-21",
          "2020-03-26",
          "2020-03-25",
          "2020-03-26",
          "2020-04-01"
         ],
         "xaxis": "x",
         "y": [
          "Rajasthan",
          "Telangana",
          "Rajasthan",
          "Delhi",
          "Uttar Pradesh"
         ],
         "yaxis": "y"
        },
        {
         "customdata": [
          [
           969,
           5
          ],
          [
           258,
           1
          ],
          [
           17,
           1
          ],
          [
           657,
           1
          ],
          [
           1510,
           1
          ],
          [
           386,
           1
          ],
          [
           198,
           1
          ],
          [
           969,
           1
          ],
          [
           198,
           1
          ],
          [
           614,
           1
          ],
          [
           969,
           1
          ],
          [
           1510,
           1
          ]
         ],
         "hovertemplate": "keys=Govt Staff<br>dateannounced=%{x}<br>detectedstate=%{y}<br>total_ct_daily_log=%{marker.size}<br>total_ct=%{customdata[0]}<br>counts=%{customdata[1]}<extra></extra>",
         "legendgroup": "Govt Staff",
         "marker": {
          "color": "#FF97FF",
          "size": [
           2.0794415416798357,
           1.3862943611198906,
           1.6094379124341003,
           0.6931471805599453,
           0,
           2.6390573296152584,
           0,
           1.791759469228055,
           0,
           2.302585092994046,
           1.6094379124341003,
           3.4657359027997265
          ],
          "sizemode": "area",
          "sizeref": 0.014687326827130077,
          "symbol": "circle"
         },
         "mode": "markers",
         "name": "Govt Staff",
         "showlegend": true,
         "type": "scatter",
         "x": [
          "2020-03-20",
          "2020-03-17",
          "2020-03-17",
          "2020-03-18",
          "2020-03-22",
          "2020-03-24",
          "2020-03-25",
          "2020-03-25",
          "2020-03-26",
          "2020-03-28",
          "2020-03-29",
          "2020-04-01"
         ],
         "xaxis": "x",
         "y": [
          "Rajasthan",
          "Karnataka",
          "Ladakh",
          "Uttar Pradesh",
          "Delhi",
          "Kerala",
          "Haryana",
          "Rajasthan",
          "Haryana",
          "Madhya Pradesh",
          "Rajasthan",
          "Delhi"
         ],
         "yaxis": "y"
        },
        {
         "customdata": [
          [
           614,
           5
          ],
          [
           657,
           1
          ],
          [
           592,
           1
          ],
          [
           184,
           1
          ],
          [
           386,
           1
          ]
         ],
         "hovertemplate": "keys=Contact,No Travel History,Travel<br>dateannounced=%{x}<br>detectedstate=%{y}<br>total_ct_daily_log=%{marker.size}<br>total_ct=%{customdata[0]}<br>counts=%{customdata[1]}<extra></extra>",
         "legendgroup": "Contact,No Travel History,Travel",
         "marker": {
          "color": "#FECB52",
          "size": [
           2.302585092994046,
           0,
           1.791759469228055,
           0.6931471805599453,
           2.9444389791664403
          ],
          "sizemode": "area",
          "sizeref": 0.014687326827130077,
          "symbol": "circle"
         },
         "mode": "markers",
         "name": "Contact,No Travel History,Travel",
         "showlegend": true,
         "type": "scatter",
         "x": [
          "2020-03-28",
          "2020-03-24",
          "2020-03-23",
          "2020-03-25",
          "2020-03-26"
         ],
         "xaxis": "x",
         "y": [
          "Madhya Pradesh",
          "Uttar Pradesh",
          "Telangana",
          "Punjab",
          "Kerala"
         ],
         "yaxis": "y"
        },
        {
         "customdata": [
          [
           60,
           5
          ]
         ],
         "hovertemplate": "keys=Investigation in Progress,Tenant<br>dateannounced=%{x}<br>detectedstate=%{y}<br>total_ct_daily_log=%{marker.size}<br>total_ct=%{customdata[0]}<br>counts=%{customdata[1]}<extra></extra>",
         "legendgroup": "Investigation in Progress,Tenant",
         "marker": {
          "color": "#636efa",
          "size": [
           2.70805020110221
          ],
          "sizemode": "area",
          "sizeref": 0.014687326827130077,
          "symbol": "circle"
         },
         "mode": "markers",
         "name": "Investigation in Progress,Tenant",
         "showlegend": true,
         "type": "scatter",
         "x": [
          "2020-04-03"
         ],
         "xaxis": "x",
         "y": [
          "Odisha"
         ],
         "yaxis": "y"
        },
        {
         "customdata": [
          [
           1510,
           4
          ],
          [
           184,
           2
          ],
          [
           66,
           1
          ],
          [
           617,
           1
          ],
          [
           190,
           1
          ],
          [
           657,
           1
          ],
          [
           1204,
           1
          ],
          [
           190,
           1
          ],
          [
           1204,
           1
          ],
          [
           1204,
           1
          ],
          [
           258,
           1
          ],
          [
           66,
           1
          ],
          [
           1204,
           1
          ],
          [
           617,
           1
          ],
          [
           1510,
           1
          ]
         ],
         "hovertemplate": "keys=No Travel History,Travel<br>dateannounced=%{x}<br>detectedstate=%{y}<br>total_ct_daily_log=%{marker.size}<br>total_ct=%{customdata[0]}<br>counts=%{customdata[1]}<extra></extra>",
         "legendgroup": "No Travel History,Travel",
         "marker": {
          "color": "#EF553B",
          "size": [
           1.6094379124341003,
           1.0986122886681098,
           0.6931471805599453,
           2.5649493574615367,
           2.70805020110221,
           3.1780538303479458,
           2.833213344056216,
           1.0986122886681098,
           1.3862943611198906,
           2.1972245773362196,
           2.1972245773362196,
           1.0986122886681098,
           1.791759469228055,
           1.9459101490553132,
           0
          ],
          "sizemode": "area",
          "sizeref": 0.014687326827130077,
          "symbol": "circle"
         },
         "mode": "markers",
         "name": "No Travel History,Travel",
         "showlegend": true,
         "type": "scatter",
         "x": [
          "2020-03-25",
          "2020-04-05",
          "2020-03-27",
          "2020-04-04",
          "2020-03-31",
          "2020-03-30",
          "2020-03-30",
          "2020-03-29",
          "2020-03-28",
          "2020-03-27",
          "2020-03-27",
          "2020-03-26",
          "2020-03-24",
          "2020-03-21",
          "2020-03-09"
         ],
         "xaxis": "x",
         "y": [
          "Delhi",
          "Punjab",
          "Bihar",
          "Gujarat",
          "West Bengal",
          "Uttar Pradesh",
          "Tamil Nadu",
          "West Bengal",
          "Tamil Nadu",
          "Tamil Nadu",
          "Karnataka",
          "Bihar",
          "Tamil Nadu",
          "Gujarat",
          "Delhi"
         ],
         "yaxis": "y"
        },
        {
         "customdata": [
          [
           969,
           4
          ],
          [
           11,
           4
          ],
          [
           2455,
           3
          ],
          [
           2455,
           2
          ],
          [
           657,
           1
          ],
          [
           1510,
           1
          ],
          [
           11,
           1
          ],
          [
           969,
           1
          ],
          [
           617,
           1
          ],
          [
           184,
           1
          ],
          [
           617,
           1
          ],
          [
           969,
           1
          ],
          [
           1204,
           1
          ],
          [
           184,
           1
          ],
          [
           258,
           1
          ],
          [
           258,
           1
          ]
         ],
         "hovertemplate": "keys=Domestic Travel<br>dateannounced=%{x}<br>detectedstate=%{y}<br>total_ct_daily_log=%{marker.size}<br>total_ct=%{customdata[0]}<br>counts=%{customdata[1]}<extra></extra>",
         "legendgroup": "Domestic Travel",
         "marker": {
          "color": "#00cc96",
          "size": [
           4.0943445622221,
           1.6094379124341003,
           3.332204510175204,
           3.332204510175204,
           1.9459101490553132,
           1.6094379124341003,
           0,
           1.3862943611198906,
           2.0794415416798357,
           1.791759469228055,
           2.5649493574615367,
           3.295836866004329,
           3.912023005428146,
           2.995732273553991,
           2.772588722239781,
           2.833213344056216
          ],
          "sizemode": "area",
          "sizeref": 0.014687326827130077,
          "symbol": "circle"
         },
         "mode": "markers",
         "name": "Domestic Travel",
         "showlegend": true,
         "type": "scatter",
         "x": [
          "2020-04-05",
          "2020-03-27",
          "2020-03-28",
          "2020-03-27",
          "2020-03-04",
          "2020-03-25",
          "2020-03-26",
          "2020-03-28",
          "2020-03-29",
          "2020-04-03",
          "2020-04-04",
          "2020-04-04",
          "2020-04-06",
          "2020-04-07",
          "2020-04-09",
          "2020-04-12"
         ],
         "xaxis": "x",
         "y": [
          "Rajasthan",
          "Andaman and Nicobar Islands",
          "Maharashtra",
          "Maharashtra",
          "Uttar Pradesh",
          "Delhi",
          "Andaman and Nicobar Islands",
          "Rajasthan",
          "Gujarat",
          "Punjab",
          "Gujarat",
          "Rajasthan",
          "Tamil Nadu",
          "Punjab",
          "Karnataka",
          "Karnataka"
         ],
         "yaxis": "y"
        },
        {
         "customdata": [
          [
           258,
           3
          ]
         ],
         "hovertemplate": "keys=Investigation in Progress<br>dateannounced=%{x}<br>detectedstate=%{y}<br>total_ct_daily_log=%{marker.size}<br>total_ct=%{customdata[0]}<br>counts=%{customdata[1]}<extra></extra>",
         "legendgroup": "Investigation in Progress",
         "marker": {
          "color": "#ab63fa",
          "size": [
           2.772588722239781
          ],
          "sizemode": "area",
          "sizeref": 0.014687326827130077,
          "symbol": "circle"
         },
         "mode": "markers",
         "name": "Investigation in Progress",
         "showlegend": true,
         "type": "scatter",
         "x": [
          "2020-04-04"
         ],
         "xaxis": "x",
         "y": [
          "Karnataka"
         ],
         "yaxis": "y"
        },
        {
         "customdata": [
          [
           969,
           3
          ],
          [
           1510,
           1
          ],
          [
           1,
           1
          ],
          [
           190,
           1
          ],
          [
           35,
           1
          ],
          [
           592,
           1
          ],
          [
           2455,
           1
          ],
          [
           657,
           1
          ],
          [
           386,
           1
          ],
          [
           198,
           1
          ],
          [
           969,
           1
          ],
          [
           386,
           1
          ],
          [
           32,
           1
          ],
          [
           657,
           1
          ],
          [
           473,
           1
          ],
          [
           33,
           1
          ]
         ],
         "hovertemplate": "keys=Govt Staff,Travel<br>dateannounced=%{x}<br>detectedstate=%{y}<br>total_ct_daily_log=%{marker.size}<br>total_ct=%{customdata[0]}<br>counts=%{customdata[1]}<extra></extra>",
         "legendgroup": "Govt Staff,Travel",
         "marker": {
          "color": "#FFA15A",
          "size": [
           3.828641396489095,
           3.4657359027997265,
           0,
           1.0986122886681098,
           0,
           2.0794415416798357,
           1.0986122886681098,
           0.6931471805599453,
           0.6931471805599453,
           0.6931471805599453,
           2.0794415416798357,
           2.70805020110221,
           0,
           1.3862943611198906,
           0.6931471805599453,
           0.6931471805599453
          ],
          "sizemode": "area",
          "sizeref": 0.014687326827130077,
          "symbol": "circle"
         },
         "mode": "markers",
         "name": "Govt Staff,Travel",
         "showlegend": true,
         "type": "scatter",
         "x": [
          "2020-04-03",
          "2020-04-01",
          "2020-04-13",
          "2020-03-29",
          "2020-03-28",
          "2020-03-28",
          "2020-03-12",
          "2020-03-12",
          "2020-03-15",
          "2020-03-28",
          "2020-03-20",
          "2020-03-22",
          "2020-03-23",
          "2020-03-23",
          "2020-03-25",
          "2020-03-25"
         ],
         "xaxis": "x",
         "y": [
          "Rajasthan",
          "Delhi",
          "Meghalaya",
          "West Bengal",
          "Uttarakhand",
          "Telangana",
          "Maharashtra",
          "Uttar Pradesh",
          "Kerala",
          "Haryana",
          "Rajasthan",
          "Kerala",
          "Himachal Pradesh",
          "Uttar Pradesh",
          "Andhra Pradesh",
          "Chhattisgarh"
         ],
         "yaxis": "y"
        },
        {
         "customdata": [
          [
           1204,
           2
          ],
          [
           1204,
           1
          ],
          [
           190,
           1
          ]
         ],
         "hovertemplate": "keys=No Travel History<br>dateannounced=%{x}<br>detectedstate=%{y}<br>total_ct_daily_log=%{marker.size}<br>total_ct=%{customdata[0]}<br>counts=%{customdata[1]}<extra></extra>",
         "legendgroup": "No Travel History",
         "marker": {
          "color": "#19d3f3",
          "size": [
           2.1972245773362196,
           4.624972813284271,
           0
          ],
          "sizemode": "area",
          "sizeref": 0.014687326827130077,
          "symbol": "circle"
         },
         "mode": "markers",
         "name": "No Travel History",
         "showlegend": true,
         "type": "scatter",
         "x": [
          "2020-03-27",
          "2020-04-03",
          "2020-03-26"
         ],
         "xaxis": "x",
         "y": [
          "Tamil Nadu",
          "Tamil Nadu",
          "West Bengal"
         ],
         "yaxis": "y"
        },
        {
         "customdata": [
          [
           258,
           1
          ],
          [
           657,
           1
          ]
         ],
         "hovertemplate": "keys=Contact,Family<br>dateannounced=%{x}<br>detectedstate=%{y}<br>total_ct_daily_log=%{marker.size}<br>total_ct=%{customdata[0]}<br>counts=%{customdata[1]}<extra></extra>",
         "legendgroup": "Contact,Family",
         "marker": {
          "color": "#FF6692",
          "size": [
           2.772588722239781,
           1.3862943611198906
          ],
          "sizemode": "area",
          "sizeref": 0.014687326827130077,
          "symbol": "circle"
         },
         "mode": "markers",
         "name": "Contact,Family",
         "showlegend": true,
         "type": "scatter",
         "x": [
          "2020-04-09",
          "2020-03-26"
         ],
         "xaxis": "x",
         "y": [
          "Karnataka",
          "Uttar Pradesh"
         ],
         "yaxis": "y"
        },
        {
         "customdata": [
          [
           184,
           1
          ]
         ],
         "hovertemplate": "keys=Contact,Family,Travel<br>dateannounced=%{x}<br>detectedstate=%{y}<br>total_ct_daily_log=%{marker.size}<br>total_ct=%{customdata[0]}<br>counts=%{customdata[1]}<extra></extra>",
         "legendgroup": "Contact,Family,Travel",
         "marker": {
          "color": "#B6E880",
          "size": [
           0
          ],
          "sizemode": "area",
          "sizeref": 0.014687326827130077,
          "symbol": "circle"
         },
         "mode": "markers",
         "name": "Contact,Family,Travel",
         "showlegend": true,
         "type": "scatter",
         "x": [
          "2020-04-02"
         ],
         "xaxis": "x",
         "y": [
          "Punjab"
         ],
         "yaxis": "y"
        },
        {
         "customdata": [
          [
           184,
           1
          ],
          [
           386,
           1
          ],
          [
           657,
           1
          ],
          [
           258,
           1
          ]
         ],
         "hovertemplate": "keys=Family<br>dateannounced=%{x}<br>detectedstate=%{y}<br>total_ct_daily_log=%{marker.size}<br>total_ct=%{customdata[0]}<br>counts=%{customdata[1]}<extra></extra>",
         "legendgroup": "Family",
         "marker": {
          "color": "#FF97FF",
          "size": [
           2.302585092994046,
           1.9459101490553132,
           2.0794415416798357,
           2.0794415416798357
          ],
          "sizemode": "area",
          "sizeref": 0.014687326827130077,
          "symbol": "circle"
         },
         "mode": "markers",
         "name": "Family",
         "showlegend": true,
         "type": "scatter",
         "x": [
          "2020-03-21",
          "2020-03-31",
          "2020-03-31",
          "2020-04-11"
         ],
         "xaxis": "x",
         "y": [
          "Punjab",
          "Kerala",
          "Uttar Pradesh",
          "Karnataka"
         ],
         "yaxis": "y"
        },
        {
         "customdata": [
          [
           1510,
           1
          ]
         ],
         "hovertemplate": "keys=Family,Govt Staff,Investigation in Progress,Travel<br>dateannounced=%{x}<br>detectedstate=%{y}<br>total_ct_daily_log=%{marker.size}<br>total_ct=%{customdata[0]}<br>counts=%{customdata[1]}<extra></extra>",
         "legendgroup": "Family,Govt Staff,Investigation in Progress,Travel",
         "marker": {
          "color": "#FECB52",
          "size": [
           3.4657359027997265
          ],
          "sizemode": "area",
          "sizeref": 0.014687326827130077,
          "symbol": "circle"
         },
         "mode": "markers",
         "name": "Family,Govt Staff,Investigation in Progress,Travel",
         "showlegend": true,
         "type": "scatter",
         "x": [
          "2020-04-01"
         ],
         "xaxis": "x",
         "y": [
          "Delhi"
         ],
         "yaxis": "y"
        },
        {
         "customdata": [
          [
           386,
           1
          ],
          [
           592,
           1
          ],
          [
           386,
           1
          ]
         ],
         "hovertemplate": "keys=Family,Travel<br>dateannounced=%{x}<br>detectedstate=%{y}<br>total_ct_daily_log=%{marker.size}<br>total_ct=%{customdata[0]}<br>counts=%{customdata[1]}<extra></extra>",
         "legendgroup": "Family,Travel",
         "marker": {
          "color": "#636efa",
          "size": [
           0,
           0.6931471805599453,
           2.0794415416798357
          ],
          "sizemode": "area",
          "sizeref": 0.014687326827130077,
          "symbol": "circle"
         },
         "mode": "markers",
         "name": "Family,Travel",
         "showlegend": true,
         "type": "scatter",
         "x": [
          "2020-03-09",
          "2020-03-25",
          "2020-04-05"
         ],
         "xaxis": "x",
         "y": [
          "Kerala",
          "Telangana",
          "Kerala"
         ],
         "yaxis": "y"
        }
       ],
       "layout": {
        "autosize": false,
        "height": 1250,
        "legend": {
         "itemsizing": "constant",
         "title": {
          "text": "keys"
         },
         "tracegroupgap": 0
        },
        "margin": {
         "t": 60
        },
        "template": {
         "data": {
          "bar": [
           {
            "error_x": {
             "color": "#f2f5fa"
            },
            "error_y": {
             "color": "#f2f5fa"
            },
            "marker": {
             "line": {
              "color": "rgb(17,17,17)",
              "width": 0.5
             }
            },
            "type": "bar"
           }
          ],
          "barpolar": [
           {
            "marker": {
             "line": {
              "color": "rgb(17,17,17)",
              "width": 0.5
             }
            },
            "type": "barpolar"
           }
          ],
          "carpet": [
           {
            "aaxis": {
             "endlinecolor": "#A2B1C6",
             "gridcolor": "#506784",
             "linecolor": "#506784",
             "minorgridcolor": "#506784",
             "startlinecolor": "#A2B1C6"
            },
            "baxis": {
             "endlinecolor": "#A2B1C6",
             "gridcolor": "#506784",
             "linecolor": "#506784",
             "minorgridcolor": "#506784",
             "startlinecolor": "#A2B1C6"
            },
            "type": "carpet"
           }
          ],
          "choropleth": [
           {
            "colorbar": {
             "outlinewidth": 0,
             "ticks": ""
            },
            "type": "choropleth"
           }
          ],
          "contour": [
           {
            "colorbar": {
             "outlinewidth": 0,
             "ticks": ""
            },
            "colorscale": [
             [
              0,
              "#0d0887"
             ],
             [
              0.1111111111111111,
              "#46039f"
             ],
             [
              0.2222222222222222,
              "#7201a8"
             ],
             [
              0.3333333333333333,
              "#9c179e"
             ],
             [
              0.4444444444444444,
              "#bd3786"
             ],
             [
              0.5555555555555556,
              "#d8576b"
             ],
             [
              0.6666666666666666,
              "#ed7953"
             ],
             [
              0.7777777777777778,
              "#fb9f3a"
             ],
             [
              0.8888888888888888,
              "#fdca26"
             ],
             [
              1,
              "#f0f921"
             ]
            ],
            "type": "contour"
           }
          ],
          "contourcarpet": [
           {
            "colorbar": {
             "outlinewidth": 0,
             "ticks": ""
            },
            "type": "contourcarpet"
           }
          ],
          "heatmap": [
           {
            "colorbar": {
             "outlinewidth": 0,
             "ticks": ""
            },
            "colorscale": [
             [
              0,
              "#0d0887"
             ],
             [
              0.1111111111111111,
              "#46039f"
             ],
             [
              0.2222222222222222,
              "#7201a8"
             ],
             [
              0.3333333333333333,
              "#9c179e"
             ],
             [
              0.4444444444444444,
              "#bd3786"
             ],
             [
              0.5555555555555556,
              "#d8576b"
             ],
             [
              0.6666666666666666,
              "#ed7953"
             ],
             [
              0.7777777777777778,
              "#fb9f3a"
             ],
             [
              0.8888888888888888,
              "#fdca26"
             ],
             [
              1,
              "#f0f921"
             ]
            ],
            "type": "heatmap"
           }
          ],
          "heatmapgl": [
           {
            "colorbar": {
             "outlinewidth": 0,
             "ticks": ""
            },
            "colorscale": [
             [
              0,
              "#0d0887"
             ],
             [
              0.1111111111111111,
              "#46039f"
             ],
             [
              0.2222222222222222,
              "#7201a8"
             ],
             [
              0.3333333333333333,
              "#9c179e"
             ],
             [
              0.4444444444444444,
              "#bd3786"
             ],
             [
              0.5555555555555556,
              "#d8576b"
             ],
             [
              0.6666666666666666,
              "#ed7953"
             ],
             [
              0.7777777777777778,
              "#fb9f3a"
             ],
             [
              0.8888888888888888,
              "#fdca26"
             ],
             [
              1,
              "#f0f921"
             ]
            ],
            "type": "heatmapgl"
           }
          ],
          "histogram": [
           {
            "marker": {
             "colorbar": {
              "outlinewidth": 0,
              "ticks": ""
             }
            },
            "type": "histogram"
           }
          ],
          "histogram2d": [
           {
            "colorbar": {
             "outlinewidth": 0,
             "ticks": ""
            },
            "colorscale": [
             [
              0,
              "#0d0887"
             ],
             [
              0.1111111111111111,
              "#46039f"
             ],
             [
              0.2222222222222222,
              "#7201a8"
             ],
             [
              0.3333333333333333,
              "#9c179e"
             ],
             [
              0.4444444444444444,
              "#bd3786"
             ],
             [
              0.5555555555555556,
              "#d8576b"
             ],
             [
              0.6666666666666666,
              "#ed7953"
             ],
             [
              0.7777777777777778,
              "#fb9f3a"
             ],
             [
              0.8888888888888888,
              "#fdca26"
             ],
             [
              1,
              "#f0f921"
             ]
            ],
            "type": "histogram2d"
           }
          ],
          "histogram2dcontour": [
           {
            "colorbar": {
             "outlinewidth": 0,
             "ticks": ""
            },
            "colorscale": [
             [
              0,
              "#0d0887"
             ],
             [
              0.1111111111111111,
              "#46039f"
             ],
             [
              0.2222222222222222,
              "#7201a8"
             ],
             [
              0.3333333333333333,
              "#9c179e"
             ],
             [
              0.4444444444444444,
              "#bd3786"
             ],
             [
              0.5555555555555556,
              "#d8576b"
             ],
             [
              0.6666666666666666,
              "#ed7953"
             ],
             [
              0.7777777777777778,
              "#fb9f3a"
             ],
             [
              0.8888888888888888,
              "#fdca26"
             ],
             [
              1,
              "#f0f921"
             ]
            ],
            "type": "histogram2dcontour"
           }
          ],
          "mesh3d": [
           {
            "colorbar": {
             "outlinewidth": 0,
             "ticks": ""
            },
            "type": "mesh3d"
           }
          ],
          "parcoords": [
           {
            "line": {
             "colorbar": {
              "outlinewidth": 0,
              "ticks": ""
             }
            },
            "type": "parcoords"
           }
          ],
          "pie": [
           {
            "automargin": true,
            "type": "pie"
           }
          ],
          "scatter": [
           {
            "marker": {
             "line": {
              "color": "#283442"
             }
            },
            "type": "scatter"
           }
          ],
          "scatter3d": [
           {
            "line": {
             "colorbar": {
              "outlinewidth": 0,
              "ticks": ""
             }
            },
            "marker": {
             "colorbar": {
              "outlinewidth": 0,
              "ticks": ""
             }
            },
            "type": "scatter3d"
           }
          ],
          "scattercarpet": [
           {
            "marker": {
             "colorbar": {
              "outlinewidth": 0,
              "ticks": ""
             }
            },
            "type": "scattercarpet"
           }
          ],
          "scattergeo": [
           {
            "marker": {
             "colorbar": {
              "outlinewidth": 0,
              "ticks": ""
             }
            },
            "type": "scattergeo"
           }
          ],
          "scattergl": [
           {
            "marker": {
             "line": {
              "color": "#283442"
             }
            },
            "type": "scattergl"
           }
          ],
          "scattermapbox": [
           {
            "marker": {
             "colorbar": {
              "outlinewidth": 0,
              "ticks": ""
             }
            },
            "type": "scattermapbox"
           }
          ],
          "scatterpolar": [
           {
            "marker": {
             "colorbar": {
              "outlinewidth": 0,
              "ticks": ""
             }
            },
            "type": "scatterpolar"
           }
          ],
          "scatterpolargl": [
           {
            "marker": {
             "colorbar": {
              "outlinewidth": 0,
              "ticks": ""
             }
            },
            "type": "scatterpolargl"
           }
          ],
          "scatterternary": [
           {
            "marker": {
             "colorbar": {
              "outlinewidth": 0,
              "ticks": ""
             }
            },
            "type": "scatterternary"
           }
          ],
          "surface": [
           {
            "colorbar": {
             "outlinewidth": 0,
             "ticks": ""
            },
            "colorscale": [
             [
              0,
              "#0d0887"
             ],
             [
              0.1111111111111111,
              "#46039f"
             ],
             [
              0.2222222222222222,
              "#7201a8"
             ],
             [
              0.3333333333333333,
              "#9c179e"
             ],
             [
              0.4444444444444444,
              "#bd3786"
             ],
             [
              0.5555555555555556,
              "#d8576b"
             ],
             [
              0.6666666666666666,
              "#ed7953"
             ],
             [
              0.7777777777777778,
              "#fb9f3a"
             ],
             [
              0.8888888888888888,
              "#fdca26"
             ],
             [
              1,
              "#f0f921"
             ]
            ],
            "type": "surface"
           }
          ],
          "table": [
           {
            "cells": {
             "fill": {
              "color": "#506784"
             },
             "line": {
              "color": "rgb(17,17,17)"
             }
            },
            "header": {
             "fill": {
              "color": "#2a3f5f"
             },
             "line": {
              "color": "rgb(17,17,17)"
             }
            },
            "type": "table"
           }
          ]
         },
         "layout": {
          "annotationdefaults": {
           "arrowcolor": "#f2f5fa",
           "arrowhead": 0,
           "arrowwidth": 1
          },
          "coloraxis": {
           "colorbar": {
            "outlinewidth": 0,
            "ticks": ""
           }
          },
          "colorscale": {
           "diverging": [
            [
             0,
             "#8e0152"
            ],
            [
             0.1,
             "#c51b7d"
            ],
            [
             0.2,
             "#de77ae"
            ],
            [
             0.3,
             "#f1b6da"
            ],
            [
             0.4,
             "#fde0ef"
            ],
            [
             0.5,
             "#f7f7f7"
            ],
            [
             0.6,
             "#e6f5d0"
            ],
            [
             0.7,
             "#b8e186"
            ],
            [
             0.8,
             "#7fbc41"
            ],
            [
             0.9,
             "#4d9221"
            ],
            [
             1,
             "#276419"
            ]
           ],
           "sequential": [
            [
             0,
             "#0d0887"
            ],
            [
             0.1111111111111111,
             "#46039f"
            ],
            [
             0.2222222222222222,
             "#7201a8"
            ],
            [
             0.3333333333333333,
             "#9c179e"
            ],
            [
             0.4444444444444444,
             "#bd3786"
            ],
            [
             0.5555555555555556,
             "#d8576b"
            ],
            [
             0.6666666666666666,
             "#ed7953"
            ],
            [
             0.7777777777777778,
             "#fb9f3a"
            ],
            [
             0.8888888888888888,
             "#fdca26"
            ],
            [
             1,
             "#f0f921"
            ]
           ],
           "sequentialminus": [
            [
             0,
             "#0d0887"
            ],
            [
             0.1111111111111111,
             "#46039f"
            ],
            [
             0.2222222222222222,
             "#7201a8"
            ],
            [
             0.3333333333333333,
             "#9c179e"
            ],
            [
             0.4444444444444444,
             "#bd3786"
            ],
            [
             0.5555555555555556,
             "#d8576b"
            ],
            [
             0.6666666666666666,
             "#ed7953"
            ],
            [
             0.7777777777777778,
             "#fb9f3a"
            ],
            [
             0.8888888888888888,
             "#fdca26"
            ],
            [
             1,
             "#f0f921"
            ]
           ]
          },
          "colorway": [
           "#636efa",
           "#EF553B",
           "#00cc96",
           "#ab63fa",
           "#FFA15A",
           "#19d3f3",
           "#FF6692",
           "#B6E880",
           "#FF97FF",
           "#FECB52"
          ],
          "font": {
           "color": "#f2f5fa"
          },
          "geo": {
           "bgcolor": "rgb(17,17,17)",
           "lakecolor": "rgb(17,17,17)",
           "landcolor": "rgb(17,17,17)",
           "showlakes": true,
           "showland": true,
           "subunitcolor": "#506784"
          },
          "hoverlabel": {
           "align": "left"
          },
          "hovermode": "closest",
          "mapbox": {
           "style": "dark"
          },
          "paper_bgcolor": "rgb(17,17,17)",
          "plot_bgcolor": "rgb(17,17,17)",
          "polar": {
           "angularaxis": {
            "gridcolor": "#506784",
            "linecolor": "#506784",
            "ticks": ""
           },
           "bgcolor": "rgb(17,17,17)",
           "radialaxis": {
            "gridcolor": "#506784",
            "linecolor": "#506784",
            "ticks": ""
           }
          },
          "scene": {
           "xaxis": {
            "backgroundcolor": "rgb(17,17,17)",
            "gridcolor": "#506784",
            "gridwidth": 2,
            "linecolor": "#506784",
            "showbackground": true,
            "ticks": "",
            "zerolinecolor": "#C8D4E3"
           },
           "yaxis": {
            "backgroundcolor": "rgb(17,17,17)",
            "gridcolor": "#506784",
            "gridwidth": 2,
            "linecolor": "#506784",
            "showbackground": true,
            "ticks": "",
            "zerolinecolor": "#C8D4E3"
           },
           "zaxis": {
            "backgroundcolor": "rgb(17,17,17)",
            "gridcolor": "#506784",
            "gridwidth": 2,
            "linecolor": "#506784",
            "showbackground": true,
            "ticks": "",
            "zerolinecolor": "#C8D4E3"
           }
          },
          "shapedefaults": {
           "line": {
            "color": "#f2f5fa"
           }
          },
          "sliderdefaults": {
           "bgcolor": "#C8D4E3",
           "bordercolor": "rgb(17,17,17)",
           "borderwidth": 1,
           "tickwidth": 0
          },
          "ternary": {
           "aaxis": {
            "gridcolor": "#506784",
            "linecolor": "#506784",
            "ticks": ""
           },
           "baxis": {
            "gridcolor": "#506784",
            "linecolor": "#506784",
            "ticks": ""
           },
           "bgcolor": "rgb(17,17,17)",
           "caxis": {
            "gridcolor": "#506784",
            "linecolor": "#506784",
            "ticks": ""
           }
          },
          "title": {
           "x": 0.05
          },
          "updatemenudefaults": {
           "bgcolor": "#506784",
           "borderwidth": 0
          },
          "xaxis": {
           "automargin": true,
           "gridcolor": "#283442",
           "linecolor": "#506784",
           "ticks": "",
           "title": {
            "standoff": 15
           },
           "zerolinecolor": "#283442",
           "zerolinewidth": 2
          },
          "yaxis": {
           "automargin": true,
           "gridcolor": "#283442",
           "linecolor": "#506784",
           "ticks": "",
           "title": {
            "standoff": 15
           },
           "zerolinecolor": "#283442",
           "zerolinewidth": 2
          }
         }
        },
        "title": {
         "text": "Total Cases:11040"
        },
        "width": 2500,
        "xaxis": {
         "anchor": "y",
         "domain": [
          0,
          1
         ],
         "tickmode": "linear",
         "title": {
          "text": "dateannounced"
         }
        },
        "yaxis": {
         "anchor": "x",
         "domain": [
          0,
          1
         ],
         "title": {
          "text": "detectedstate"
         }
        }
       }
      },
      "text/html": [
       "<div>\n",
       "        \n",
       "        \n",
       "            <div id=\"0fc4ccd3-a696-4e47-87b5-3c87d589db9b\" class=\"plotly-graph-div\" style=\"height:1250px; width:2500px;\"></div>\n",
       "            <script type=\"text/javascript\">\n",
       "                require([\"plotly\"], function(Plotly) {\n",
       "                    window.PLOTLYENV=window.PLOTLYENV || {};\n",
       "                    \n",
       "                if (document.getElementById(\"0fc4ccd3-a696-4e47-87b5-3c87d589db9b\")) {\n",
       "                    Plotly.newPlot(\n",
       "                        '0fc4ccd3-a696-4e47-87b5-3c87d589db9b',\n",
       "                        [{\"customdata\": [[1510, 356], [2455, 352], [2455, 229], [2455, 221], [2455, 210], [2455, 187], [1510, 183], [1510, 166], [2455, 150], [2455, 148], [1510, 141], [969, 139], [2455, 121], [2455, 121], [2455, 117], [617, 116], [2455, 112], [1204, 106], [969, 104], [657, 99], [1204, 98], [1204, 96], [1510, 93], [969, 93], [1510, 93], [617, 90], [1510, 85], [2455, 84], [969, 80], [614, 78], [1204, 77], [2455, 77], [617, 76], [657, 75], [592, 75], [969, 73], [969, 72], [614, 70], [1204, 69], [2455, 64], [473, 64], [614, 63], [592, 62], [592, 61], [1510, 59], [1204, 58], [1510, 58], [969, 56], [617, 56], [614, 52], [1510, 51], [614, 51], [1510, 51], [592, 49], [617, 48], [1204, 48], [657, 48], [473, 47], [617, 45], [592, 43], [969, 42], [657, 40], [969, 40], [614, 40], [592, 40], [190, 38], [473, 38], [614, 35], [473, 34], [473, 34], [614, 34], [278, 33], [614, 33], [2455, 33], [657, 32], [614, 32], [1204, 31], [657, 31], [592, 30], [592, 30], [1510, 29], [969, 29], [473, 28], [592, 28], [592, 27], [190, 27], [198, 26], [278, 26], [278, 25], [2455, 25], [614, 25], [473, 24], [386, 24], [184, 24], [473, 24], [198, 24], [1510, 23], [657, 23], [657, 23], [969, 23], [278, 23], [2455, 22], [969, 21], [278, 21], [184, 21], [198, 20], [657, 20], [657, 19], [657, 19], [614, 19], [473, 19], [473, 18], [592, 18], [190, 18], [278, 17], [60, 17], [198, 17], [1510, 17], [278, 17], [2455, 17], [278, 16], [198, 16], [190, 16], [592, 16], [592, 16], [473, 15], [2455, 15], [473, 15], [473, 15], [657, 14], [190, 14], [592, 14], [614, 14], [190, 13], [657, 12], [1510, 12], [657, 12], [473, 11], [2455, 11], [190, 11], [2455, 11], [190, 10], [2455, 10], [657, 9], [258, 9], [614, 9], [1510, 9], [278, 8], [386, 8], [614, 8], [190, 8], [33, 8], [190, 8], [278, 8], [33, 7], [184, 7], [592, 7], [278, 7], [386, 7], [1510, 7], [278, 7], [657, 7], [592, 7], [969, 7], [60, 7], [617, 7], [2455, 6], [657, 6], [198, 6], [278, 6], [184, 6], [33, 6], [198, 6], [198, 6], [35, 6], [35, 6], [617, 5], [614, 5], [969, 5], [614, 5], [24, 5], [617, 5], [617, 5], [198, 5], [60, 5], [278, 5], [386, 5], [386, 5], [278, 5], [386, 5], [1510, 5], [198, 5], [592, 5], [969, 5], [35, 4], [614, 4], [1204, 4], [35, 4], [32, 4], [657, 4], [1204, 4], [617, 4], [386, 4], [35, 4], [66, 4], [32, 4], [190, 4], [198, 3], [278, 3], [617, 3], [969, 3], [60, 3], [198, 3], [66, 3], [969, 3], [386, 3], [198, 3], [969, 3], [592, 3], [184, 3], [386, 3], [184, 3], [184, 3], [386, 3], [66, 3], [60, 3], [2455, 3], [31, 3], [32, 3], [614, 3], [33, 3], [1510, 3], [24, 3], [258, 2], [184, 2], [66, 2], [198, 2], [386, 2], [66, 2], [386, 2], [969, 2], [258, 2], [258, 2], [21, 2], [7, 2], [1204, 2], [184, 2], [258, 2], [66, 2], [60, 2], [386, 2], [17, 2], [386, 2], [278, 2], [617, 2], [184, 2], [386, 2], [198, 2], [1510, 2], [969, 2], [617, 2], [969, 2], [1510, 2], [17, 2], [33, 2], [24, 2], [184, 1], [66, 1], [184, 1], [258, 1], [1204, 1], [184, 1], [386, 1], [32, 1], [1204, 1], [1, 1], [2, 1], [184, 1], [258, 1], [31, 1], [17, 1], [386, 1], [258, 1], [198, 1], [66, 1], [31, 1], [32, 1], [21, 1], [32, 1], [1, 1], [386, 1], [17, 1], [969, 1], [278, 1], [66, 1], [657, 1], [17, 1], [386, 1], [258, 1], [21, 1], [657, 1], [969, 1], [184, 1], [24, 1], [60, 1], [184, 1], [17, 1], [258, 1], [617, 1], [66, 1], [31, 1], [190, 1], [198, 1], [198, 1], [1510, 1], [184, 1], [60, 1], [617, 1], [198, 1], [11, 1], [190, 1], [35, 1]], \"hovertemplate\": \"keys=NA<br>dateannounced=%{x}<br>detectedstate=%{y}<br>total_ct_daily_log=%{marker.size}<br>total_ct=%{customdata[0]}<br>counts=%{customdata[1]}<extra></extra>\", \"legendgroup\": \"NA\", \"marker\": {\"color\": \"#636efa\", \"size\": [5.87493073085203, 5.863631175598097, 5.43372200355424, 5.3981627015177525, 5.3471075307174685, 5.231108616854587, 5.209486152841421, 5.111987788356544, 5.0106352940962555, 4.997212273764115, 4.948759890378168, 4.9344739331306915, 4.795790545596741, 4.795790545596741, 4.762173934797756, 4.7535901911063645, 4.718498871295094, 4.663439094112067, 4.6443908991413725, 4.59511985013459, 4.584967478670572, 4.564348191467836, 4.532599493153256, 4.532599493153256, 4.532599493153256, 4.499809670330265, 4.442651256490317, 4.477336814478207, 4.382026634673881, 4.356708826689592, 4.343805421853684, 4.406719247264253, 4.330733340286331, 4.31748811353631, 4.31748811353631, 4.584967478670572, 4.276666119016055, 4.248495242049359, 4.23410650459726, 4.1588830833596715, 4.1588830833596715, 4.143134726391533, 4.127134385045092, 4.110873864173311, 4.07753744390572, 4.060443010546419, 4.060443010546419, 4.0943445622221, 4.02535169073515, 3.9512437185814275, 3.9318256327243257, 3.9318256327243257, 3.9318256327243257, 3.8918202981106265, 3.871201010907891, 3.871201010907891, 3.8918202981106265, 3.8501476017100584, 3.8066624897703196, 3.7612001156935624, 3.7376696182833684, 4.0943445622221, 3.6888794541139363, 3.6888794541139363, 3.6888794541139363, 3.6375861597263857, 3.6375861597263857, 3.8501476017100584, 3.5263605246161616, 3.5263605246161616, 3.5263605246161616, 3.4965075614664802, 3.4965075614664802, 3.4965075614664802, 3.784189633918261, 3.4657359027997265, 3.4339872044851463, 3.4339872044851463, 3.4011973816621555, 3.4011973816621555, 3.4657359027997265, 3.5553480614894135, 3.332204510175204, 3.332204510175204, 3.295836866004329, 3.295836866004329, 3.258096538021482, 3.258096538021482, 3.2188758248682006, 3.332204510175204, 3.2188758248682006, 3.1780538303479458, 3.4657359027997265, 3.1780538303479458, 4.204692619390966, 3.1780538303479458, 3.1354942159291497, 3.1354942159291497, 3.1780538303479458, 3.295836866004329, 3.1354942159291497, 3.091042453358316, 3.828641396489095, 3.044522437723423, 3.044522437723423, 2.995732273553991, 3.295836866004329, 3.828641396489095, 2.9444389791664403, 2.9444389791664403, 2.9444389791664403, 2.8903717578961645, 2.8903717578961645, 2.8903717578961645, 2.833213344056216, 2.8903717578961645, 3.4965075614664802, 3.1354942159291497, 2.833213344056216, 2.833213344056216, 2.772588722239781, 2.772588722239781, 2.772588722239781, 2.772588722239781, 2.772588722239781, 2.70805020110221, 2.70805020110221, 2.70805020110221, 2.70805020110221, 3.367295829986474, 2.70805020110221, 2.6390573296152584, 2.6390573296152584, 2.5649493574615367, 2.772588722239781, 3.091042453358316, 2.5649493574615367, 2.3978952727983707, 2.70805020110221, 2.3978952727983707, 2.8903717578961645, 2.302585092994046, 3.332204510175204, 2.3978952727983707, 2.833213344056216, 2.1972245773362196, 2.1972245773362196, 2.0794415416798357, 2.1972245773362196, 2.0794415416798357, 2.0794415416798357, 2.0794415416798357, 2.0794415416798357, 2.0794415416798357, 1.9459101490553132, 1.9459101490553132, 1.9459101490553132, 2.3978952727983707, 1.9459101490553132, 3.2188758248682006, 1.9459101490553132, 1.9459101490553132, 2.0794415416798357, 1.9459101490553132, 2.70805020110221, 2.0794415416798357, 2.4849066497880004, 1.9459101490553132, 1.791759469228055, 2.5649493574615367, 1.791759469228055, 1.791759469228055, 1.791759469228055, 1.791759469228055, 1.791759469228055, 1.791759469228055, 1.791759469228055, 1.6094379124341003, 1.6094379124341003, 2.1972245773362196, 1.6094379124341003, 2.5649493574615367, 2.0794415416798357, 1.9459101490553132, 1.791759469228055, 1.6094379124341003, 3.1780538303479458, 3.044522437723423, 1.6094379124341003, 2.3978952727983707, 1.9459101490553132, 1.9459101490553132, 2.995732273553991, 2.5649493574615367, 1.3862943611198906, 2.302585092994046, 4.04305126783455, 1.6094379124341003, 1.3862943611198906, 3.295836866004329, 3.912023005428146, 1.3862943611198906, 2.4849066497880004, 1.3862943611198906, 1.3862943611198906, 1.3862943611198906, 1.3862943611198906, 1.0986122886681098, 1.0986122886681098, 1.3862943611198906, 1.6094379124341003, 1.6094379124341003, 2.1972245773362196, 1.3862943611198906, 1.0986122886681098, 2.1972245773362196, 1.0986122886681098, 1.3862943611198906, 1.0986122886681098, 1.3862943611198906, 1.791759469228055, 2.4849066497880004, 1.0986122886681098, 1.9459101490553132, 1.0986122886681098, 1.3862943611198906, 1.0986122886681098, 2.70805020110221, 1.0986122886681098, 2.0794415416798357, 1.0986122886681098, 1.3862943611198906, 1.0986122886681098, 2.3978952727983707, 2.0794415416798357, 1.791759469228055, 0.6931471805599453, 2.302585092994046, 0.6931471805599453, 2.995732273553991, 2.995732273553991, 2.4849066497880004, 2.5649493574615367, 0.6931471805599453, 0.6931471805599453, 4.624972813284271, 2.4849066497880004, 2.772588722239781, 2.9444389791664403, 0.6931471805599453, 2.0794415416798357, 0.6931471805599453, 3.6635616461296463, 1.791759469228055, 0.6931471805599453, 1.791759469228055, 2.6390573296152584, 0.6931471805599453, 0.6931471805599453, 1.9459101490553132, 1.9459101490553132, 2.0794415416798357, 1.791759469228055, 1.6094379124341003, 0.6931471805599453, 0.6931471805599453, 2.995732273553991, 0.0, 1.9459101490553132, 1.791759469228055, 4.454347296253507, 1.0986122886681098, 2.0794415416798357, 0.0, 4.30406509320417, 0.0, 0.0, 2.3978952727983707, 2.4849066497880004, 0.0, 0.0, 1.0986122886681098, 2.70805020110221, 0.0, 0.6931471805599453, 0.6931471805599453, 1.9459101490553132, 0.0, 0.0, 0.0, 0.6931471805599453, 0.6931471805599453, 1.791759469228055, 1.6094379124341003, 0.0, 1.3862943611198906, 0.6931471805599453, 2.9444389791664403, 2.1972245773362196, 0.6931471805599453, 2.0794415416798357, 2.6390573296152584, 0.0, 0.0, 0.0, 1.791759469228055, 0.0, 1.3862943611198906, 0.0, 1.791759469228055, 0.0, 0.0, 0.6931471805599453, 0.0, 0.0, 0.6931471805599453, 0.0, 1.9459101490553132, 0.0, 0.0, 1.0986122886681098, 0.0], \"sizemode\": \"area\", \"sizeref\": 0.014687326827130077, \"symbol\": \"circle\"}, \"mode\": \"markers\", \"name\": \"NA\", \"showlegend\": true, \"type\": \"scatter\", \"x\": [\"2020-04-13\", \"2020-04-13\", \"2020-04-09\", \"2020-04-12\", \"2020-04-10\", \"2020-04-11\", \"2020-04-10\", \"2020-04-11\", \"2020-04-07\", \"2020-04-04\", \"2020-04-02\", \"2020-04-11\", \"2020-04-06\", \"2020-04-14\", \"2020-04-08\", \"2020-04-10\", \"2020-04-05\", \"2020-04-12\", \"2020-04-12\", \"2020-04-14\", \"2020-04-13\", \"2020-04-09\", \"2020-04-08\", \"2020-04-13\", \"2020-04-03\", \"2020-04-11\", \"2020-04-12\", \"2020-04-02\", \"2020-04-09\", \"2020-04-11\", \"2020-04-10\", \"2020-03-31\", \"2020-04-09\", \"2020-04-13\", \"2020-04-03\", \"2020-04-10\", \"2020-04-14\", \"2020-04-09\", \"2020-04-07\", \"2020-04-03\", \"2020-04-05\", \"2020-04-06\", \"2020-04-05\", \"2020-04-13\", \"2020-04-04\", \"2020-04-11\", \"2020-04-05\", \"2020-04-05\", \"2020-04-13\", \"2020-04-13\", \"2020-04-07\", \"2020-04-08\", \"2020-04-09\", \"2020-04-08\", \"2020-04-12\", \"2020-04-08\", \"2020-04-09\", \"2020-04-06\", \"2020-04-14\", \"2020-04-04\", \"2020-04-07\", \"2020-04-04\", \"2020-04-08\", \"2020-04-10\", \"2020-04-07\", \"2020-04-14\", \"2020-04-02\", \"2020-04-03\", \"2020-04-14\", \"2020-04-08\", \"2020-04-07\", \"2020-04-08\", \"2020-04-12\", \"2020-04-01\", \"2020-04-05\", \"2020-04-01\", \"2020-04-14\", \"2020-04-12\", \"2020-04-01\", \"2020-04-06\", \"2020-04-01\", \"2020-04-06\", \"2020-04-04\", \"2020-04-12\", \"2020-04-02\", \"2020-04-05\", \"2020-04-04\", \"2020-04-09\", \"2020-04-13\", \"2020-03-28\", \"2020-04-04\", \"2020-04-11\", \"2020-03-30\", \"2020-04-09\", \"2020-04-01\", \"2020-04-08\", \"2020-03-31\", \"2020-04-10\", \"2020-03-30\", \"2020-04-04\", \"2020-04-10\", \"2020-03-29\", \"2020-04-03\", \"2020-04-12\", \"2020-04-10\", \"2020-04-06\", \"2020-04-07\", \"2020-04-03\", \"2020-04-11\", \"2020-03-31\", \"2020-04-13\", \"2020-04-10\", \"2020-04-09\", \"2020-04-13\", \"2020-04-04\", \"2020-04-05\", \"2020-04-07\", \"2020-03-29\", \"2020-04-11\", \"2020-03-30\", \"2020-04-07\", \"2020-04-12\", \"2020-04-02\", \"2020-04-11\", \"2020-04-10\", \"2020-04-09\", \"2020-03-23\", \"2020-04-12\", \"2020-04-03\", \"2020-04-08\", \"2020-03-31\", \"2020-03-27\", \"2020-04-05\", \"2020-04-10\", \"2020-03-28\", \"2020-04-06\", \"2020-04-01\", \"2020-04-07\", \"2020-03-25\", \"2020-04-07\", \"2020-03-24\", \"2020-04-11\", \"2020-03-27\", \"2020-04-02\", \"2020-04-12\", \"2020-04-02\", \"2020-03-28\", \"2020-04-02\", \"2020-04-03\", \"2020-03-30\", \"2020-04-08\", \"2020-04-09\", \"2020-04-12\", \"2020-04-14\", \"2020-04-11\", \"2020-04-11\", \"2020-03-30\", \"2020-03-30\", \"2020-04-10\", \"2020-03-30\", \"2020-04-01\", \"2020-03-29\", \"2020-03-28\", \"2020-03-27\", \"2020-04-03\", \"2020-03-28\", \"2020-03-21\", \"2020-03-27\", \"2020-04-02\", \"2020-03-28\", \"2020-03-24\", \"2020-04-12\", \"2020-04-05\", \"2020-04-10\", \"2020-04-03\", \"2020-04-04\", \"2020-03-26\", \"2020-03-26\", \"2020-03-26\", \"2020-03-27\", \"2020-04-13\", \"2020-04-01\", \"2020-03-29\", \"2020-03-31\", \"2020-04-09\", \"2020-03-29\", \"2020-04-01\", \"2020-04-02\", \"2020-04-03\", \"2020-04-04\", \"2020-03-21\", \"2020-03-23\", \"2020-03-31\", \"2020-04-02\", \"2020-04-05\", \"2020-03-28\", \"2020-03-31\", \"2020-04-06\", \"2020-04-06\", \"2020-04-06\", \"2020-04-06\", \"2020-03-31\", \"2020-04-09\", \"2020-04-08\", \"2020-03-29\", \"2020-04-11\", \"2020-04-09\", \"2020-04-11\", \"2020-04-06\", \"2020-03-22\", \"2020-03-22\", \"2020-04-14\", \"2020-04-03\", \"2020-04-11\", \"2020-03-23\", \"2020-04-08\", \"2020-04-09\", \"2020-03-28\", \"2020-03-29\", \"2020-04-01\", \"2020-03-28\", \"2020-04-12\", \"2020-03-30\", \"2020-03-31\", \"2020-04-01\", \"2020-04-11\", \"2020-03-26\", \"2020-04-01\", \"2020-04-02\", \"2020-03-25\", \"2020-03-26\", \"2020-03-26\", \"2020-04-11\", \"2020-04-14\", \"2020-04-14\", \"2020-04-07\", \"2020-04-14\", \"2020-04-11\", \"2020-03-28\", \"2020-03-29\", \"2020-03-30\", \"2020-04-07\", \"2020-03-31\", \"2020-04-12\", \"2020-04-02\", \"2020-04-03\", \"2020-04-04\", \"2020-04-09\", \"2020-04-09\", \"2020-04-07\", \"2020-04-07\", \"2020-04-13\", \"2020-03-27\", \"2020-03-27\", \"2020-03-25\", \"2020-04-13\", \"2020-03-24\", \"2020-03-24\", \"2020-03-23\", \"2020-03-21\", \"2020-03-21\", \"2020-03-20\", \"2020-03-20\", \"2020-03-17\", \"2020-04-14\", \"2020-04-12\", \"2020-04-07\", \"2020-04-08\", \"2020-04-08\", \"2020-04-08\", \"2020-04-05\", \"2020-04-05\", \"2020-04-05\", \"2020-04-05\", \"2020-04-04\", \"2020-04-06\", \"2020-04-06\", \"2020-04-06\", \"2020-04-06\", \"2020-04-09\", \"2020-04-10\", \"2020-04-13\", \"2020-04-13\", \"2020-04-13\", \"2020-04-13\", \"2020-04-13\", \"2020-04-04\", \"2020-04-10\", \"2020-04-09\", \"2020-04-12\", \"2020-04-12\", \"2020-03-07\", \"2020-03-25\", \"2020-03-25\", \"2020-03-25\", \"2020-03-21\", \"2020-03-20\", \"2020-03-26\", \"2020-04-01\", \"2020-04-01\", \"2020-03-31\", \"2020-03-31\", \"2020-03-31\", \"2020-03-31\", \"2020-04-01\", \"2020-04-03\", \"2020-04-03\", \"2020-04-03\", \"2020-04-02\", \"2020-03-31\", \"2020-03-31\", \"2020-03-30\", \"2020-03-28\", \"2020-03-27\", \"2020-03-27\", \"2020-03-26\", \"2020-03-26\", \"2020-03-30\", \"2020-03-30\", \"2020-03-30\", \"2020-03-29\", \"2020-03-29\"], \"xaxis\": \"x\", \"y\": [\"Delhi\", \"Maharashtra\", \"Maharashtra\", \"Maharashtra\", \"Maharashtra\", \"Maharashtra\", \"Delhi\", \"Delhi\", \"Maharashtra\", \"Maharashtra\", \"Delhi\", \"Rajasthan\", \"Maharashtra\", \"Maharashtra\", \"Maharashtra\", \"Gujarat\", \"Maharashtra\", \"Tamil Nadu\", \"Rajasthan\", \"Uttar Pradesh\", \"Tamil Nadu\", \"Tamil Nadu\", \"Delhi\", \"Rajasthan\", \"Delhi\", \"Gujarat\", \"Delhi\", \"Maharashtra\", \"Rajasthan\", \"Madhya Pradesh\", \"Tamil Nadu\", \"Maharashtra\", \"Gujarat\", \"Uttar Pradesh\", \"Telangana\", \"Rajasthan\", \"Rajasthan\", \"Madhya Pradesh\", \"Tamil Nadu\", \"Maharashtra\", \"Andhra Pradesh\", \"Madhya Pradesh\", \"Telangana\", \"Telangana\", \"Delhi\", \"Tamil Nadu\", \"Delhi\", \"Rajasthan\", \"Gujarat\", \"Madhya Pradesh\", \"Delhi\", \"Madhya Pradesh\", \"Delhi\", \"Telangana\", \"Gujarat\", \"Tamil Nadu\", \"Uttar Pradesh\", \"Andhra Pradesh\", \"Gujarat\", \"Telangana\", \"Rajasthan\", \"Uttar Pradesh\", \"Rajasthan\", \"Madhya Pradesh\", \"Telangana\", \"West Bengal\", \"Andhra Pradesh\", \"Madhya Pradesh\", \"Andhra Pradesh\", \"Andhra Pradesh\", \"Madhya Pradesh\", \"Jammu and Kashmir\", \"Madhya Pradesh\", \"Maharashtra\", \"Uttar Pradesh\", \"Madhya Pradesh\", \"Tamil Nadu\", \"Uttar Pradesh\", \"Telangana\", \"Telangana\", \"Delhi\", \"Rajasthan\", \"Andhra Pradesh\", \"Telangana\", \"Telangana\", \"West Bengal\", \"Haryana\", \"Jammu and Kashmir\", \"Jammu and Kashmir\", \"Maharashtra\", \"Madhya Pradesh\", \"Andhra Pradesh\", \"Kerala\", \"Punjab\", \"Andhra Pradesh\", \"Haryana\", \"Delhi\", \"Uttar Pradesh\", \"Uttar Pradesh\", \"Rajasthan\", \"Jammu and Kashmir\", \"Maharashtra\", \"Rajasthan\", \"Jammu and Kashmir\", \"Punjab\", \"Haryana\", \"Uttar Pradesh\", \"Uttar Pradesh\", \"Uttar Pradesh\", \"Madhya Pradesh\", \"Andhra Pradesh\", \"Andhra Pradesh\", \"Telangana\", \"West Bengal\", \"Jammu and Kashmir\", \"Odisha\", \"Haryana\", \"Delhi\", \"Jammu and Kashmir\", \"Maharashtra\", \"Jammu and Kashmir\", \"Haryana\", \"West Bengal\", \"Telangana\", \"Telangana\", \"Andhra Pradesh\", \"Maharashtra\", \"Andhra Pradesh\", \"Andhra Pradesh\", \"Uttar Pradesh\", \"West Bengal\", \"Telangana\", \"Madhya Pradesh\", \"West Bengal\", \"Uttar Pradesh\", \"Delhi\", \"Uttar Pradesh\", \"Andhra Pradesh\", \"Maharashtra\", \"West Bengal\", \"Maharashtra\", \"West Bengal\", \"Maharashtra\", \"Uttar Pradesh\", \"Karnataka\", \"Madhya Pradesh\", \"Delhi\", \"Jammu and Kashmir\", \"Kerala\", \"Madhya Pradesh\", \"West Bengal\", \"Chhattisgarh\", \"West Bengal\", \"Jammu and Kashmir\", \"Chhattisgarh\", \"Punjab\", \"Telangana\", \"Jammu and Kashmir\", \"Kerala\", \"Delhi\", \"Jammu and Kashmir\", \"Uttar Pradesh\", \"Telangana\", \"Rajasthan\", \"Odisha\", \"Gujarat\", \"Maharashtra\", \"Uttar Pradesh\", \"Haryana\", \"Jammu and Kashmir\", \"Punjab\", \"Chhattisgarh\", \"Haryana\", \"Haryana\", \"Uttarakhand\", \"Uttarakhand\", \"Gujarat\", \"Madhya Pradesh\", \"Rajasthan\", \"Madhya Pradesh\", \"Jharkhand\", \"Gujarat\", \"Gujarat\", \"Haryana\", \"Odisha\", \"Jammu and Kashmir\", \"Kerala\", \"Kerala\", \"Jammu and Kashmir\", \"Kerala\", \"Delhi\", \"Haryana\", \"Telangana\", \"Rajasthan\", \"Uttarakhand\", \"Madhya Pradesh\", \"Tamil Nadu\", \"Uttarakhand\", \"Himachal Pradesh\", \"Uttar Pradesh\", \"Tamil Nadu\", \"Gujarat\", \"Kerala\", \"Uttarakhand\", \"Bihar\", \"Himachal Pradesh\", \"West Bengal\", \"Haryana\", \"Jammu and Kashmir\", \"Gujarat\", \"Rajasthan\", \"Odisha\", \"Haryana\", \"Bihar\", \"Rajasthan\", \"Kerala\", \"Haryana\", \"Rajasthan\", \"Telangana\", \"Punjab\", \"Kerala\", \"Punjab\", \"Punjab\", \"Kerala\", \"Bihar\", \"Odisha\", \"Maharashtra\", \"Assam\", \"Himachal Pradesh\", \"Madhya Pradesh\", \"Chhattisgarh\", \"Delhi\", \"Jharkhand\", \"Karnataka\", \"Punjab\", \"Bihar\", \"Haryana\", \"Kerala\", \"Bihar\", \"Kerala\", \"Rajasthan\", \"Karnataka\", \"Karnataka\", \"Chandigarh\", \"Puducherry\", \"Tamil Nadu\", \"Punjab\", \"Karnataka\", \"Bihar\", \"Odisha\", \"Kerala\", \"Ladakh\", \"Kerala\", \"Jammu and Kashmir\", \"Gujarat\", \"Punjab\", \"Kerala\", \"Haryana\", \"Delhi\", \"Rajasthan\", \"Gujarat\", \"Rajasthan\", \"Delhi\", \"Ladakh\", \"Chhattisgarh\", \"Jharkhand\", \"Punjab\", \"Bihar\", \"Punjab\", \"Karnataka\", \"Tamil Nadu\", \"Punjab\", \"Kerala\", \"Himachal Pradesh\", \"Tamil Nadu\", \"Dadra and Nagar Haveli\", \"Tripura\", \"Punjab\", \"Karnataka\", \"Assam\", \"Ladakh\", \"Kerala\", \"Karnataka\", \"Haryana\", \"Bihar\", \"Assam\", \"Himachal Pradesh\", \"Chandigarh\", \"Himachal Pradesh\", \"Nagaland\", \"Kerala\", \"Ladakh\", \"Rajasthan\", \"Jammu and Kashmir\", \"Bihar\", \"Uttar Pradesh\", \"Ladakh\", \"Kerala\", \"Karnataka\", \"Chandigarh\", \"Uttar Pradesh\", \"Rajasthan\", \"Punjab\", \"Jharkhand\", \"Odisha\", \"Punjab\", \"Ladakh\", \"Karnataka\", \"Gujarat\", \"Bihar\", \"Assam\", \"West Bengal\", \"Haryana\", \"Haryana\", \"Delhi\", \"Punjab\", \"Odisha\", \"Gujarat\", \"Haryana\", \"Andaman and Nicobar Islands\", \"West Bengal\", \"Uttarakhand\"], \"yaxis\": \"y\"}, {\"customdata\": [[1204, 110], [1204, 98], [1204, 81], [1204, 73], [1204, 68], [1204, 50], [473, 43], [1204, 31], [657, 27], [657, 23], [657, 20], [1510, 18], [198, 16], [592, 15], [657, 15], [969, 12], [31, 12], [657, 12], [473, 12], [1510, 10], [32, 9], [258, 9], [31, 7], [657, 7], [1510, 6], [617, 6], [969, 6], [32, 6], [258, 5], [2455, 4], [258, 4], [258, 4], [386, 4], [1204, 4], [35, 3], [258, 3], [617, 3], [386, 3], [258, 3], [31, 3], [969, 3], [184, 3], [7, 2], [258, 2], [184, 2], [2455, 2], [7, 2], [258, 2], [473, 2], [11, 2], [592, 2], [386, 2], [657, 2], [969, 2], [184, 2], [473, 1], [31, 1], [386, 1], [657, 1], [258, 1], [35, 1], [184, 1], [617, 1], [278, 1], [657, 1], [1204, 1], [1, 1], [2, 1], [969, 1], [617, 1], [60, 1], [33, 1], [386, 1]], \"hovertemplate\": \"keys=Domestic Travel Delhi<br>dateannounced=%{x}<br>detectedstate=%{y}<br>total_ct_daily_log=%{marker.size}<br>total_ct=%{customdata[0]}<br>counts=%{customdata[1]}<extra></extra>\", \"legendgroup\": \"Domestic Travel Delhi\", \"marker\": {\"color\": \"#EF553B\", \"size\": [4.700480365792417, 4.624972813284271, 4.454347296253507, 4.31748811353631, 4.30406509320417, 4.04305126783455, 4.204692619390966, 3.912023005428146, 3.828641396489095, 3.295836866004329, 4.0943445622221, 3.2188758248682006, 3.4965075614664802, 2.995732273553991, 3.367295829986474, 3.295836866004329, 2.70805020110221, 3.784189633918261, 3.044522437723423, 3.091042453358316, 2.1972245773362196, 2.6390573296152584, 1.9459101490553132, 3.295836866004329, 3.1354942159291497, 2.995732273553991, 3.5553480614894135, 1.9459101490553132, 1.9459101490553132, 4.477336814478207, 2.4849066497880004, 2.4849066497880004, 2.0794415416798357, 2.0794415416798357, 1.0986122886681098, 1.3862943611198906, 2.8903717578961645, 2.5649493574615367, 2.772588722239781, 1.0986122886681098, 3.295836866004329, 2.4849066497880004, 0.6931471805599453, 1.791759469228055, 2.995732273553991, 4.406719247264253, 0.6931471805599453, 2.772588722239781, 0.6931471805599453, 1.0986122886681098, 1.3862943611198906, 3.044522437723423, 2.3978952727983707, 3.828641396489095, 1.791759469228055, 1.791759469228055, 0.6931471805599453, 2.1972245773362196, 3.8918202981106265, 2.70805020110221, 1.6094379124341003, 2.3978952727983707, 1.9459101490553132, 0.6931471805599453, 1.9459101490553132, 2.833213344056216, 0.0, 0.0, 2.5649493574615367, 1.9459101490553132, 2.70805020110221, 0.0, 2.3978952727983707], \"sizemode\": \"area\", \"sizeref\": 0.014687326827130077, \"symbol\": \"circle\"}, \"mode\": \"markers\", \"name\": \"Domestic Travel Delhi\", \"showlegend\": true, \"type\": \"scatter\", \"x\": [\"2020-04-01\", \"2020-04-03\", \"2020-04-05\", \"2020-04-02\", \"2020-04-04\", \"2020-03-31\", \"2020-04-01\", \"2020-04-06\", \"2020-04-03\", \"2020-04-06\", \"2020-04-04\", \"2020-03-30\", \"2020-04-07\", \"2020-03-31\", \"2020-04-08\", \"2020-04-01\", \"2020-04-01\", \"2020-04-05\", \"2020-03-31\", \"2020-04-06\", \"2020-04-07\", \"2020-04-02\", \"2020-04-03\", \"2020-04-07\", \"2020-03-29\", \"2020-04-05\", \"2020-04-06\", \"2020-04-04\", \"2020-04-05\", \"2020-04-02\", \"2020-04-06\", \"2020-04-07\", \"2020-04-05\", \"2020-03-29\", \"2020-04-02\", \"2020-04-03\", \"2020-04-06\", \"2020-04-06\", \"2020-04-09\", \"2020-04-04\", \"2020-04-04\", \"2020-04-04\", \"2020-04-10\", \"2020-04-08\", \"2020-04-07\", \"2020-03-31\", \"2020-04-01\", \"2020-04-04\", \"2020-03-30\", \"2020-03-28\", \"2020-03-26\", \"2020-04-02\", \"2020-04-02\", \"2020-04-03\", \"2020-04-03\", \"2020-03-28\", \"2020-04-07\", \"2020-04-08\", \"2020-04-09\", \"2020-04-13\", \"2020-04-06\", \"2020-04-06\", \"2020-03-21\", \"2020-03-24\", \"2020-03-27\", \"2020-03-30\", \"2020-04-02\", \"2020-04-02\", \"2020-04-02\", \"2020-04-03\", \"2020-04-03\", \"2020-04-04\", \"2020-04-04\"], \"xaxis\": \"x\", \"y\": [\"Tamil Nadu\", \"Tamil Nadu\", \"Tamil Nadu\", \"Tamil Nadu\", \"Tamil Nadu\", \"Tamil Nadu\", \"Andhra Pradesh\", \"Tamil Nadu\", \"Uttar Pradesh\", \"Uttar Pradesh\", \"Uttar Pradesh\", \"Delhi\", \"Haryana\", \"Telangana\", \"Uttar Pradesh\", \"Rajasthan\", \"Assam\", \"Uttar Pradesh\", \"Andhra Pradesh\", \"Delhi\", \"Himachal Pradesh\", \"Karnataka\", \"Assam\", \"Uttar Pradesh\", \"Delhi\", \"Gujarat\", \"Rajasthan\", \"Himachal Pradesh\", \"Karnataka\", \"Maharashtra\", \"Karnataka\", \"Karnataka\", \"Kerala\", \"Tamil Nadu\", \"Uttarakhand\", \"Karnataka\", \"Gujarat\", \"Kerala\", \"Karnataka\", \"Assam\", \"Rajasthan\", \"Punjab\", \"Puducherry\", \"Karnataka\", \"Punjab\", \"Maharashtra\", \"Puducherry\", \"Karnataka\", \"Andhra Pradesh\", \"Andaman and Nicobar Islands\", \"Telangana\", \"Kerala\", \"Uttar Pradesh\", \"Rajasthan\", \"Punjab\", \"Andhra Pradesh\", \"Assam\", \"Kerala\", \"Uttar Pradesh\", \"Karnataka\", \"Uttarakhand\", \"Punjab\", \"Gujarat\", \"Jammu and Kashmir\", \"Uttar Pradesh\", \"Tamil Nadu\", \"Arunachal Pradesh\", \"Manipur\", \"Rajasthan\", \"Gujarat\", \"Odisha\", \"Chhattisgarh\", \"Kerala\"], \"yaxis\": \"y\"}, {\"customdata\": [[617, 29], [969, 25], [66, 16], [184, 16], [617, 14], [278, 14], [969, 13], [386, 13], [258, 13], [386, 11], [617, 11], [617, 10], [258, 9], [184, 9], [258, 9], [24, 9], [258, 9], [617, 9], [617, 8], [386, 8], [386, 8], [386, 8], [184, 8], [969, 7], [258, 7], [258, 7], [184, 7], [258, 7], [617, 6], [198, 6], [617, 6], [278, 6], [657, 6], [184, 6], [258, 5], [2455, 5], [184, 5], [1204, 5], [258, 5], [617, 5], [184, 5], [184, 5], [258, 5], [1204, 5], [258, 5], [2455, 4], [386, 4], [614, 4], [278, 4], [184, 4], [258, 4], [258, 4], [1204, 4], [657, 4], [278, 4], [657, 4], [386, 4], [278, 4], [657, 3], [1204, 3], [258, 3], [386, 3], [258, 3], [21, 3], [386, 3], [386, 3], [386, 3], [617, 3], [592, 3], [21, 3], [657, 3], [969, 3], [2455, 3], [190, 3], [66, 2], [386, 2], [66, 2], [60, 2], [258, 2], [386, 2], [60, 2], [258, 2], [473, 2], [386, 2], [198, 2], [66, 2], [473, 2], [969, 2], [617, 2], [66, 2], [190, 2], [614, 2], [258, 2], [184, 2], [617, 2], [473, 2], [386, 2], [386, 2], [258, 2], [1510, 2], [1510, 2], [2455, 2], [258, 1], [198, 1], [2455, 1], [2455, 1], [258, 1], [17, 1], [592, 1], [473, 1], [21, 1], [614, 1], [657, 1], [21, 1], [198, 1], [258, 1], [184, 1], [35, 1], [2455, 1], [657, 1], [278, 1], [657, 1], [657, 1], [2455, 1], [1510, 1], [278, 1], [24, 1], [66, 1], [60, 1], [386, 1], [60, 1], [386, 1], [24, 1], [614, 1], [258, 1], [386, 1], [614, 1], [2455, 1], [2455, 1], [184, 1], [592, 1], [278, 1], [184, 1], [1204, 1], [1204, 1], [657, 1], [278, 1], [7, 1], [386, 1], [21, 1], [1204, 1], [184, 1]], \"hovertemplate\": \"keys=Contact<br>dateannounced=%{x}<br>detectedstate=%{y}<br>total_ct_daily_log=%{marker.size}<br>total_ct=%{customdata[0]}<br>counts=%{customdata[1]}<extra></extra>\", \"legendgroup\": \"Contact\", \"marker\": {\"color\": \"#00cc96\", \"size\": [3.367295829986474, 4.584967478670572, 2.9444389791664403, 2.995732273553991, 2.995732273553991, 2.6390573296152584, 3.295836866004329, 3.1780538303479458, 2.70805020110221, 3.6635616461296463, 2.3978952727983707, 2.5649493574615367, 2.4849066497880004, 2.4849066497880004, 2.772588722239781, 2.1972245773362196, 2.302585092994046, 2.8903717578961645, 2.5649493574615367, 3.044522437723423, 2.0794415416798357, 3.4657359027997265, 2.302585092994046, 2.5649493574615367, 2.3978952727983707, 2.833213344056216, 2.4849066497880004, 2.0794415416798357, 2.4849066497880004, 2.1972245773362196, 1.9459101490553132, 1.791759469228055, 1.9459101490553132, 2.0794415416798357, 1.9459101490553132, 2.302585092994046, 1.6094379124341003, 2.833213344056216, 1.6094379124341003, 1.9459101490553132, 1.9459101490553132, 2.3978952727983707, 2.4849066497880004, 4.30406509320417, 2.1972245773362196, 3.332204510175204, 2.4849066497880004, 2.0794415416798357, 1.6094379124341003, 1.791759469228055, 2.772588722239781, 2.5649493574615367, 2.0794415416798357, 2.0794415416798357, 2.3978952727983707, 2.772588722239781, 2.302585092994046, 2.5649493574615367, 1.3862943611198906, 2.1972245773362196, 2.6390573296152584, 2.1972245773362196, 1.791759469228055, 1.3862943611198906, 2.5649493574615367, 2.4849066497880004, 2.0794415416798357, 1.791759469228055, 1.791759469228055, 1.6094379124341003, 1.0986122886681098, 1.6094379124341003, 4.406719247264253, 1.0986122886681098, 1.0986122886681098, 2.0794415416798357, 0.6931471805599453, 0.6931471805599453, 2.302585092994046, 2.6390573296152584, 1.6094379124341003, 2.4849066497880004, 0.6931471805599453, 1.9459101490553132, 1.9459101490553132, 1.6094379124341003, 3.044522437723423, 2.995732273553991, 2.0794415416798357, 1.791759469228055, 1.0986122886681098, 2.1972245773362196, 2.1972245773362196, 1.791759469228055, 1.0986122886681098, 0.6931471805599453, 2.3978952727983707, 1.6094379124341003, 1.0986122886681098, 1.9459101490553132, 1.791759469228055, 1.0986122886681098, 0.0, 0.6931471805599453, 1.3862943611198906, 1.3862943611198906, 1.6094379124341003, 1.0986122886681098, 0.6931471805599453, 0.0, 0.0, 0.6931471805599453, 0.6931471805599453, 0.0, 1.9459101490553132, 1.9459101490553132, 0.6931471805599453, 0.0, 2.1972245773362196, 0.0, 0.0, 0.6931471805599453, 0.6931471805599453, 1.0986122886681098, 0.0, 0.6931471805599453, 0.0, 1.3862943611198906, 1.3862943611198906, 1.0986122886681098, 0.0, 2.0794415416798357, 0.0, 3.8501476017100584, 2.0794415416798357, 2.9444389791664403, 0.0, 2.8903717578961645, 2.70805020110221, 0.6931471805599453, 0.6931471805599453, 1.0986122886681098, 0.6931471805599453, 4.31748811353631, 1.0986122886681098, 1.3862943611198906, 1.791759469228055, 0.6931471805599453, 2.995732273553991, 0.6931471805599453, 4.04305126783455, 1.3862943611198906], \"sizemode\": \"area\", \"sizeref\": 0.014687326827130077, \"symbol\": \"circle\"}, \"mode\": \"markers\", \"name\": \"Contact\", \"showlegend\": true, \"type\": \"scatter\", \"x\": [\"2020-04-07\", \"2020-04-10\", \"2020-04-09\", \"2020-04-07\", \"2020-04-05\", \"2020-04-05\", \"2020-04-01\", \"2020-04-01\", \"2020-04-13\", \"2020-03-27\", \"2020-04-08\", \"2020-04-04\", \"2020-03-28\", \"2020-04-12\", \"2020-04-09\", \"2020-04-09\", \"2020-04-10\", \"2020-04-06\", \"2020-04-01\", \"2020-04-02\", \"2020-03-10\", \"2020-03-30\", \"2020-03-21\", \"2020-04-02\", \"2020-04-14\", \"2020-04-12\", \"2020-04-04\", \"2020-04-11\", \"2020-03-23\", \"2020-04-03\", \"2020-04-03\", \"2020-03-31\", \"2020-03-04\", \"2020-04-14\", \"2020-03-29\", \"2020-03-22\", \"2020-03-27\", \"2020-03-30\", \"2020-03-30\", \"2020-03-30\", \"2020-04-08\", \"2020-04-06\", \"2020-04-06\", \"2020-04-04\", \"2020-04-01\", \"2020-03-27\", \"2020-04-09\", \"2020-03-25\", \"2020-03-25\", \"2020-04-13\", \"2020-04-04\", \"2020-03-31\", \"2020-03-29\", \"2020-03-31\", \"2020-03-30\", \"2020-03-28\", \"2020-04-11\", \"2020-03-28\", \"2020-03-20\", \"2020-03-27\", \"2020-04-02\", \"2020-04-08\", \"2020-04-08\", \"2020-03-20\", \"2020-04-06\", \"2020-03-20\", \"2020-04-14\", \"2020-03-24\", \"2020-03-24\", \"2020-03-30\", \"2020-03-25\", \"2020-03-29\", \"2020-03-31\", \"2020-03-22\", \"2020-03-26\", \"2020-04-07\", \"2020-04-10\", \"2020-04-10\", \"2020-03-25\", \"2020-03-24\", \"2020-04-14\", \"2020-04-07\", \"2020-03-29\", \"2020-03-31\", \"2020-03-31\", \"2020-04-02\", \"2020-03-31\", \"2020-03-30\", \"2020-03-29\", \"2020-04-07\", \"2020-03-28\", \"2020-03-27\", \"2020-03-27\", \"2020-04-03\", \"2020-03-27\", \"2020-03-27\", \"2020-04-04\", \"2020-03-08\", \"2020-03-10\", \"2020-03-21\", \"2020-03-20\", \"2020-03-13\", \"2020-03-16\", \"2020-03-18\", \"2020-03-18\", \"2020-03-20\", \"2020-03-21\", \"2020-03-21\", \"2020-03-21\", \"2020-03-22\", \"2020-03-22\", \"2020-03-22\", \"2020-03-22\", \"2020-03-23\", \"2020-03-23\", \"2020-03-23\", \"2020-03-23\", \"2020-03-23\", \"2020-03-14\", \"2020-03-13\", \"2020-03-13\", \"2020-03-12\", \"2020-03-09\", \"2020-03-10\", \"2020-03-12\", \"2020-03-24\", \"2020-04-10\", \"2020-04-11\", \"2020-04-11\", \"2020-04-13\", \"2020-04-13\", \"2020-04-05\", \"2020-04-06\", \"2020-04-03\", \"2020-03-24\", \"2020-03-26\", \"2020-03-24\", \"2020-03-24\", \"2020-03-25\", \"2020-03-25\", \"2020-03-25\", \"2020-03-26\", \"2020-03-26\", \"2020-04-02\", \"2020-03-26\", \"2020-03-26\", \"2020-03-27\", \"2020-03-29\", \"2020-03-29\", \"2020-03-31\", \"2020-03-31\", \"2020-04-01\"], \"xaxis\": \"x\", \"y\": [\"Gujarat\", \"Rajasthan\", \"Bihar\", \"Punjab\", \"Gujarat\", \"Jammu and Kashmir\", \"Rajasthan\", \"Kerala\", \"Karnataka\", \"Kerala\", \"Gujarat\", \"Gujarat\", \"Karnataka\", \"Punjab\", \"Karnataka\", \"Jharkhand\", \"Karnataka\", \"Gujarat\", \"Gujarat\", \"Kerala\", \"Kerala\", \"Kerala\", \"Punjab\", \"Rajasthan\", \"Karnataka\", \"Karnataka\", \"Punjab\", \"Karnataka\", \"Gujarat\", \"Haryana\", \"Gujarat\", \"Jammu and Kashmir\", \"Uttar Pradesh\", \"Punjab\", \"Karnataka\", \"Maharashtra\", \"Punjab\", \"Tamil Nadu\", \"Karnataka\", \"Gujarat\", \"Punjab\", \"Punjab\", \"Karnataka\", \"Tamil Nadu\", \"Karnataka\", \"Maharashtra\", \"Kerala\", \"Madhya Pradesh\", \"Jammu and Kashmir\", \"Punjab\", \"Karnataka\", \"Karnataka\", \"Tamil Nadu\", \"Uttar Pradesh\", \"Jammu and Kashmir\", \"Uttar Pradesh\", \"Kerala\", \"Jammu and Kashmir\", \"Uttar Pradesh\", \"Tamil Nadu\", \"Karnataka\", \"Kerala\", \"Karnataka\", \"Chandigarh\", \"Kerala\", \"Kerala\", \"Kerala\", \"Gujarat\", \"Telangana\", \"Chandigarh\", \"Uttar Pradesh\", \"Rajasthan\", \"Maharashtra\", \"West Bengal\", \"Bihar\", \"Kerala\", \"Bihar\", \"Odisha\", \"Karnataka\", \"Kerala\", \"Odisha\", \"Karnataka\", \"Andhra Pradesh\", \"Kerala\", \"Haryana\", \"Bihar\", \"Andhra Pradesh\", \"Rajasthan\", \"Gujarat\", \"Bihar\", \"West Bengal\", \"Madhya Pradesh\", \"Karnataka\", \"Punjab\", \"Gujarat\", \"Andhra Pradesh\", \"Kerala\", \"Kerala\", \"Karnataka\", \"Delhi\", \"Delhi\", \"Maharashtra\", \"Karnataka\", \"Haryana\", \"Maharashtra\", \"Maharashtra\", \"Karnataka\", \"Ladakh\", \"Telangana\", \"Andhra Pradesh\", \"Chandigarh\", \"Madhya Pradesh\", \"Uttar Pradesh\", \"Chandigarh\", \"Haryana\", \"Karnataka\", \"Punjab\", \"Uttarakhand\", \"Maharashtra\", \"Uttar Pradesh\", \"Jammu and Kashmir\", \"Uttar Pradesh\", \"Uttar Pradesh\", \"Maharashtra\", \"Delhi\", \"Jammu and Kashmir\", \"Jharkhand\", \"Bihar\", \"Odisha\", \"Kerala\", \"Odisha\", \"Kerala\", \"Jharkhand\", \"Madhya Pradesh\", \"Karnataka\", \"Kerala\", \"Madhya Pradesh\", \"Maharashtra\", \"Maharashtra\", \"Punjab\", \"Telangana\", \"Jammu and Kashmir\", \"Punjab\", \"Tamil Nadu\", \"Tamil Nadu\", \"Uttar Pradesh\", \"Jammu and Kashmir\", \"Goa\", \"Kerala\", \"Chandigarh\", \"Tamil Nadu\", \"Punjab\"], \"yaxis\": \"y\"}, {\"customdata\": [[386, 27], [386, 26], [386, 17], [386, 15], [198, 14], [386, 14], [969, 13], [386, 12], [969, 11], [386, 8], [386, 8], [969, 8], [592, 8], [386, 8], [258, 7], [386, 7], [592, 6], [2455, 6], [386, 6], [386, 6], [617, 6], [258, 6], [2455, 6], [2455, 6], [258, 6], [1204, 6], [592, 5], [258, 5], [617, 5], [1204, 5], [386, 5], [66, 5], [258, 5], [258, 5], [617, 5], [2455, 5], [2455, 5], [386, 4], [258, 4], [258, 4], [386, 3], [969, 3], [2455, 3], [258, 3], [184, 3], [386, 3], [1510, 3], [386, 3], [1204, 3], [7, 3], [1510, 3], [617, 3], [258, 3], [592, 3], [2455, 3], [66, 3], [1204, 3], [657, 3], [592, 3], [386, 3], [2455, 3], [184, 3], [657, 3], [617, 3], [1204, 3], [386, 3], [2455, 3], [592, 3], [386, 3], [258, 2], [473, 2], [258, 2], [614, 2], [278, 2], [278, 2], [21, 2], [1204, 2], [969, 2], [258, 2], [66, 2], [66, 2], [2455, 2], [386, 2], [1510, 2], [617, 2], [2455, 2], [473, 2], [2455, 2], [32, 2], [198, 2], [66, 2], [969, 2], [1204, 2], [190, 2], [258, 2], [657, 2], [473, 2], [614, 1], [198, 1], [657, 1], [66, 1], [386, 1], [21, 1], [2, 1], [60, 1], [386, 1], [66, 1], [386, 1], [11, 1], [33, 1], [258, 1], [31, 1], [258, 1], [60, 1], [386, 1], [258, 1], [60, 1], [60, 1], [386, 1], [24, 1], [278, 1], [184, 1], [1510, 1], [473, 1], [258, 1], [2455, 1], [969, 1], [592, 1], [386, 1], [592, 1], [35, 1], [278, 1], [60, 1], [592, 1], [198, 1], [17, 1], [7, 1], [657, 1], [190, 1], [60, 1], [1204, 1], [592, 1], [7, 1], [190, 1], [614, 1], [258, 1], [278, 1], [617, 1], [33, 1], [657, 1], [473, 1], [66, 1], [198, 1], [21, 1], [66, 1], [657, 1], [473, 1], [2, 1], [617, 1], [473, 1], [35, 1], [33, 1], [969, 1], [969, 1], [33, 1], [617, 1], [617, 1], [7, 1], [66, 1], [1204, 1], [21, 1], [614, 1], [386, 1], [7, 1], [1204, 1], [258, 1], [24, 1], [614, 1], [184, 1], [657, 1], [21, 1], [190, 1], [60, 1], [386, 1], [33, 1], [198, 1], [473, 1], [184, 1], [2455, 1], [17, 1], [1510, 1], [1, 1], [386, 1], [386, 1], [386, 1], [1510, 1], [592, 1], [969, 1], [1510, 1], [657, 1], [1510, 1], [17, 1], [1204, 1], [278, 1], [184, 1], [969, 1], [190, 1]], \"hovertemplate\": \"keys=International Travel<br>dateannounced=%{x}<br>detectedstate=%{y}<br>total_ct_daily_log=%{marker.size}<br>total_ct=%{customdata[0]}<br>counts=%{customdata[1]}<extra></extra>\", \"legendgroup\": \"International Travel\", \"marker\": {\"color\": \"#ab63fa\", \"size\": [3.332204510175204, 3.6635616461296463, 2.995732273553991, 2.9444389791664403, 2.6390573296152584, 2.70805020110221, 3.828641396489095, 2.4849066497880004, 2.6390573296152584, 2.6390573296152584, 2.4849066497880004, 2.995732273553991, 2.0794415416798357, 2.1972245773362196, 2.772588722239781, 2.5649493574615367, 1.791759469228055, 2.4849066497880004, 3.1780538303479458, 3.044522437723423, 2.8903717578961645, 2.1972245773362196, 2.8903717578961645, 2.1972245773362196, 1.9459101490553132, 2.0794415416798357, 1.791759469228055, 2.0794415416798357, 2.4849066497880004, 1.791759469228055, 2.0794415416798357, 1.791759469228055, 2.302585092994046, 1.791759469228055, 1.6094379124341003, 1.9459101490553132, 2.302585092994046, 2.0794415416798357, 1.6094379124341003, 2.5649493574615367, 1.791759469228055, 1.0986122886681098, 1.3862943611198906, 1.0986122886681098, 2.0794415416798357, 2.302585092994046, 1.0986122886681098, 1.0986122886681098, 1.0986122886681098, 1.0986122886681098, 1.0986122886681098, 1.9459101490553132, 2.1972245773362196, 1.0986122886681098, 1.3862943611198906, 1.6094379124341003, 1.3862943611198906, 1.0986122886681098, 1.0986122886681098, 2.3978952727983707, 1.0986122886681098, 2.3978952727983707, 1.3862943611198906, 1.791759469228055, 1.0986122886681098, 1.0986122886681098, 2.70805020110221, 1.791759469228055, 1.6094379124341003, 1.9459101490553132, 1.791759469228055, 1.3862943611198906, 2.1972245773362196, 1.791759469228055, 1.0986122886681098, 1.6094379124341003, 1.0986122886681098, 3.295836866004329, 2.3978952727983707, 1.791759469228055, 0.6931471805599453, 1.0986122886681098, 0.6931471805599453, 1.791759469228055, 0.6931471805599453, 0.6931471805599453, 0.6931471805599453, 1.791759469228055, 0.6931471805599453, 0.6931471805599453, 0.6931471805599453, 1.6094379124341003, 1.0986122886681098, 0.6931471805599453, 1.3862943611198906, 1.3862943611198906, 0.6931471805599453, 2.0794415416798357, 0.6931471805599453, 0.6931471805599453, 0.6931471805599453, 0.6931471805599453, 0.0, 0.0, 1.791759469228055, 2.4849066497880004, 2.9444389791664403, 2.1972245773362196, 0.0, 0.0, 2.4849066497880004, 0.6931471805599453, 0.0, 0.0, 0.0, 2.4849066497880004, 0.0, 2.8903717578961645, 2.0794415416798357, 0.0, 0.0, 0.0, 0.0, 0.0, 0.0, 1.0986122886681098, 0.0, 0.0, 0.6931471805599453, 0.0, 0.0, 0.0, 0.0, 0.0, 0.0, 1.6094379124341003, 0.0, 0.6931471805599453, 0.0, 0.0, 0.0, 0.6931471805599453, 0.6931471805599453, 1.0986122886681098, 0.6931471805599453, 2.4849066497880004, 2.5649493574615367, 2.0794415416798357, 0.0, 0.6931471805599453, 0.0, 0.0, 1.9459101490553132, 0.0, 0.6931471805599453, 1.3862943611198906, 0.0, 0.0, 1.791759469228055, 0.0, 0.0, 0.6931471805599453, 1.791759469228055, 1.6094379124341003, 0.0, 2.5649493574615367, 1.9459101490553132, 0.0, 0.0, 4.624972813284271, 1.3862943611198906, 3.8501476017100584, 2.1972245773362196, 0.0, 4.31748811353631, 2.6390573296152584, 0.0, 1.3862943611198906, 0.0, 1.3862943611198906, 0.6931471805599453, 0.0, 0.0, 1.9459101490553132, 0.0, 0.6931471805599453, 3.044522437723423, 2.302585092994046, 1.791759469228055, 0.0, 0.0, 0.0, 0.0, 0.0, 0.0, 0.0, 0.0, 0.0, 0.0, 0.0, 0.0, 0.6931471805599453, 0.0, 0.0, 0.0, 0.0, 0.6931471805599453], \"sizemode\": \"area\", \"sizeref\": 0.014687326827130077, \"symbol\": \"circle\"}, \"mode\": \"markers\", \"name\": \"International Travel\", \"showlegend\": true, \"type\": \"scatter\", \"x\": [\"2020-03-23\", \"2020-03-27\", \"2020-03-29\", \"2020-03-26\", \"2020-03-04\", \"2020-03-22\", \"2020-04-03\", \"2020-03-21\", \"2020-03-31\", \"2020-03-24\", \"2020-03-20\", \"2020-03-30\", \"2020-03-18\", \"2020-03-25\", \"2020-04-04\", \"2020-04-06\", \"2020-03-22\", \"2020-03-21\", \"2020-04-01\", \"2020-04-02\", \"2020-04-06\", \"2020-03-27\", \"2020-03-24\", \"2020-03-14\", \"2020-03-23\", \"2020-03-25\", \"2020-03-23\", \"2020-03-24\", \"2020-03-23\", \"2020-03-24\", \"2020-04-14\", \"2020-03-31\", \"2020-03-25\", \"2020-03-22\", \"2020-03-20\", \"2020-03-16\", \"2020-03-22\", \"2020-04-07\", \"2020-03-21\", \"2020-03-31\", \"2020-03-28\", \"2020-03-18\", \"2020-03-18\", \"2020-03-18\", \"2020-03-22\", \"2020-04-11\", \"2020-03-17\", \"2020-03-16\", \"2020-03-22\", \"2020-03-25\", \"2020-03-19\", \"2020-03-21\", \"2020-04-01\", \"2020-03-20\", \"2020-03-20\", \"2020-04-02\", \"2020-03-28\", \"2020-03-19\", \"2020-03-19\", \"2020-04-04\", \"2020-03-19\", \"2020-04-06\", \"2020-03-23\", \"2020-03-24\", \"2020-03-21\", \"2020-03-13\", \"2020-03-25\", \"2020-03-24\", \"2020-03-08\", \"2020-03-29\", \"2020-03-28\", \"2020-03-26\", \"2020-03-27\", \"2020-03-27\", \"2020-03-26\", \"2020-03-30\", \"2020-03-26\", \"2020-04-01\", \"2020-04-14\", \"2020-04-07\", \"2020-04-03\", \"2020-03-12\", \"2020-03-12\", \"2020-03-20\", \"2020-03-19\", \"2020-03-17\", \"2020-03-19\", \"2020-03-15\", \"2020-03-20\", \"2020-03-20\", \"2020-03-22\", \"2020-03-22\", \"2020-03-23\", \"2020-03-24\", \"2020-03-17\", \"2020-03-21\", \"2020-03-21\", \"2020-03-25\", \"2020-03-18\", \"2020-03-18\", \"2020-04-13\", \"2020-04-12\", \"2020-03-19\", \"2020-04-10\", \"2020-04-09\", \"2020-04-09\", \"2020-04-09\", \"2020-04-08\", \"2020-04-08\", \"2020-03-19\", \"2020-04-07\", \"2020-04-07\", \"2020-03-19\", \"2020-04-06\", \"2020-03-19\", \"2020-04-06\", \"2020-03-19\", \"2020-04-05\", \"2020-04-05\", \"2020-04-05\", \"2020-03-18\", \"2020-03-19\", \"2020-03-18\", \"2020-03-12\", \"2020-03-13\", \"2020-03-13\", \"2020-03-14\", \"2020-03-14\", \"2020-03-15\", \"2020-03-15\", \"2020-03-15\", \"2020-03-16\", \"2020-03-16\", \"2020-03-16\", \"2020-03-17\", \"2020-03-17\", \"2020-03-17\", \"2020-03-17\", \"2020-03-17\", \"2020-04-04\", \"2020-03-19\", \"2020-03-21\", \"2020-03-29\", \"2020-03-28\", \"2020-03-22\", \"2020-03-28\", \"2020-03-28\", \"2020-03-28\", \"2020-03-28\", \"2020-03-22\", \"2020-03-23\", \"2020-03-23\", \"2020-03-23\", \"2020-03-27\", \"2020-03-27\", \"2020-03-26\", \"2020-03-24\", \"2020-03-24\", \"2020-03-26\", \"2020-03-26\", \"2020-03-25\", \"2020-03-25\", \"2020-03-25\", \"2020-03-29\", \"2020-03-30\", \"2020-04-04\", \"2020-03-30\", \"2020-04-04\", \"2020-04-04\", \"2020-04-03\", \"2020-03-20\", \"2020-04-03\", \"2020-04-03\", \"2020-04-03\", \"2020-04-02\", \"2020-04-02\", \"2020-04-02\", \"2020-03-20\", \"2020-03-20\", \"2020-03-20\", \"2020-04-01\", \"2020-03-20\", \"2020-03-31\", \"2020-03-31\", \"2020-03-31\", \"2020-03-21\", \"2020-03-31\", \"2020-03-21\", \"2020-03-11\", \"2020-03-11\", \"2020-03-11\", \"2020-03-25\", \"2020-01-30\", \"2020-02-02\", \"2020-02-03\", \"2020-03-02\", \"2020-03-02\", \"2020-03-03\", \"2020-03-05\", \"2020-03-05\", \"2020-03-06\", \"2020-03-07\", \"2020-03-07\", \"2020-03-09\", \"2020-03-09\", \"2020-03-10\", \"2020-03-21\"], \"xaxis\": \"x\", \"y\": [\"Kerala\", \"Kerala\", \"Kerala\", \"Kerala\", \"Haryana\", \"Kerala\", \"Rajasthan\", \"Kerala\", \"Rajasthan\", \"Kerala\", \"Kerala\", \"Rajasthan\", \"Telangana\", \"Kerala\", \"Karnataka\", \"Kerala\", \"Telangana\", \"Maharashtra\", \"Kerala\", \"Kerala\", \"Gujarat\", \"Karnataka\", \"Maharashtra\", \"Maharashtra\", \"Karnataka\", \"Tamil Nadu\", \"Telangana\", \"Karnataka\", \"Gujarat\", \"Tamil Nadu\", \"Kerala\", \"Bihar\", \"Karnataka\", \"Karnataka\", \"Gujarat\", \"Maharashtra\", \"Maharashtra\", \"Kerala\", \"Karnataka\", \"Karnataka\", \"Kerala\", \"Rajasthan\", \"Maharashtra\", \"Karnataka\", \"Punjab\", \"Kerala\", \"Delhi\", \"Kerala\", \"Tamil Nadu\", \"Goa\", \"Delhi\", \"Gujarat\", \"Karnataka\", \"Telangana\", \"Maharashtra\", \"Bihar\", \"Tamil Nadu\", \"Uttar Pradesh\", \"Telangana\", \"Kerala\", \"Maharashtra\", \"Punjab\", \"Uttar Pradesh\", \"Gujarat\", \"Tamil Nadu\", \"Kerala\", \"Maharashtra\", \"Telangana\", \"Kerala\", \"Karnataka\", \"Andhra Pradesh\", \"Karnataka\", \"Madhya Pradesh\", \"Jammu and Kashmir\", \"Jammu and Kashmir\", \"Chandigarh\", \"Tamil Nadu\", \"Rajasthan\", \"Karnataka\", \"Bihar\", \"Bihar\", \"Maharashtra\", \"Kerala\", \"Delhi\", \"Gujarat\", \"Maharashtra\", \"Andhra Pradesh\", \"Maharashtra\", \"Himachal Pradesh\", \"Haryana\", \"Bihar\", \"Rajasthan\", \"Tamil Nadu\", \"West Bengal\", \"Karnataka\", \"Uttar Pradesh\", \"Andhra Pradesh\", \"Madhya Pradesh\", \"Haryana\", \"Uttar Pradesh\", \"Bihar\", \"Kerala\", \"Chandigarh\", \"Tripura\", \"Odisha\", \"Kerala\", \"Bihar\", \"Kerala\", \"Andaman and Nicobar Islands\", \"Chhattisgarh\", \"Karnataka\", \"Assam\", \"Karnataka\", \"Odisha\", \"Kerala\", \"Karnataka\", \"Odisha\", \"Odisha\", \"Kerala\", \"Jharkhand\", \"Jammu and Kashmir\", \"Punjab\", \"Delhi\", \"Andhra Pradesh\", \"Karnataka\", \"Maharashtra\", \"Rajasthan\", \"Telangana\", \"Kerala\", \"Telangana\", \"Uttarakhand\", \"Jammu and Kashmir\", \"Odisha\", \"Telangana\", \"Haryana\", \"Ladakh\", \"Puducherry\", \"Uttar Pradesh\", \"West Bengal\", \"Odisha\", \"Tamil Nadu\", \"Telangana\", \"Goa\", \"West Bengal\", \"Madhya Pradesh\", \"Karnataka\", \"Jammu and Kashmir\", \"Gujarat\", \"Chhattisgarh\", \"Uttar Pradesh\", \"Andhra Pradesh\", \"Bihar\", \"Haryana\", \"Chandigarh\", \"Bihar\", \"Uttar Pradesh\", \"Andhra Pradesh\", \"Manipur\", \"Gujarat\", \"Andhra Pradesh\", \"Uttarakhand\", \"Chhattisgarh\", \"Rajasthan\", \"Rajasthan\", \"Chhattisgarh\", \"Gujarat\", \"Gujarat\", \"Goa\", \"Bihar\", \"Tamil Nadu\", \"Chandigarh\", \"Madhya Pradesh\", \"Kerala\", \"Goa\", \"Tamil Nadu\", \"Karnataka\", \"Jharkhand\", \"Madhya Pradesh\", \"Punjab\", \"Uttar Pradesh\", \"Chandigarh\", \"West Bengal\", \"Odisha\", \"Kerala\", \"Chhattisgarh\", \"Haryana\", \"Andhra Pradesh\", \"Punjab\", \"Maharashtra\", \"Ladakh\", \"Delhi\", \"Mizoram\", \"Kerala\", \"Kerala\", \"Kerala\", \"Delhi\", \"Telangana\", \"Rajasthan\", \"Delhi\", \"Uttar Pradesh\", \"Delhi\", \"Ladakh\", \"Tamil Nadu\", \"Jammu and Kashmir\", \"Punjab\", \"Rajasthan\", \"West Bengal\"], \"yaxis\": \"y\"}, {\"customdata\": [[1204, 14], [969, 8], [184, 5], [1204, 4], [17, 2], [473, 2], [969, 2], [60, 2], [17, 1], [184, 1], [1204, 1], [11, 1], [21, 1]], \"hovertemplate\": \"keys=Contact,Investigation in Progress<br>dateannounced=%{x}<br>detectedstate=%{y}<br>total_ct_daily_log=%{marker.size}<br>total_ct=%{customdata[0]}<br>counts=%{customdata[1]}<extra></extra>\", \"legendgroup\": \"Contact,Investigation in Progress\", \"marker\": {\"color\": \"#FFA15A\", \"size\": [3.912023005428146, 2.995732273553991, 2.0794415416798357, 4.454347296253507, 1.0986122886681098, 3.044522437723423, 2.6390573296152584, 2.70805020110221, 0.6931471805599453, 0.6931471805599453, 2.0794415416798357, 1.0986122886681098, 0.0], \"sizemode\": \"area\", \"sizeref\": 0.014687326827130077, \"symbol\": \"circle\"}, \"mode\": \"markers\", \"name\": \"Contact,Investigation in Progress\", \"showlegend\": true, \"type\": \"scatter\", \"x\": [\"2020-04-06\", \"2020-03-30\", \"2020-03-22\", \"2020-04-05\", \"2020-03-21\", \"2020-03-31\", \"2020-03-31\", \"2020-04-03\", \"2020-03-20\", \"2020-03-23\", \"2020-03-25\", \"2020-03-28\", \"2020-04-02\"], \"xaxis\": \"x\", \"y\": [\"Tamil Nadu\", \"Rajasthan\", \"Punjab\", \"Tamil Nadu\", \"Ladakh\", \"Andhra Pradesh\", \"Rajasthan\", \"Odisha\", \"Ladakh\", \"Punjab\", \"Tamil Nadu\", \"Andaman and Nicobar Islands\", \"Chandigarh\"], \"yaxis\": \"y\"}, {\"customdata\": [[2455, 12], [1204, 10], [614, 10], [190, 5], [2455, 5], [2455, 4], [258, 3], [614, 3], [258, 3], [258, 3], [386, 3], [473, 3], [1204, 3], [473, 3], [2455, 2], [258, 2], [258, 2], [2455, 2], [969, 2], [278, 2], [258, 2], [1204, 2], [35, 2], [2455, 2], [258, 2], [657, 2], [2455, 2], [258, 1], [1204, 1], [258, 1], [969, 1], [17, 1], [1510, 1], [258, 1], [657, 1], [592, 1], [657, 1], [258, 1], [386, 1], [184, 1], [21, 1], [258, 1], [184, 1], [386, 1], [258, 1], [198, 1], [386, 1], [31, 1], [386, 1], [278, 1], [617, 1], [11, 1], [657, 1], [190, 1], [617, 1], [258, 1], [617, 1], [386, 1], [1204, 1], [386, 1], [473, 1], [386, 1], [969, 1], [386, 1], [657, 1]], \"hovertemplate\": \"keys=Contact,Travel<br>dateannounced=%{x}<br>detectedstate=%{y}<br>total_ct_daily_log=%{marker.size}<br>total_ct=%{customdata[0]}<br>counts=%{customdata[1]}<extra></extra>\", \"legendgroup\": \"Contact,Travel\", \"marker\": {\"color\": \"#19d3f3\", \"size\": [3.332204510175204, 2.833213344056216, 3.8501476017100584, 1.6094379124341003, 1.791759469228055, 1.791759469228055, 2.302585092994046, 1.3862943611198906, 2.5649493574615367, 2.4849066497880004, 2.4849066497880004, 3.044522437723423, 2.1972245773362196, 1.791759469228055, 1.9459101490553132, 1.3862943611198906, 2.0794415416798357, 2.1972245773362196, 0.6931471805599453, 2.5649493574615367, 2.4849066497880004, 4.04305126783455, 0.6931471805599453, 0.6931471805599453, 1.9459101490553132, 2.0794415416798357, 1.0986122886681098, 0.0, 0.0, 0.0, 0.0, 1.6094379124341003, 0.0, 1.0986122886681098, 0.6931471805599453, 0.0, 0.6931471805599453, 1.3862943611198906, 2.4849066497880004, 1.9459101490553132, 0.6931471805599453, 2.4849066497880004, 2.3978952727983707, 2.1972245773362196, 2.302585092994046, 0.6931471805599453, 2.302585092994046, 0.6931471805599453, 1.0986122886681098, 1.791759469228055, 1.0986122886681098, 1.6094379124341003, 1.3862943611198906, 0.6931471805599453, 1.3862943611198906, 1.791759469228055, 2.4849066497880004, 3.332204510175204, 1.0986122886681098, 2.6390573296152584, 0.6931471805599453, 2.1972245773362196, 1.791759469228055, 2.9444389791664403, 1.3862943611198906], \"sizemode\": \"area\", \"sizeref\": 0.014687326827130077, \"symbol\": \"circle\"}, \"mode\": \"markers\", \"name\": \"Contact,Travel\", \"showlegend\": true, \"type\": \"scatter\", \"x\": [\"2020-03-27\", \"2020-03-30\", \"2020-04-03\", \"2020-03-27\", \"2020-03-11\", \"2020-03-15\", \"2020-03-25\", \"2020-03-20\", \"2020-03-31\", \"2020-04-07\", \"2020-04-09\", \"2020-03-31\", \"2020-03-27\", \"2020-03-28\", \"2020-03-16\", \"2020-03-26\", \"2020-03-24\", \"2020-03-14\", \"2020-03-19\", \"2020-03-28\", \"2020-03-28\", \"2020-03-31\", \"2020-03-19\", \"2020-03-09\", \"2020-04-05\", \"2020-03-31\", \"2020-03-10\", \"2020-03-12\", \"2020-03-18\", \"2020-03-09\", \"2020-03-04\", \"2020-03-17\", \"2020-03-13\", \"2020-03-10\", \"2020-03-17\", \"2020-03-17\", \"2020-03-09\", \"2020-03-17\", \"2020-03-20\", \"2020-04-08\", \"2020-03-31\", \"2020-04-06\", \"2020-04-06\", \"2020-04-08\", \"2020-04-10\", \"2020-03-21\", \"2020-04-11\", \"2020-04-13\", \"2020-04-13\", \"2020-03-27\", \"2020-03-27\", \"2020-03-27\", \"2020-03-21\", \"2020-03-21\", \"2020-03-22\", \"2020-03-22\", \"2020-03-23\", \"2020-03-23\", \"2020-03-23\", \"2020-03-24\", \"2020-03-25\", \"2020-03-25\", \"2020-03-25\", \"2020-03-26\", \"2020-03-26\"], \"xaxis\": \"x\", \"y\": [\"Maharashtra\", \"Tamil Nadu\", \"Madhya Pradesh\", \"West Bengal\", \"Maharashtra\", \"Maharashtra\", \"Karnataka\", \"Madhya Pradesh\", \"Karnataka\", \"Karnataka\", \"Kerala\", \"Andhra Pradesh\", \"Tamil Nadu\", \"Andhra Pradesh\", \"Maharashtra\", \"Karnataka\", \"Karnataka\", \"Maharashtra\", \"Rajasthan\", \"Jammu and Kashmir\", \"Karnataka\", \"Tamil Nadu\", \"Uttarakhand\", \"Maharashtra\", \"Karnataka\", \"Uttar Pradesh\", \"Maharashtra\", \"Karnataka\", \"Tamil Nadu\", \"Karnataka\", \"Rajasthan\", \"Ladakh\", \"Delhi\", \"Karnataka\", \"Uttar Pradesh\", \"Telangana\", \"Uttar Pradesh\", \"Karnataka\", \"Kerala\", \"Punjab\", \"Chandigarh\", \"Karnataka\", \"Punjab\", \"Kerala\", \"Karnataka\", \"Haryana\", \"Kerala\", \"Assam\", \"Kerala\", \"Jammu and Kashmir\", \"Gujarat\", \"Andaman and Nicobar Islands\", \"Uttar Pradesh\", \"West Bengal\", \"Gujarat\", \"Karnataka\", \"Gujarat\", \"Kerala\", \"Tamil Nadu\", \"Kerala\", \"Andhra Pradesh\", \"Kerala\", \"Rajasthan\", \"Kerala\", \"Uttar Pradesh\"], \"yaxis\": \"y\"}, {\"customdata\": [[969, 7], [258, 1], [473, 1], [1204, 1]], \"hovertemplate\": \"keys=Contact,Investigation in Progress,Travel<br>dateannounced=%{x}<br>detectedstate=%{y}<br>total_ct_daily_log=%{marker.size}<br>total_ct=%{customdata[0]}<br>counts=%{customdata[1]}<extra></extra>\", \"legendgroup\": \"Contact,Investigation in Progress,Travel\", \"marker\": {\"color\": \"#FF6692\", \"size\": [3.828641396489095, 2.6390573296152584, 3.044522437723423, 2.0794415416798357], \"sizemode\": \"area\", \"sizeref\": 0.014687326827130077, \"symbol\": \"circle\"}, \"mode\": \"markers\", \"name\": \"Contact,Investigation in Progress,Travel\", \"showlegend\": true, \"type\": \"scatter\", \"x\": [\"2020-04-03\", \"2020-04-02\", \"2020-03-31\", \"2020-03-25\"], \"xaxis\": \"x\", \"y\": [\"Rajasthan\", \"Karnataka\", \"Andhra Pradesh\", \"Tamil Nadu\"], \"yaxis\": \"y\"}, {\"customdata\": [[969, 5], [592, 2], [969, 2], [1510, 1], [657, 1]], \"hovertemplate\": \"keys=Contact,Govt Staff<br>dateannounced=%{x}<br>detectedstate=%{y}<br>total_ct_daily_log=%{marker.size}<br>total_ct=%{customdata[0]}<br>counts=%{customdata[1]}<extra></extra>\", \"legendgroup\": \"Contact,Govt Staff\", \"marker\": {\"color\": \"#B6E880\", \"size\": [1.9459101490553132, 1.3862943611198906, 1.791759469228055, 1.3862943611198906, 2.5649493574615367], \"sizemode\": \"area\", \"sizeref\": 0.014687326827130077, \"symbol\": \"circle\"}, \"mode\": \"markers\", \"name\": \"Contact,Govt Staff\", \"showlegend\": true, \"type\": \"scatter\", \"x\": [\"2020-03-21\", \"2020-03-26\", \"2020-03-25\", \"2020-03-26\", \"2020-04-01\"], \"xaxis\": \"x\", \"y\": [\"Rajasthan\", \"Telangana\", \"Rajasthan\", \"Delhi\", \"Uttar Pradesh\"], \"yaxis\": \"y\"}, {\"customdata\": [[969, 5], [258, 1], [17, 1], [657, 1], [1510, 1], [386, 1], [198, 1], [969, 1], [198, 1], [614, 1], [969, 1], [1510, 1]], \"hovertemplate\": \"keys=Govt Staff<br>dateannounced=%{x}<br>detectedstate=%{y}<br>total_ct_daily_log=%{marker.size}<br>total_ct=%{customdata[0]}<br>counts=%{customdata[1]}<extra></extra>\", \"legendgroup\": \"Govt Staff\", \"marker\": {\"color\": \"#FF97FF\", \"size\": [2.0794415416798357, 1.3862943611198906, 1.6094379124341003, 0.6931471805599453, 0.0, 2.6390573296152584, 0.0, 1.791759469228055, 0.0, 2.302585092994046, 1.6094379124341003, 3.4657359027997265], \"sizemode\": \"area\", \"sizeref\": 0.014687326827130077, \"symbol\": \"circle\"}, \"mode\": \"markers\", \"name\": \"Govt Staff\", \"showlegend\": true, \"type\": \"scatter\", \"x\": [\"2020-03-20\", \"2020-03-17\", \"2020-03-17\", \"2020-03-18\", \"2020-03-22\", \"2020-03-24\", \"2020-03-25\", \"2020-03-25\", \"2020-03-26\", \"2020-03-28\", \"2020-03-29\", \"2020-04-01\"], \"xaxis\": \"x\", \"y\": [\"Rajasthan\", \"Karnataka\", \"Ladakh\", \"Uttar Pradesh\", \"Delhi\", \"Kerala\", \"Haryana\", \"Rajasthan\", \"Haryana\", \"Madhya Pradesh\", \"Rajasthan\", \"Delhi\"], \"yaxis\": \"y\"}, {\"customdata\": [[614, 5], [657, 1], [592, 1], [184, 1], [386, 1]], \"hovertemplate\": \"keys=Contact,No Travel History,Travel<br>dateannounced=%{x}<br>detectedstate=%{y}<br>total_ct_daily_log=%{marker.size}<br>total_ct=%{customdata[0]}<br>counts=%{customdata[1]}<extra></extra>\", \"legendgroup\": \"Contact,No Travel History,Travel\", \"marker\": {\"color\": \"#FECB52\", \"size\": [2.302585092994046, 0.0, 1.791759469228055, 0.6931471805599453, 2.9444389791664403], \"sizemode\": \"area\", \"sizeref\": 0.014687326827130077, \"symbol\": \"circle\"}, \"mode\": \"markers\", \"name\": \"Contact,No Travel History,Travel\", \"showlegend\": true, \"type\": \"scatter\", \"x\": [\"2020-03-28\", \"2020-03-24\", \"2020-03-23\", \"2020-03-25\", \"2020-03-26\"], \"xaxis\": \"x\", \"y\": [\"Madhya Pradesh\", \"Uttar Pradesh\", \"Telangana\", \"Punjab\", \"Kerala\"], \"yaxis\": \"y\"}, {\"customdata\": [[60, 5]], \"hovertemplate\": \"keys=Investigation in Progress,Tenant<br>dateannounced=%{x}<br>detectedstate=%{y}<br>total_ct_daily_log=%{marker.size}<br>total_ct=%{customdata[0]}<br>counts=%{customdata[1]}<extra></extra>\", \"legendgroup\": \"Investigation in Progress,Tenant\", \"marker\": {\"color\": \"#636efa\", \"size\": [2.70805020110221], \"sizemode\": \"area\", \"sizeref\": 0.014687326827130077, \"symbol\": \"circle\"}, \"mode\": \"markers\", \"name\": \"Investigation in Progress,Tenant\", \"showlegend\": true, \"type\": \"scatter\", \"x\": [\"2020-04-03\"], \"xaxis\": \"x\", \"y\": [\"Odisha\"], \"yaxis\": \"y\"}, {\"customdata\": [[1510, 4], [184, 2], [66, 1], [617, 1], [190, 1], [657, 1], [1204, 1], [190, 1], [1204, 1], [1204, 1], [258, 1], [66, 1], [1204, 1], [617, 1], [1510, 1]], \"hovertemplate\": \"keys=No Travel History,Travel<br>dateannounced=%{x}<br>detectedstate=%{y}<br>total_ct_daily_log=%{marker.size}<br>total_ct=%{customdata[0]}<br>counts=%{customdata[1]}<extra></extra>\", \"legendgroup\": \"No Travel History,Travel\", \"marker\": {\"color\": \"#EF553B\", \"size\": [1.6094379124341003, 1.0986122886681098, 0.6931471805599453, 2.5649493574615367, 2.70805020110221, 3.1780538303479458, 2.833213344056216, 1.0986122886681098, 1.3862943611198906, 2.1972245773362196, 2.1972245773362196, 1.0986122886681098, 1.791759469228055, 1.9459101490553132, 0.0], \"sizemode\": \"area\", \"sizeref\": 0.014687326827130077, \"symbol\": \"circle\"}, \"mode\": \"markers\", \"name\": \"No Travel History,Travel\", \"showlegend\": true, \"type\": \"scatter\", \"x\": [\"2020-03-25\", \"2020-04-05\", \"2020-03-27\", \"2020-04-04\", \"2020-03-31\", \"2020-03-30\", \"2020-03-30\", \"2020-03-29\", \"2020-03-28\", \"2020-03-27\", \"2020-03-27\", \"2020-03-26\", \"2020-03-24\", \"2020-03-21\", \"2020-03-09\"], \"xaxis\": \"x\", \"y\": [\"Delhi\", \"Punjab\", \"Bihar\", \"Gujarat\", \"West Bengal\", \"Uttar Pradesh\", \"Tamil Nadu\", \"West Bengal\", \"Tamil Nadu\", \"Tamil Nadu\", \"Karnataka\", \"Bihar\", \"Tamil Nadu\", \"Gujarat\", \"Delhi\"], \"yaxis\": \"y\"}, {\"customdata\": [[969, 4], [11, 4], [2455, 3], [2455, 2], [657, 1], [1510, 1], [11, 1], [969, 1], [617, 1], [184, 1], [617, 1], [969, 1], [1204, 1], [184, 1], [258, 1], [258, 1]], \"hovertemplate\": \"keys=Domestic Travel<br>dateannounced=%{x}<br>detectedstate=%{y}<br>total_ct_daily_log=%{marker.size}<br>total_ct=%{customdata[0]}<br>counts=%{customdata[1]}<extra></extra>\", \"legendgroup\": \"Domestic Travel\", \"marker\": {\"color\": \"#00cc96\", \"size\": [4.0943445622221, 1.6094379124341003, 3.332204510175204, 3.332204510175204, 1.9459101490553132, 1.6094379124341003, 0.0, 1.3862943611198906, 2.0794415416798357, 1.791759469228055, 2.5649493574615367, 3.295836866004329, 3.912023005428146, 2.995732273553991, 2.772588722239781, 2.833213344056216], \"sizemode\": \"area\", \"sizeref\": 0.014687326827130077, \"symbol\": \"circle\"}, \"mode\": \"markers\", \"name\": \"Domestic Travel\", \"showlegend\": true, \"type\": \"scatter\", \"x\": [\"2020-04-05\", \"2020-03-27\", \"2020-03-28\", \"2020-03-27\", \"2020-03-04\", \"2020-03-25\", \"2020-03-26\", \"2020-03-28\", \"2020-03-29\", \"2020-04-03\", \"2020-04-04\", \"2020-04-04\", \"2020-04-06\", \"2020-04-07\", \"2020-04-09\", \"2020-04-12\"], \"xaxis\": \"x\", \"y\": [\"Rajasthan\", \"Andaman and Nicobar Islands\", \"Maharashtra\", \"Maharashtra\", \"Uttar Pradesh\", \"Delhi\", \"Andaman and Nicobar Islands\", \"Rajasthan\", \"Gujarat\", \"Punjab\", \"Gujarat\", \"Rajasthan\", \"Tamil Nadu\", \"Punjab\", \"Karnataka\", \"Karnataka\"], \"yaxis\": \"y\"}, {\"customdata\": [[258, 3]], \"hovertemplate\": \"keys=Investigation in Progress<br>dateannounced=%{x}<br>detectedstate=%{y}<br>total_ct_daily_log=%{marker.size}<br>total_ct=%{customdata[0]}<br>counts=%{customdata[1]}<extra></extra>\", \"legendgroup\": \"Investigation in Progress\", \"marker\": {\"color\": \"#ab63fa\", \"size\": [2.772588722239781], \"sizemode\": \"area\", \"sizeref\": 0.014687326827130077, \"symbol\": \"circle\"}, \"mode\": \"markers\", \"name\": \"Investigation in Progress\", \"showlegend\": true, \"type\": \"scatter\", \"x\": [\"2020-04-04\"], \"xaxis\": \"x\", \"y\": [\"Karnataka\"], \"yaxis\": \"y\"}, {\"customdata\": [[969, 3], [1510, 1], [1, 1], [190, 1], [35, 1], [592, 1], [2455, 1], [657, 1], [386, 1], [198, 1], [969, 1], [386, 1], [32, 1], [657, 1], [473, 1], [33, 1]], \"hovertemplate\": \"keys=Govt Staff,Travel<br>dateannounced=%{x}<br>detectedstate=%{y}<br>total_ct_daily_log=%{marker.size}<br>total_ct=%{customdata[0]}<br>counts=%{customdata[1]}<extra></extra>\", \"legendgroup\": \"Govt Staff,Travel\", \"marker\": {\"color\": \"#FFA15A\", \"size\": [3.828641396489095, 3.4657359027997265, 0.0, 1.0986122886681098, 0.0, 2.0794415416798357, 1.0986122886681098, 0.6931471805599453, 0.6931471805599453, 0.6931471805599453, 2.0794415416798357, 2.70805020110221, 0.0, 1.3862943611198906, 0.6931471805599453, 0.6931471805599453], \"sizemode\": \"area\", \"sizeref\": 0.014687326827130077, \"symbol\": \"circle\"}, \"mode\": \"markers\", \"name\": \"Govt Staff,Travel\", \"showlegend\": true, \"type\": \"scatter\", \"x\": [\"2020-04-03\", \"2020-04-01\", \"2020-04-13\", \"2020-03-29\", \"2020-03-28\", \"2020-03-28\", \"2020-03-12\", \"2020-03-12\", \"2020-03-15\", \"2020-03-28\", \"2020-03-20\", \"2020-03-22\", \"2020-03-23\", \"2020-03-23\", \"2020-03-25\", \"2020-03-25\"], \"xaxis\": \"x\", \"y\": [\"Rajasthan\", \"Delhi\", \"Meghalaya\", \"West Bengal\", \"Uttarakhand\", \"Telangana\", \"Maharashtra\", \"Uttar Pradesh\", \"Kerala\", \"Haryana\", \"Rajasthan\", \"Kerala\", \"Himachal Pradesh\", \"Uttar Pradesh\", \"Andhra Pradesh\", \"Chhattisgarh\"], \"yaxis\": \"y\"}, {\"customdata\": [[1204, 2], [1204, 1], [190, 1]], \"hovertemplate\": \"keys=No Travel History<br>dateannounced=%{x}<br>detectedstate=%{y}<br>total_ct_daily_log=%{marker.size}<br>total_ct=%{customdata[0]}<br>counts=%{customdata[1]}<extra></extra>\", \"legendgroup\": \"No Travel History\", \"marker\": {\"color\": \"#19d3f3\", \"size\": [2.1972245773362196, 4.624972813284271, 0.0], \"sizemode\": \"area\", \"sizeref\": 0.014687326827130077, \"symbol\": \"circle\"}, \"mode\": \"markers\", \"name\": \"No Travel History\", \"showlegend\": true, \"type\": \"scatter\", \"x\": [\"2020-03-27\", \"2020-04-03\", \"2020-03-26\"], \"xaxis\": \"x\", \"y\": [\"Tamil Nadu\", \"Tamil Nadu\", \"West Bengal\"], \"yaxis\": \"y\"}, {\"customdata\": [[258, 1], [657, 1]], \"hovertemplate\": \"keys=Contact,Family<br>dateannounced=%{x}<br>detectedstate=%{y}<br>total_ct_daily_log=%{marker.size}<br>total_ct=%{customdata[0]}<br>counts=%{customdata[1]}<extra></extra>\", \"legendgroup\": \"Contact,Family\", \"marker\": {\"color\": \"#FF6692\", \"size\": [2.772588722239781, 1.3862943611198906], \"sizemode\": \"area\", \"sizeref\": 0.014687326827130077, \"symbol\": \"circle\"}, \"mode\": \"markers\", \"name\": \"Contact,Family\", \"showlegend\": true, \"type\": \"scatter\", \"x\": [\"2020-04-09\", \"2020-03-26\"], \"xaxis\": \"x\", \"y\": [\"Karnataka\", \"Uttar Pradesh\"], \"yaxis\": \"y\"}, {\"customdata\": [[184, 1]], \"hovertemplate\": \"keys=Contact,Family,Travel<br>dateannounced=%{x}<br>detectedstate=%{y}<br>total_ct_daily_log=%{marker.size}<br>total_ct=%{customdata[0]}<br>counts=%{customdata[1]}<extra></extra>\", \"legendgroup\": \"Contact,Family,Travel\", \"marker\": {\"color\": \"#B6E880\", \"size\": [0.0], \"sizemode\": \"area\", \"sizeref\": 0.014687326827130077, \"symbol\": \"circle\"}, \"mode\": \"markers\", \"name\": \"Contact,Family,Travel\", \"showlegend\": true, \"type\": \"scatter\", \"x\": [\"2020-04-02\"], \"xaxis\": \"x\", \"y\": [\"Punjab\"], \"yaxis\": \"y\"}, {\"customdata\": [[184, 1], [386, 1], [657, 1], [258, 1]], \"hovertemplate\": \"keys=Family<br>dateannounced=%{x}<br>detectedstate=%{y}<br>total_ct_daily_log=%{marker.size}<br>total_ct=%{customdata[0]}<br>counts=%{customdata[1]}<extra></extra>\", \"legendgroup\": \"Family\", \"marker\": {\"color\": \"#FF97FF\", \"size\": [2.302585092994046, 1.9459101490553132, 2.0794415416798357, 2.0794415416798357], \"sizemode\": \"area\", \"sizeref\": 0.014687326827130077, \"symbol\": \"circle\"}, \"mode\": \"markers\", \"name\": \"Family\", \"showlegend\": true, \"type\": \"scatter\", \"x\": [\"2020-03-21\", \"2020-03-31\", \"2020-03-31\", \"2020-04-11\"], \"xaxis\": \"x\", \"y\": [\"Punjab\", \"Kerala\", \"Uttar Pradesh\", \"Karnataka\"], \"yaxis\": \"y\"}, {\"customdata\": [[1510, 1]], \"hovertemplate\": \"keys=Family,Govt Staff,Investigation in Progress,Travel<br>dateannounced=%{x}<br>detectedstate=%{y}<br>total_ct_daily_log=%{marker.size}<br>total_ct=%{customdata[0]}<br>counts=%{customdata[1]}<extra></extra>\", \"legendgroup\": \"Family,Govt Staff,Investigation in Progress,Travel\", \"marker\": {\"color\": \"#FECB52\", \"size\": [3.4657359027997265], \"sizemode\": \"area\", \"sizeref\": 0.014687326827130077, \"symbol\": \"circle\"}, \"mode\": \"markers\", \"name\": \"Family,Govt Staff,Investigation in Progress,Travel\", \"showlegend\": true, \"type\": \"scatter\", \"x\": [\"2020-04-01\"], \"xaxis\": \"x\", \"y\": [\"Delhi\"], \"yaxis\": \"y\"}, {\"customdata\": [[386, 1], [592, 1], [386, 1]], \"hovertemplate\": \"keys=Family,Travel<br>dateannounced=%{x}<br>detectedstate=%{y}<br>total_ct_daily_log=%{marker.size}<br>total_ct=%{customdata[0]}<br>counts=%{customdata[1]}<extra></extra>\", \"legendgroup\": \"Family,Travel\", \"marker\": {\"color\": \"#636efa\", \"size\": [0.0, 0.6931471805599453, 2.0794415416798357], \"sizemode\": \"area\", \"sizeref\": 0.014687326827130077, \"symbol\": \"circle\"}, \"mode\": \"markers\", \"name\": \"Family,Travel\", \"showlegend\": true, \"type\": \"scatter\", \"x\": [\"2020-03-09\", \"2020-03-25\", \"2020-04-05\"], \"xaxis\": \"x\", \"y\": [\"Kerala\", \"Telangana\", \"Kerala\"], \"yaxis\": \"y\"}],\n",
       "                        {\"autosize\": false, \"height\": 1250, \"legend\": {\"itemsizing\": \"constant\", \"title\": {\"text\": \"keys\"}, \"tracegroupgap\": 0}, \"margin\": {\"t\": 60}, \"template\": {\"data\": {\"bar\": [{\"error_x\": {\"color\": \"#f2f5fa\"}, \"error_y\": {\"color\": \"#f2f5fa\"}, \"marker\": {\"line\": {\"color\": \"rgb(17,17,17)\", \"width\": 0.5}}, \"type\": \"bar\"}], \"barpolar\": [{\"marker\": {\"line\": {\"color\": \"rgb(17,17,17)\", \"width\": 0.5}}, \"type\": \"barpolar\"}], \"carpet\": [{\"aaxis\": {\"endlinecolor\": \"#A2B1C6\", \"gridcolor\": \"#506784\", \"linecolor\": \"#506784\", \"minorgridcolor\": \"#506784\", \"startlinecolor\": \"#A2B1C6\"}, \"baxis\": {\"endlinecolor\": \"#A2B1C6\", \"gridcolor\": \"#506784\", \"linecolor\": \"#506784\", \"minorgridcolor\": \"#506784\", \"startlinecolor\": \"#A2B1C6\"}, \"type\": \"carpet\"}], \"choropleth\": [{\"colorbar\": {\"outlinewidth\": 0, \"ticks\": \"\"}, \"type\": \"choropleth\"}], \"contour\": [{\"colorbar\": {\"outlinewidth\": 0, \"ticks\": \"\"}, \"colorscale\": [[0.0, \"#0d0887\"], [0.1111111111111111, \"#46039f\"], [0.2222222222222222, \"#7201a8\"], [0.3333333333333333, \"#9c179e\"], [0.4444444444444444, \"#bd3786\"], [0.5555555555555556, \"#d8576b\"], [0.6666666666666666, \"#ed7953\"], [0.7777777777777778, \"#fb9f3a\"], [0.8888888888888888, \"#fdca26\"], [1.0, \"#f0f921\"]], \"type\": \"contour\"}], \"contourcarpet\": [{\"colorbar\": {\"outlinewidth\": 0, \"ticks\": \"\"}, \"type\": \"contourcarpet\"}], \"heatmap\": [{\"colorbar\": {\"outlinewidth\": 0, \"ticks\": \"\"}, \"colorscale\": [[0.0, \"#0d0887\"], [0.1111111111111111, \"#46039f\"], [0.2222222222222222, \"#7201a8\"], [0.3333333333333333, \"#9c179e\"], [0.4444444444444444, \"#bd3786\"], [0.5555555555555556, \"#d8576b\"], [0.6666666666666666, \"#ed7953\"], [0.7777777777777778, \"#fb9f3a\"], [0.8888888888888888, \"#fdca26\"], [1.0, \"#f0f921\"]], \"type\": \"heatmap\"}], \"heatmapgl\": [{\"colorbar\": {\"outlinewidth\": 0, \"ticks\": \"\"}, \"colorscale\": [[0.0, \"#0d0887\"], [0.1111111111111111, \"#46039f\"], [0.2222222222222222, \"#7201a8\"], [0.3333333333333333, \"#9c179e\"], [0.4444444444444444, \"#bd3786\"], [0.5555555555555556, \"#d8576b\"], [0.6666666666666666, \"#ed7953\"], [0.7777777777777778, \"#fb9f3a\"], [0.8888888888888888, \"#fdca26\"], [1.0, \"#f0f921\"]], \"type\": \"heatmapgl\"}], \"histogram\": [{\"marker\": {\"colorbar\": {\"outlinewidth\": 0, \"ticks\": \"\"}}, \"type\": \"histogram\"}], \"histogram2d\": [{\"colorbar\": {\"outlinewidth\": 0, \"ticks\": \"\"}, \"colorscale\": [[0.0, \"#0d0887\"], [0.1111111111111111, \"#46039f\"], [0.2222222222222222, \"#7201a8\"], [0.3333333333333333, \"#9c179e\"], [0.4444444444444444, \"#bd3786\"], [0.5555555555555556, \"#d8576b\"], [0.6666666666666666, \"#ed7953\"], [0.7777777777777778, \"#fb9f3a\"], [0.8888888888888888, \"#fdca26\"], [1.0, \"#f0f921\"]], \"type\": \"histogram2d\"}], \"histogram2dcontour\": [{\"colorbar\": {\"outlinewidth\": 0, \"ticks\": \"\"}, \"colorscale\": [[0.0, \"#0d0887\"], [0.1111111111111111, \"#46039f\"], [0.2222222222222222, \"#7201a8\"], [0.3333333333333333, \"#9c179e\"], [0.4444444444444444, \"#bd3786\"], [0.5555555555555556, \"#d8576b\"], [0.6666666666666666, \"#ed7953\"], [0.7777777777777778, \"#fb9f3a\"], [0.8888888888888888, \"#fdca26\"], [1.0, \"#f0f921\"]], \"type\": \"histogram2dcontour\"}], \"mesh3d\": [{\"colorbar\": {\"outlinewidth\": 0, \"ticks\": \"\"}, \"type\": \"mesh3d\"}], \"parcoords\": [{\"line\": {\"colorbar\": {\"outlinewidth\": 0, \"ticks\": \"\"}}, \"type\": \"parcoords\"}], \"pie\": [{\"automargin\": true, \"type\": \"pie\"}], \"scatter\": [{\"marker\": {\"line\": {\"color\": \"#283442\"}}, \"type\": \"scatter\"}], \"scatter3d\": [{\"line\": {\"colorbar\": {\"outlinewidth\": 0, \"ticks\": \"\"}}, \"marker\": {\"colorbar\": {\"outlinewidth\": 0, \"ticks\": \"\"}}, \"type\": \"scatter3d\"}], \"scattercarpet\": [{\"marker\": {\"colorbar\": {\"outlinewidth\": 0, \"ticks\": \"\"}}, \"type\": \"scattercarpet\"}], \"scattergeo\": [{\"marker\": {\"colorbar\": {\"outlinewidth\": 0, \"ticks\": \"\"}}, \"type\": \"scattergeo\"}], \"scattergl\": [{\"marker\": {\"line\": {\"color\": \"#283442\"}}, \"type\": \"scattergl\"}], \"scattermapbox\": [{\"marker\": {\"colorbar\": {\"outlinewidth\": 0, \"ticks\": \"\"}}, \"type\": \"scattermapbox\"}], \"scatterpolar\": [{\"marker\": {\"colorbar\": {\"outlinewidth\": 0, \"ticks\": \"\"}}, \"type\": \"scatterpolar\"}], \"scatterpolargl\": [{\"marker\": {\"colorbar\": {\"outlinewidth\": 0, \"ticks\": \"\"}}, \"type\": \"scatterpolargl\"}], \"scatterternary\": [{\"marker\": {\"colorbar\": {\"outlinewidth\": 0, \"ticks\": \"\"}}, \"type\": \"scatterternary\"}], \"surface\": [{\"colorbar\": {\"outlinewidth\": 0, \"ticks\": \"\"}, \"colorscale\": [[0.0, \"#0d0887\"], [0.1111111111111111, \"#46039f\"], [0.2222222222222222, \"#7201a8\"], [0.3333333333333333, \"#9c179e\"], [0.4444444444444444, \"#bd3786\"], [0.5555555555555556, \"#d8576b\"], [0.6666666666666666, \"#ed7953\"], [0.7777777777777778, \"#fb9f3a\"], [0.8888888888888888, \"#fdca26\"], [1.0, \"#f0f921\"]], \"type\": \"surface\"}], \"table\": [{\"cells\": {\"fill\": {\"color\": \"#506784\"}, \"line\": {\"color\": \"rgb(17,17,17)\"}}, \"header\": {\"fill\": {\"color\": \"#2a3f5f\"}, \"line\": {\"color\": \"rgb(17,17,17)\"}}, \"type\": \"table\"}]}, \"layout\": {\"annotationdefaults\": {\"arrowcolor\": \"#f2f5fa\", \"arrowhead\": 0, \"arrowwidth\": 1}, \"coloraxis\": {\"colorbar\": {\"outlinewidth\": 0, \"ticks\": \"\"}}, \"colorscale\": {\"diverging\": [[0, \"#8e0152\"], [0.1, \"#c51b7d\"], [0.2, \"#de77ae\"], [0.3, \"#f1b6da\"], [0.4, \"#fde0ef\"], [0.5, \"#f7f7f7\"], [0.6, \"#e6f5d0\"], [0.7, \"#b8e186\"], [0.8, \"#7fbc41\"], [0.9, \"#4d9221\"], [1, \"#276419\"]], \"sequential\": [[0.0, \"#0d0887\"], [0.1111111111111111, \"#46039f\"], [0.2222222222222222, \"#7201a8\"], [0.3333333333333333, \"#9c179e\"], [0.4444444444444444, \"#bd3786\"], [0.5555555555555556, \"#d8576b\"], [0.6666666666666666, \"#ed7953\"], [0.7777777777777778, \"#fb9f3a\"], [0.8888888888888888, \"#fdca26\"], [1.0, \"#f0f921\"]], \"sequentialminus\": [[0.0, \"#0d0887\"], [0.1111111111111111, \"#46039f\"], [0.2222222222222222, \"#7201a8\"], [0.3333333333333333, \"#9c179e\"], [0.4444444444444444, \"#bd3786\"], [0.5555555555555556, \"#d8576b\"], [0.6666666666666666, \"#ed7953\"], [0.7777777777777778, \"#fb9f3a\"], [0.8888888888888888, \"#fdca26\"], [1.0, \"#f0f921\"]]}, \"colorway\": [\"#636efa\", \"#EF553B\", \"#00cc96\", \"#ab63fa\", \"#FFA15A\", \"#19d3f3\", \"#FF6692\", \"#B6E880\", \"#FF97FF\", \"#FECB52\"], \"font\": {\"color\": \"#f2f5fa\"}, \"geo\": {\"bgcolor\": \"rgb(17,17,17)\", \"lakecolor\": \"rgb(17,17,17)\", \"landcolor\": \"rgb(17,17,17)\", \"showlakes\": true, \"showland\": true, \"subunitcolor\": \"#506784\"}, \"hoverlabel\": {\"align\": \"left\"}, \"hovermode\": \"closest\", \"mapbox\": {\"style\": \"dark\"}, \"paper_bgcolor\": \"rgb(17,17,17)\", \"plot_bgcolor\": \"rgb(17,17,17)\", \"polar\": {\"angularaxis\": {\"gridcolor\": \"#506784\", \"linecolor\": \"#506784\", \"ticks\": \"\"}, \"bgcolor\": \"rgb(17,17,17)\", \"radialaxis\": {\"gridcolor\": \"#506784\", \"linecolor\": \"#506784\", \"ticks\": \"\"}}, \"scene\": {\"xaxis\": {\"backgroundcolor\": \"rgb(17,17,17)\", \"gridcolor\": \"#506784\", \"gridwidth\": 2, \"linecolor\": \"#506784\", \"showbackground\": true, \"ticks\": \"\", \"zerolinecolor\": \"#C8D4E3\"}, \"yaxis\": {\"backgroundcolor\": \"rgb(17,17,17)\", \"gridcolor\": \"#506784\", \"gridwidth\": 2, \"linecolor\": \"#506784\", \"showbackground\": true, \"ticks\": \"\", \"zerolinecolor\": \"#C8D4E3\"}, \"zaxis\": {\"backgroundcolor\": \"rgb(17,17,17)\", \"gridcolor\": \"#506784\", \"gridwidth\": 2, \"linecolor\": \"#506784\", \"showbackground\": true, \"ticks\": \"\", \"zerolinecolor\": \"#C8D4E3\"}}, \"shapedefaults\": {\"line\": {\"color\": \"#f2f5fa\"}}, \"sliderdefaults\": {\"bgcolor\": \"#C8D4E3\", \"bordercolor\": \"rgb(17,17,17)\", \"borderwidth\": 1, \"tickwidth\": 0}, \"ternary\": {\"aaxis\": {\"gridcolor\": \"#506784\", \"linecolor\": \"#506784\", \"ticks\": \"\"}, \"baxis\": {\"gridcolor\": \"#506784\", \"linecolor\": \"#506784\", \"ticks\": \"\"}, \"bgcolor\": \"rgb(17,17,17)\", \"caxis\": {\"gridcolor\": \"#506784\", \"linecolor\": \"#506784\", \"ticks\": \"\"}}, \"title\": {\"x\": 0.05}, \"updatemenudefaults\": {\"bgcolor\": \"#506784\", \"borderwidth\": 0}, \"xaxis\": {\"automargin\": true, \"gridcolor\": \"#283442\", \"linecolor\": \"#506784\", \"ticks\": \"\", \"title\": {\"standoff\": 15}, \"zerolinecolor\": \"#283442\", \"zerolinewidth\": 2}, \"yaxis\": {\"automargin\": true, \"gridcolor\": \"#283442\", \"linecolor\": \"#506784\", \"ticks\": \"\", \"title\": {\"standoff\": 15}, \"zerolinecolor\": \"#283442\", \"zerolinewidth\": 2}}}, \"title\": {\"text\": \"Total Cases:11040\"}, \"width\": 2500, \"xaxis\": {\"anchor\": \"y\", \"domain\": [0.0, 1.0], \"tickmode\": \"linear\", \"title\": {\"text\": \"dateannounced\"}}, \"yaxis\": {\"anchor\": \"x\", \"domain\": [0.0, 1.0], \"title\": {\"text\": \"detectedstate\"}}},\n",
       "                        {\"responsive\": true}\n",
       "                    ).then(function(){\n",
       "                            \n",
       "var gd = document.getElementById('0fc4ccd3-a696-4e47-87b5-3c87d589db9b');\n",
       "var x = new MutationObserver(function (mutations, observer) {{\n",
       "        var display = window.getComputedStyle(gd).display;\n",
       "        if (!display || display === 'none') {{\n",
       "            console.log([gd, 'removed!']);\n",
       "            Plotly.purge(gd);\n",
       "            observer.disconnect();\n",
       "        }}\n",
       "}});\n",
       "\n",
       "// Listen for the removal of the full notebook cells\n",
       "var notebookContainer = gd.closest('#notebook-container');\n",
       "if (notebookContainer) {{\n",
       "    x.observe(notebookContainer, {childList: true});\n",
       "}}\n",
       "\n",
       "// Listen for the clearing of the current output cell\n",
       "var outputEl = gd.closest('.output');\n",
       "if (outputEl) {{\n",
       "    x.observe(outputEl, {childList: true});\n",
       "}}\n",
       "\n",
       "                        })\n",
       "                };\n",
       "                });\n",
       "            </script>\n",
       "        </div>"
      ]
     },
     "metadata": {},
     "output_type": "display_data"
    }
   ],
   "source": [
    "df1 = df[df['keys']!='_']\n",
    "df1 = df1[df1['keys']!='N_A']\n",
    "#dateannounced\n",
    "#df1 = df1[df1['travel']==True]\n",
    "print(len(df1))\n",
    "dfa = pd.DataFrame(df1.groupby(['keys', 'dateannounced','detectedstate']).size().reset_index(name='counts'))\n",
    "dfa = dfa.sort_values(by=['counts'], ascending=False)\n",
    "dfa['total_ct'] = dfa.groupby('detectedstate')['counts'].transform('sum')\n",
    "dfa['total_ct_daily'] = dfa.groupby(['dateannounced','detectedstate'])['counts'].transform('sum')\n",
    "dfa['total_ct_daily_log'] = np.log(dfa['total_ct_daily'])\n",
    "#dfa = dfa.sort_values(by=['detectedstate'])\n",
    "#dfa = dfa.sort_values(by=['total_ct'])\n",
    "fig = px.scatter(dfa, y='detectedstate', size='total_ct_daily_log', color='keys', \n",
    "                 x='dateannounced', template='plotly_dark', \n",
    "                 hover_data=['total_ct','counts'])#,range_x=['2020-03-01','2020-04-17'])\n",
    "fig.update_layout(\n",
    "    autosize=False,\n",
    "    width=2500,\n",
    "    height=1250,\n",
    "    title_text='Total Cases:'+str(len(df)),\n",
    "    xaxis=dict(\n",
    "        tickmode='linear')\n",
    "    )\n",
    "\n",
    "fig.show()\n",
    "fig.write_html(\"scatter_plot_breakdown.html\")"
   ]
  },
  {
   "cell_type": "code",
   "execution_count": 83,
   "metadata": {},
   "outputs": [
    {
     "name": "stdout",
     "output_type": "stream",
     "text": [
      "11040\n"
     ]
    },
    {
     "data": {
      "application/vnd.plotly.v1+json": {
       "config": {
        "plotlyServerURL": "https://plot.ly"
       },
       "data": [
        {
         "alignmentgroup": "True",
         "customdata": [
          [
           2455,
           4503,
           "NA"
          ],
          [
           1510,
           4503,
           "NA"
          ],
          [
           2455,
           2043,
           "NA"
          ],
          [
           969,
           4503,
           "NA"
          ],
          [
           2455,
           1678,
           "NA"
          ],
          [
           1204,
           4503,
           "NA"
          ],
          [
           1510,
           2043,
           "NA"
          ],
          [
           614,
           4503,
           "NA"
          ],
          [
           1510,
           1678,
           "NA"
          ],
          [
           617,
           4503,
           "NA"
          ],
          [
           592,
           2043,
           "NA"
          ],
          [
           592,
           4503,
           "NA"
          ],
          [
           657,
           1678,
           "NA"
          ],
          [
           473,
           2043,
           "NA"
          ],
          [
           969,
           1678,
           "NA"
          ],
          [
           473,
           4503,
           "NA"
          ],
          [
           657,
           4503,
           "NA"
          ],
          [
           614,
           2043,
           "NA"
          ],
          [
           278,
           4503,
           "NA"
          ],
          [
           657,
           2043,
           "NA"
          ],
          [
           1204,
           1678,
           "NA"
          ],
          [
           969,
           2043,
           "NA"
          ],
          [
           617,
           1678,
           "NA"
          ],
          [
           2455,
           286,
           "NA"
          ],
          [
           198,
           4503,
           "NA"
          ],
          [
           592,
           1678,
           "NA"
          ],
          [
           190,
           2043,
           "NA"
          ],
          [
           184,
           4503,
           "NA"
          ],
          [
           190,
           1678,
           "NA"
          ],
          [
           190,
           4503,
           "NA"
          ],
          [
           473,
           1678,
           "NA"
          ],
          [
           614,
           1678,
           "NA"
          ],
          [
           386,
           2043,
           "NA"
          ],
          [
           198,
           2043,
           "NA"
          ],
          [
           278,
           2043,
           "NA"
          ],
          [
           278,
           1678,
           "NA"
          ],
          [
           1510,
           286,
           "NA"
          ],
          [
           60,
           2043,
           "NA"
          ],
          [
           657,
           286,
           "NA"
          ],
          [
           592,
           286,
           "NA"
          ],
          [
           33,
           4503,
           "NA"
          ],
          [
           617,
           286,
           "NA"
          ],
          [
           969,
           286,
           "NA"
          ],
          [
           386,
           4503,
           "NA"
          ],
          [
           614,
           286,
           "NA"
          ],
          [
           35,
           2043,
           "NA"
          ],
          [
           258,
           4503,
           "NA"
          ],
          [
           278,
           286,
           "NA"
          ],
          [
           184,
           2043,
           "NA"
          ],
          [
           617,
           2043,
           "NA"
          ],
          [
           60,
           4503,
           "NA"
          ],
          [
           386,
           286,
           "NA"
          ],
          [
           198,
           286,
           "NA"
          ],
          [
           32,
           4503,
           "NA"
          ],
          [
           35,
           4503,
           "NA"
          ],
          [
           66,
           4503,
           "NA"
          ],
          [
           1204,
           2043,
           "NA"
          ],
          [
           184,
           286,
           "NA"
          ],
          [
           66,
           286,
           "NA"
          ],
          [
           969,
           29,
           "NA"
          ],
          [
           1510,
           29,
           "NA"
          ],
          [
           2455,
           29,
           "NA"
          ],
          [
           24,
           1678,
           "NA"
          ],
          [
           617,
           29,
           "NA"
          ],
          [
           32,
           2043,
           "NA"
          ],
          [
           24,
           4503,
           "NA"
          ],
          [
           258,
           2043,
           "NA"
          ],
          [
           66,
           2043,
           "NA"
          ],
          [
           31,
           2043,
           "NA"
          ],
          [
           184,
           1678,
           "NA"
          ],
          [
           21,
           4503,
           "NA"
          ],
          [
           33,
           286,
           "NA"
          ],
          [
           258,
           1678,
           "NA"
          ],
          [
           198,
           1678,
           "NA"
          ],
          [
           60,
           1678,
           "NA"
          ],
          [
           17,
           29,
           "NA"
          ],
          [
           33,
           1678,
           "NA"
          ],
          [
           17,
           1678,
           "NA"
          ],
          [
           7,
           2043,
           "NA"
          ],
          [
           11,
           2043,
           "NA"
          ],
          [
           190,
           286,
           "NA"
          ],
          [
           35,
           286,
           "NA"
          ],
          [
           60,
           286,
           "NA"
          ],
          [
           21,
           2043,
           "NA"
          ],
          [
           24,
           2043,
           "NA"
          ],
          [
           2,
           4503,
           "NA"
          ],
          [
           17,
           2043,
           "NA"
          ],
          [
           31,
           4503,
           "NA"
          ],
          [
           386,
           1678,
           "NA"
          ],
          [
           1,
           4503,
           "NA"
          ],
          [
           66,
           1678,
           "NA"
          ],
          [
           657,
           29,
           "NA"
          ],
          [
           17,
           1,
           "NA"
          ],
          [
           17,
           4503,
           "NA"
          ],
          [
           1,
           4503,
           "NA"
          ],
          [
           31,
           1678,
           "NA"
          ]
         ],
         "hovertemplate": "keys=%{customdata[2]}<br>detectedstate=%{x}<br>counts=%{y}<br>total_ct=%{customdata[0]}<br>total_ct_daily=%{customdata[1]}<extra></extra>",
         "legendgroup": "NA",
         "marker": {
          "color": "#636efa"
         },
         "name": "NA",
         "offsetgroup": "NA",
         "orientation": "v",
         "showlegend": true,
         "textposition": "auto",
         "type": "bar",
         "x": [
          "Maharashtra",
          "Delhi",
          "Maharashtra",
          "Rajasthan",
          "Maharashtra",
          "Tamil Nadu",
          "Delhi",
          "Madhya Pradesh",
          "Delhi",
          "Gujarat",
          "Telangana",
          "Telangana",
          "Uttar Pradesh",
          "Andhra Pradesh",
          "Rajasthan",
          "Andhra Pradesh",
          "Uttar Pradesh",
          "Madhya Pradesh",
          "Jammu and Kashmir",
          "Uttar Pradesh",
          "Tamil Nadu",
          "Rajasthan",
          "Gujarat",
          "Maharashtra",
          "Haryana",
          "Telangana",
          "West Bengal",
          "Punjab",
          "West Bengal",
          "West Bengal",
          "Andhra Pradesh",
          "Madhya Pradesh",
          "Kerala",
          "Haryana",
          "Jammu and Kashmir",
          "Jammu and Kashmir",
          "Delhi",
          "Odisha",
          "Uttar Pradesh",
          "Telangana",
          "Chhattisgarh",
          "Gujarat",
          "Rajasthan",
          "Kerala",
          "Madhya Pradesh",
          "Uttarakhand",
          "Karnataka",
          "Jammu and Kashmir",
          "Punjab",
          "Gujarat",
          "Odisha",
          "Kerala",
          "Haryana",
          "Himachal Pradesh",
          "Uttarakhand",
          "Bihar",
          "Tamil Nadu",
          "Punjab",
          "Bihar",
          "Rajasthan",
          "Delhi",
          "Maharashtra",
          "Jharkhand",
          "Gujarat",
          "Himachal Pradesh",
          "Jharkhand",
          "Karnataka",
          "Bihar",
          "Assam",
          "Punjab",
          "Chandigarh",
          "Chhattisgarh",
          "Karnataka",
          "Haryana",
          "Odisha",
          "Ladakh",
          "Chhattisgarh",
          "Ladakh",
          "Puducherry",
          "Andaman and Nicobar Islands",
          "West Bengal",
          "Uttarakhand",
          "Odisha",
          "Chandigarh",
          "Jharkhand",
          "Tripura",
          "Ladakh",
          "Assam",
          "Kerala",
          "Dadra and Nagar Haveli",
          "Bihar",
          "Uttar Pradesh",
          "Ladakh",
          "Ladakh",
          "Nagaland",
          "Assam"
         ],
         "xaxis": "x",
         "y": [
          1235,
          641,
          535,
          507,
          473,
          458,
          410,
          369,
          356,
          330,
          249,
          197,
          174,
          169,
          165,
          164,
          159,
          142,
          139,
          136,
          129,
          108,
          101,
          97,
          89,
          61,
          58,
          58,
          56,
          54,
          53,
          52,
          51,
          47,
          44,
          33,
          32,
          25,
          25,
          24,
          21,
          19,
          19,
          19,
          17,
          16,
          15,
          14,
          11,
          11,
          10,
          10,
          9,
          9,
          8,
          8,
          8,
          7,
          7,
          7,
          7,
          6,
          5,
          5,
          5,
          5,
          4,
          4,
          4,
          4,
          3,
          3,
          3,
          3,
          3,
          3,
          2,
          2,
          2,
          1,
          1,
          1,
          1,
          1,
          1,
          1,
          1,
          1,
          1,
          1,
          1,
          1,
          1,
          1,
          1,
          1
         ],
         "yaxis": "y"
        },
        {
         "alignmentgroup": "True",
         "customdata": [
          [
           1204,
           731,
           "Domestic Travel Delhi"
          ],
          [
           657,
           731,
           "Domestic Travel Delhi"
          ],
          [
           473,
           731,
           "Domestic Travel Delhi"
          ],
          [
           657,
           145,
           "Domestic Travel Delhi"
          ],
          [
           1204,
           145,
           "Domestic Travel Delhi"
          ],
          [
           31,
           731,
           "Domestic Travel Delhi"
          ],
          [
           258,
           731,
           "Domestic Travel Delhi"
          ],
          [
           1510,
           731,
           "Domestic Travel Delhi"
          ],
          [
           969,
           731,
           "Domestic Travel Delhi"
          ],
          [
           198,
           145,
           "Domestic Travel Delhi"
          ],
          [
           592,
           731,
           "Domestic Travel Delhi"
          ],
          [
           258,
           145,
           "Domestic Travel Delhi"
          ],
          [
           1510,
           145,
           "Domestic Travel Delhi"
          ],
          [
           32,
           145,
           "Domestic Travel Delhi"
          ],
          [
           617,
           731,
           "Domestic Travel Delhi"
          ],
          [
           386,
           731,
           "Domestic Travel Delhi"
          ],
          [
           32,
           731,
           "Domestic Travel Delhi"
          ],
          [
           1510,
           17,
           "Domestic Travel Delhi"
          ],
          [
           969,
           145,
           "Domestic Travel Delhi"
          ],
          [
           2455,
           731,
           "Domestic Travel Delhi"
          ],
          [
           184,
           731,
           "Domestic Travel Delhi"
          ],
          [
           386,
           145,
           "Domestic Travel Delhi"
          ],
          [
           1204,
           17,
           "Domestic Travel Delhi"
          ],
          [
           184,
           145,
           "Domestic Travel Delhi"
          ],
          [
           617,
           145,
           "Domestic Travel Delhi"
          ],
          [
           35,
           731,
           "Domestic Travel Delhi"
          ],
          [
           592,
           17,
           "Domestic Travel Delhi"
          ],
          [
           7,
           145,
           "Domestic Travel Delhi"
          ],
          [
           11,
           17,
           "Domestic Travel Delhi"
          ],
          [
           7,
           731,
           "Domestic Travel Delhi"
          ],
          [
           617,
           1,
           "Domestic Travel Delhi"
          ],
          [
           473,
           17,
           "Domestic Travel Delhi"
          ],
          [
           278,
           17,
           "Domestic Travel Delhi"
          ],
          [
           657,
           17,
           "Domestic Travel Delhi"
          ],
          [
           1,
           731,
           "Domestic Travel Delhi"
          ],
          [
           33,
           731,
           "Domestic Travel Delhi"
          ],
          [
           2,
           731,
           "Domestic Travel Delhi"
          ],
          [
           60,
           731,
           "Domestic Travel Delhi"
          ],
          [
           31,
           145,
           "Domestic Travel Delhi"
          ],
          [
           35,
           145,
           "Domestic Travel Delhi"
          ],
          [
           258,
           1,
           "Domestic Travel Delhi"
          ]
         ],
         "hovertemplate": "keys=%{customdata[2]}<br>detectedstate=%{x}<br>counts=%{y}<br>total_ct=%{customdata[0]}<br>total_ct_daily=%{customdata[1]}<extra></extra>",
         "legendgroup": "Domestic Travel Delhi",
         "marker": {
          "color": "#EF553B"
         },
         "name": "Domestic Travel Delhi",
         "offsetgroup": "Domestic Travel Delhi",
         "orientation": "v",
         "showlegend": true,
         "textposition": "auto",
         "type": "bar",
         "x": [
          "Tamil Nadu",
          "Uttar Pradesh",
          "Andhra Pradesh",
          "Uttar Pradesh",
          "Tamil Nadu",
          "Assam",
          "Karnataka",
          "Delhi",
          "Rajasthan",
          "Haryana",
          "Telangana",
          "Karnataka",
          "Delhi",
          "Himachal Pradesh",
          "Gujarat",
          "Kerala",
          "Himachal Pradesh",
          "Delhi",
          "Rajasthan",
          "Maharashtra",
          "Punjab",
          "Kerala",
          "Tamil Nadu",
          "Punjab",
          "Gujarat",
          "Uttarakhand",
          "Telangana",
          "Puducherry",
          "Andaman and Nicobar Islands",
          "Puducherry",
          "Gujarat",
          "Andhra Pradesh",
          "Jammu and Kashmir",
          "Uttar Pradesh",
          "Arunachal Pradesh",
          "Chhattisgarh",
          "Manipur",
          "Odisha",
          "Assam",
          "Uttarakhand",
          "Karnataka"
         ],
         "xaxis": "x",
         "y": [
          481,
          61,
          57,
          46,
          31,
          22,
          19,
          18,
          18,
          16,
          15,
          13,
          10,
          9,
          7,
          7,
          6,
          6,
          6,
          6,
          5,
          4,
          4,
          3,
          3,
          3,
          2,
          2,
          2,
          2,
          1,
          1,
          1,
          1,
          1,
          1,
          1,
          1,
          1,
          1,
          1
         ],
         "yaxis": "y"
        },
        {
         "alignmentgroup": "True",
         "customdata": [
          [
           386,
           211,
           "International Travel"
          ],
          [
           386,
           175,
           "International Travel"
          ],
          [
           969,
           96,
           "International Travel"
          ],
          [
           2455,
           175,
           "International Travel"
          ],
          [
           258,
           211,
           "International Travel"
          ],
          [
           592,
           175,
           "International Travel"
          ],
          [
           386,
           96,
           "International Travel"
          ],
          [
           1204,
           211,
           "International Travel"
          ],
          [
           386,
           36,
           "International Travel"
          ],
          [
           258,
           175,
           "International Travel"
          ],
          [
           258,
           96,
           "International Travel"
          ],
          [
           198,
           25,
           "International Travel"
          ],
          [
           2455,
           29,
           "International Travel"
          ],
          [
           66,
           96,
           "International Travel"
          ],
          [
           617,
           211,
           "International Travel"
          ],
          [
           617,
           175,
           "International Travel"
          ],
          [
           657,
           175,
           "International Travel"
          ],
          [
           1510,
           175,
           "International Travel"
          ],
          [
           2455,
           211,
           "International Travel"
          ],
          [
           592,
           211,
           "International Travel"
          ],
          [
           1204,
           175,
           "International Travel"
          ],
          [
           184,
           175,
           "International Travel"
          ],
          [
           386,
           29,
           "International Travel"
          ],
          [
           617,
           36,
           "International Travel"
          ],
          [
           278,
           211,
           "International Travel"
          ],
          [
           198,
           175,
           "International Travel"
          ],
          [
           386,
           8,
           "International Travel"
          ],
          [
           473,
           211,
           "International Travel"
          ],
          [
           969,
           175,
           "International Travel"
          ],
          [
           473,
           175,
           "International Travel"
          ],
          [
           657,
           211,
           "International Travel"
          ],
          [
           7,
           211,
           "International Travel"
          ],
          [
           60,
           96,
           "International Travel"
          ],
          [
           614,
           211,
           "International Travel"
          ],
          [
           1510,
           25,
           "International Travel"
          ],
          [
           386,
           25,
           "International Travel"
          ],
          [
           184,
           36,
           "International Travel"
          ],
          [
           66,
           36,
           "International Travel"
          ],
          [
           21,
           96,
           "International Travel"
          ],
          [
           190,
           211,
           "International Travel"
          ],
          [
           190,
           175,
           "International Travel"
          ],
          [
           258,
           8,
           "International Travel"
          ],
          [
           617,
           96,
           "International Travel"
          ],
          [
           258,
           36,
           "International Travel"
          ],
          [
           592,
           29,
           "International Travel"
          ],
          [
           60,
           175,
           "International Travel"
          ],
          [
           32,
           175,
           "International Travel"
          ],
          [
           278,
           175,
           "International Travel"
          ],
          [
           969,
           211,
           "International Travel"
          ],
          [
           21,
           175,
           "International Travel"
          ],
          [
           66,
           211,
           "International Travel"
          ],
          [
           33,
           211,
           "International Travel"
          ],
          [
           1204,
           96,
           "International Travel"
          ],
          [
           66,
           175,
           "International Travel"
          ],
          [
           614,
           175,
           "International Travel"
          ],
          [
           33,
           96,
           "International Travel"
          ],
          [
           7,
           96,
           "International Travel"
          ],
          [
           24,
           96,
           "International Travel"
          ],
          [
           969,
           29,
           "International Travel"
          ],
          [
           386,
           2,
           "International Travel"
          ],
          [
           60,
           36,
           "International Travel"
          ],
          [
           66,
           8,
           "International Travel"
          ],
          [
           2,
           36,
           "International Travel"
          ],
          [
           31,
           36,
           "International Travel"
          ],
          [
           11,
           36,
           "International Travel"
          ],
          [
           258,
           29,
           "International Travel"
          ],
          [
           386,
           1,
           "International Travel"
          ],
          [
           17,
           25,
           "International Travel"
          ],
          [
           969,
           25,
           "International Travel"
          ],
          [
           1204,
           25,
           "International Travel"
          ],
          [
           592,
           25,
           "International Travel"
          ],
          [
           657,
           25,
           "International Travel"
          ],
          [
           473,
           29,
           "International Travel"
          ],
          [
           1510,
           29,
           "International Travel"
          ],
          [
           278,
           29,
           "International Travel"
          ],
          [
           17,
           29,
           "International Travel"
          ],
          [
           184,
           29,
           "International Travel"
          ],
          [
           35,
           29,
           "International Travel"
          ],
          [
           33,
           175,
           "International Travel"
          ],
          [
           17,
           175,
           "International Travel"
          ],
          [
           7,
           175,
           "International Travel"
          ],
          [
           21,
           211,
           "International Travel"
          ],
          [
           198,
           211,
           "International Travel"
          ],
          [
           2,
           211,
           "International Travel"
          ],
          [
           1,
           211,
           "International Travel"
          ],
          [
           35,
           211,
           "International Travel"
          ],
          [
           473,
           96,
           "International Travel"
          ],
          [
           614,
           96,
           "International Travel"
          ]
         ],
         "hovertemplate": "keys=%{customdata[2]}<br>detectedstate=%{x}<br>counts=%{y}<br>total_ct=%{customdata[0]}<br>total_ct_daily=%{customdata[1]}<extra></extra>",
         "legendgroup": "International Travel",
         "marker": {
          "color": "#00cc96"
         },
         "name": "International Travel",
         "offsetgroup": "International Travel",
         "orientation": "v",
         "showlegend": true,
         "textposition": "auto",
         "type": "bar",
         "x": [
          "Kerala",
          "Kerala",
          "Rajasthan",
          "Maharashtra",
          "Karnataka",
          "Telangana",
          "Kerala",
          "Tamil Nadu",
          "Kerala",
          "Karnataka",
          "Karnataka",
          "Haryana",
          "Maharashtra",
          "Bihar",
          "Gujarat",
          "Gujarat",
          "Uttar Pradesh",
          "Delhi",
          "Maharashtra",
          "Telangana",
          "Tamil Nadu",
          "Punjab",
          "Kerala",
          "Gujarat",
          "Jammu and Kashmir",
          "Haryana",
          "Kerala",
          "Andhra Pradesh",
          "Rajasthan",
          "Andhra Pradesh",
          "Uttar Pradesh",
          "Goa",
          "Odisha",
          "Madhya Pradesh",
          "Delhi",
          "Kerala",
          "Punjab",
          "Bihar",
          "Chandigarh",
          "West Bengal",
          "West Bengal",
          "Karnataka",
          "Gujarat",
          "Karnataka",
          "Telangana",
          "Odisha",
          "Himachal Pradesh",
          "Jammu and Kashmir",
          "Rajasthan",
          "Chandigarh",
          "Bihar",
          "Chhattisgarh",
          "Tamil Nadu",
          "Bihar",
          "Madhya Pradesh",
          "Chhattisgarh",
          "Goa",
          "Jharkhand",
          "Rajasthan",
          "Kerala",
          "Odisha",
          "Bihar",
          "Tripura",
          "Assam",
          "Andaman and Nicobar Islands",
          "Karnataka",
          "Kerala",
          "Ladakh",
          "Rajasthan",
          "Tamil Nadu",
          "Telangana",
          "Uttar Pradesh",
          "Andhra Pradesh",
          "Delhi",
          "Jammu and Kashmir",
          "Ladakh",
          "Punjab",
          "Uttarakhand",
          "Chhattisgarh",
          "Ladakh",
          "Puducherry",
          "Chandigarh",
          "Haryana",
          "Manipur",
          "Mizoram",
          "Uttarakhand",
          "Andhra Pradesh",
          "Madhya Pradesh"
         ],
         "xaxis": "x",
         "y": [
          104,
          38,
          34,
          27,
          27,
          22,
          18,
          18,
          17,
          15,
          15,
          14,
          12,
          11,
          10,
          10,
          9,
          9,
          9,
          8,
          7,
          6,
          6,
          6,
          5,
          5,
          5,
          5,
          5,
          4,
          4,
          4,
          3,
          3,
          3,
          3,
          3,
          3,
          3,
          3,
          3,
          2,
          2,
          2,
          2,
          2,
          2,
          2,
          2,
          2,
          2,
          2,
          2,
          2,
          2,
          2,
          2,
          2,
          2,
          2,
          2,
          1,
          1,
          1,
          1,
          1,
          1,
          1,
          1,
          1,
          1,
          1,
          1,
          1,
          1,
          1,
          1,
          1,
          1,
          1,
          1,
          1,
          1,
          1,
          1,
          1,
          1,
          1
         ],
         "yaxis": "y"
        },
        {
         "alignmentgroup": "True",
         "customdata": [
          [
           617,
           202,
           "Contact"
          ],
          [
           617,
           190,
           "Contact"
          ],
          [
           258,
           202,
           "Contact"
          ],
          [
           184,
           202,
           "Contact"
          ],
          [
           386,
           190,
           "Contact"
          ],
          [
           969,
           202,
           "Contact"
          ],
          [
           278,
           190,
           "Contact"
          ],
          [
           969,
           190,
           "Contact"
          ],
          [
           66,
           202,
           "Contact"
          ],
          [
           258,
           190,
           "Contact"
          ],
          [
           258,
           37,
           "Contact"
          ],
          [
           258,
           115,
           "Contact"
          ],
          [
           386,
           202,
           "Contact"
          ],
          [
           386,
           115,
           "Contact"
          ],
          [
           617,
           115,
           "Contact"
          ],
          [
           1204,
           190,
           "Contact"
          ],
          [
           278,
           115,
           "Contact"
          ],
          [
           24,
           202,
           "Contact"
          ],
          [
           184,
           37,
           "Contact"
          ],
          [
           184,
           190,
           "Contact"
          ],
          [
           657,
           115,
           "Contact"
          ],
          [
           1204,
           115,
           "Contact"
          ],
          [
           184,
           115,
           "Contact"
          ],
          [
           198,
           190,
           "Contact"
          ],
          [
           184,
           40,
           "Contact"
          ],
          [
           386,
           19,
           "Contact"
          ],
          [
           2455,
           40,
           "Contact"
          ],
          [
           614,
           115,
           "Contact"
          ],
          [
           2455,
           115,
           "Contact"
          ],
          [
           657,
           8,
           "Contact"
          ],
          [
           592,
           115,
           "Contact"
          ],
          [
           386,
           37,
           "Contact"
          ],
          [
           21,
           190,
           "Contact"
          ],
          [
           657,
           190,
           "Contact"
          ],
          [
           473,
           115,
           "Contact"
          ],
          [
           657,
           40,
           "Contact"
          ],
          [
           1510,
           40,
           "Contact"
          ],
          [
           21,
           40,
           "Contact"
          ],
          [
           2455,
           19,
           "Contact"
          ],
          [
           190,
           40,
           "Contact"
          ],
          [
           386,
           40,
           "Contact"
          ],
          [
           657,
           19,
           "Contact"
          ],
          [
           60,
           37,
           "Contact"
          ],
          [
           60,
           202,
           "Contact"
          ],
          [
           2455,
           190,
           "Contact"
          ],
          [
           969,
           115,
           "Contact"
          ],
          [
           386,
           8,
           "Contact"
          ],
          [
           66,
           190,
           "Contact"
          ],
          [
           473,
           190,
           "Contact"
          ],
          [
           190,
           115,
           "Contact"
          ],
          [
           66,
           115,
           "Contact"
          ],
          [
           258,
           40,
           "Contact"
          ],
          [
           258,
           19,
           "Contact"
          ],
          [
           1510,
           19,
           "Contact"
          ],
          [
           278,
           19,
           "Contact"
          ],
          [
           473,
           40,
           "Contact"
          ],
          [
           198,
           40,
           "Contact"
          ],
          [
           17,
           40,
           "Contact"
          ],
          [
           614,
           40,
           "Contact"
          ],
          [
           592,
           40,
           "Contact"
          ],
          [
           21,
           115,
           "Contact"
          ],
          [
           7,
           115,
           "Contact"
          ],
          [
           198,
           115,
           "Contact"
          ],
          [
           35,
           115,
           "Contact"
          ],
          [
           614,
           190,
           "Contact"
          ]
         ],
         "hovertemplate": "keys=%{customdata[2]}<br>detectedstate=%{x}<br>counts=%{y}<br>total_ct=%{customdata[0]}<br>total_ct_daily=%{customdata[1]}<extra></extra>",
         "legendgroup": "Contact",
         "marker": {
          "color": "#ab63fa"
         },
         "name": "Contact",
         "offsetgroup": "Contact",
         "orientation": "v",
         "showlegend": true,
         "textposition": "auto",
         "type": "bar",
         "x": [
          "Gujarat",
          "Gujarat",
          "Karnataka",
          "Punjab",
          "Kerala",
          "Rajasthan",
          "Jammu and Kashmir",
          "Rajasthan",
          "Bihar",
          "Karnataka",
          "Karnataka",
          "Karnataka",
          "Kerala",
          "Kerala",
          "Gujarat",
          "Tamil Nadu",
          "Jammu and Kashmir",
          "Jharkhand",
          "Punjab",
          "Punjab",
          "Uttar Pradesh",
          "Tamil Nadu",
          "Punjab",
          "Haryana",
          "Punjab",
          "Kerala",
          "Maharashtra",
          "Madhya Pradesh",
          "Maharashtra",
          "Uttar Pradesh",
          "Telangana",
          "Kerala",
          "Chandigarh",
          "Uttar Pradesh",
          "Andhra Pradesh",
          "Uttar Pradesh",
          "Delhi",
          "Chandigarh",
          "Maharashtra",
          "West Bengal",
          "Kerala",
          "Uttar Pradesh",
          "Odisha",
          "Odisha",
          "Maharashtra",
          "Rajasthan",
          "Kerala",
          "Bihar",
          "Andhra Pradesh",
          "West Bengal",
          "Bihar",
          "Karnataka",
          "Karnataka",
          "Delhi",
          "Jammu and Kashmir",
          "Andhra Pradesh",
          "Haryana",
          "Ladakh",
          "Madhya Pradesh",
          "Telangana",
          "Chandigarh",
          "Goa",
          "Haryana",
          "Uttarakhand",
          "Madhya Pradesh"
         ],
         "xaxis": "x",
         "y": [
          49,
          43,
          42,
          35,
          34,
          25,
          24,
          22,
          21,
          21,
          20,
          20,
          16,
          15,
          13,
          12,
          11,
          11,
          10,
          10,
          8,
          8,
          8,
          8,
          8,
          8,
          7,
          7,
          6,
          6,
          4,
          4,
          4,
          4,
          4,
          4,
          4,
          4,
          4,
          3,
          3,
          3,
          3,
          3,
          3,
          3,
          2,
          2,
          2,
          2,
          2,
          2,
          2,
          1,
          1,
          1,
          1,
          1,
          1,
          1,
          1,
          1,
          1,
          1,
          1
         ],
         "yaxis": "y"
        },
        {
         "alignmentgroup": "True",
         "customdata": [
          [
           2455,
           20,
           "Contact,Travel"
          ],
          [
           2455,
           46,
           "Contact,Travel"
          ],
          [
           1204,
           33,
           "Contact,Travel"
          ],
          [
           614,
           33,
           "Contact,Travel"
          ],
          [
           258,
           46,
           "Contact,Travel"
          ],
          [
           258,
           33,
           "Contact,Travel"
          ],
          [
           258,
           12,
           "Contact,Travel"
          ],
          [
           386,
           12,
           "Contact,Travel"
          ],
          [
           190,
           46,
           "Contact,Travel"
          ],
          [
           1204,
           46,
           "Contact,Travel"
          ],
          [
           386,
           46,
           "Contact,Travel"
          ],
          [
           473,
           46,
           "Contact,Travel"
          ],
          [
           258,
           20,
           "Contact,Travel"
          ],
          [
           614,
           20,
           "Contact,Travel"
          ],
          [
           278,
           46,
           "Contact,Travel"
          ],
          [
           473,
           33,
           "Contact,Travel"
          ],
          [
           35,
           20,
           "Contact,Travel"
          ],
          [
           657,
           20,
           "Contact,Travel"
          ],
          [
           969,
           20,
           "Contact,Travel"
          ],
          [
           2455,
           20,
           "Contact,Travel"
          ],
          [
           258,
           20,
           "Contact,Travel"
          ],
          [
           657,
           33,
           "Contact,Travel"
          ],
          [
           617,
           46,
           "Contact,Travel"
          ],
          [
           184,
           12,
           "Contact,Travel"
          ],
          [
           31,
           2,
           "Contact,Travel"
          ],
          [
           657,
           20,
           "Contact,Travel"
          ],
          [
           617,
           20,
           "Contact,Travel"
          ],
          [
           198,
           20,
           "Contact,Travel"
          ],
          [
           386,
           20,
           "Contact,Travel"
          ],
          [
           17,
           20,
           "Contact,Travel"
          ],
          [
           1204,
           20,
           "Contact,Travel"
          ],
          [
           592,
           20,
           "Contact,Travel"
          ],
          [
           190,
           20,
           "Contact,Travel"
          ],
          [
           11,
           46,
           "Contact,Travel"
          ],
          [
           969,
           46,
           "Contact,Travel"
          ],
          [
           657,
           46,
           "Contact,Travel"
          ],
          [
           21,
           33,
           "Contact,Travel"
          ],
          [
           386,
           2,
           "Contact,Travel"
          ],
          [
           969,
           1,
           "Contact,Travel"
          ],
          [
           1510,
           20,
           "Contact,Travel"
          ]
         ],
         "hovertemplate": "keys=%{customdata[2]}<br>detectedstate=%{x}<br>counts=%{y}<br>total_ct=%{customdata[0]}<br>total_ct_daily=%{customdata[1]}<extra></extra>",
         "legendgroup": "Contact,Travel",
         "marker": {
          "color": "#FFA15A"
         },
         "name": "Contact,Travel",
         "offsetgroup": "Contact,Travel",
         "orientation": "v",
         "showlegend": true,
         "textposition": "auto",
         "type": "bar",
         "x": [
          "Maharashtra",
          "Maharashtra",
          "Tamil Nadu",
          "Madhya Pradesh",
          "Karnataka",
          "Karnataka",
          "Karnataka",
          "Kerala",
          "West Bengal",
          "Tamil Nadu",
          "Kerala",
          "Andhra Pradesh",
          "Karnataka",
          "Madhya Pradesh",
          "Jammu and Kashmir",
          "Andhra Pradesh",
          "Uttarakhand",
          "Uttar Pradesh",
          "Rajasthan",
          "Maharashtra",
          "Karnataka",
          "Uttar Pradesh",
          "Gujarat",
          "Punjab",
          "Assam",
          "Uttar Pradesh",
          "Gujarat",
          "Haryana",
          "Kerala",
          "Ladakh",
          "Tamil Nadu",
          "Telangana",
          "West Bengal",
          "Andaman and Nicobar Islands",
          "Rajasthan",
          "Uttar Pradesh",
          "Chandigarh",
          "Kerala",
          "Rajasthan",
          "Delhi"
         ],
         "xaxis": "x",
         "y": [
          15,
          12,
          12,
          10,
          9,
          5,
          5,
          5,
          5,
          4,
          4,
          4,
          3,
          3,
          3,
          3,
          2,
          2,
          2,
          2,
          2,
          2,
          2,
          2,
          1,
          1,
          1,
          1,
          1,
          1,
          1,
          1,
          1,
          1,
          1,
          1,
          1,
          1,
          1,
          1
         ],
         "yaxis": "y"
        },
        {
         "alignmentgroup": "True",
         "customdata": [
          [
           1204,
           14,
           "Contact,Investigation in Progress"
          ],
          [
           969,
           19,
           "Contact,Investigation in Progress"
          ],
          [
           184,
           8,
           "Contact,Investigation in Progress"
          ],
          [
           1204,
           19,
           "Contact,Investigation in Progress"
          ],
          [
           17,
           8,
           "Contact,Investigation in Progress"
          ],
          [
           60,
           19,
           "Contact,Investigation in Progress"
          ],
          [
           473,
           19,
           "Contact,Investigation in Progress"
          ],
          [
           11,
           3,
           "Contact,Investigation in Progress"
          ],
          [
           184,
           3,
           "Contact,Investigation in Progress"
          ],
          [
           1204,
           3,
           "Contact,Investigation in Progress"
          ],
          [
           21,
           19,
           "Contact,Investigation in Progress"
          ]
         ],
         "hovertemplate": "keys=%{customdata[2]}<br>detectedstate=%{x}<br>counts=%{y}<br>total_ct=%{customdata[0]}<br>total_ct_daily=%{customdata[1]}<extra></extra>",
         "legendgroup": "Contact,Investigation in Progress",
         "marker": {
          "color": "#19d3f3"
         },
         "name": "Contact,Investigation in Progress",
         "offsetgroup": "Contact,Investigation in Progress",
         "orientation": "v",
         "showlegend": true,
         "textposition": "auto",
         "type": "bar",
         "x": [
          "Tamil Nadu",
          "Rajasthan",
          "Punjab",
          "Tamil Nadu",
          "Ladakh",
          "Odisha",
          "Andhra Pradesh",
          "Andaman and Nicobar Islands",
          "Punjab",
          "Tamil Nadu",
          "Chandigarh"
         ],
         "xaxis": "x",
         "y": [
          14,
          10,
          5,
          4,
          3,
          2,
          2,
          1,
          1,
          1,
          1
         ],
         "yaxis": "y"
        },
        {
         "alignmentgroup": "True",
         "customdata": [
          [
           969,
           9,
           "Contact,Investigation in Progress,Travel"
          ],
          [
           1204,
           1,
           "Contact,Investigation in Progress,Travel"
          ],
          [
           473,
           9,
           "Contact,Investigation in Progress,Travel"
          ],
          [
           258,
           9,
           "Contact,Investigation in Progress,Travel"
          ]
         ],
         "hovertemplate": "keys=%{customdata[2]}<br>detectedstate=%{x}<br>counts=%{y}<br>total_ct=%{customdata[0]}<br>total_ct_daily=%{customdata[1]}<extra></extra>",
         "legendgroup": "Contact,Investigation in Progress,Travel",
         "marker": {
          "color": "#FF6692"
         },
         "name": "Contact,Investigation in Progress,Travel",
         "offsetgroup": "Contact,Investigation in Progress,Travel",
         "orientation": "v",
         "showlegend": true,
         "textposition": "auto",
         "type": "bar",
         "x": [
          "Rajasthan",
          "Tamil Nadu",
          "Andhra Pradesh",
          "Karnataka"
         ],
         "xaxis": "x",
         "y": [
          7,
          1,
          1,
          1
         ],
         "yaxis": "y"
        },
        {
         "alignmentgroup": "True",
         "customdata": [
          [
           969,
           9,
           "Govt Staff"
          ],
          [
           969,
           6,
           "Govt Staff"
          ],
          [
           198,
           6,
           "Govt Staff"
          ],
          [
           1510,
           9,
           "Govt Staff"
          ],
          [
           258,
           9,
           "Govt Staff"
          ],
          [
           17,
           9,
           "Govt Staff"
          ],
          [
           657,
           9,
           "Govt Staff"
          ],
          [
           386,
           6,
           "Govt Staff"
          ],
          [
           614,
           6,
           "Govt Staff"
          ],
          [
           1510,
           1,
           "Govt Staff"
          ]
         ],
         "hovertemplate": "keys=%{customdata[2]}<br>detectedstate=%{x}<br>counts=%{y}<br>total_ct=%{customdata[0]}<br>total_ct_daily=%{customdata[1]}<extra></extra>",
         "legendgroup": "Govt Staff",
         "marker": {
          "color": "#B6E880"
         },
         "name": "Govt Staff",
         "offsetgroup": "Govt Staff",
         "orientation": "v",
         "showlegend": true,
         "textposition": "auto",
         "type": "bar",
         "x": [
          "Rajasthan",
          "Rajasthan",
          "Haryana",
          "Delhi",
          "Karnataka",
          "Ladakh",
          "Uttar Pradesh",
          "Kerala",
          "Madhya Pradesh",
          "Delhi"
         ],
         "xaxis": "x",
         "y": [
          5,
          2,
          2,
          1,
          1,
          1,
          1,
          1,
          1,
          1
         ],
         "yaxis": "y"
        },
        {
         "alignmentgroup": "True",
         "customdata": [
          [
           614,
           9,
           "Contact,No Travel History,Travel"
          ],
          [
           657,
           9,
           "Contact,No Travel History,Travel"
          ],
          [
           592,
           9,
           "Contact,No Travel History,Travel"
          ],
          [
           386,
           9,
           "Contact,No Travel History,Travel"
          ],
          [
           184,
           9,
           "Contact,No Travel History,Travel"
          ]
         ],
         "hovertemplate": "keys=%{customdata[2]}<br>detectedstate=%{x}<br>counts=%{y}<br>total_ct=%{customdata[0]}<br>total_ct_daily=%{customdata[1]}<extra></extra>",
         "legendgroup": "Contact,No Travel History,Travel",
         "marker": {
          "color": "#FF97FF"
         },
         "name": "Contact,No Travel History,Travel",
         "offsetgroup": "Contact,No Travel History,Travel",
         "orientation": "v",
         "showlegend": true,
         "textposition": "auto",
         "type": "bar",
         "x": [
          "Madhya Pradesh",
          "Uttar Pradesh",
          "Telangana",
          "Kerala",
          "Punjab"
         ],
         "xaxis": "x",
         "y": [
          5,
          1,
          1,
          1,
          1
         ],
         "yaxis": "y"
        },
        {
         "alignmentgroup": "True",
         "customdata": [
          [
           60,
           5,
           "Investigation in Progress,Tenant"
          ]
         ],
         "hovertemplate": "keys=%{customdata[2]}<br>detectedstate=%{x}<br>counts=%{y}<br>total_ct=%{customdata[0]}<br>total_ct_daily=%{customdata[1]}<extra></extra>",
         "legendgroup": "Investigation in Progress,Tenant",
         "marker": {
          "color": "#FECB52"
         },
         "name": "Investigation in Progress,Tenant",
         "offsetgroup": "Investigation in Progress,Tenant",
         "orientation": "v",
         "showlegend": true,
         "textposition": "auto",
         "type": "bar",
         "x": [
          "Odisha"
         ],
         "xaxis": "x",
         "y": [
          5
         ],
         "yaxis": "y"
        },
        {
         "alignmentgroup": "True",
         "customdata": [
          [
           969,
           7,
           "Domestic Travel"
          ],
          [
           11,
           13,
           "Domestic Travel"
          ],
          [
           2455,
           13,
           "Domestic Travel"
          ],
          [
           258,
           4,
           "Domestic Travel"
          ],
          [
           657,
           1,
           "Domestic Travel"
          ],
          [
           1510,
           13,
           "Domestic Travel"
          ],
          [
           617,
           13,
           "Domestic Travel"
          ],
          [
           969,
           13,
           "Domestic Travel"
          ],
          [
           617,
           7,
           "Domestic Travel"
          ],
          [
           184,
           7,
           "Domestic Travel"
          ],
          [
           184,
           4,
           "Domestic Travel"
          ],
          [
           1204,
           4,
           "Domestic Travel"
          ]
         ],
         "hovertemplate": "keys=%{customdata[2]}<br>detectedstate=%{x}<br>counts=%{y}<br>total_ct=%{customdata[0]}<br>total_ct_daily=%{customdata[1]}<extra></extra>",
         "legendgroup": "Domestic Travel",
         "marker": {
          "color": "#636efa"
         },
         "name": "Domestic Travel",
         "offsetgroup": "Domestic Travel",
         "orientation": "v",
         "showlegend": true,
         "textposition": "auto",
         "type": "bar",
         "x": [
          "Rajasthan",
          "Andaman and Nicobar Islands",
          "Maharashtra",
          "Karnataka",
          "Uttar Pradesh",
          "Delhi",
          "Gujarat",
          "Rajasthan",
          "Gujarat",
          "Punjab",
          "Punjab",
          "Tamil Nadu"
         ],
         "xaxis": "x",
         "y": [
          5,
          5,
          5,
          2,
          1,
          1,
          1,
          1,
          1,
          1,
          1,
          1
         ],
         "yaxis": "y"
        },
        {
         "alignmentgroup": "True",
         "customdata": [
          [
           969,
           5,
           "Contact,Govt Staff"
          ],
          [
           592,
           5,
           "Contact,Govt Staff"
          ],
          [
           969,
           5,
           "Contact,Govt Staff"
          ],
          [
           1510,
           5,
           "Contact,Govt Staff"
          ],
          [
           657,
           1,
           "Contact,Govt Staff"
          ]
         ],
         "hovertemplate": "keys=%{customdata[2]}<br>detectedstate=%{x}<br>counts=%{y}<br>total_ct=%{customdata[0]}<br>total_ct_daily=%{customdata[1]}<extra></extra>",
         "legendgroup": "Contact,Govt Staff",
         "marker": {
          "color": "#EF553B"
         },
         "name": "Contact,Govt Staff",
         "offsetgroup": "Contact,Govt Staff",
         "orientation": "v",
         "showlegend": true,
         "textposition": "auto",
         "type": "bar",
         "x": [
          "Rajasthan",
          "Telangana",
          "Rajasthan",
          "Delhi",
          "Uttar Pradesh"
         ],
         "xaxis": "x",
         "y": [
          5,
          2,
          2,
          1,
          1
         ],
         "yaxis": "y"
        },
        {
         "alignmentgroup": "True",
         "customdata": [
          [
           1510,
           11,
           "No Travel History,Travel"
          ],
          [
           1204,
           11,
           "No Travel History,Travel"
          ],
          [
           66,
           11,
           "No Travel History,Travel"
          ],
          [
           184,
           6,
           "No Travel History,Travel"
          ],
          [
           258,
           11,
           "No Travel History,Travel"
          ],
          [
           190,
           11,
           "No Travel History,Travel"
          ],
          [
           1510,
           1,
           "No Travel History,Travel"
          ],
          [
           617,
           6,
           "No Travel History,Travel"
          ],
          [
           1204,
           6,
           "No Travel History,Travel"
          ],
          [
           657,
           6,
           "No Travel History,Travel"
          ],
          [
           617,
           1,
           "No Travel History,Travel"
          ],
          [
           190,
           6,
           "No Travel History,Travel"
          ]
         ],
         "hovertemplate": "keys=%{customdata[2]}<br>detectedstate=%{x}<br>counts=%{y}<br>total_ct=%{customdata[0]}<br>total_ct_daily=%{customdata[1]}<extra></extra>",
         "legendgroup": "No Travel History,Travel",
         "marker": {
          "color": "#00cc96"
         },
         "name": "No Travel History,Travel",
         "offsetgroup": "No Travel History,Travel",
         "orientation": "v",
         "showlegend": true,
         "textposition": "auto",
         "type": "bar",
         "x": [
          "Delhi",
          "Tamil Nadu",
          "Bihar",
          "Punjab",
          "Karnataka",
          "West Bengal",
          "Delhi",
          "Gujarat",
          "Tamil Nadu",
          "Uttar Pradesh",
          "Gujarat",
          "West Bengal"
         ],
         "xaxis": "x",
         "y": [
          4,
          3,
          2,
          2,
          1,
          1,
          1,
          1,
          1,
          1,
          1,
          1
         ],
         "yaxis": "y"
        },
        {
         "alignmentgroup": "True",
         "customdata": [
          [
           969,
           4,
           "Govt Staff,Travel"
          ],
          [
           33,
           8,
           "Govt Staff,Travel"
          ],
          [
           190,
           8,
           "Govt Staff,Travel"
          ],
          [
           1510,
           4,
           "Govt Staff,Travel"
          ],
          [
           1,
           1,
           "Govt Staff,Travel"
          ],
          [
           35,
           8,
           "Govt Staff,Travel"
          ],
          [
           657,
           8,
           "Govt Staff,Travel"
          ],
          [
           592,
           8,
           "Govt Staff,Travel"
          ],
          [
           32,
           8,
           "Govt Staff,Travel"
          ],
          [
           386,
           3,
           "Govt Staff,Travel"
          ],
          [
           2455,
           3,
           "Govt Staff,Travel"
          ],
          [
           657,
           3,
           "Govt Staff,Travel"
          ],
          [
           386,
           2,
           "Govt Staff,Travel"
          ],
          [
           969,
           2,
           "Govt Staff,Travel"
          ],
          [
           473,
           8,
           "Govt Staff,Travel"
          ],
          [
           198,
           8,
           "Govt Staff,Travel"
          ]
         ],
         "hovertemplate": "keys=%{customdata[2]}<br>detectedstate=%{x}<br>counts=%{y}<br>total_ct=%{customdata[0]}<br>total_ct_daily=%{customdata[1]}<extra></extra>",
         "legendgroup": "Govt Staff,Travel",
         "marker": {
          "color": "#ab63fa"
         },
         "name": "Govt Staff,Travel",
         "offsetgroup": "Govt Staff,Travel",
         "orientation": "v",
         "showlegend": true,
         "textposition": "auto",
         "type": "bar",
         "x": [
          "Rajasthan",
          "Chhattisgarh",
          "West Bengal",
          "Delhi",
          "Meghalaya",
          "Uttarakhand",
          "Uttar Pradesh",
          "Telangana",
          "Himachal Pradesh",
          "Kerala",
          "Maharashtra",
          "Uttar Pradesh",
          "Kerala",
          "Rajasthan",
          "Andhra Pradesh",
          "Haryana"
         ],
         "xaxis": "x",
         "y": [
          3,
          1,
          1,
          1,
          1,
          1,
          1,
          1,
          1,
          1,
          1,
          1,
          1,
          1,
          1,
          1
         ],
         "yaxis": "y"
        },
        {
         "alignmentgroup": "True",
         "customdata": [
          [
           258,
           3,
           "Investigation in Progress"
          ]
         ],
         "hovertemplate": "keys=%{customdata[2]}<br>detectedstate=%{x}<br>counts=%{y}<br>total_ct=%{customdata[0]}<br>total_ct_daily=%{customdata[1]}<extra></extra>",
         "legendgroup": "Investigation in Progress",
         "marker": {
          "color": "#FFA15A"
         },
         "name": "Investigation in Progress",
         "offsetgroup": "Investigation in Progress",
         "orientation": "v",
         "showlegend": true,
         "textposition": "auto",
         "type": "bar",
         "x": [
          "Karnataka"
         ],
         "xaxis": "x",
         "y": [
          3
         ],
         "yaxis": "y"
        },
        {
         "alignmentgroup": "True",
         "customdata": [
          [
           1204,
           3,
           "No Travel History"
          ],
          [
           1204,
           1,
           "No Travel History"
          ],
          [
           190,
           3,
           "No Travel History"
          ]
         ],
         "hovertemplate": "keys=%{customdata[2]}<br>detectedstate=%{x}<br>counts=%{y}<br>total_ct=%{customdata[0]}<br>total_ct_daily=%{customdata[1]}<extra></extra>",
         "legendgroup": "No Travel History",
         "marker": {
          "color": "#19d3f3"
         },
         "name": "No Travel History",
         "offsetgroup": "No Travel History",
         "orientation": "v",
         "showlegend": true,
         "textposition": "auto",
         "type": "bar",
         "x": [
          "Tamil Nadu",
          "Tamil Nadu",
          "West Bengal"
         ],
         "xaxis": "x",
         "y": [
          2,
          1,
          1
         ],
         "yaxis": "y"
        },
        {
         "alignmentgroup": "True",
         "customdata": [
          [
           657,
           1,
           "Contact,Family"
          ],
          [
           258,
           1,
           "Contact,Family"
          ]
         ],
         "hovertemplate": "keys=%{customdata[2]}<br>detectedstate=%{x}<br>counts=%{y}<br>total_ct=%{customdata[0]}<br>total_ct_daily=%{customdata[1]}<extra></extra>",
         "legendgroup": "Contact,Family",
         "marker": {
          "color": "#FF6692"
         },
         "name": "Contact,Family",
         "offsetgroup": "Contact,Family",
         "orientation": "v",
         "showlegend": true,
         "textposition": "auto",
         "type": "bar",
         "x": [
          "Uttar Pradesh",
          "Karnataka"
         ],
         "xaxis": "x",
         "y": [
          1,
          1
         ],
         "yaxis": "y"
        },
        {
         "alignmentgroup": "True",
         "customdata": [
          [
           184,
           1,
           "Contact,Family,Travel"
          ]
         ],
         "hovertemplate": "keys=%{customdata[2]}<br>detectedstate=%{x}<br>counts=%{y}<br>total_ct=%{customdata[0]}<br>total_ct_daily=%{customdata[1]}<extra></extra>",
         "legendgroup": "Contact,Family,Travel",
         "marker": {
          "color": "#B6E880"
         },
         "name": "Contact,Family,Travel",
         "offsetgroup": "Contact,Family,Travel",
         "orientation": "v",
         "showlegend": true,
         "textposition": "auto",
         "type": "bar",
         "x": [
          "Punjab"
         ],
         "xaxis": "x",
         "y": [
          1
         ],
         "yaxis": "y"
        },
        {
         "alignmentgroup": "True",
         "customdata": [
          [
           184,
           1,
           "Family"
          ],
          [
           386,
           2,
           "Family"
          ],
          [
           657,
           2,
           "Family"
          ],
          [
           258,
           1,
           "Family"
          ]
         ],
         "hovertemplate": "keys=%{customdata[2]}<br>detectedstate=%{x}<br>counts=%{y}<br>total_ct=%{customdata[0]}<br>total_ct_daily=%{customdata[1]}<extra></extra>",
         "legendgroup": "Family",
         "marker": {
          "color": "#FF97FF"
         },
         "name": "Family",
         "offsetgroup": "Family",
         "orientation": "v",
         "showlegend": true,
         "textposition": "auto",
         "type": "bar",
         "x": [
          "Punjab",
          "Kerala",
          "Uttar Pradesh",
          "Karnataka"
         ],
         "xaxis": "x",
         "y": [
          1,
          1,
          1,
          1
         ],
         "yaxis": "y"
        },
        {
         "alignmentgroup": "True",
         "customdata": [
          [
           1510,
           1,
           "Family,Govt Staff,Investigation in Progress,Travel"
          ]
         ],
         "hovertemplate": "keys=%{customdata[2]}<br>detectedstate=%{x}<br>counts=%{y}<br>total_ct=%{customdata[0]}<br>total_ct_daily=%{customdata[1]}<extra></extra>",
         "legendgroup": "Family,Govt Staff,Investigation in Progress,Travel",
         "marker": {
          "color": "#FECB52"
         },
         "name": "Family,Govt Staff,Investigation in Progress,Travel",
         "offsetgroup": "Family,Govt Staff,Investigation in Progress,Travel",
         "orientation": "v",
         "showlegend": true,
         "textposition": "auto",
         "type": "bar",
         "x": [
          "Delhi"
         ],
         "xaxis": "x",
         "y": [
          1
         ],
         "yaxis": "y"
        },
        {
         "alignmentgroup": "True",
         "customdata": [
          [
           386,
           1,
           "Family,Travel"
          ],
          [
           592,
           1,
           "Family,Travel"
          ],
          [
           386,
           1,
           "Family,Travel"
          ]
         ],
         "hovertemplate": "keys=%{customdata[2]}<br>detectedstate=%{x}<br>counts=%{y}<br>total_ct=%{customdata[0]}<br>total_ct_daily=%{customdata[1]}<extra></extra>",
         "legendgroup": "Family,Travel",
         "marker": {
          "color": "#636efa"
         },
         "name": "Family,Travel",
         "offsetgroup": "Family,Travel",
         "orientation": "v",
         "showlegend": true,
         "textposition": "auto",
         "type": "bar",
         "x": [
          "Kerala",
          "Telangana",
          "Kerala"
         ],
         "xaxis": "x",
         "y": [
          1,
          1,
          1
         ],
         "yaxis": "y"
        }
       ],
       "layout": {
        "autosize": false,
        "barmode": "relative",
        "height": 700,
        "legend": {
         "title": {
          "text": "keys"
         },
         "tracegroupgap": 0
        },
        "margin": {
         "t": 60
        },
        "template": {
         "data": {
          "bar": [
           {
            "error_x": {
             "color": "#2a3f5f"
            },
            "error_y": {
             "color": "#2a3f5f"
            },
            "marker": {
             "line": {
              "color": "#E5ECF6",
              "width": 0.5
             }
            },
            "type": "bar"
           }
          ],
          "barpolar": [
           {
            "marker": {
             "line": {
              "color": "#E5ECF6",
              "width": 0.5
             }
            },
            "type": "barpolar"
           }
          ],
          "carpet": [
           {
            "aaxis": {
             "endlinecolor": "#2a3f5f",
             "gridcolor": "white",
             "linecolor": "white",
             "minorgridcolor": "white",
             "startlinecolor": "#2a3f5f"
            },
            "baxis": {
             "endlinecolor": "#2a3f5f",
             "gridcolor": "white",
             "linecolor": "white",
             "minorgridcolor": "white",
             "startlinecolor": "#2a3f5f"
            },
            "type": "carpet"
           }
          ],
          "choropleth": [
           {
            "colorbar": {
             "outlinewidth": 0,
             "ticks": ""
            },
            "type": "choropleth"
           }
          ],
          "contour": [
           {
            "colorbar": {
             "outlinewidth": 0,
             "ticks": ""
            },
            "colorscale": [
             [
              0,
              "#0d0887"
             ],
             [
              0.1111111111111111,
              "#46039f"
             ],
             [
              0.2222222222222222,
              "#7201a8"
             ],
             [
              0.3333333333333333,
              "#9c179e"
             ],
             [
              0.4444444444444444,
              "#bd3786"
             ],
             [
              0.5555555555555556,
              "#d8576b"
             ],
             [
              0.6666666666666666,
              "#ed7953"
             ],
             [
              0.7777777777777778,
              "#fb9f3a"
             ],
             [
              0.8888888888888888,
              "#fdca26"
             ],
             [
              1,
              "#f0f921"
             ]
            ],
            "type": "contour"
           }
          ],
          "contourcarpet": [
           {
            "colorbar": {
             "outlinewidth": 0,
             "ticks": ""
            },
            "type": "contourcarpet"
           }
          ],
          "heatmap": [
           {
            "colorbar": {
             "outlinewidth": 0,
             "ticks": ""
            },
            "colorscale": [
             [
              0,
              "#0d0887"
             ],
             [
              0.1111111111111111,
              "#46039f"
             ],
             [
              0.2222222222222222,
              "#7201a8"
             ],
             [
              0.3333333333333333,
              "#9c179e"
             ],
             [
              0.4444444444444444,
              "#bd3786"
             ],
             [
              0.5555555555555556,
              "#d8576b"
             ],
             [
              0.6666666666666666,
              "#ed7953"
             ],
             [
              0.7777777777777778,
              "#fb9f3a"
             ],
             [
              0.8888888888888888,
              "#fdca26"
             ],
             [
              1,
              "#f0f921"
             ]
            ],
            "type": "heatmap"
           }
          ],
          "heatmapgl": [
           {
            "colorbar": {
             "outlinewidth": 0,
             "ticks": ""
            },
            "colorscale": [
             [
              0,
              "#0d0887"
             ],
             [
              0.1111111111111111,
              "#46039f"
             ],
             [
              0.2222222222222222,
              "#7201a8"
             ],
             [
              0.3333333333333333,
              "#9c179e"
             ],
             [
              0.4444444444444444,
              "#bd3786"
             ],
             [
              0.5555555555555556,
              "#d8576b"
             ],
             [
              0.6666666666666666,
              "#ed7953"
             ],
             [
              0.7777777777777778,
              "#fb9f3a"
             ],
             [
              0.8888888888888888,
              "#fdca26"
             ],
             [
              1,
              "#f0f921"
             ]
            ],
            "type": "heatmapgl"
           }
          ],
          "histogram": [
           {
            "marker": {
             "colorbar": {
              "outlinewidth": 0,
              "ticks": ""
             }
            },
            "type": "histogram"
           }
          ],
          "histogram2d": [
           {
            "colorbar": {
             "outlinewidth": 0,
             "ticks": ""
            },
            "colorscale": [
             [
              0,
              "#0d0887"
             ],
             [
              0.1111111111111111,
              "#46039f"
             ],
             [
              0.2222222222222222,
              "#7201a8"
             ],
             [
              0.3333333333333333,
              "#9c179e"
             ],
             [
              0.4444444444444444,
              "#bd3786"
             ],
             [
              0.5555555555555556,
              "#d8576b"
             ],
             [
              0.6666666666666666,
              "#ed7953"
             ],
             [
              0.7777777777777778,
              "#fb9f3a"
             ],
             [
              0.8888888888888888,
              "#fdca26"
             ],
             [
              1,
              "#f0f921"
             ]
            ],
            "type": "histogram2d"
           }
          ],
          "histogram2dcontour": [
           {
            "colorbar": {
             "outlinewidth": 0,
             "ticks": ""
            },
            "colorscale": [
             [
              0,
              "#0d0887"
             ],
             [
              0.1111111111111111,
              "#46039f"
             ],
             [
              0.2222222222222222,
              "#7201a8"
             ],
             [
              0.3333333333333333,
              "#9c179e"
             ],
             [
              0.4444444444444444,
              "#bd3786"
             ],
             [
              0.5555555555555556,
              "#d8576b"
             ],
             [
              0.6666666666666666,
              "#ed7953"
             ],
             [
              0.7777777777777778,
              "#fb9f3a"
             ],
             [
              0.8888888888888888,
              "#fdca26"
             ],
             [
              1,
              "#f0f921"
             ]
            ],
            "type": "histogram2dcontour"
           }
          ],
          "mesh3d": [
           {
            "colorbar": {
             "outlinewidth": 0,
             "ticks": ""
            },
            "type": "mesh3d"
           }
          ],
          "parcoords": [
           {
            "line": {
             "colorbar": {
              "outlinewidth": 0,
              "ticks": ""
             }
            },
            "type": "parcoords"
           }
          ],
          "pie": [
           {
            "automargin": true,
            "type": "pie"
           }
          ],
          "scatter": [
           {
            "marker": {
             "colorbar": {
              "outlinewidth": 0,
              "ticks": ""
             }
            },
            "type": "scatter"
           }
          ],
          "scatter3d": [
           {
            "line": {
             "colorbar": {
              "outlinewidth": 0,
              "ticks": ""
             }
            },
            "marker": {
             "colorbar": {
              "outlinewidth": 0,
              "ticks": ""
             }
            },
            "type": "scatter3d"
           }
          ],
          "scattercarpet": [
           {
            "marker": {
             "colorbar": {
              "outlinewidth": 0,
              "ticks": ""
             }
            },
            "type": "scattercarpet"
           }
          ],
          "scattergeo": [
           {
            "marker": {
             "colorbar": {
              "outlinewidth": 0,
              "ticks": ""
             }
            },
            "type": "scattergeo"
           }
          ],
          "scattergl": [
           {
            "marker": {
             "colorbar": {
              "outlinewidth": 0,
              "ticks": ""
             }
            },
            "type": "scattergl"
           }
          ],
          "scattermapbox": [
           {
            "marker": {
             "colorbar": {
              "outlinewidth": 0,
              "ticks": ""
             }
            },
            "type": "scattermapbox"
           }
          ],
          "scatterpolar": [
           {
            "marker": {
             "colorbar": {
              "outlinewidth": 0,
              "ticks": ""
             }
            },
            "type": "scatterpolar"
           }
          ],
          "scatterpolargl": [
           {
            "marker": {
             "colorbar": {
              "outlinewidth": 0,
              "ticks": ""
             }
            },
            "type": "scatterpolargl"
           }
          ],
          "scatterternary": [
           {
            "marker": {
             "colorbar": {
              "outlinewidth": 0,
              "ticks": ""
             }
            },
            "type": "scatterternary"
           }
          ],
          "surface": [
           {
            "colorbar": {
             "outlinewidth": 0,
             "ticks": ""
            },
            "colorscale": [
             [
              0,
              "#0d0887"
             ],
             [
              0.1111111111111111,
              "#46039f"
             ],
             [
              0.2222222222222222,
              "#7201a8"
             ],
             [
              0.3333333333333333,
              "#9c179e"
             ],
             [
              0.4444444444444444,
              "#bd3786"
             ],
             [
              0.5555555555555556,
              "#d8576b"
             ],
             [
              0.6666666666666666,
              "#ed7953"
             ],
             [
              0.7777777777777778,
              "#fb9f3a"
             ],
             [
              0.8888888888888888,
              "#fdca26"
             ],
             [
              1,
              "#f0f921"
             ]
            ],
            "type": "surface"
           }
          ],
          "table": [
           {
            "cells": {
             "fill": {
              "color": "#EBF0F8"
             },
             "line": {
              "color": "white"
             }
            },
            "header": {
             "fill": {
              "color": "#C8D4E3"
             },
             "line": {
              "color": "white"
             }
            },
            "type": "table"
           }
          ]
         },
         "layout": {
          "annotationdefaults": {
           "arrowcolor": "#2a3f5f",
           "arrowhead": 0,
           "arrowwidth": 1
          },
          "coloraxis": {
           "colorbar": {
            "outlinewidth": 0,
            "ticks": ""
           }
          },
          "colorscale": {
           "diverging": [
            [
             0,
             "#8e0152"
            ],
            [
             0.1,
             "#c51b7d"
            ],
            [
             0.2,
             "#de77ae"
            ],
            [
             0.3,
             "#f1b6da"
            ],
            [
             0.4,
             "#fde0ef"
            ],
            [
             0.5,
             "#f7f7f7"
            ],
            [
             0.6,
             "#e6f5d0"
            ],
            [
             0.7,
             "#b8e186"
            ],
            [
             0.8,
             "#7fbc41"
            ],
            [
             0.9,
             "#4d9221"
            ],
            [
             1,
             "#276419"
            ]
           ],
           "sequential": [
            [
             0,
             "#0d0887"
            ],
            [
             0.1111111111111111,
             "#46039f"
            ],
            [
             0.2222222222222222,
             "#7201a8"
            ],
            [
             0.3333333333333333,
             "#9c179e"
            ],
            [
             0.4444444444444444,
             "#bd3786"
            ],
            [
             0.5555555555555556,
             "#d8576b"
            ],
            [
             0.6666666666666666,
             "#ed7953"
            ],
            [
             0.7777777777777778,
             "#fb9f3a"
            ],
            [
             0.8888888888888888,
             "#fdca26"
            ],
            [
             1,
             "#f0f921"
            ]
           ],
           "sequentialminus": [
            [
             0,
             "#0d0887"
            ],
            [
             0.1111111111111111,
             "#46039f"
            ],
            [
             0.2222222222222222,
             "#7201a8"
            ],
            [
             0.3333333333333333,
             "#9c179e"
            ],
            [
             0.4444444444444444,
             "#bd3786"
            ],
            [
             0.5555555555555556,
             "#d8576b"
            ],
            [
             0.6666666666666666,
             "#ed7953"
            ],
            [
             0.7777777777777778,
             "#fb9f3a"
            ],
            [
             0.8888888888888888,
             "#fdca26"
            ],
            [
             1,
             "#f0f921"
            ]
           ]
          },
          "colorway": [
           "#636efa",
           "#EF553B",
           "#00cc96",
           "#ab63fa",
           "#FFA15A",
           "#19d3f3",
           "#FF6692",
           "#B6E880",
           "#FF97FF",
           "#FECB52"
          ],
          "font": {
           "color": "#2a3f5f"
          },
          "geo": {
           "bgcolor": "white",
           "lakecolor": "white",
           "landcolor": "#E5ECF6",
           "showlakes": true,
           "showland": true,
           "subunitcolor": "white"
          },
          "hoverlabel": {
           "align": "left"
          },
          "hovermode": "closest",
          "mapbox": {
           "style": "light"
          },
          "paper_bgcolor": "white",
          "plot_bgcolor": "#E5ECF6",
          "polar": {
           "angularaxis": {
            "gridcolor": "white",
            "linecolor": "white",
            "ticks": ""
           },
           "bgcolor": "#E5ECF6",
           "radialaxis": {
            "gridcolor": "white",
            "linecolor": "white",
            "ticks": ""
           }
          },
          "scene": {
           "xaxis": {
            "backgroundcolor": "#E5ECF6",
            "gridcolor": "white",
            "gridwidth": 2,
            "linecolor": "white",
            "showbackground": true,
            "ticks": "",
            "zerolinecolor": "white"
           },
           "yaxis": {
            "backgroundcolor": "#E5ECF6",
            "gridcolor": "white",
            "gridwidth": 2,
            "linecolor": "white",
            "showbackground": true,
            "ticks": "",
            "zerolinecolor": "white"
           },
           "zaxis": {
            "backgroundcolor": "#E5ECF6",
            "gridcolor": "white",
            "gridwidth": 2,
            "linecolor": "white",
            "showbackground": true,
            "ticks": "",
            "zerolinecolor": "white"
           }
          },
          "shapedefaults": {
           "line": {
            "color": "#2a3f5f"
           }
          },
          "ternary": {
           "aaxis": {
            "gridcolor": "white",
            "linecolor": "white",
            "ticks": ""
           },
           "baxis": {
            "gridcolor": "white",
            "linecolor": "white",
            "ticks": ""
           },
           "bgcolor": "#E5ECF6",
           "caxis": {
            "gridcolor": "white",
            "linecolor": "white",
            "ticks": ""
           }
          },
          "title": {
           "x": 0.05
          },
          "xaxis": {
           "automargin": true,
           "gridcolor": "white",
           "linecolor": "white",
           "ticks": "",
           "title": {
            "standoff": 15
           },
           "zerolinecolor": "white",
           "zerolinewidth": 2
          },
          "yaxis": {
           "automargin": true,
           "gridcolor": "white",
           "linecolor": "white",
           "ticks": "",
           "title": {
            "standoff": 15
           },
           "zerolinecolor": "white",
           "zerolinewidth": 2
          }
         }
        },
        "title": {
         "text": "Total Cases:11040"
        },
        "width": 1500,
        "xaxis": {
         "anchor": "y",
         "domain": [
          0,
          1
         ],
         "tickmode": "linear",
         "title": {
          "text": "detectedstate"
         }
        },
        "yaxis": {
         "anchor": "x",
         "domain": [
          0,
          1
         ],
         "title": {
          "text": "counts"
         }
        }
       }
      },
      "text/html": [
       "<div>\n",
       "        \n",
       "        \n",
       "            <div id=\"ea835cda-180b-4f55-ad24-f976e7db03e8\" class=\"plotly-graph-div\" style=\"height:700px; width:1500px;\"></div>\n",
       "            <script type=\"text/javascript\">\n",
       "                require([\"plotly\"], function(Plotly) {\n",
       "                    window.PLOTLYENV=window.PLOTLYENV || {};\n",
       "                    \n",
       "                if (document.getElementById(\"ea835cda-180b-4f55-ad24-f976e7db03e8\")) {\n",
       "                    Plotly.newPlot(\n",
       "                        'ea835cda-180b-4f55-ad24-f976e7db03e8',\n",
       "                        [{\"alignmentgroup\": \"True\", \"customdata\": [[2455, 4503, \"NA\"], [1510, 4503, \"NA\"], [2455, 2043, \"NA\"], [969, 4503, \"NA\"], [2455, 1678, \"NA\"], [1204, 4503, \"NA\"], [1510, 2043, \"NA\"], [614, 4503, \"NA\"], [1510, 1678, \"NA\"], [617, 4503, \"NA\"], [592, 2043, \"NA\"], [592, 4503, \"NA\"], [657, 1678, \"NA\"], [473, 2043, \"NA\"], [969, 1678, \"NA\"], [473, 4503, \"NA\"], [657, 4503, \"NA\"], [614, 2043, \"NA\"], [278, 4503, \"NA\"], [657, 2043, \"NA\"], [1204, 1678, \"NA\"], [969, 2043, \"NA\"], [617, 1678, \"NA\"], [2455, 286, \"NA\"], [198, 4503, \"NA\"], [592, 1678, \"NA\"], [190, 2043, \"NA\"], [184, 4503, \"NA\"], [190, 1678, \"NA\"], [190, 4503, \"NA\"], [473, 1678, \"NA\"], [614, 1678, \"NA\"], [386, 2043, \"NA\"], [198, 2043, \"NA\"], [278, 2043, \"NA\"], [278, 1678, \"NA\"], [1510, 286, \"NA\"], [60, 2043, \"NA\"], [657, 286, \"NA\"], [592, 286, \"NA\"], [33, 4503, \"NA\"], [617, 286, \"NA\"], [969, 286, \"NA\"], [386, 4503, \"NA\"], [614, 286, \"NA\"], [35, 2043, \"NA\"], [258, 4503, \"NA\"], [278, 286, \"NA\"], [184, 2043, \"NA\"], [617, 2043, \"NA\"], [60, 4503, \"NA\"], [386, 286, \"NA\"], [198, 286, \"NA\"], [32, 4503, \"NA\"], [35, 4503, \"NA\"], [66, 4503, \"NA\"], [1204, 2043, \"NA\"], [184, 286, \"NA\"], [66, 286, \"NA\"], [969, 29, \"NA\"], [1510, 29, \"NA\"], [2455, 29, \"NA\"], [24, 1678, \"NA\"], [617, 29, \"NA\"], [32, 2043, \"NA\"], [24, 4503, \"NA\"], [258, 2043, \"NA\"], [66, 2043, \"NA\"], [31, 2043, \"NA\"], [184, 1678, \"NA\"], [21, 4503, \"NA\"], [33, 286, \"NA\"], [258, 1678, \"NA\"], [198, 1678, \"NA\"], [60, 1678, \"NA\"], [17, 29, \"NA\"], [33, 1678, \"NA\"], [17, 1678, \"NA\"], [7, 2043, \"NA\"], [11, 2043, \"NA\"], [190, 286, \"NA\"], [35, 286, \"NA\"], [60, 286, \"NA\"], [21, 2043, \"NA\"], [24, 2043, \"NA\"], [2, 4503, \"NA\"], [17, 2043, \"NA\"], [31, 4503, \"NA\"], [386, 1678, \"NA\"], [1, 4503, \"NA\"], [66, 1678, \"NA\"], [657, 29, \"NA\"], [17, 1, \"NA\"], [17, 4503, \"NA\"], [1, 4503, \"NA\"], [31, 1678, \"NA\"]], \"hovertemplate\": \"keys=%{customdata[2]}<br>detectedstate=%{x}<br>counts=%{y}<br>total_ct=%{customdata[0]}<br>total_ct_daily=%{customdata[1]}<extra></extra>\", \"legendgroup\": \"NA\", \"marker\": {\"color\": \"#636efa\"}, \"name\": \"NA\", \"offsetgroup\": \"NA\", \"orientation\": \"v\", \"showlegend\": true, \"textposition\": \"auto\", \"type\": \"bar\", \"x\": [\"Maharashtra\", \"Delhi\", \"Maharashtra\", \"Rajasthan\", \"Maharashtra\", \"Tamil Nadu\", \"Delhi\", \"Madhya Pradesh\", \"Delhi\", \"Gujarat\", \"Telangana\", \"Telangana\", \"Uttar Pradesh\", \"Andhra Pradesh\", \"Rajasthan\", \"Andhra Pradesh\", \"Uttar Pradesh\", \"Madhya Pradesh\", \"Jammu and Kashmir\", \"Uttar Pradesh\", \"Tamil Nadu\", \"Rajasthan\", \"Gujarat\", \"Maharashtra\", \"Haryana\", \"Telangana\", \"West Bengal\", \"Punjab\", \"West Bengal\", \"West Bengal\", \"Andhra Pradesh\", \"Madhya Pradesh\", \"Kerala\", \"Haryana\", \"Jammu and Kashmir\", \"Jammu and Kashmir\", \"Delhi\", \"Odisha\", \"Uttar Pradesh\", \"Telangana\", \"Chhattisgarh\", \"Gujarat\", \"Rajasthan\", \"Kerala\", \"Madhya Pradesh\", \"Uttarakhand\", \"Karnataka\", \"Jammu and Kashmir\", \"Punjab\", \"Gujarat\", \"Odisha\", \"Kerala\", \"Haryana\", \"Himachal Pradesh\", \"Uttarakhand\", \"Bihar\", \"Tamil Nadu\", \"Punjab\", \"Bihar\", \"Rajasthan\", \"Delhi\", \"Maharashtra\", \"Jharkhand\", \"Gujarat\", \"Himachal Pradesh\", \"Jharkhand\", \"Karnataka\", \"Bihar\", \"Assam\", \"Punjab\", \"Chandigarh\", \"Chhattisgarh\", \"Karnataka\", \"Haryana\", \"Odisha\", \"Ladakh\", \"Chhattisgarh\", \"Ladakh\", \"Puducherry\", \"Andaman and Nicobar Islands\", \"West Bengal\", \"Uttarakhand\", \"Odisha\", \"Chandigarh\", \"Jharkhand\", \"Tripura\", \"Ladakh\", \"Assam\", \"Kerala\", \"Dadra and Nagar Haveli\", \"Bihar\", \"Uttar Pradesh\", \"Ladakh\", \"Ladakh\", \"Nagaland\", \"Assam\"], \"xaxis\": \"x\", \"y\": [1235, 641, 535, 507, 473, 458, 410, 369, 356, 330, 249, 197, 174, 169, 165, 164, 159, 142, 139, 136, 129, 108, 101, 97, 89, 61, 58, 58, 56, 54, 53, 52, 51, 47, 44, 33, 32, 25, 25, 24, 21, 19, 19, 19, 17, 16, 15, 14, 11, 11, 10, 10, 9, 9, 8, 8, 8, 7, 7, 7, 7, 6, 5, 5, 5, 5, 4, 4, 4, 4, 3, 3, 3, 3, 3, 3, 2, 2, 2, 1, 1, 1, 1, 1, 1, 1, 1, 1, 1, 1, 1, 1, 1, 1, 1, 1], \"yaxis\": \"y\"}, {\"alignmentgroup\": \"True\", \"customdata\": [[1204, 731, \"Domestic Travel Delhi\"], [657, 731, \"Domestic Travel Delhi\"], [473, 731, \"Domestic Travel Delhi\"], [657, 145, \"Domestic Travel Delhi\"], [1204, 145, \"Domestic Travel Delhi\"], [31, 731, \"Domestic Travel Delhi\"], [258, 731, \"Domestic Travel Delhi\"], [1510, 731, \"Domestic Travel Delhi\"], [969, 731, \"Domestic Travel Delhi\"], [198, 145, \"Domestic Travel Delhi\"], [592, 731, \"Domestic Travel Delhi\"], [258, 145, \"Domestic Travel Delhi\"], [1510, 145, \"Domestic Travel Delhi\"], [32, 145, \"Domestic Travel Delhi\"], [617, 731, \"Domestic Travel Delhi\"], [386, 731, \"Domestic Travel Delhi\"], [32, 731, \"Domestic Travel Delhi\"], [1510, 17, \"Domestic Travel Delhi\"], [969, 145, \"Domestic Travel Delhi\"], [2455, 731, \"Domestic Travel Delhi\"], [184, 731, \"Domestic Travel Delhi\"], [386, 145, \"Domestic Travel Delhi\"], [1204, 17, \"Domestic Travel Delhi\"], [184, 145, \"Domestic Travel Delhi\"], [617, 145, \"Domestic Travel Delhi\"], [35, 731, \"Domestic Travel Delhi\"], [592, 17, \"Domestic Travel Delhi\"], [7, 145, \"Domestic Travel Delhi\"], [11, 17, \"Domestic Travel Delhi\"], [7, 731, \"Domestic Travel Delhi\"], [617, 1, \"Domestic Travel Delhi\"], [473, 17, \"Domestic Travel Delhi\"], [278, 17, \"Domestic Travel Delhi\"], [657, 17, \"Domestic Travel Delhi\"], [1, 731, \"Domestic Travel Delhi\"], [33, 731, \"Domestic Travel Delhi\"], [2, 731, \"Domestic Travel Delhi\"], [60, 731, \"Domestic Travel Delhi\"], [31, 145, \"Domestic Travel Delhi\"], [35, 145, \"Domestic Travel Delhi\"], [258, 1, \"Domestic Travel Delhi\"]], \"hovertemplate\": \"keys=%{customdata[2]}<br>detectedstate=%{x}<br>counts=%{y}<br>total_ct=%{customdata[0]}<br>total_ct_daily=%{customdata[1]}<extra></extra>\", \"legendgroup\": \"Domestic Travel Delhi\", \"marker\": {\"color\": \"#EF553B\"}, \"name\": \"Domestic Travel Delhi\", \"offsetgroup\": \"Domestic Travel Delhi\", \"orientation\": \"v\", \"showlegend\": true, \"textposition\": \"auto\", \"type\": \"bar\", \"x\": [\"Tamil Nadu\", \"Uttar Pradesh\", \"Andhra Pradesh\", \"Uttar Pradesh\", \"Tamil Nadu\", \"Assam\", \"Karnataka\", \"Delhi\", \"Rajasthan\", \"Haryana\", \"Telangana\", \"Karnataka\", \"Delhi\", \"Himachal Pradesh\", \"Gujarat\", \"Kerala\", \"Himachal Pradesh\", \"Delhi\", \"Rajasthan\", \"Maharashtra\", \"Punjab\", \"Kerala\", \"Tamil Nadu\", \"Punjab\", \"Gujarat\", \"Uttarakhand\", \"Telangana\", \"Puducherry\", \"Andaman and Nicobar Islands\", \"Puducherry\", \"Gujarat\", \"Andhra Pradesh\", \"Jammu and Kashmir\", \"Uttar Pradesh\", \"Arunachal Pradesh\", \"Chhattisgarh\", \"Manipur\", \"Odisha\", \"Assam\", \"Uttarakhand\", \"Karnataka\"], \"xaxis\": \"x\", \"y\": [481, 61, 57, 46, 31, 22, 19, 18, 18, 16, 15, 13, 10, 9, 7, 7, 6, 6, 6, 6, 5, 4, 4, 3, 3, 3, 2, 2, 2, 2, 1, 1, 1, 1, 1, 1, 1, 1, 1, 1, 1], \"yaxis\": \"y\"}, {\"alignmentgroup\": \"True\", \"customdata\": [[386, 211, \"International Travel\"], [386, 175, \"International Travel\"], [969, 96, \"International Travel\"], [2455, 175, \"International Travel\"], [258, 211, \"International Travel\"], [592, 175, \"International Travel\"], [386, 96, \"International Travel\"], [1204, 211, \"International Travel\"], [386, 36, \"International Travel\"], [258, 175, \"International Travel\"], [258, 96, \"International Travel\"], [198, 25, \"International Travel\"], [2455, 29, \"International Travel\"], [66, 96, \"International Travel\"], [617, 211, \"International Travel\"], [617, 175, \"International Travel\"], [657, 175, \"International Travel\"], [1510, 175, \"International Travel\"], [2455, 211, \"International Travel\"], [592, 211, \"International Travel\"], [1204, 175, \"International Travel\"], [184, 175, \"International Travel\"], [386, 29, \"International Travel\"], [617, 36, \"International Travel\"], [278, 211, \"International Travel\"], [198, 175, \"International Travel\"], [386, 8, \"International Travel\"], [473, 211, \"International Travel\"], [969, 175, \"International Travel\"], [473, 175, \"International Travel\"], [657, 211, \"International Travel\"], [7, 211, \"International Travel\"], [60, 96, \"International Travel\"], [614, 211, \"International Travel\"], [1510, 25, \"International Travel\"], [386, 25, \"International Travel\"], [184, 36, \"International Travel\"], [66, 36, \"International Travel\"], [21, 96, \"International Travel\"], [190, 211, \"International Travel\"], [190, 175, \"International Travel\"], [258, 8, \"International Travel\"], [617, 96, \"International Travel\"], [258, 36, \"International Travel\"], [592, 29, \"International Travel\"], [60, 175, \"International Travel\"], [32, 175, \"International Travel\"], [278, 175, \"International Travel\"], [969, 211, \"International Travel\"], [21, 175, \"International Travel\"], [66, 211, \"International Travel\"], [33, 211, \"International Travel\"], [1204, 96, \"International Travel\"], [66, 175, \"International Travel\"], [614, 175, \"International Travel\"], [33, 96, \"International Travel\"], [7, 96, \"International Travel\"], [24, 96, \"International Travel\"], [969, 29, \"International Travel\"], [386, 2, \"International Travel\"], [60, 36, \"International Travel\"], [66, 8, \"International Travel\"], [2, 36, \"International Travel\"], [31, 36, \"International Travel\"], [11, 36, \"International Travel\"], [258, 29, \"International Travel\"], [386, 1, \"International Travel\"], [17, 25, \"International Travel\"], [969, 25, \"International Travel\"], [1204, 25, \"International Travel\"], [592, 25, \"International Travel\"], [657, 25, \"International Travel\"], [473, 29, \"International Travel\"], [1510, 29, \"International Travel\"], [278, 29, \"International Travel\"], [17, 29, \"International Travel\"], [184, 29, \"International Travel\"], [35, 29, \"International Travel\"], [33, 175, \"International Travel\"], [17, 175, \"International Travel\"], [7, 175, \"International Travel\"], [21, 211, \"International Travel\"], [198, 211, \"International Travel\"], [2, 211, \"International Travel\"], [1, 211, \"International Travel\"], [35, 211, \"International Travel\"], [473, 96, \"International Travel\"], [614, 96, \"International Travel\"]], \"hovertemplate\": \"keys=%{customdata[2]}<br>detectedstate=%{x}<br>counts=%{y}<br>total_ct=%{customdata[0]}<br>total_ct_daily=%{customdata[1]}<extra></extra>\", \"legendgroup\": \"International Travel\", \"marker\": {\"color\": \"#00cc96\"}, \"name\": \"International Travel\", \"offsetgroup\": \"International Travel\", \"orientation\": \"v\", \"showlegend\": true, \"textposition\": \"auto\", \"type\": \"bar\", \"x\": [\"Kerala\", \"Kerala\", \"Rajasthan\", \"Maharashtra\", \"Karnataka\", \"Telangana\", \"Kerala\", \"Tamil Nadu\", \"Kerala\", \"Karnataka\", \"Karnataka\", \"Haryana\", \"Maharashtra\", \"Bihar\", \"Gujarat\", \"Gujarat\", \"Uttar Pradesh\", \"Delhi\", \"Maharashtra\", \"Telangana\", \"Tamil Nadu\", \"Punjab\", \"Kerala\", \"Gujarat\", \"Jammu and Kashmir\", \"Haryana\", \"Kerala\", \"Andhra Pradesh\", \"Rajasthan\", \"Andhra Pradesh\", \"Uttar Pradesh\", \"Goa\", \"Odisha\", \"Madhya Pradesh\", \"Delhi\", \"Kerala\", \"Punjab\", \"Bihar\", \"Chandigarh\", \"West Bengal\", \"West Bengal\", \"Karnataka\", \"Gujarat\", \"Karnataka\", \"Telangana\", \"Odisha\", \"Himachal Pradesh\", \"Jammu and Kashmir\", \"Rajasthan\", \"Chandigarh\", \"Bihar\", \"Chhattisgarh\", \"Tamil Nadu\", \"Bihar\", \"Madhya Pradesh\", \"Chhattisgarh\", \"Goa\", \"Jharkhand\", \"Rajasthan\", \"Kerala\", \"Odisha\", \"Bihar\", \"Tripura\", \"Assam\", \"Andaman and Nicobar Islands\", \"Karnataka\", \"Kerala\", \"Ladakh\", \"Rajasthan\", \"Tamil Nadu\", \"Telangana\", \"Uttar Pradesh\", \"Andhra Pradesh\", \"Delhi\", \"Jammu and Kashmir\", \"Ladakh\", \"Punjab\", \"Uttarakhand\", \"Chhattisgarh\", \"Ladakh\", \"Puducherry\", \"Chandigarh\", \"Haryana\", \"Manipur\", \"Mizoram\", \"Uttarakhand\", \"Andhra Pradesh\", \"Madhya Pradesh\"], \"xaxis\": \"x\", \"y\": [104, 38, 34, 27, 27, 22, 18, 18, 17, 15, 15, 14, 12, 11, 10, 10, 9, 9, 9, 8, 7, 6, 6, 6, 5, 5, 5, 5, 5, 4, 4, 4, 3, 3, 3, 3, 3, 3, 3, 3, 3, 2, 2, 2, 2, 2, 2, 2, 2, 2, 2, 2, 2, 2, 2, 2, 2, 2, 2, 2, 2, 1, 1, 1, 1, 1, 1, 1, 1, 1, 1, 1, 1, 1, 1, 1, 1, 1, 1, 1, 1, 1, 1, 1, 1, 1, 1, 1], \"yaxis\": \"y\"}, {\"alignmentgroup\": \"True\", \"customdata\": [[617, 202, \"Contact\"], [617, 190, \"Contact\"], [258, 202, \"Contact\"], [184, 202, \"Contact\"], [386, 190, \"Contact\"], [969, 202, \"Contact\"], [278, 190, \"Contact\"], [969, 190, \"Contact\"], [66, 202, \"Contact\"], [258, 190, \"Contact\"], [258, 37, \"Contact\"], [258, 115, \"Contact\"], [386, 202, \"Contact\"], [386, 115, \"Contact\"], [617, 115, \"Contact\"], [1204, 190, \"Contact\"], [278, 115, \"Contact\"], [24, 202, \"Contact\"], [184, 37, \"Contact\"], [184, 190, \"Contact\"], [657, 115, \"Contact\"], [1204, 115, \"Contact\"], [184, 115, \"Contact\"], [198, 190, \"Contact\"], [184, 40, \"Contact\"], [386, 19, \"Contact\"], [2455, 40, \"Contact\"], [614, 115, \"Contact\"], [2455, 115, \"Contact\"], [657, 8, \"Contact\"], [592, 115, \"Contact\"], [386, 37, \"Contact\"], [21, 190, \"Contact\"], [657, 190, \"Contact\"], [473, 115, \"Contact\"], [657, 40, \"Contact\"], [1510, 40, \"Contact\"], [21, 40, \"Contact\"], [2455, 19, \"Contact\"], [190, 40, \"Contact\"], [386, 40, \"Contact\"], [657, 19, \"Contact\"], [60, 37, \"Contact\"], [60, 202, \"Contact\"], [2455, 190, \"Contact\"], [969, 115, \"Contact\"], [386, 8, \"Contact\"], [66, 190, \"Contact\"], [473, 190, \"Contact\"], [190, 115, \"Contact\"], [66, 115, \"Contact\"], [258, 40, \"Contact\"], [258, 19, \"Contact\"], [1510, 19, \"Contact\"], [278, 19, \"Contact\"], [473, 40, \"Contact\"], [198, 40, \"Contact\"], [17, 40, \"Contact\"], [614, 40, \"Contact\"], [592, 40, \"Contact\"], [21, 115, \"Contact\"], [7, 115, \"Contact\"], [198, 115, \"Contact\"], [35, 115, \"Contact\"], [614, 190, \"Contact\"]], \"hovertemplate\": \"keys=%{customdata[2]}<br>detectedstate=%{x}<br>counts=%{y}<br>total_ct=%{customdata[0]}<br>total_ct_daily=%{customdata[1]}<extra></extra>\", \"legendgroup\": \"Contact\", \"marker\": {\"color\": \"#ab63fa\"}, \"name\": \"Contact\", \"offsetgroup\": \"Contact\", \"orientation\": \"v\", \"showlegend\": true, \"textposition\": \"auto\", \"type\": \"bar\", \"x\": [\"Gujarat\", \"Gujarat\", \"Karnataka\", \"Punjab\", \"Kerala\", \"Rajasthan\", \"Jammu and Kashmir\", \"Rajasthan\", \"Bihar\", \"Karnataka\", \"Karnataka\", \"Karnataka\", \"Kerala\", \"Kerala\", \"Gujarat\", \"Tamil Nadu\", \"Jammu and Kashmir\", \"Jharkhand\", \"Punjab\", \"Punjab\", \"Uttar Pradesh\", \"Tamil Nadu\", \"Punjab\", \"Haryana\", \"Punjab\", \"Kerala\", \"Maharashtra\", \"Madhya Pradesh\", \"Maharashtra\", \"Uttar Pradesh\", \"Telangana\", \"Kerala\", \"Chandigarh\", \"Uttar Pradesh\", \"Andhra Pradesh\", \"Uttar Pradesh\", \"Delhi\", \"Chandigarh\", \"Maharashtra\", \"West Bengal\", \"Kerala\", \"Uttar Pradesh\", \"Odisha\", \"Odisha\", \"Maharashtra\", \"Rajasthan\", \"Kerala\", \"Bihar\", \"Andhra Pradesh\", \"West Bengal\", \"Bihar\", \"Karnataka\", \"Karnataka\", \"Delhi\", \"Jammu and Kashmir\", \"Andhra Pradesh\", \"Haryana\", \"Ladakh\", \"Madhya Pradesh\", \"Telangana\", \"Chandigarh\", \"Goa\", \"Haryana\", \"Uttarakhand\", \"Madhya Pradesh\"], \"xaxis\": \"x\", \"y\": [49, 43, 42, 35, 34, 25, 24, 22, 21, 21, 20, 20, 16, 15, 13, 12, 11, 11, 10, 10, 8, 8, 8, 8, 8, 8, 7, 7, 6, 6, 4, 4, 4, 4, 4, 4, 4, 4, 4, 3, 3, 3, 3, 3, 3, 3, 2, 2, 2, 2, 2, 2, 2, 1, 1, 1, 1, 1, 1, 1, 1, 1, 1, 1, 1], \"yaxis\": \"y\"}, {\"alignmentgroup\": \"True\", \"customdata\": [[2455, 20, \"Contact,Travel\"], [2455, 46, \"Contact,Travel\"], [1204, 33, \"Contact,Travel\"], [614, 33, \"Contact,Travel\"], [258, 46, \"Contact,Travel\"], [258, 33, \"Contact,Travel\"], [258, 12, \"Contact,Travel\"], [386, 12, \"Contact,Travel\"], [190, 46, \"Contact,Travel\"], [1204, 46, \"Contact,Travel\"], [386, 46, \"Contact,Travel\"], [473, 46, \"Contact,Travel\"], [258, 20, \"Contact,Travel\"], [614, 20, \"Contact,Travel\"], [278, 46, \"Contact,Travel\"], [473, 33, \"Contact,Travel\"], [35, 20, \"Contact,Travel\"], [657, 20, \"Contact,Travel\"], [969, 20, \"Contact,Travel\"], [2455, 20, \"Contact,Travel\"], [258, 20, \"Contact,Travel\"], [657, 33, \"Contact,Travel\"], [617, 46, \"Contact,Travel\"], [184, 12, \"Contact,Travel\"], [31, 2, \"Contact,Travel\"], [657, 20, \"Contact,Travel\"], [617, 20, \"Contact,Travel\"], [198, 20, \"Contact,Travel\"], [386, 20, \"Contact,Travel\"], [17, 20, \"Contact,Travel\"], [1204, 20, \"Contact,Travel\"], [592, 20, \"Contact,Travel\"], [190, 20, \"Contact,Travel\"], [11, 46, \"Contact,Travel\"], [969, 46, \"Contact,Travel\"], [657, 46, \"Contact,Travel\"], [21, 33, \"Contact,Travel\"], [386, 2, \"Contact,Travel\"], [969, 1, \"Contact,Travel\"], [1510, 20, \"Contact,Travel\"]], \"hovertemplate\": \"keys=%{customdata[2]}<br>detectedstate=%{x}<br>counts=%{y}<br>total_ct=%{customdata[0]}<br>total_ct_daily=%{customdata[1]}<extra></extra>\", \"legendgroup\": \"Contact,Travel\", \"marker\": {\"color\": \"#FFA15A\"}, \"name\": \"Contact,Travel\", \"offsetgroup\": \"Contact,Travel\", \"orientation\": \"v\", \"showlegend\": true, \"textposition\": \"auto\", \"type\": \"bar\", \"x\": [\"Maharashtra\", \"Maharashtra\", \"Tamil Nadu\", \"Madhya Pradesh\", \"Karnataka\", \"Karnataka\", \"Karnataka\", \"Kerala\", \"West Bengal\", \"Tamil Nadu\", \"Kerala\", \"Andhra Pradesh\", \"Karnataka\", \"Madhya Pradesh\", \"Jammu and Kashmir\", \"Andhra Pradesh\", \"Uttarakhand\", \"Uttar Pradesh\", \"Rajasthan\", \"Maharashtra\", \"Karnataka\", \"Uttar Pradesh\", \"Gujarat\", \"Punjab\", \"Assam\", \"Uttar Pradesh\", \"Gujarat\", \"Haryana\", \"Kerala\", \"Ladakh\", \"Tamil Nadu\", \"Telangana\", \"West Bengal\", \"Andaman and Nicobar Islands\", \"Rajasthan\", \"Uttar Pradesh\", \"Chandigarh\", \"Kerala\", \"Rajasthan\", \"Delhi\"], \"xaxis\": \"x\", \"y\": [15, 12, 12, 10, 9, 5, 5, 5, 5, 4, 4, 4, 3, 3, 3, 3, 2, 2, 2, 2, 2, 2, 2, 2, 1, 1, 1, 1, 1, 1, 1, 1, 1, 1, 1, 1, 1, 1, 1, 1], \"yaxis\": \"y\"}, {\"alignmentgroup\": \"True\", \"customdata\": [[1204, 14, \"Contact,Investigation in Progress\"], [969, 19, \"Contact,Investigation in Progress\"], [184, 8, \"Contact,Investigation in Progress\"], [1204, 19, \"Contact,Investigation in Progress\"], [17, 8, \"Contact,Investigation in Progress\"], [60, 19, \"Contact,Investigation in Progress\"], [473, 19, \"Contact,Investigation in Progress\"], [11, 3, \"Contact,Investigation in Progress\"], [184, 3, \"Contact,Investigation in Progress\"], [1204, 3, \"Contact,Investigation in Progress\"], [21, 19, \"Contact,Investigation in Progress\"]], \"hovertemplate\": \"keys=%{customdata[2]}<br>detectedstate=%{x}<br>counts=%{y}<br>total_ct=%{customdata[0]}<br>total_ct_daily=%{customdata[1]}<extra></extra>\", \"legendgroup\": \"Contact,Investigation in Progress\", \"marker\": {\"color\": \"#19d3f3\"}, \"name\": \"Contact,Investigation in Progress\", \"offsetgroup\": \"Contact,Investigation in Progress\", \"orientation\": \"v\", \"showlegend\": true, \"textposition\": \"auto\", \"type\": \"bar\", \"x\": [\"Tamil Nadu\", \"Rajasthan\", \"Punjab\", \"Tamil Nadu\", \"Ladakh\", \"Odisha\", \"Andhra Pradesh\", \"Andaman and Nicobar Islands\", \"Punjab\", \"Tamil Nadu\", \"Chandigarh\"], \"xaxis\": \"x\", \"y\": [14, 10, 5, 4, 3, 2, 2, 1, 1, 1, 1], \"yaxis\": \"y\"}, {\"alignmentgroup\": \"True\", \"customdata\": [[969, 9, \"Contact,Investigation in Progress,Travel\"], [1204, 1, \"Contact,Investigation in Progress,Travel\"], [473, 9, \"Contact,Investigation in Progress,Travel\"], [258, 9, \"Contact,Investigation in Progress,Travel\"]], \"hovertemplate\": \"keys=%{customdata[2]}<br>detectedstate=%{x}<br>counts=%{y}<br>total_ct=%{customdata[0]}<br>total_ct_daily=%{customdata[1]}<extra></extra>\", \"legendgroup\": \"Contact,Investigation in Progress,Travel\", \"marker\": {\"color\": \"#FF6692\"}, \"name\": \"Contact,Investigation in Progress,Travel\", \"offsetgroup\": \"Contact,Investigation in Progress,Travel\", \"orientation\": \"v\", \"showlegend\": true, \"textposition\": \"auto\", \"type\": \"bar\", \"x\": [\"Rajasthan\", \"Tamil Nadu\", \"Andhra Pradesh\", \"Karnataka\"], \"xaxis\": \"x\", \"y\": [7, 1, 1, 1], \"yaxis\": \"y\"}, {\"alignmentgroup\": \"True\", \"customdata\": [[969, 9, \"Govt Staff\"], [969, 6, \"Govt Staff\"], [198, 6, \"Govt Staff\"], [1510, 9, \"Govt Staff\"], [258, 9, \"Govt Staff\"], [17, 9, \"Govt Staff\"], [657, 9, \"Govt Staff\"], [386, 6, \"Govt Staff\"], [614, 6, \"Govt Staff\"], [1510, 1, \"Govt Staff\"]], \"hovertemplate\": \"keys=%{customdata[2]}<br>detectedstate=%{x}<br>counts=%{y}<br>total_ct=%{customdata[0]}<br>total_ct_daily=%{customdata[1]}<extra></extra>\", \"legendgroup\": \"Govt Staff\", \"marker\": {\"color\": \"#B6E880\"}, \"name\": \"Govt Staff\", \"offsetgroup\": \"Govt Staff\", \"orientation\": \"v\", \"showlegend\": true, \"textposition\": \"auto\", \"type\": \"bar\", \"x\": [\"Rajasthan\", \"Rajasthan\", \"Haryana\", \"Delhi\", \"Karnataka\", \"Ladakh\", \"Uttar Pradesh\", \"Kerala\", \"Madhya Pradesh\", \"Delhi\"], \"xaxis\": \"x\", \"y\": [5, 2, 2, 1, 1, 1, 1, 1, 1, 1], \"yaxis\": \"y\"}, {\"alignmentgroup\": \"True\", \"customdata\": [[614, 9, \"Contact,No Travel History,Travel\"], [657, 9, \"Contact,No Travel History,Travel\"], [592, 9, \"Contact,No Travel History,Travel\"], [386, 9, \"Contact,No Travel History,Travel\"], [184, 9, \"Contact,No Travel History,Travel\"]], \"hovertemplate\": \"keys=%{customdata[2]}<br>detectedstate=%{x}<br>counts=%{y}<br>total_ct=%{customdata[0]}<br>total_ct_daily=%{customdata[1]}<extra></extra>\", \"legendgroup\": \"Contact,No Travel History,Travel\", \"marker\": {\"color\": \"#FF97FF\"}, \"name\": \"Contact,No Travel History,Travel\", \"offsetgroup\": \"Contact,No Travel History,Travel\", \"orientation\": \"v\", \"showlegend\": true, \"textposition\": \"auto\", \"type\": \"bar\", \"x\": [\"Madhya Pradesh\", \"Uttar Pradesh\", \"Telangana\", \"Kerala\", \"Punjab\"], \"xaxis\": \"x\", \"y\": [5, 1, 1, 1, 1], \"yaxis\": \"y\"}, {\"alignmentgroup\": \"True\", \"customdata\": [[60, 5, \"Investigation in Progress,Tenant\"]], \"hovertemplate\": \"keys=%{customdata[2]}<br>detectedstate=%{x}<br>counts=%{y}<br>total_ct=%{customdata[0]}<br>total_ct_daily=%{customdata[1]}<extra></extra>\", \"legendgroup\": \"Investigation in Progress,Tenant\", \"marker\": {\"color\": \"#FECB52\"}, \"name\": \"Investigation in Progress,Tenant\", \"offsetgroup\": \"Investigation in Progress,Tenant\", \"orientation\": \"v\", \"showlegend\": true, \"textposition\": \"auto\", \"type\": \"bar\", \"x\": [\"Odisha\"], \"xaxis\": \"x\", \"y\": [5], \"yaxis\": \"y\"}, {\"alignmentgroup\": \"True\", \"customdata\": [[969, 7, \"Domestic Travel\"], [11, 13, \"Domestic Travel\"], [2455, 13, \"Domestic Travel\"], [258, 4, \"Domestic Travel\"], [657, 1, \"Domestic Travel\"], [1510, 13, \"Domestic Travel\"], [617, 13, \"Domestic Travel\"], [969, 13, \"Domestic Travel\"], [617, 7, \"Domestic Travel\"], [184, 7, \"Domestic Travel\"], [184, 4, \"Domestic Travel\"], [1204, 4, \"Domestic Travel\"]], \"hovertemplate\": \"keys=%{customdata[2]}<br>detectedstate=%{x}<br>counts=%{y}<br>total_ct=%{customdata[0]}<br>total_ct_daily=%{customdata[1]}<extra></extra>\", \"legendgroup\": \"Domestic Travel\", \"marker\": {\"color\": \"#636efa\"}, \"name\": \"Domestic Travel\", \"offsetgroup\": \"Domestic Travel\", \"orientation\": \"v\", \"showlegend\": true, \"textposition\": \"auto\", \"type\": \"bar\", \"x\": [\"Rajasthan\", \"Andaman and Nicobar Islands\", \"Maharashtra\", \"Karnataka\", \"Uttar Pradesh\", \"Delhi\", \"Gujarat\", \"Rajasthan\", \"Gujarat\", \"Punjab\", \"Punjab\", \"Tamil Nadu\"], \"xaxis\": \"x\", \"y\": [5, 5, 5, 2, 1, 1, 1, 1, 1, 1, 1, 1], \"yaxis\": \"y\"}, {\"alignmentgroup\": \"True\", \"customdata\": [[969, 5, \"Contact,Govt Staff\"], [592, 5, \"Contact,Govt Staff\"], [969, 5, \"Contact,Govt Staff\"], [1510, 5, \"Contact,Govt Staff\"], [657, 1, \"Contact,Govt Staff\"]], \"hovertemplate\": \"keys=%{customdata[2]}<br>detectedstate=%{x}<br>counts=%{y}<br>total_ct=%{customdata[0]}<br>total_ct_daily=%{customdata[1]}<extra></extra>\", \"legendgroup\": \"Contact,Govt Staff\", \"marker\": {\"color\": \"#EF553B\"}, \"name\": \"Contact,Govt Staff\", \"offsetgroup\": \"Contact,Govt Staff\", \"orientation\": \"v\", \"showlegend\": true, \"textposition\": \"auto\", \"type\": \"bar\", \"x\": [\"Rajasthan\", \"Telangana\", \"Rajasthan\", \"Delhi\", \"Uttar Pradesh\"], \"xaxis\": \"x\", \"y\": [5, 2, 2, 1, 1], \"yaxis\": \"y\"}, {\"alignmentgroup\": \"True\", \"customdata\": [[1510, 11, \"No Travel History,Travel\"], [1204, 11, \"No Travel History,Travel\"], [66, 11, \"No Travel History,Travel\"], [184, 6, \"No Travel History,Travel\"], [258, 11, \"No Travel History,Travel\"], [190, 11, \"No Travel History,Travel\"], [1510, 1, \"No Travel History,Travel\"], [617, 6, \"No Travel History,Travel\"], [1204, 6, \"No Travel History,Travel\"], [657, 6, \"No Travel History,Travel\"], [617, 1, \"No Travel History,Travel\"], [190, 6, \"No Travel History,Travel\"]], \"hovertemplate\": \"keys=%{customdata[2]}<br>detectedstate=%{x}<br>counts=%{y}<br>total_ct=%{customdata[0]}<br>total_ct_daily=%{customdata[1]}<extra></extra>\", \"legendgroup\": \"No Travel History,Travel\", \"marker\": {\"color\": \"#00cc96\"}, \"name\": \"No Travel History,Travel\", \"offsetgroup\": \"No Travel History,Travel\", \"orientation\": \"v\", \"showlegend\": true, \"textposition\": \"auto\", \"type\": \"bar\", \"x\": [\"Delhi\", \"Tamil Nadu\", \"Bihar\", \"Punjab\", \"Karnataka\", \"West Bengal\", \"Delhi\", \"Gujarat\", \"Tamil Nadu\", \"Uttar Pradesh\", \"Gujarat\", \"West Bengal\"], \"xaxis\": \"x\", \"y\": [4, 3, 2, 2, 1, 1, 1, 1, 1, 1, 1, 1], \"yaxis\": \"y\"}, {\"alignmentgroup\": \"True\", \"customdata\": [[969, 4, \"Govt Staff,Travel\"], [33, 8, \"Govt Staff,Travel\"], [190, 8, \"Govt Staff,Travel\"], [1510, 4, \"Govt Staff,Travel\"], [1, 1, \"Govt Staff,Travel\"], [35, 8, \"Govt Staff,Travel\"], [657, 8, \"Govt Staff,Travel\"], [592, 8, \"Govt Staff,Travel\"], [32, 8, \"Govt Staff,Travel\"], [386, 3, \"Govt Staff,Travel\"], [2455, 3, \"Govt Staff,Travel\"], [657, 3, \"Govt Staff,Travel\"], [386, 2, \"Govt Staff,Travel\"], [969, 2, \"Govt Staff,Travel\"], [473, 8, \"Govt Staff,Travel\"], [198, 8, \"Govt Staff,Travel\"]], \"hovertemplate\": \"keys=%{customdata[2]}<br>detectedstate=%{x}<br>counts=%{y}<br>total_ct=%{customdata[0]}<br>total_ct_daily=%{customdata[1]}<extra></extra>\", \"legendgroup\": \"Govt Staff,Travel\", \"marker\": {\"color\": \"#ab63fa\"}, \"name\": \"Govt Staff,Travel\", \"offsetgroup\": \"Govt Staff,Travel\", \"orientation\": \"v\", \"showlegend\": true, \"textposition\": \"auto\", \"type\": \"bar\", \"x\": [\"Rajasthan\", \"Chhattisgarh\", \"West Bengal\", \"Delhi\", \"Meghalaya\", \"Uttarakhand\", \"Uttar Pradesh\", \"Telangana\", \"Himachal Pradesh\", \"Kerala\", \"Maharashtra\", \"Uttar Pradesh\", \"Kerala\", \"Rajasthan\", \"Andhra Pradesh\", \"Haryana\"], \"xaxis\": \"x\", \"y\": [3, 1, 1, 1, 1, 1, 1, 1, 1, 1, 1, 1, 1, 1, 1, 1], \"yaxis\": \"y\"}, {\"alignmentgroup\": \"True\", \"customdata\": [[258, 3, \"Investigation in Progress\"]], \"hovertemplate\": \"keys=%{customdata[2]}<br>detectedstate=%{x}<br>counts=%{y}<br>total_ct=%{customdata[0]}<br>total_ct_daily=%{customdata[1]}<extra></extra>\", \"legendgroup\": \"Investigation in Progress\", \"marker\": {\"color\": \"#FFA15A\"}, \"name\": \"Investigation in Progress\", \"offsetgroup\": \"Investigation in Progress\", \"orientation\": \"v\", \"showlegend\": true, \"textposition\": \"auto\", \"type\": \"bar\", \"x\": [\"Karnataka\"], \"xaxis\": \"x\", \"y\": [3], \"yaxis\": \"y\"}, {\"alignmentgroup\": \"True\", \"customdata\": [[1204, 3, \"No Travel History\"], [1204, 1, \"No Travel History\"], [190, 3, \"No Travel History\"]], \"hovertemplate\": \"keys=%{customdata[2]}<br>detectedstate=%{x}<br>counts=%{y}<br>total_ct=%{customdata[0]}<br>total_ct_daily=%{customdata[1]}<extra></extra>\", \"legendgroup\": \"No Travel History\", \"marker\": {\"color\": \"#19d3f3\"}, \"name\": \"No Travel History\", \"offsetgroup\": \"No Travel History\", \"orientation\": \"v\", \"showlegend\": true, \"textposition\": \"auto\", \"type\": \"bar\", \"x\": [\"Tamil Nadu\", \"Tamil Nadu\", \"West Bengal\"], \"xaxis\": \"x\", \"y\": [2, 1, 1], \"yaxis\": \"y\"}, {\"alignmentgroup\": \"True\", \"customdata\": [[657, 1, \"Contact,Family\"], [258, 1, \"Contact,Family\"]], \"hovertemplate\": \"keys=%{customdata[2]}<br>detectedstate=%{x}<br>counts=%{y}<br>total_ct=%{customdata[0]}<br>total_ct_daily=%{customdata[1]}<extra></extra>\", \"legendgroup\": \"Contact,Family\", \"marker\": {\"color\": \"#FF6692\"}, \"name\": \"Contact,Family\", \"offsetgroup\": \"Contact,Family\", \"orientation\": \"v\", \"showlegend\": true, \"textposition\": \"auto\", \"type\": \"bar\", \"x\": [\"Uttar Pradesh\", \"Karnataka\"], \"xaxis\": \"x\", \"y\": [1, 1], \"yaxis\": \"y\"}, {\"alignmentgroup\": \"True\", \"customdata\": [[184, 1, \"Contact,Family,Travel\"]], \"hovertemplate\": \"keys=%{customdata[2]}<br>detectedstate=%{x}<br>counts=%{y}<br>total_ct=%{customdata[0]}<br>total_ct_daily=%{customdata[1]}<extra></extra>\", \"legendgroup\": \"Contact,Family,Travel\", \"marker\": {\"color\": \"#B6E880\"}, \"name\": \"Contact,Family,Travel\", \"offsetgroup\": \"Contact,Family,Travel\", \"orientation\": \"v\", \"showlegend\": true, \"textposition\": \"auto\", \"type\": \"bar\", \"x\": [\"Punjab\"], \"xaxis\": \"x\", \"y\": [1], \"yaxis\": \"y\"}, {\"alignmentgroup\": \"True\", \"customdata\": [[184, 1, \"Family\"], [386, 2, \"Family\"], [657, 2, \"Family\"], [258, 1, \"Family\"]], \"hovertemplate\": \"keys=%{customdata[2]}<br>detectedstate=%{x}<br>counts=%{y}<br>total_ct=%{customdata[0]}<br>total_ct_daily=%{customdata[1]}<extra></extra>\", \"legendgroup\": \"Family\", \"marker\": {\"color\": \"#FF97FF\"}, \"name\": \"Family\", \"offsetgroup\": \"Family\", \"orientation\": \"v\", \"showlegend\": true, \"textposition\": \"auto\", \"type\": \"bar\", \"x\": [\"Punjab\", \"Kerala\", \"Uttar Pradesh\", \"Karnataka\"], \"xaxis\": \"x\", \"y\": [1, 1, 1, 1], \"yaxis\": \"y\"}, {\"alignmentgroup\": \"True\", \"customdata\": [[1510, 1, \"Family,Govt Staff,Investigation in Progress,Travel\"]], \"hovertemplate\": \"keys=%{customdata[2]}<br>detectedstate=%{x}<br>counts=%{y}<br>total_ct=%{customdata[0]}<br>total_ct_daily=%{customdata[1]}<extra></extra>\", \"legendgroup\": \"Family,Govt Staff,Investigation in Progress,Travel\", \"marker\": {\"color\": \"#FECB52\"}, \"name\": \"Family,Govt Staff,Investigation in Progress,Travel\", \"offsetgroup\": \"Family,Govt Staff,Investigation in Progress,Travel\", \"orientation\": \"v\", \"showlegend\": true, \"textposition\": \"auto\", \"type\": \"bar\", \"x\": [\"Delhi\"], \"xaxis\": \"x\", \"y\": [1], \"yaxis\": \"y\"}, {\"alignmentgroup\": \"True\", \"customdata\": [[386, 1, \"Family,Travel\"], [592, 1, \"Family,Travel\"], [386, 1, \"Family,Travel\"]], \"hovertemplate\": \"keys=%{customdata[2]}<br>detectedstate=%{x}<br>counts=%{y}<br>total_ct=%{customdata[0]}<br>total_ct_daily=%{customdata[1]}<extra></extra>\", \"legendgroup\": \"Family,Travel\", \"marker\": {\"color\": \"#636efa\"}, \"name\": \"Family,Travel\", \"offsetgroup\": \"Family,Travel\", \"orientation\": \"v\", \"showlegend\": true, \"textposition\": \"auto\", \"type\": \"bar\", \"x\": [\"Kerala\", \"Telangana\", \"Kerala\"], \"xaxis\": \"x\", \"y\": [1, 1, 1], \"yaxis\": \"y\"}],\n",
       "                        {\"autosize\": false, \"barmode\": \"relative\", \"height\": 700, \"legend\": {\"title\": {\"text\": \"keys\"}, \"tracegroupgap\": 0}, \"margin\": {\"t\": 60}, \"template\": {\"data\": {\"bar\": [{\"error_x\": {\"color\": \"#2a3f5f\"}, \"error_y\": {\"color\": \"#2a3f5f\"}, \"marker\": {\"line\": {\"color\": \"#E5ECF6\", \"width\": 0.5}}, \"type\": \"bar\"}], \"barpolar\": [{\"marker\": {\"line\": {\"color\": \"#E5ECF6\", \"width\": 0.5}}, \"type\": \"barpolar\"}], \"carpet\": [{\"aaxis\": {\"endlinecolor\": \"#2a3f5f\", \"gridcolor\": \"white\", \"linecolor\": \"white\", \"minorgridcolor\": \"white\", \"startlinecolor\": \"#2a3f5f\"}, \"baxis\": {\"endlinecolor\": \"#2a3f5f\", \"gridcolor\": \"white\", \"linecolor\": \"white\", \"minorgridcolor\": \"white\", \"startlinecolor\": \"#2a3f5f\"}, \"type\": \"carpet\"}], \"choropleth\": [{\"colorbar\": {\"outlinewidth\": 0, \"ticks\": \"\"}, \"type\": \"choropleth\"}], \"contour\": [{\"colorbar\": {\"outlinewidth\": 0, \"ticks\": \"\"}, \"colorscale\": [[0.0, \"#0d0887\"], [0.1111111111111111, \"#46039f\"], [0.2222222222222222, \"#7201a8\"], [0.3333333333333333, \"#9c179e\"], [0.4444444444444444, \"#bd3786\"], [0.5555555555555556, \"#d8576b\"], [0.6666666666666666, \"#ed7953\"], [0.7777777777777778, \"#fb9f3a\"], [0.8888888888888888, \"#fdca26\"], [1.0, \"#f0f921\"]], \"type\": \"contour\"}], \"contourcarpet\": [{\"colorbar\": {\"outlinewidth\": 0, \"ticks\": \"\"}, \"type\": \"contourcarpet\"}], \"heatmap\": [{\"colorbar\": {\"outlinewidth\": 0, \"ticks\": \"\"}, \"colorscale\": [[0.0, \"#0d0887\"], [0.1111111111111111, \"#46039f\"], [0.2222222222222222, \"#7201a8\"], [0.3333333333333333, \"#9c179e\"], [0.4444444444444444, \"#bd3786\"], [0.5555555555555556, \"#d8576b\"], [0.6666666666666666, \"#ed7953\"], [0.7777777777777778, \"#fb9f3a\"], [0.8888888888888888, \"#fdca26\"], [1.0, \"#f0f921\"]], \"type\": \"heatmap\"}], \"heatmapgl\": [{\"colorbar\": {\"outlinewidth\": 0, \"ticks\": \"\"}, \"colorscale\": [[0.0, \"#0d0887\"], [0.1111111111111111, \"#46039f\"], [0.2222222222222222, \"#7201a8\"], [0.3333333333333333, \"#9c179e\"], [0.4444444444444444, \"#bd3786\"], [0.5555555555555556, \"#d8576b\"], [0.6666666666666666, \"#ed7953\"], [0.7777777777777778, \"#fb9f3a\"], [0.8888888888888888, \"#fdca26\"], [1.0, \"#f0f921\"]], \"type\": \"heatmapgl\"}], \"histogram\": [{\"marker\": {\"colorbar\": {\"outlinewidth\": 0, \"ticks\": \"\"}}, \"type\": \"histogram\"}], \"histogram2d\": [{\"colorbar\": {\"outlinewidth\": 0, \"ticks\": \"\"}, \"colorscale\": [[0.0, \"#0d0887\"], [0.1111111111111111, \"#46039f\"], [0.2222222222222222, \"#7201a8\"], [0.3333333333333333, \"#9c179e\"], [0.4444444444444444, \"#bd3786\"], [0.5555555555555556, \"#d8576b\"], [0.6666666666666666, \"#ed7953\"], [0.7777777777777778, \"#fb9f3a\"], [0.8888888888888888, \"#fdca26\"], [1.0, \"#f0f921\"]], \"type\": \"histogram2d\"}], \"histogram2dcontour\": [{\"colorbar\": {\"outlinewidth\": 0, \"ticks\": \"\"}, \"colorscale\": [[0.0, \"#0d0887\"], [0.1111111111111111, \"#46039f\"], [0.2222222222222222, \"#7201a8\"], [0.3333333333333333, \"#9c179e\"], [0.4444444444444444, \"#bd3786\"], [0.5555555555555556, \"#d8576b\"], [0.6666666666666666, \"#ed7953\"], [0.7777777777777778, \"#fb9f3a\"], [0.8888888888888888, \"#fdca26\"], [1.0, \"#f0f921\"]], \"type\": \"histogram2dcontour\"}], \"mesh3d\": [{\"colorbar\": {\"outlinewidth\": 0, \"ticks\": \"\"}, \"type\": \"mesh3d\"}], \"parcoords\": [{\"line\": {\"colorbar\": {\"outlinewidth\": 0, \"ticks\": \"\"}}, \"type\": \"parcoords\"}], \"pie\": [{\"automargin\": true, \"type\": \"pie\"}], \"scatter\": [{\"marker\": {\"colorbar\": {\"outlinewidth\": 0, \"ticks\": \"\"}}, \"type\": \"scatter\"}], \"scatter3d\": [{\"line\": {\"colorbar\": {\"outlinewidth\": 0, \"ticks\": \"\"}}, \"marker\": {\"colorbar\": {\"outlinewidth\": 0, \"ticks\": \"\"}}, \"type\": \"scatter3d\"}], \"scattercarpet\": [{\"marker\": {\"colorbar\": {\"outlinewidth\": 0, \"ticks\": \"\"}}, \"type\": \"scattercarpet\"}], \"scattergeo\": [{\"marker\": {\"colorbar\": {\"outlinewidth\": 0, \"ticks\": \"\"}}, \"type\": \"scattergeo\"}], \"scattergl\": [{\"marker\": {\"colorbar\": {\"outlinewidth\": 0, \"ticks\": \"\"}}, \"type\": \"scattergl\"}], \"scattermapbox\": [{\"marker\": {\"colorbar\": {\"outlinewidth\": 0, \"ticks\": \"\"}}, \"type\": \"scattermapbox\"}], \"scatterpolar\": [{\"marker\": {\"colorbar\": {\"outlinewidth\": 0, \"ticks\": \"\"}}, \"type\": \"scatterpolar\"}], \"scatterpolargl\": [{\"marker\": {\"colorbar\": {\"outlinewidth\": 0, \"ticks\": \"\"}}, \"type\": \"scatterpolargl\"}], \"scatterternary\": [{\"marker\": {\"colorbar\": {\"outlinewidth\": 0, \"ticks\": \"\"}}, \"type\": \"scatterternary\"}], \"surface\": [{\"colorbar\": {\"outlinewidth\": 0, \"ticks\": \"\"}, \"colorscale\": [[0.0, \"#0d0887\"], [0.1111111111111111, \"#46039f\"], [0.2222222222222222, \"#7201a8\"], [0.3333333333333333, \"#9c179e\"], [0.4444444444444444, \"#bd3786\"], [0.5555555555555556, \"#d8576b\"], [0.6666666666666666, \"#ed7953\"], [0.7777777777777778, \"#fb9f3a\"], [0.8888888888888888, \"#fdca26\"], [1.0, \"#f0f921\"]], \"type\": \"surface\"}], \"table\": [{\"cells\": {\"fill\": {\"color\": \"#EBF0F8\"}, \"line\": {\"color\": \"white\"}}, \"header\": {\"fill\": {\"color\": \"#C8D4E3\"}, \"line\": {\"color\": \"white\"}}, \"type\": \"table\"}]}, \"layout\": {\"annotationdefaults\": {\"arrowcolor\": \"#2a3f5f\", \"arrowhead\": 0, \"arrowwidth\": 1}, \"coloraxis\": {\"colorbar\": {\"outlinewidth\": 0, \"ticks\": \"\"}}, \"colorscale\": {\"diverging\": [[0, \"#8e0152\"], [0.1, \"#c51b7d\"], [0.2, \"#de77ae\"], [0.3, \"#f1b6da\"], [0.4, \"#fde0ef\"], [0.5, \"#f7f7f7\"], [0.6, \"#e6f5d0\"], [0.7, \"#b8e186\"], [0.8, \"#7fbc41\"], [0.9, \"#4d9221\"], [1, \"#276419\"]], \"sequential\": [[0.0, \"#0d0887\"], [0.1111111111111111, \"#46039f\"], [0.2222222222222222, \"#7201a8\"], [0.3333333333333333, \"#9c179e\"], [0.4444444444444444, \"#bd3786\"], [0.5555555555555556, \"#d8576b\"], [0.6666666666666666, \"#ed7953\"], [0.7777777777777778, \"#fb9f3a\"], [0.8888888888888888, \"#fdca26\"], [1.0, \"#f0f921\"]], \"sequentialminus\": [[0.0, \"#0d0887\"], [0.1111111111111111, \"#46039f\"], [0.2222222222222222, \"#7201a8\"], [0.3333333333333333, \"#9c179e\"], [0.4444444444444444, \"#bd3786\"], [0.5555555555555556, \"#d8576b\"], [0.6666666666666666, \"#ed7953\"], [0.7777777777777778, \"#fb9f3a\"], [0.8888888888888888, \"#fdca26\"], [1.0, \"#f0f921\"]]}, \"colorway\": [\"#636efa\", \"#EF553B\", \"#00cc96\", \"#ab63fa\", \"#FFA15A\", \"#19d3f3\", \"#FF6692\", \"#B6E880\", \"#FF97FF\", \"#FECB52\"], \"font\": {\"color\": \"#2a3f5f\"}, \"geo\": {\"bgcolor\": \"white\", \"lakecolor\": \"white\", \"landcolor\": \"#E5ECF6\", \"showlakes\": true, \"showland\": true, \"subunitcolor\": \"white\"}, \"hoverlabel\": {\"align\": \"left\"}, \"hovermode\": \"closest\", \"mapbox\": {\"style\": \"light\"}, \"paper_bgcolor\": \"white\", \"plot_bgcolor\": \"#E5ECF6\", \"polar\": {\"angularaxis\": {\"gridcolor\": \"white\", \"linecolor\": \"white\", \"ticks\": \"\"}, \"bgcolor\": \"#E5ECF6\", \"radialaxis\": {\"gridcolor\": \"white\", \"linecolor\": \"white\", \"ticks\": \"\"}}, \"scene\": {\"xaxis\": {\"backgroundcolor\": \"#E5ECF6\", \"gridcolor\": \"white\", \"gridwidth\": 2, \"linecolor\": \"white\", \"showbackground\": true, \"ticks\": \"\", \"zerolinecolor\": \"white\"}, \"yaxis\": {\"backgroundcolor\": \"#E5ECF6\", \"gridcolor\": \"white\", \"gridwidth\": 2, \"linecolor\": \"white\", \"showbackground\": true, \"ticks\": \"\", \"zerolinecolor\": \"white\"}, \"zaxis\": {\"backgroundcolor\": \"#E5ECF6\", \"gridcolor\": \"white\", \"gridwidth\": 2, \"linecolor\": \"white\", \"showbackground\": true, \"ticks\": \"\", \"zerolinecolor\": \"white\"}}, \"shapedefaults\": {\"line\": {\"color\": \"#2a3f5f\"}}, \"ternary\": {\"aaxis\": {\"gridcolor\": \"white\", \"linecolor\": \"white\", \"ticks\": \"\"}, \"baxis\": {\"gridcolor\": \"white\", \"linecolor\": \"white\", \"ticks\": \"\"}, \"bgcolor\": \"#E5ECF6\", \"caxis\": {\"gridcolor\": \"white\", \"linecolor\": \"white\", \"ticks\": \"\"}}, \"title\": {\"x\": 0.05}, \"xaxis\": {\"automargin\": true, \"gridcolor\": \"white\", \"linecolor\": \"white\", \"ticks\": \"\", \"title\": {\"standoff\": 15}, \"zerolinecolor\": \"white\", \"zerolinewidth\": 2}, \"yaxis\": {\"automargin\": true, \"gridcolor\": \"white\", \"linecolor\": \"white\", \"ticks\": \"\", \"title\": {\"standoff\": 15}, \"zerolinecolor\": \"white\", \"zerolinewidth\": 2}}}, \"title\": {\"text\": \"Total Cases:11040\"}, \"width\": 1500, \"xaxis\": {\"anchor\": \"y\", \"domain\": [0.0, 1.0], \"tickmode\": \"linear\", \"title\": {\"text\": \"detectedstate\"}}, \"yaxis\": {\"anchor\": \"x\", \"domain\": [0.0, 1.0], \"title\": {\"text\": \"counts\"}}},\n",
       "                        {\"responsive\": true}\n",
       "                    ).then(function(){\n",
       "                            \n",
       "var gd = document.getElementById('ea835cda-180b-4f55-ad24-f976e7db03e8');\n",
       "var x = new MutationObserver(function (mutations, observer) {{\n",
       "        var display = window.getComputedStyle(gd).display;\n",
       "        if (!display || display === 'none') {{\n",
       "            console.log([gd, 'removed!']);\n",
       "            Plotly.purge(gd);\n",
       "            observer.disconnect();\n",
       "        }}\n",
       "}});\n",
       "\n",
       "// Listen for the removal of the full notebook cells\n",
       "var notebookContainer = gd.closest('#notebook-container');\n",
       "if (notebookContainer) {{\n",
       "    x.observe(notebookContainer, {childList: true});\n",
       "}}\n",
       "\n",
       "// Listen for the clearing of the current output cell\n",
       "var outputEl = gd.closest('.output');\n",
       "if (outputEl) {{\n",
       "    x.observe(outputEl, {childList: true});\n",
       "}}\n",
       "\n",
       "                        })\n",
       "                };\n",
       "                });\n",
       "            </script>\n",
       "        </div>"
      ]
     },
     "metadata": {},
     "output_type": "display_data"
    },
    {
     "data": {
      "application/vnd.plotly.v1+json": {
       "config": {
        "plotlyServerURL": "https://plot.ly"
       },
       "data": [
        {
         "alignmentgroup": "True",
         "customdata": [
          [
           2455,
           4503,
           "NA"
          ],
          [
           1510,
           4503,
           "NA"
          ],
          [
           969,
           4503,
           "NA"
          ],
          [
           1204,
           4503,
           "NA"
          ],
          [
           614,
           4503,
           "NA"
          ],
          [
           617,
           4503,
           "NA"
          ],
          [
           592,
           4503,
           "NA"
          ],
          [
           473,
           4503,
           "NA"
          ],
          [
           657,
           4503,
           "NA"
          ],
          [
           278,
           4503,
           "NA"
          ],
          [
           198,
           4503,
           "NA"
          ],
          [
           184,
           4503,
           "NA"
          ],
          [
           190,
           4503,
           "NA"
          ],
          [
           33,
           4503,
           "NA"
          ],
          [
           386,
           4503,
           "NA"
          ],
          [
           258,
           4503,
           "NA"
          ],
          [
           60,
           4503,
           "NA"
          ],
          [
           32,
           4503,
           "NA"
          ],
          [
           35,
           4503,
           "NA"
          ],
          [
           66,
           4503,
           "NA"
          ],
          [
           24,
           4503,
           "NA"
          ],
          [
           21,
           4503,
           "NA"
          ],
          [
           2,
           4503,
           "NA"
          ],
          [
           31,
           4503,
           "NA"
          ],
          [
           1,
           4503,
           "NA"
          ],
          [
           17,
           4503,
           "NA"
          ],
          [
           1,
           4503,
           "NA"
          ]
         ],
         "hovertemplate": "keys=%{customdata[2]}<br>week_year=2020, Week 14<br>detectedstate=%{x}<br>counts=%{y}<br>total_ct=%{customdata[0]}<br>total_ct_daily=%{customdata[1]}<extra></extra>",
         "ids": [
          1235,
          641,
          507,
          458,
          369,
          330,
          197,
          164,
          159,
          139,
          89,
          58,
          54,
          21,
          19,
          15,
          10,
          9,
          8,
          8,
          5,
          3,
          1,
          1,
          1,
          1,
          1
         ],
         "legendgroup": "NA",
         "marker": {
          "color": "#636efa"
         },
         "name": "NA",
         "offsetgroup": "NA",
         "orientation": "v",
         "showlegend": true,
         "textposition": "auto",
         "type": "bar",
         "x": [
          "Maharashtra",
          "Delhi",
          "Rajasthan",
          "Tamil Nadu",
          "Madhya Pradesh",
          "Gujarat",
          "Telangana",
          "Andhra Pradesh",
          "Uttar Pradesh",
          "Jammu and Kashmir",
          "Haryana",
          "Punjab",
          "West Bengal",
          "Chhattisgarh",
          "Kerala",
          "Karnataka",
          "Odisha",
          "Himachal Pradesh",
          "Uttarakhand",
          "Bihar",
          "Jharkhand",
          "Chandigarh",
          "Tripura",
          "Assam",
          "Dadra and Nagar Haveli",
          "Ladakh",
          "Nagaland"
         ],
         "xaxis": "x",
         "y": [
          1235,
          641,
          507,
          458,
          369,
          330,
          197,
          164,
          159,
          139,
          89,
          58,
          54,
          21,
          19,
          15,
          10,
          9,
          8,
          8,
          5,
          3,
          1,
          1,
          1,
          1,
          1
         ],
         "yaxis": "y"
        },
        {
         "alignmentgroup": "True",
         "customdata": [
          [
           657,
           145,
           "Domestic Travel Delhi"
          ],
          [
           1204,
           145,
           "Domestic Travel Delhi"
          ],
          [
           198,
           145,
           "Domestic Travel Delhi"
          ],
          [
           258,
           145,
           "Domestic Travel Delhi"
          ],
          [
           1510,
           145,
           "Domestic Travel Delhi"
          ],
          [
           32,
           145,
           "Domestic Travel Delhi"
          ],
          [
           969,
           145,
           "Domestic Travel Delhi"
          ],
          [
           386,
           145,
           "Domestic Travel Delhi"
          ],
          [
           184,
           145,
           "Domestic Travel Delhi"
          ],
          [
           617,
           145,
           "Domestic Travel Delhi"
          ],
          [
           7,
           145,
           "Domestic Travel Delhi"
          ],
          [
           31,
           145,
           "Domestic Travel Delhi"
          ],
          [
           35,
           145,
           "Domestic Travel Delhi"
          ]
         ],
         "hovertemplate": "keys=%{customdata[2]}<br>week_year=2020, Week 14<br>detectedstate=%{x}<br>counts=%{y}<br>total_ct=%{customdata[0]}<br>total_ct_daily=%{customdata[1]}<extra></extra>",
         "ids": [
          46,
          31,
          16,
          13,
          10,
          9,
          6,
          4,
          3,
          3,
          2,
          1,
          1
         ],
         "legendgroup": "Domestic Travel Delhi",
         "marker": {
          "color": "#EF553B"
         },
         "name": "Domestic Travel Delhi",
         "offsetgroup": "Domestic Travel Delhi",
         "orientation": "v",
         "showlegend": true,
         "textposition": "auto",
         "type": "bar",
         "x": [
          "Uttar Pradesh",
          "Tamil Nadu",
          "Haryana",
          "Karnataka",
          "Delhi",
          "Himachal Pradesh",
          "Rajasthan",
          "Kerala",
          "Punjab",
          "Gujarat",
          "Puducherry",
          "Assam",
          "Uttarakhand"
         ],
         "xaxis": "x",
         "y": [
          46,
          31,
          16,
          13,
          10,
          9,
          6,
          4,
          3,
          3,
          2,
          1,
          1
         ],
         "yaxis": "y"
        },
        {
         "alignmentgroup": "True",
         "customdata": [
          [
           386,
           36,
           "International Travel"
          ],
          [
           617,
           36,
           "International Travel"
          ],
          [
           184,
           36,
           "International Travel"
          ],
          [
           66,
           36,
           "International Travel"
          ],
          [
           258,
           36,
           "International Travel"
          ],
          [
           60,
           36,
           "International Travel"
          ],
          [
           2,
           36,
           "International Travel"
          ],
          [
           31,
           36,
           "International Travel"
          ],
          [
           11,
           36,
           "International Travel"
          ]
         ],
         "hovertemplate": "keys=%{customdata[2]}<br>week_year=2020, Week 14<br>detectedstate=%{x}<br>counts=%{y}<br>total_ct=%{customdata[0]}<br>total_ct_daily=%{customdata[1]}<extra></extra>",
         "ids": [
          17,
          6,
          3,
          3,
          2,
          2,
          1,
          1,
          1
         ],
         "legendgroup": "International Travel",
         "marker": {
          "color": "#00cc96"
         },
         "name": "International Travel",
         "offsetgroup": "International Travel",
         "orientation": "v",
         "showlegend": true,
         "textposition": "auto",
         "type": "bar",
         "x": [
          "Kerala",
          "Gujarat",
          "Punjab",
          "Bihar",
          "Karnataka",
          "Odisha",
          "Tripura",
          "Assam",
          "Andaman and Nicobar Islands"
         ],
         "xaxis": "x",
         "y": [
          17,
          6,
          3,
          3,
          2,
          2,
          1,
          1,
          1
         ],
         "yaxis": "y"
        },
        {
         "alignmentgroup": "True",
         "customdata": [
          [
           617,
           202,
           "Contact"
          ],
          [
           258,
           202,
           "Contact"
          ],
          [
           184,
           202,
           "Contact"
          ],
          [
           969,
           202,
           "Contact"
          ],
          [
           66,
           202,
           "Contact"
          ],
          [
           386,
           202,
           "Contact"
          ],
          [
           24,
           202,
           "Contact"
          ],
          [
           60,
           202,
           "Contact"
          ]
         ],
         "hovertemplate": "keys=%{customdata[2]}<br>week_year=2020, Week 14<br>detectedstate=%{x}<br>counts=%{y}<br>total_ct=%{customdata[0]}<br>total_ct_daily=%{customdata[1]}<extra></extra>",
         "ids": [
          49,
          42,
          35,
          25,
          21,
          16,
          11,
          3
         ],
         "legendgroup": "Contact",
         "marker": {
          "color": "#ab63fa"
         },
         "name": "Contact",
         "offsetgroup": "Contact",
         "orientation": "v",
         "showlegend": true,
         "textposition": "auto",
         "type": "bar",
         "x": [
          "Gujarat",
          "Karnataka",
          "Punjab",
          "Rajasthan",
          "Bihar",
          "Kerala",
          "Jharkhand",
          "Odisha"
         ],
         "xaxis": "x",
         "y": [
          49,
          42,
          35,
          25,
          21,
          16,
          11,
          3
         ],
         "yaxis": "y"
        },
        {
         "alignmentgroup": "True",
         "customdata": [
          [
           258,
           12,
           "Contact,Travel"
          ],
          [
           386,
           12,
           "Contact,Travel"
          ],
          [
           184,
           12,
           "Contact,Travel"
          ]
         ],
         "hovertemplate": "keys=%{customdata[2]}<br>week_year=2020, Week 14<br>detectedstate=%{x}<br>counts=%{y}<br>total_ct=%{customdata[0]}<br>total_ct_daily=%{customdata[1]}<extra></extra>",
         "ids": [
          5,
          5,
          2
         ],
         "legendgroup": "Contact,Travel",
         "marker": {
          "color": "#FFA15A"
         },
         "name": "Contact,Travel",
         "offsetgroup": "Contact,Travel",
         "orientation": "v",
         "showlegend": true,
         "textposition": "auto",
         "type": "bar",
         "x": [
          "Karnataka",
          "Kerala",
          "Punjab"
         ],
         "xaxis": "x",
         "y": [
          5,
          5,
          2
         ],
         "yaxis": "y"
        },
        {
         "alignmentgroup": "True",
         "customdata": [
          [
           1204,
           14,
           "Contact,Investigation in Progress"
          ]
         ],
         "hovertemplate": "keys=%{customdata[2]}<br>week_year=2020, Week 14<br>detectedstate=%{x}<br>counts=%{y}<br>total_ct=%{customdata[0]}<br>total_ct_daily=%{customdata[1]}<extra></extra>",
         "ids": [
          14
         ],
         "legendgroup": "Contact,Investigation in Progress",
         "marker": {
          "color": "#19d3f3"
         },
         "name": "Contact,Investigation in Progress",
         "offsetgroup": "Contact,Investigation in Progress",
         "orientation": "v",
         "showlegend": true,
         "textposition": "auto",
         "type": "bar",
         "x": [
          "Tamil Nadu"
         ],
         "xaxis": "x",
         "y": [
          14
         ],
         "yaxis": "y"
        },
        {
         "alignmentgroup": "True",
         "customdata": [
          [
           258,
           4,
           "Domestic Travel"
          ],
          [
           184,
           4,
           "Domestic Travel"
          ],
          [
           1204,
           4,
           "Domestic Travel"
          ]
         ],
         "hovertemplate": "keys=%{customdata[2]}<br>week_year=2020, Week 14<br>detectedstate=%{x}<br>counts=%{y}<br>total_ct=%{customdata[0]}<br>total_ct_daily=%{customdata[1]}<extra></extra>",
         "ids": [
          2,
          1,
          1
         ],
         "legendgroup": "Domestic Travel",
         "marker": {
          "color": "#636efa"
         },
         "name": "Domestic Travel",
         "offsetgroup": "Domestic Travel",
         "orientation": "v",
         "showlegend": true,
         "textposition": "auto",
         "type": "bar",
         "x": [
          "Karnataka",
          "Punjab",
          "Tamil Nadu"
         ],
         "xaxis": "x",
         "y": [
          2,
          1,
          1
         ],
         "yaxis": "y"
        },
        {
         "alignmentgroup": "True",
         "customdata": [
          [
           258,
           1,
           "Contact,Family"
          ]
         ],
         "hovertemplate": "keys=%{customdata[2]}<br>week_year=2020, Week 14<br>detectedstate=%{x}<br>counts=%{y}<br>total_ct=%{customdata[0]}<br>total_ct_daily=%{customdata[1]}<extra></extra>",
         "ids": [
          1
         ],
         "legendgroup": "Contact,Family",
         "marker": {
          "color": "#FF6692"
         },
         "name": "Contact,Family",
         "offsetgroup": "Contact,Family",
         "orientation": "v",
         "showlegend": true,
         "textposition": "auto",
         "type": "bar",
         "x": [
          "Karnataka"
         ],
         "xaxis": "x",
         "y": [
          1
         ],
         "yaxis": "y"
        },
        {
         "alignmentgroup": "True",
         "customdata": [
          [
           258,
           1,
           "Family"
          ]
         ],
         "hovertemplate": "keys=%{customdata[2]}<br>week_year=2020, Week 14<br>detectedstate=%{x}<br>counts=%{y}<br>total_ct=%{customdata[0]}<br>total_ct_daily=%{customdata[1]}<extra></extra>",
         "ids": [
          1
         ],
         "legendgroup": "Family",
         "marker": {
          "color": "#FF97FF"
         },
         "name": "Family",
         "offsetgroup": "Family",
         "orientation": "v",
         "showlegend": true,
         "textposition": "auto",
         "type": "bar",
         "x": [
          "Karnataka"
         ],
         "xaxis": "x",
         "y": [
          1
         ],
         "yaxis": "y"
        }
       ],
       "frames": [
        {
         "data": [
          {
           "alignmentgroup": "True",
           "customdata": [
            [
             2455,
             4503,
             "NA"
            ],
            [
             1510,
             4503,
             "NA"
            ],
            [
             969,
             4503,
             "NA"
            ],
            [
             1204,
             4503,
             "NA"
            ],
            [
             614,
             4503,
             "NA"
            ],
            [
             617,
             4503,
             "NA"
            ],
            [
             592,
             4503,
             "NA"
            ],
            [
             473,
             4503,
             "NA"
            ],
            [
             657,
             4503,
             "NA"
            ],
            [
             278,
             4503,
             "NA"
            ],
            [
             198,
             4503,
             "NA"
            ],
            [
             184,
             4503,
             "NA"
            ],
            [
             190,
             4503,
             "NA"
            ],
            [
             33,
             4503,
             "NA"
            ],
            [
             386,
             4503,
             "NA"
            ],
            [
             258,
             4503,
             "NA"
            ],
            [
             60,
             4503,
             "NA"
            ],
            [
             32,
             4503,
             "NA"
            ],
            [
             35,
             4503,
             "NA"
            ],
            [
             66,
             4503,
             "NA"
            ],
            [
             24,
             4503,
             "NA"
            ],
            [
             21,
             4503,
             "NA"
            ],
            [
             2,
             4503,
             "NA"
            ],
            [
             31,
             4503,
             "NA"
            ],
            [
             1,
             4503,
             "NA"
            ],
            [
             17,
             4503,
             "NA"
            ],
            [
             1,
             4503,
             "NA"
            ]
           ],
           "hovertemplate": "keys=%{customdata[2]}<br>week_year=2020, Week 14<br>detectedstate=%{x}<br>counts=%{y}<br>total_ct=%{customdata[0]}<br>total_ct_daily=%{customdata[1]}<extra></extra>",
           "ids": [
            1235,
            641,
            507,
            458,
            369,
            330,
            197,
            164,
            159,
            139,
            89,
            58,
            54,
            21,
            19,
            15,
            10,
            9,
            8,
            8,
            5,
            3,
            1,
            1,
            1,
            1,
            1
           ],
           "legendgroup": "NA",
           "marker": {
            "color": "#636efa"
           },
           "name": "NA",
           "offsetgroup": "NA",
           "orientation": "v",
           "showlegend": true,
           "textposition": "auto",
           "type": "bar",
           "x": [
            "Maharashtra",
            "Delhi",
            "Rajasthan",
            "Tamil Nadu",
            "Madhya Pradesh",
            "Gujarat",
            "Telangana",
            "Andhra Pradesh",
            "Uttar Pradesh",
            "Jammu and Kashmir",
            "Haryana",
            "Punjab",
            "West Bengal",
            "Chhattisgarh",
            "Kerala",
            "Karnataka",
            "Odisha",
            "Himachal Pradesh",
            "Uttarakhand",
            "Bihar",
            "Jharkhand",
            "Chandigarh",
            "Tripura",
            "Assam",
            "Dadra and Nagar Haveli",
            "Ladakh",
            "Nagaland"
           ],
           "xaxis": "x",
           "y": [
            1235,
            641,
            507,
            458,
            369,
            330,
            197,
            164,
            159,
            139,
            89,
            58,
            54,
            21,
            19,
            15,
            10,
            9,
            8,
            8,
            5,
            3,
            1,
            1,
            1,
            1,
            1
           ],
           "yaxis": "y"
          },
          {
           "alignmentgroup": "True",
           "customdata": [
            [
             657,
             145,
             "Domestic Travel Delhi"
            ],
            [
             1204,
             145,
             "Domestic Travel Delhi"
            ],
            [
             198,
             145,
             "Domestic Travel Delhi"
            ],
            [
             258,
             145,
             "Domestic Travel Delhi"
            ],
            [
             1510,
             145,
             "Domestic Travel Delhi"
            ],
            [
             32,
             145,
             "Domestic Travel Delhi"
            ],
            [
             969,
             145,
             "Domestic Travel Delhi"
            ],
            [
             386,
             145,
             "Domestic Travel Delhi"
            ],
            [
             184,
             145,
             "Domestic Travel Delhi"
            ],
            [
             617,
             145,
             "Domestic Travel Delhi"
            ],
            [
             7,
             145,
             "Domestic Travel Delhi"
            ],
            [
             31,
             145,
             "Domestic Travel Delhi"
            ],
            [
             35,
             145,
             "Domestic Travel Delhi"
            ]
           ],
           "hovertemplate": "keys=%{customdata[2]}<br>week_year=2020, Week 14<br>detectedstate=%{x}<br>counts=%{y}<br>total_ct=%{customdata[0]}<br>total_ct_daily=%{customdata[1]}<extra></extra>",
           "ids": [
            46,
            31,
            16,
            13,
            10,
            9,
            6,
            4,
            3,
            3,
            2,
            1,
            1
           ],
           "legendgroup": "Domestic Travel Delhi",
           "marker": {
            "color": "#EF553B"
           },
           "name": "Domestic Travel Delhi",
           "offsetgroup": "Domestic Travel Delhi",
           "orientation": "v",
           "showlegend": true,
           "textposition": "auto",
           "type": "bar",
           "x": [
            "Uttar Pradesh",
            "Tamil Nadu",
            "Haryana",
            "Karnataka",
            "Delhi",
            "Himachal Pradesh",
            "Rajasthan",
            "Kerala",
            "Punjab",
            "Gujarat",
            "Puducherry",
            "Assam",
            "Uttarakhand"
           ],
           "xaxis": "x",
           "y": [
            46,
            31,
            16,
            13,
            10,
            9,
            6,
            4,
            3,
            3,
            2,
            1,
            1
           ],
           "yaxis": "y"
          },
          {
           "alignmentgroup": "True",
           "customdata": [
            [
             386,
             36,
             "International Travel"
            ],
            [
             617,
             36,
             "International Travel"
            ],
            [
             184,
             36,
             "International Travel"
            ],
            [
             66,
             36,
             "International Travel"
            ],
            [
             258,
             36,
             "International Travel"
            ],
            [
             60,
             36,
             "International Travel"
            ],
            [
             2,
             36,
             "International Travel"
            ],
            [
             31,
             36,
             "International Travel"
            ],
            [
             11,
             36,
             "International Travel"
            ]
           ],
           "hovertemplate": "keys=%{customdata[2]}<br>week_year=2020, Week 14<br>detectedstate=%{x}<br>counts=%{y}<br>total_ct=%{customdata[0]}<br>total_ct_daily=%{customdata[1]}<extra></extra>",
           "ids": [
            17,
            6,
            3,
            3,
            2,
            2,
            1,
            1,
            1
           ],
           "legendgroup": "International Travel",
           "marker": {
            "color": "#00cc96"
           },
           "name": "International Travel",
           "offsetgroup": "International Travel",
           "orientation": "v",
           "showlegend": true,
           "textposition": "auto",
           "type": "bar",
           "x": [
            "Kerala",
            "Gujarat",
            "Punjab",
            "Bihar",
            "Karnataka",
            "Odisha",
            "Tripura",
            "Assam",
            "Andaman and Nicobar Islands"
           ],
           "xaxis": "x",
           "y": [
            17,
            6,
            3,
            3,
            2,
            2,
            1,
            1,
            1
           ],
           "yaxis": "y"
          },
          {
           "alignmentgroup": "True",
           "customdata": [
            [
             617,
             202,
             "Contact"
            ],
            [
             258,
             202,
             "Contact"
            ],
            [
             184,
             202,
             "Contact"
            ],
            [
             969,
             202,
             "Contact"
            ],
            [
             66,
             202,
             "Contact"
            ],
            [
             386,
             202,
             "Contact"
            ],
            [
             24,
             202,
             "Contact"
            ],
            [
             60,
             202,
             "Contact"
            ]
           ],
           "hovertemplate": "keys=%{customdata[2]}<br>week_year=2020, Week 14<br>detectedstate=%{x}<br>counts=%{y}<br>total_ct=%{customdata[0]}<br>total_ct_daily=%{customdata[1]}<extra></extra>",
           "ids": [
            49,
            42,
            35,
            25,
            21,
            16,
            11,
            3
           ],
           "legendgroup": "Contact",
           "marker": {
            "color": "#ab63fa"
           },
           "name": "Contact",
           "offsetgroup": "Contact",
           "orientation": "v",
           "showlegend": true,
           "textposition": "auto",
           "type": "bar",
           "x": [
            "Gujarat",
            "Karnataka",
            "Punjab",
            "Rajasthan",
            "Bihar",
            "Kerala",
            "Jharkhand",
            "Odisha"
           ],
           "xaxis": "x",
           "y": [
            49,
            42,
            35,
            25,
            21,
            16,
            11,
            3
           ],
           "yaxis": "y"
          },
          {
           "alignmentgroup": "True",
           "customdata": [
            [
             258,
             12,
             "Contact,Travel"
            ],
            [
             386,
             12,
             "Contact,Travel"
            ],
            [
             184,
             12,
             "Contact,Travel"
            ]
           ],
           "hovertemplate": "keys=%{customdata[2]}<br>week_year=2020, Week 14<br>detectedstate=%{x}<br>counts=%{y}<br>total_ct=%{customdata[0]}<br>total_ct_daily=%{customdata[1]}<extra></extra>",
           "ids": [
            5,
            5,
            2
           ],
           "legendgroup": "Contact,Travel",
           "marker": {
            "color": "#FFA15A"
           },
           "name": "Contact,Travel",
           "offsetgroup": "Contact,Travel",
           "orientation": "v",
           "showlegend": true,
           "textposition": "auto",
           "type": "bar",
           "x": [
            "Karnataka",
            "Kerala",
            "Punjab"
           ],
           "xaxis": "x",
           "y": [
            5,
            5,
            2
           ],
           "yaxis": "y"
          },
          {
           "alignmentgroup": "True",
           "customdata": [
            [
             1204,
             14,
             "Contact,Investigation in Progress"
            ]
           ],
           "hovertemplate": "keys=%{customdata[2]}<br>week_year=2020, Week 14<br>detectedstate=%{x}<br>counts=%{y}<br>total_ct=%{customdata[0]}<br>total_ct_daily=%{customdata[1]}<extra></extra>",
           "ids": [
            14
           ],
           "legendgroup": "Contact,Investigation in Progress",
           "marker": {
            "color": "#19d3f3"
           },
           "name": "Contact,Investigation in Progress",
           "offsetgroup": "Contact,Investigation in Progress",
           "orientation": "v",
           "showlegend": true,
           "textposition": "auto",
           "type": "bar",
           "x": [
            "Tamil Nadu"
           ],
           "xaxis": "x",
           "y": [
            14
           ],
           "yaxis": "y"
          },
          {
           "alignmentgroup": "True",
           "customdata": [
            [
             258,
             4,
             "Domestic Travel"
            ],
            [
             184,
             4,
             "Domestic Travel"
            ],
            [
             1204,
             4,
             "Domestic Travel"
            ]
           ],
           "hovertemplate": "keys=%{customdata[2]}<br>week_year=2020, Week 14<br>detectedstate=%{x}<br>counts=%{y}<br>total_ct=%{customdata[0]}<br>total_ct_daily=%{customdata[1]}<extra></extra>",
           "ids": [
            2,
            1,
            1
           ],
           "legendgroup": "Domestic Travel",
           "marker": {
            "color": "#636efa"
           },
           "name": "Domestic Travel",
           "offsetgroup": "Domestic Travel",
           "orientation": "v",
           "showlegend": true,
           "textposition": "auto",
           "type": "bar",
           "x": [
            "Karnataka",
            "Punjab",
            "Tamil Nadu"
           ],
           "xaxis": "x",
           "y": [
            2,
            1,
            1
           ],
           "yaxis": "y"
          },
          {
           "alignmentgroup": "True",
           "customdata": [
            [
             258,
             1,
             "Contact,Family"
            ]
           ],
           "hovertemplate": "keys=%{customdata[2]}<br>week_year=2020, Week 14<br>detectedstate=%{x}<br>counts=%{y}<br>total_ct=%{customdata[0]}<br>total_ct_daily=%{customdata[1]}<extra></extra>",
           "ids": [
            1
           ],
           "legendgroup": "Contact,Family",
           "marker": {
            "color": "#FF6692"
           },
           "name": "Contact,Family",
           "offsetgroup": "Contact,Family",
           "orientation": "v",
           "showlegend": true,
           "textposition": "auto",
           "type": "bar",
           "x": [
            "Karnataka"
           ],
           "xaxis": "x",
           "y": [
            1
           ],
           "yaxis": "y"
          },
          {
           "alignmentgroup": "True",
           "customdata": [
            [
             258,
             1,
             "Family"
            ]
           ],
           "hovertemplate": "keys=%{customdata[2]}<br>week_year=2020, Week 14<br>detectedstate=%{x}<br>counts=%{y}<br>total_ct=%{customdata[0]}<br>total_ct_daily=%{customdata[1]}<extra></extra>",
           "ids": [
            1
           ],
           "legendgroup": "Family",
           "marker": {
            "color": "#FF97FF"
           },
           "name": "Family",
           "offsetgroup": "Family",
           "orientation": "v",
           "showlegend": true,
           "textposition": "auto",
           "type": "bar",
           "x": [
            "Karnataka"
           ],
           "xaxis": "x",
           "y": [
            1
           ],
           "yaxis": "y"
          }
         ],
         "name": "2020, Week 14"
        },
        {
         "data": [
          {
           "alignmentgroup": "True",
           "customdata": [
            [
             2455,
             2043,
             "NA"
            ],
            [
             1510,
             2043,
             "NA"
            ],
            [
             592,
             2043,
             "NA"
            ],
            [
             473,
             2043,
             "NA"
            ],
            [
             614,
             2043,
             "NA"
            ],
            [
             657,
             2043,
             "NA"
            ],
            [
             969,
             2043,
             "NA"
            ],
            [
             190,
             2043,
             "NA"
            ],
            [
             386,
             2043,
             "NA"
            ],
            [
             198,
             2043,
             "NA"
            ],
            [
             278,
             2043,
             "NA"
            ],
            [
             60,
             2043,
             "NA"
            ],
            [
             35,
             2043,
             "NA"
            ],
            [
             184,
             2043,
             "NA"
            ],
            [
             617,
             2043,
             "NA"
            ],
            [
             1204,
             2043,
             "NA"
            ],
            [
             32,
             2043,
             "NA"
            ],
            [
             258,
             2043,
             "NA"
            ],
            [
             66,
             2043,
             "NA"
            ],
            [
             31,
             2043,
             "NA"
            ],
            [
             7,
             2043,
             "NA"
            ],
            [
             11,
             2043,
             "NA"
            ],
            [
             21,
             2043,
             "NA"
            ],
            [
             24,
             2043,
             "NA"
            ],
            [
             17,
             2043,
             "NA"
            ]
           ],
           "hovertemplate": "keys=%{customdata[2]}<br>week_year=2020, Week 13<br>detectedstate=%{x}<br>counts=%{y}<br>total_ct=%{customdata[0]}<br>total_ct_daily=%{customdata[1]}<extra></extra>",
           "ids": [
            535,
            410,
            249,
            169,
            142,
            136,
            108,
            58,
            51,
            47,
            44,
            25,
            16,
            11,
            11,
            8,
            5,
            4,
            4,
            4,
            2,
            1,
            1,
            1,
            1
           ],
           "legendgroup": "NA",
           "marker": {
            "color": "#636efa"
           },
           "name": "NA",
           "offsetgroup": "NA",
           "orientation": "v",
           "showlegend": true,
           "textposition": "auto",
           "type": "bar",
           "x": [
            "Maharashtra",
            "Delhi",
            "Telangana",
            "Andhra Pradesh",
            "Madhya Pradesh",
            "Uttar Pradesh",
            "Rajasthan",
            "West Bengal",
            "Kerala",
            "Haryana",
            "Jammu and Kashmir",
            "Odisha",
            "Uttarakhand",
            "Punjab",
            "Gujarat",
            "Tamil Nadu",
            "Himachal Pradesh",
            "Karnataka",
            "Bihar",
            "Assam",
            "Puducherry",
            "Andaman and Nicobar Islands",
            "Chandigarh",
            "Jharkhand",
            "Ladakh"
           ],
           "xaxis": "x",
           "y": [
            535,
            410,
            249,
            169,
            142,
            136,
            108,
            58,
            51,
            47,
            44,
            25,
            16,
            11,
            11,
            8,
            5,
            4,
            4,
            4,
            2,
            1,
            1,
            1,
            1
           ],
           "yaxis": "y"
          },
          {
           "alignmentgroup": "True",
           "customdata": [
            [
             1204,
             731,
             "Domestic Travel Delhi"
            ],
            [
             657,
             731,
             "Domestic Travel Delhi"
            ],
            [
             473,
             731,
             "Domestic Travel Delhi"
            ],
            [
             31,
             731,
             "Domestic Travel Delhi"
            ],
            [
             258,
             731,
             "Domestic Travel Delhi"
            ],
            [
             1510,
             731,
             "Domestic Travel Delhi"
            ],
            [
             969,
             731,
             "Domestic Travel Delhi"
            ],
            [
             592,
             731,
             "Domestic Travel Delhi"
            ],
            [
             617,
             731,
             "Domestic Travel Delhi"
            ],
            [
             386,
             731,
             "Domestic Travel Delhi"
            ],
            [
             32,
             731,
             "Domestic Travel Delhi"
            ],
            [
             2455,
             731,
             "Domestic Travel Delhi"
            ],
            [
             184,
             731,
             "Domestic Travel Delhi"
            ],
            [
             35,
             731,
             "Domestic Travel Delhi"
            ],
            [
             7,
             731,
             "Domestic Travel Delhi"
            ],
            [
             1,
             731,
             "Domestic Travel Delhi"
            ],
            [
             33,
             731,
             "Domestic Travel Delhi"
            ],
            [
             2,
             731,
             "Domestic Travel Delhi"
            ],
            [
             60,
             731,
             "Domestic Travel Delhi"
            ]
           ],
           "hovertemplate": "keys=%{customdata[2]}<br>week_year=2020, Week 13<br>detectedstate=%{x}<br>counts=%{y}<br>total_ct=%{customdata[0]}<br>total_ct_daily=%{customdata[1]}<extra></extra>",
           "ids": [
            481,
            61,
            57,
            22,
            19,
            18,
            18,
            15,
            7,
            7,
            6,
            6,
            5,
            3,
            2,
            1,
            1,
            1,
            1
           ],
           "legendgroup": "Domestic Travel Delhi",
           "marker": {
            "color": "#EF553B"
           },
           "name": "Domestic Travel Delhi",
           "offsetgroup": "Domestic Travel Delhi",
           "orientation": "v",
           "showlegend": true,
           "textposition": "auto",
           "type": "bar",
           "x": [
            "Tamil Nadu",
            "Uttar Pradesh",
            "Andhra Pradesh",
            "Assam",
            "Karnataka",
            "Delhi",
            "Rajasthan",
            "Telangana",
            "Gujarat",
            "Kerala",
            "Himachal Pradesh",
            "Maharashtra",
            "Punjab",
            "Uttarakhand",
            "Puducherry",
            "Arunachal Pradesh",
            "Chhattisgarh",
            "Manipur",
            "Odisha"
           ],
           "xaxis": "x",
           "y": [
            481,
            61,
            57,
            22,
            19,
            18,
            18,
            15,
            7,
            7,
            6,
            6,
            5,
            3,
            2,
            1,
            1,
            1,
            1
           ],
           "yaxis": "y"
          },
          {
           "alignmentgroup": "True",
           "customdata": [
            [
             969,
             96,
             "International Travel"
            ],
            [
             386,
             96,
             "International Travel"
            ],
            [
             258,
             96,
             "International Travel"
            ],
            [
             66,
             96,
             "International Travel"
            ],
            [
             60,
             96,
             "International Travel"
            ],
            [
             21,
             96,
             "International Travel"
            ],
            [
             617,
             96,
             "International Travel"
            ],
            [
             1204,
             96,
             "International Travel"
            ],
            [
             33,
             96,
             "International Travel"
            ],
            [
             7,
             96,
             "International Travel"
            ],
            [
             24,
             96,
             "International Travel"
            ],
            [
             473,
             96,
             "International Travel"
            ],
            [
             614,
             96,
             "International Travel"
            ]
           ],
           "hovertemplate": "keys=%{customdata[2]}<br>week_year=2020, Week 13<br>detectedstate=%{x}<br>counts=%{y}<br>total_ct=%{customdata[0]}<br>total_ct_daily=%{customdata[1]}<extra></extra>",
           "ids": [
            34,
            18,
            15,
            11,
            3,
            3,
            2,
            2,
            2,
            2,
            2,
            1,
            1
           ],
           "legendgroup": "International Travel",
           "marker": {
            "color": "#00cc96"
           },
           "name": "International Travel",
           "offsetgroup": "International Travel",
           "orientation": "v",
           "showlegend": true,
           "textposition": "auto",
           "type": "bar",
           "x": [
            "Rajasthan",
            "Kerala",
            "Karnataka",
            "Bihar",
            "Odisha",
            "Chandigarh",
            "Gujarat",
            "Tamil Nadu",
            "Chhattisgarh",
            "Goa",
            "Jharkhand",
            "Andhra Pradesh",
            "Madhya Pradesh"
           ],
           "xaxis": "x",
           "y": [
            34,
            18,
            15,
            11,
            3,
            3,
            2,
            2,
            2,
            2,
            2,
            1,
            1
           ],
           "yaxis": "y"
          },
          {
           "alignmentgroup": "True",
           "customdata": [
            [
             617,
             190,
             "Contact"
            ],
            [
             386,
             190,
             "Contact"
            ],
            [
             278,
             190,
             "Contact"
            ],
            [
             969,
             190,
             "Contact"
            ],
            [
             258,
             190,
             "Contact"
            ],
            [
             1204,
             190,
             "Contact"
            ],
            [
             184,
             190,
             "Contact"
            ],
            [
             198,
             190,
             "Contact"
            ],
            [
             21,
             190,
             "Contact"
            ],
            [
             657,
             190,
             "Contact"
            ],
            [
             2455,
             190,
             "Contact"
            ],
            [
             66,
             190,
             "Contact"
            ],
            [
             473,
             190,
             "Contact"
            ],
            [
             614,
             190,
             "Contact"
            ]
           ],
           "hovertemplate": "keys=%{customdata[2]}<br>week_year=2020, Week 13<br>detectedstate=%{x}<br>counts=%{y}<br>total_ct=%{customdata[0]}<br>total_ct_daily=%{customdata[1]}<extra></extra>",
           "ids": [
            43,
            34,
            24,
            22,
            21,
            12,
            10,
            8,
            4,
            4,
            3,
            2,
            2,
            1
           ],
           "legendgroup": "Contact",
           "marker": {
            "color": "#ab63fa"
           },
           "name": "Contact",
           "offsetgroup": "Contact",
           "orientation": "v",
           "showlegend": true,
           "textposition": "auto",
           "type": "bar",
           "x": [
            "Gujarat",
            "Kerala",
            "Jammu and Kashmir",
            "Rajasthan",
            "Karnataka",
            "Tamil Nadu",
            "Punjab",
            "Haryana",
            "Chandigarh",
            "Uttar Pradesh",
            "Maharashtra",
            "Bihar",
            "Andhra Pradesh",
            "Madhya Pradesh"
           ],
           "xaxis": "x",
           "y": [
            43,
            34,
            24,
            22,
            21,
            12,
            10,
            8,
            4,
            4,
            3,
            2,
            2,
            1
           ],
           "yaxis": "y"
          },
          {
           "alignmentgroup": "True",
           "customdata": [
            [
             1204,
             33,
             "Contact,Travel"
            ],
            [
             614,
             33,
             "Contact,Travel"
            ],
            [
             258,
             33,
             "Contact,Travel"
            ],
            [
             473,
             33,
             "Contact,Travel"
            ],
            [
             657,
             33,
             "Contact,Travel"
            ],
            [
             21,
             33,
             "Contact,Travel"
            ]
           ],
           "hovertemplate": "keys=%{customdata[2]}<br>week_year=2020, Week 13<br>detectedstate=%{x}<br>counts=%{y}<br>total_ct=%{customdata[0]}<br>total_ct_daily=%{customdata[1]}<extra></extra>",
           "ids": [
            12,
            10,
            5,
            3,
            2,
            1
           ],
           "legendgroup": "Contact,Travel",
           "marker": {
            "color": "#FFA15A"
           },
           "name": "Contact,Travel",
           "offsetgroup": "Contact,Travel",
           "orientation": "v",
           "showlegend": true,
           "textposition": "auto",
           "type": "bar",
           "x": [
            "Tamil Nadu",
            "Madhya Pradesh",
            "Karnataka",
            "Andhra Pradesh",
            "Uttar Pradesh",
            "Chandigarh"
           ],
           "xaxis": "x",
           "y": [
            12,
            10,
            5,
            3,
            2,
            1
           ],
           "yaxis": "y"
          },
          {
           "alignmentgroup": "True",
           "customdata": [
            [
             969,
             19,
             "Contact,Investigation in Progress"
            ],
            [
             1204,
             19,
             "Contact,Investigation in Progress"
            ],
            [
             60,
             19,
             "Contact,Investigation in Progress"
            ],
            [
             473,
             19,
             "Contact,Investigation in Progress"
            ],
            [
             21,
             19,
             "Contact,Investigation in Progress"
            ]
           ],
           "hovertemplate": "keys=%{customdata[2]}<br>week_year=2020, Week 13<br>detectedstate=%{x}<br>counts=%{y}<br>total_ct=%{customdata[0]}<br>total_ct_daily=%{customdata[1]}<extra></extra>",
           "ids": [
            10,
            4,
            2,
            2,
            1
           ],
           "legendgroup": "Contact,Investigation in Progress",
           "marker": {
            "color": "#19d3f3"
           },
           "name": "Contact,Investigation in Progress",
           "offsetgroup": "Contact,Investigation in Progress",
           "orientation": "v",
           "showlegend": true,
           "textposition": "auto",
           "type": "bar",
           "x": [
            "Rajasthan",
            "Tamil Nadu",
            "Odisha",
            "Andhra Pradesh",
            "Chandigarh"
           ],
           "xaxis": "x",
           "y": [
            10,
            4,
            2,
            2,
            1
           ],
           "yaxis": "y"
          },
          {
           "alignmentgroup": "True",
           "customdata": [
            [
             969,
             9,
             "Contact,Investigation in Progress,Travel"
            ],
            [
             473,
             9,
             "Contact,Investigation in Progress,Travel"
            ],
            [
             258,
             9,
             "Contact,Investigation in Progress,Travel"
            ]
           ],
           "hovertemplate": "keys=%{customdata[2]}<br>week_year=2020, Week 13<br>detectedstate=%{x}<br>counts=%{y}<br>total_ct=%{customdata[0]}<br>total_ct_daily=%{customdata[1]}<extra></extra>",
           "ids": [
            7,
            1,
            1
           ],
           "legendgroup": "Contact,Investigation in Progress,Travel",
           "marker": {
            "color": "#FF6692"
           },
           "name": "Contact,Investigation in Progress,Travel",
           "offsetgroup": "Contact,Investigation in Progress,Travel",
           "orientation": "v",
           "showlegend": true,
           "textposition": "auto",
           "type": "bar",
           "x": [
            "Rajasthan",
            "Andhra Pradesh",
            "Karnataka"
           ],
           "xaxis": "x",
           "y": [
            7,
            1,
            1
           ],
           "yaxis": "y"
          },
          {
           "alignmentgroup": "True",
           "customdata": [
            [
             1510,
             1,
             "Govt Staff"
            ]
           ],
           "hovertemplate": "keys=%{customdata[2]}<br>week_year=2020, Week 13<br>detectedstate=%{x}<br>counts=%{y}<br>total_ct=%{customdata[0]}<br>total_ct_daily=%{customdata[1]}<extra></extra>",
           "ids": [
            1
           ],
           "legendgroup": "Govt Staff",
           "marker": {
            "color": "#B6E880"
           },
           "name": "Govt Staff",
           "offsetgroup": "Govt Staff",
           "orientation": "v",
           "showlegend": true,
           "textposition": "auto",
           "type": "bar",
           "x": [
            "Delhi"
           ],
           "xaxis": "x",
           "y": [
            1
           ],
           "yaxis": "y"
          },
          {
           "alignmentgroup": "True",
           "customdata": [
            [
             60,
             5,
             "Investigation in Progress,Tenant"
            ]
           ],
           "hovertemplate": "keys=%{customdata[2]}<br>week_year=2020, Week 13<br>detectedstate=%{x}<br>counts=%{y}<br>total_ct=%{customdata[0]}<br>total_ct_daily=%{customdata[1]}<extra></extra>",
           "ids": [
            5
           ],
           "legendgroup": "Investigation in Progress,Tenant",
           "marker": {
            "color": "#FECB52"
           },
           "name": "Investigation in Progress,Tenant",
           "offsetgroup": "Investigation in Progress,Tenant",
           "orientation": "v",
           "showlegend": true,
           "textposition": "auto",
           "type": "bar",
           "x": [
            "Odisha"
           ],
           "xaxis": "x",
           "y": [
            5
           ],
           "yaxis": "y"
          },
          {
           "alignmentgroup": "True",
           "customdata": [
            [
             969,
             7,
             "Domestic Travel"
            ],
            [
             617,
             7,
             "Domestic Travel"
            ],
            [
             184,
             7,
             "Domestic Travel"
            ]
           ],
           "hovertemplate": "keys=%{customdata[2]}<br>week_year=2020, Week 13<br>detectedstate=%{x}<br>counts=%{y}<br>total_ct=%{customdata[0]}<br>total_ct_daily=%{customdata[1]}<extra></extra>",
           "ids": [
            5,
            1,
            1
           ],
           "legendgroup": "Domestic Travel",
           "marker": {
            "color": "#636efa"
           },
           "name": "Domestic Travel",
           "offsetgroup": "Domestic Travel",
           "orientation": "v",
           "showlegend": true,
           "textposition": "auto",
           "type": "bar",
           "x": [
            "Rajasthan",
            "Gujarat",
            "Punjab"
           ],
           "xaxis": "x",
           "y": [
            5,
            1,
            1
           ],
           "yaxis": "y"
          },
          {
           "alignmentgroup": "True",
           "customdata": [
            [
             657,
             1,
             "Contact,Govt Staff"
            ]
           ],
           "hovertemplate": "keys=%{customdata[2]}<br>week_year=2020, Week 13<br>detectedstate=%{x}<br>counts=%{y}<br>total_ct=%{customdata[0]}<br>total_ct_daily=%{customdata[1]}<extra></extra>",
           "ids": [
            1
           ],
           "legendgroup": "Contact,Govt Staff",
           "marker": {
            "color": "#EF553B"
           },
           "name": "Contact,Govt Staff",
           "offsetgroup": "Contact,Govt Staff",
           "orientation": "v",
           "showlegend": true,
           "textposition": "auto",
           "type": "bar",
           "x": [
            "Uttar Pradesh"
           ],
           "xaxis": "x",
           "y": [
            1
           ],
           "yaxis": "y"
          },
          {
           "alignmentgroup": "True",
           "customdata": [
            [
             184,
             6,
             "No Travel History,Travel"
            ],
            [
             617,
             6,
             "No Travel History,Travel"
            ],
            [
             1204,
             6,
             "No Travel History,Travel"
            ],
            [
             657,
             6,
             "No Travel History,Travel"
            ],
            [
             190,
             6,
             "No Travel History,Travel"
            ]
           ],
           "hovertemplate": "keys=%{customdata[2]}<br>week_year=2020, Week 13<br>detectedstate=%{x}<br>counts=%{y}<br>total_ct=%{customdata[0]}<br>total_ct_daily=%{customdata[1]}<extra></extra>",
           "ids": [
            2,
            1,
            1,
            1,
            1
           ],
           "legendgroup": "No Travel History,Travel",
           "marker": {
            "color": "#00cc96"
           },
           "name": "No Travel History,Travel",
           "offsetgroup": "No Travel History,Travel",
           "orientation": "v",
           "showlegend": true,
           "textposition": "auto",
           "type": "bar",
           "x": [
            "Punjab",
            "Gujarat",
            "Tamil Nadu",
            "Uttar Pradesh",
            "West Bengal"
           ],
           "xaxis": "x",
           "y": [
            2,
            1,
            1,
            1,
            1
           ],
           "yaxis": "y"
          },
          {
           "alignmentgroup": "True",
           "customdata": [
            [
             969,
             4,
             "Govt Staff,Travel"
            ],
            [
             1510,
             4,
             "Govt Staff,Travel"
            ]
           ],
           "hovertemplate": "keys=%{customdata[2]}<br>week_year=2020, Week 13<br>detectedstate=%{x}<br>counts=%{y}<br>total_ct=%{customdata[0]}<br>total_ct_daily=%{customdata[1]}<extra></extra>",
           "ids": [
            3,
            1
           ],
           "legendgroup": "Govt Staff,Travel",
           "marker": {
            "color": "#ab63fa"
           },
           "name": "Govt Staff,Travel",
           "offsetgroup": "Govt Staff,Travel",
           "orientation": "v",
           "showlegend": true,
           "textposition": "auto",
           "type": "bar",
           "x": [
            "Rajasthan",
            "Delhi"
           ],
           "xaxis": "x",
           "y": [
            3,
            1
           ],
           "yaxis": "y"
          },
          {
           "alignmentgroup": "True",
           "customdata": [
            [
             258,
             3,
             "Investigation in Progress"
            ]
           ],
           "hovertemplate": "keys=%{customdata[2]}<br>week_year=2020, Week 13<br>detectedstate=%{x}<br>counts=%{y}<br>total_ct=%{customdata[0]}<br>total_ct_daily=%{customdata[1]}<extra></extra>",
           "ids": [
            3
           ],
           "legendgroup": "Investigation in Progress",
           "marker": {
            "color": "#FFA15A"
           },
           "name": "Investigation in Progress",
           "offsetgroup": "Investigation in Progress",
           "orientation": "v",
           "showlegend": true,
           "textposition": "auto",
           "type": "bar",
           "x": [
            "Karnataka"
           ],
           "xaxis": "x",
           "y": [
            3
           ],
           "yaxis": "y"
          },
          {
           "alignmentgroup": "True",
           "customdata": [
            [
             1204,
             1,
             "No Travel History"
            ]
           ],
           "hovertemplate": "keys=%{customdata[2]}<br>week_year=2020, Week 13<br>detectedstate=%{x}<br>counts=%{y}<br>total_ct=%{customdata[0]}<br>total_ct_daily=%{customdata[1]}<extra></extra>",
           "ids": [
            1
           ],
           "legendgroup": "No Travel History",
           "marker": {
            "color": "#19d3f3"
           },
           "name": "No Travel History",
           "offsetgroup": "No Travel History",
           "orientation": "v",
           "showlegend": true,
           "textposition": "auto",
           "type": "bar",
           "x": [
            "Tamil Nadu"
           ],
           "xaxis": "x",
           "y": [
            1
           ],
           "yaxis": "y"
          },
          {
           "alignmentgroup": "True",
           "customdata": [
            [
             184,
             1,
             "Contact,Family,Travel"
            ]
           ],
           "hovertemplate": "keys=%{customdata[2]}<br>week_year=2020, Week 13<br>detectedstate=%{x}<br>counts=%{y}<br>total_ct=%{customdata[0]}<br>total_ct_daily=%{customdata[1]}<extra></extra>",
           "ids": [
            1
           ],
           "legendgroup": "Contact,Family,Travel",
           "marker": {
            "color": "#B6E880"
           },
           "name": "Contact,Family,Travel",
           "offsetgroup": "Contact,Family,Travel",
           "orientation": "v",
           "showlegend": true,
           "textposition": "auto",
           "type": "bar",
           "x": [
            "Punjab"
           ],
           "xaxis": "x",
           "y": [
            1
           ],
           "yaxis": "y"
          },
          {
           "alignmentgroup": "True",
           "customdata": [
            [
             386,
             2,
             "Family"
            ],
            [
             657,
             2,
             "Family"
            ]
           ],
           "hovertemplate": "keys=%{customdata[2]}<br>week_year=2020, Week 13<br>detectedstate=%{x}<br>counts=%{y}<br>total_ct=%{customdata[0]}<br>total_ct_daily=%{customdata[1]}<extra></extra>",
           "ids": [
            1,
            1
           ],
           "legendgroup": "Family",
           "marker": {
            "color": "#FF97FF"
           },
           "name": "Family",
           "offsetgroup": "Family",
           "orientation": "v",
           "showlegend": true,
           "textposition": "auto",
           "type": "bar",
           "x": [
            "Kerala",
            "Uttar Pradesh"
           ],
           "xaxis": "x",
           "y": [
            1,
            1
           ],
           "yaxis": "y"
          },
          {
           "alignmentgroup": "True",
           "customdata": [
            [
             1510,
             1,
             "Family,Govt Staff,Investigation in Progress,Travel"
            ]
           ],
           "hovertemplate": "keys=%{customdata[2]}<br>week_year=2020, Week 13<br>detectedstate=%{x}<br>counts=%{y}<br>total_ct=%{customdata[0]}<br>total_ct_daily=%{customdata[1]}<extra></extra>",
           "ids": [
            1
           ],
           "legendgroup": "Family,Govt Staff,Investigation in Progress,Travel",
           "marker": {
            "color": "#FECB52"
           },
           "name": "Family,Govt Staff,Investigation in Progress,Travel",
           "offsetgroup": "Family,Govt Staff,Investigation in Progress,Travel",
           "orientation": "v",
           "showlegend": true,
           "textposition": "auto",
           "type": "bar",
           "x": [
            "Delhi"
           ],
           "xaxis": "x",
           "y": [
            1
           ],
           "yaxis": "y"
          },
          {
           "alignmentgroup": "True",
           "customdata": [
            [
             386,
             1,
             "Family,Travel"
            ]
           ],
           "hovertemplate": "keys=%{customdata[2]}<br>week_year=2020, Week 13<br>detectedstate=%{x}<br>counts=%{y}<br>total_ct=%{customdata[0]}<br>total_ct_daily=%{customdata[1]}<extra></extra>",
           "ids": [
            1
           ],
           "legendgroup": "Family,Travel",
           "marker": {
            "color": "#636efa"
           },
           "name": "Family,Travel",
           "offsetgroup": "Family,Travel",
           "orientation": "v",
           "showlegend": true,
           "textposition": "auto",
           "type": "bar",
           "x": [
            "Kerala"
           ],
           "xaxis": "x",
           "y": [
            1
           ],
           "yaxis": "y"
          }
         ],
         "name": "2020, Week 13"
        },
        {
         "data": [
          {
           "alignmentgroup": "True",
           "customdata": [
            [
             2455,
             1678,
             "NA"
            ],
            [
             1510,
             1678,
             "NA"
            ],
            [
             657,
             1678,
             "NA"
            ],
            [
             969,
             1678,
             "NA"
            ],
            [
             1204,
             1678,
             "NA"
            ],
            [
             617,
             1678,
             "NA"
            ],
            [
             592,
             1678,
             "NA"
            ],
            [
             190,
             1678,
             "NA"
            ],
            [
             473,
             1678,
             "NA"
            ],
            [
             614,
             1678,
             "NA"
            ],
            [
             278,
             1678,
             "NA"
            ],
            [
             24,
             1678,
             "NA"
            ],
            [
             184,
             1678,
             "NA"
            ],
            [
             258,
             1678,
             "NA"
            ],
            [
             198,
             1678,
             "NA"
            ],
            [
             60,
             1678,
             "NA"
            ],
            [
             33,
             1678,
             "NA"
            ],
            [
             17,
             1678,
             "NA"
            ],
            [
             386,
             1678,
             "NA"
            ],
            [
             66,
             1678,
             "NA"
            ],
            [
             31,
             1678,
             "NA"
            ]
           ],
           "hovertemplate": "keys=%{customdata[2]}<br>week_year=2020, Week 15<br>detectedstate=%{x}<br>counts=%{y}<br>total_ct=%{customdata[0]}<br>total_ct_daily=%{customdata[1]}<extra></extra>",
           "ids": [
            473,
            356,
            174,
            165,
            129,
            101,
            61,
            56,
            53,
            52,
            33,
            5,
            4,
            3,
            3,
            3,
            2,
            2,
            1,
            1,
            1
           ],
           "legendgroup": "NA",
           "marker": {
            "color": "#636efa"
           },
           "name": "NA",
           "offsetgroup": "NA",
           "orientation": "v",
           "showlegend": true,
           "textposition": "auto",
           "type": "bar",
           "x": [
            "Maharashtra",
            "Delhi",
            "Uttar Pradesh",
            "Rajasthan",
            "Tamil Nadu",
            "Gujarat",
            "Telangana",
            "West Bengal",
            "Andhra Pradesh",
            "Madhya Pradesh",
            "Jammu and Kashmir",
            "Jharkhand",
            "Punjab",
            "Karnataka",
            "Haryana",
            "Odisha",
            "Chhattisgarh",
            "Ladakh",
            "Kerala",
            "Bihar",
            "Assam"
           ],
           "xaxis": "x",
           "y": [
            473,
            356,
            174,
            165,
            129,
            101,
            61,
            56,
            53,
            52,
            33,
            5,
            4,
            3,
            3,
            3,
            2,
            2,
            1,
            1,
            1
           ],
           "yaxis": "y"
          },
          {
           "alignmentgroup": "True",
           "customdata": [
            [
             258,
             1,
             "Domestic Travel Delhi"
            ]
           ],
           "hovertemplate": "keys=%{customdata[2]}<br>week_year=2020, Week 15<br>detectedstate=%{x}<br>counts=%{y}<br>total_ct=%{customdata[0]}<br>total_ct_daily=%{customdata[1]}<extra></extra>",
           "ids": [
            1
           ],
           "legendgroup": "Domestic Travel Delhi",
           "marker": {
            "color": "#EF553B"
           },
           "name": "Domestic Travel Delhi",
           "offsetgroup": "Domestic Travel Delhi",
           "orientation": "v",
           "showlegend": true,
           "textposition": "auto",
           "type": "bar",
           "x": [
            "Karnataka"
           ],
           "xaxis": "x",
           "y": [
            1
           ],
           "yaxis": "y"
          },
          {
           "alignmentgroup": "True",
           "customdata": [
            [
             386,
             8,
             "International Travel"
            ],
            [
             258,
             8,
             "International Travel"
            ],
            [
             66,
             8,
             "International Travel"
            ]
           ],
           "hovertemplate": "keys=%{customdata[2]}<br>week_year=2020, Week 15<br>detectedstate=%{x}<br>counts=%{y}<br>total_ct=%{customdata[0]}<br>total_ct_daily=%{customdata[1]}<extra></extra>",
           "ids": [
            5,
            2,
            1
           ],
           "legendgroup": "International Travel",
           "marker": {
            "color": "#00cc96"
           },
           "name": "International Travel",
           "offsetgroup": "International Travel",
           "orientation": "v",
           "showlegend": true,
           "textposition": "auto",
           "type": "bar",
           "x": [
            "Kerala",
            "Karnataka",
            "Bihar"
           ],
           "xaxis": "x",
           "y": [
            5,
            2,
            1
           ],
           "yaxis": "y"
          },
          {
           "alignmentgroup": "True",
           "customdata": [
            [
             258,
             37,
             "Contact"
            ],
            [
             184,
             37,
             "Contact"
            ],
            [
             386,
             37,
             "Contact"
            ],
            [
             60,
             37,
             "Contact"
            ]
           ],
           "hovertemplate": "keys=%{customdata[2]}<br>week_year=2020, Week 15<br>detectedstate=%{x}<br>counts=%{y}<br>total_ct=%{customdata[0]}<br>total_ct_daily=%{customdata[1]}<extra></extra>",
           "ids": [
            20,
            10,
            4,
            3
           ],
           "legendgroup": "Contact",
           "marker": {
            "color": "#ab63fa"
           },
           "name": "Contact",
           "offsetgroup": "Contact",
           "orientation": "v",
           "showlegend": true,
           "textposition": "auto",
           "type": "bar",
           "x": [
            "Karnataka",
            "Punjab",
            "Kerala",
            "Odisha"
           ],
           "xaxis": "x",
           "y": [
            20,
            10,
            4,
            3
           ],
           "yaxis": "y"
          },
          {
           "alignmentgroup": "True",
           "customdata": [
            [
             31,
             2,
             "Contact,Travel"
            ],
            [
             386,
             2,
             "Contact,Travel"
            ]
           ],
           "hovertemplate": "keys=%{customdata[2]}<br>week_year=2020, Week 15<br>detectedstate=%{x}<br>counts=%{y}<br>total_ct=%{customdata[0]}<br>total_ct_daily=%{customdata[1]}<extra></extra>",
           "ids": [
            1,
            1
           ],
           "legendgroup": "Contact,Travel",
           "marker": {
            "color": "#FFA15A"
           },
           "name": "Contact,Travel",
           "offsetgroup": "Contact,Travel",
           "orientation": "v",
           "showlegend": true,
           "textposition": "auto",
           "type": "bar",
           "x": [
            "Assam",
            "Kerala"
           ],
           "xaxis": "x",
           "y": [
            1,
            1
           ],
           "yaxis": "y"
          },
          {
           "alignmentgroup": "True",
           "customdata": [
            [
             1,
             1,
             "Govt Staff,Travel"
            ]
           ],
           "hovertemplate": "keys=%{customdata[2]}<br>week_year=2020, Week 15<br>detectedstate=%{x}<br>counts=%{y}<br>total_ct=%{customdata[0]}<br>total_ct_daily=%{customdata[1]}<extra></extra>",
           "ids": [
            1
           ],
           "legendgroup": "Govt Staff,Travel",
           "marker": {
            "color": "#ab63fa"
           },
           "name": "Govt Staff,Travel",
           "offsetgroup": "Govt Staff,Travel",
           "orientation": "v",
           "showlegend": true,
           "textposition": "auto",
           "type": "bar",
           "x": [
            "Meghalaya"
           ],
           "xaxis": "x",
           "y": [
            1
           ],
           "yaxis": "y"
          }
         ],
         "name": "2020, Week 15"
        },
        {
         "data": [
          {
           "alignmentgroup": "True",
           "customdata": [
            [
             2455,
             286,
             "NA"
            ],
            [
             1510,
             286,
             "NA"
            ],
            [
             657,
             286,
             "NA"
            ],
            [
             592,
             286,
             "NA"
            ],
            [
             617,
             286,
             "NA"
            ],
            [
             969,
             286,
             "NA"
            ],
            [
             614,
             286,
             "NA"
            ],
            [
             278,
             286,
             "NA"
            ],
            [
             386,
             286,
             "NA"
            ],
            [
             198,
             286,
             "NA"
            ],
            [
             184,
             286,
             "NA"
            ],
            [
             66,
             286,
             "NA"
            ],
            [
             33,
             286,
             "NA"
            ],
            [
             190,
             286,
             "NA"
            ],
            [
             35,
             286,
             "NA"
            ],
            [
             60,
             286,
             "NA"
            ]
           ],
           "hovertemplate": "keys=%{customdata[2]}<br>week_year=2020, Week 12<br>detectedstate=%{x}<br>counts=%{y}<br>total_ct=%{customdata[0]}<br>total_ct_daily=%{customdata[1]}<extra></extra>",
           "ids": [
            97,
            32,
            25,
            24,
            19,
            19,
            17,
            14,
            10,
            9,
            7,
            7,
            3,
            1,
            1,
            1
           ],
           "legendgroup": "NA",
           "marker": {
            "color": "#636efa"
           },
           "name": "NA",
           "offsetgroup": "NA",
           "orientation": "v",
           "showlegend": true,
           "textposition": "auto",
           "type": "bar",
           "x": [
            "Maharashtra",
            "Delhi",
            "Uttar Pradesh",
            "Telangana",
            "Gujarat",
            "Rajasthan",
            "Madhya Pradesh",
            "Jammu and Kashmir",
            "Kerala",
            "Haryana",
            "Punjab",
            "Bihar",
            "Chhattisgarh",
            "West Bengal",
            "Uttarakhand",
            "Odisha"
           ],
           "xaxis": "x",
           "y": [
            97,
            32,
            25,
            24,
            19,
            19,
            17,
            14,
            10,
            9,
            7,
            7,
            3,
            1,
            1,
            1
           ],
           "yaxis": "y"
          },
          {
           "alignmentgroup": "True",
           "customdata": [
            [
             1510,
             17,
             "Domestic Travel Delhi"
            ],
            [
             1204,
             17,
             "Domestic Travel Delhi"
            ],
            [
             592,
             17,
             "Domestic Travel Delhi"
            ],
            [
             11,
             17,
             "Domestic Travel Delhi"
            ],
            [
             473,
             17,
             "Domestic Travel Delhi"
            ],
            [
             278,
             17,
             "Domestic Travel Delhi"
            ],
            [
             657,
             17,
             "Domestic Travel Delhi"
            ]
           ],
           "hovertemplate": "keys=%{customdata[2]}<br>week_year=2020, Week 12<br>detectedstate=%{x}<br>counts=%{y}<br>total_ct=%{customdata[0]}<br>total_ct_daily=%{customdata[1]}<extra></extra>",
           "ids": [
            6,
            4,
            2,
            2,
            1,
            1,
            1
           ],
           "legendgroup": "Domestic Travel Delhi",
           "marker": {
            "color": "#EF553B"
           },
           "name": "Domestic Travel Delhi",
           "offsetgroup": "Domestic Travel Delhi",
           "orientation": "v",
           "showlegend": true,
           "textposition": "auto",
           "type": "bar",
           "x": [
            "Delhi",
            "Tamil Nadu",
            "Telangana",
            "Andaman and Nicobar Islands",
            "Andhra Pradesh",
            "Jammu and Kashmir",
            "Uttar Pradesh"
           ],
           "xaxis": "x",
           "y": [
            6,
            4,
            2,
            2,
            1,
            1,
            1
           ],
           "yaxis": "y"
          },
          {
           "alignmentgroup": "True",
           "customdata": [
            [
             386,
             211,
             "International Travel"
            ],
            [
             258,
             211,
             "International Travel"
            ],
            [
             1204,
             211,
             "International Travel"
            ],
            [
             617,
             211,
             "International Travel"
            ],
            [
             2455,
             211,
             "International Travel"
            ],
            [
             592,
             211,
             "International Travel"
            ],
            [
             278,
             211,
             "International Travel"
            ],
            [
             473,
             211,
             "International Travel"
            ],
            [
             657,
             211,
             "International Travel"
            ],
            [
             7,
             211,
             "International Travel"
            ],
            [
             614,
             211,
             "International Travel"
            ],
            [
             190,
             211,
             "International Travel"
            ],
            [
             969,
             211,
             "International Travel"
            ],
            [
             66,
             211,
             "International Travel"
            ],
            [
             33,
             211,
             "International Travel"
            ],
            [
             21,
             211,
             "International Travel"
            ],
            [
             198,
             211,
             "International Travel"
            ],
            [
             2,
             211,
             "International Travel"
            ],
            [
             1,
             211,
             "International Travel"
            ],
            [
             35,
             211,
             "International Travel"
            ]
           ],
           "hovertemplate": "keys=%{customdata[2]}<br>week_year=2020, Week 12<br>detectedstate=%{x}<br>counts=%{y}<br>total_ct=%{customdata[0]}<br>total_ct_daily=%{customdata[1]}<extra></extra>",
           "ids": [
            104,
            27,
            18,
            10,
            9,
            8,
            5,
            5,
            4,
            4,
            3,
            3,
            2,
            2,
            2,
            1,
            1,
            1,
            1,
            1
           ],
           "legendgroup": "International Travel",
           "marker": {
            "color": "#00cc96"
           },
           "name": "International Travel",
           "offsetgroup": "International Travel",
           "orientation": "v",
           "showlegend": true,
           "textposition": "auto",
           "type": "bar",
           "x": [
            "Kerala",
            "Karnataka",
            "Tamil Nadu",
            "Gujarat",
            "Maharashtra",
            "Telangana",
            "Jammu and Kashmir",
            "Andhra Pradesh",
            "Uttar Pradesh",
            "Goa",
            "Madhya Pradesh",
            "West Bengal",
            "Rajasthan",
            "Bihar",
            "Chhattisgarh",
            "Chandigarh",
            "Haryana",
            "Manipur",
            "Mizoram",
            "Uttarakhand"
           ],
           "xaxis": "x",
           "y": [
            104,
            27,
            18,
            10,
            9,
            8,
            5,
            5,
            4,
            4,
            3,
            3,
            2,
            2,
            2,
            1,
            1,
            1,
            1,
            1
           ],
           "yaxis": "y"
          },
          {
           "alignmentgroup": "True",
           "customdata": [
            [
             258,
             115,
             "Contact"
            ],
            [
             386,
             115,
             "Contact"
            ],
            [
             617,
             115,
             "Contact"
            ],
            [
             278,
             115,
             "Contact"
            ],
            [
             657,
             115,
             "Contact"
            ],
            [
             1204,
             115,
             "Contact"
            ],
            [
             184,
             115,
             "Contact"
            ],
            [
             614,
             115,
             "Contact"
            ],
            [
             2455,
             115,
             "Contact"
            ],
            [
             592,
             115,
             "Contact"
            ],
            [
             473,
             115,
             "Contact"
            ],
            [
             969,
             115,
             "Contact"
            ],
            [
             190,
             115,
             "Contact"
            ],
            [
             66,
             115,
             "Contact"
            ],
            [
             21,
             115,
             "Contact"
            ],
            [
             7,
             115,
             "Contact"
            ],
            [
             198,
             115,
             "Contact"
            ],
            [
             35,
             115,
             "Contact"
            ]
           ],
           "hovertemplate": "keys=%{customdata[2]}<br>week_year=2020, Week 12<br>detectedstate=%{x}<br>counts=%{y}<br>total_ct=%{customdata[0]}<br>total_ct_daily=%{customdata[1]}<extra></extra>",
           "ids": [
            20,
            15,
            13,
            11,
            8,
            8,
            8,
            7,
            6,
            4,
            4,
            3,
            2,
            2,
            1,
            1,
            1,
            1
           ],
           "legendgroup": "Contact",
           "marker": {
            "color": "#ab63fa"
           },
           "name": "Contact",
           "offsetgroup": "Contact",
           "orientation": "v",
           "showlegend": true,
           "textposition": "auto",
           "type": "bar",
           "x": [
            "Karnataka",
            "Kerala",
            "Gujarat",
            "Jammu and Kashmir",
            "Uttar Pradesh",
            "Tamil Nadu",
            "Punjab",
            "Madhya Pradesh",
            "Maharashtra",
            "Telangana",
            "Andhra Pradesh",
            "Rajasthan",
            "West Bengal",
            "Bihar",
            "Chandigarh",
            "Goa",
            "Haryana",
            "Uttarakhand"
           ],
           "xaxis": "x",
           "y": [
            20,
            15,
            13,
            11,
            8,
            8,
            8,
            7,
            6,
            4,
            4,
            3,
            2,
            2,
            1,
            1,
            1,
            1
           ],
           "yaxis": "y"
          },
          {
           "alignmentgroup": "True",
           "customdata": [
            [
             2455,
             46,
             "Contact,Travel"
            ],
            [
             258,
             46,
             "Contact,Travel"
            ],
            [
             190,
             46,
             "Contact,Travel"
            ],
            [
             1204,
             46,
             "Contact,Travel"
            ],
            [
             386,
             46,
             "Contact,Travel"
            ],
            [
             473,
             46,
             "Contact,Travel"
            ],
            [
             278,
             46,
             "Contact,Travel"
            ],
            [
             617,
             46,
             "Contact,Travel"
            ],
            [
             11,
             46,
             "Contact,Travel"
            ],
            [
             969,
             46,
             "Contact,Travel"
            ],
            [
             657,
             46,
             "Contact,Travel"
            ]
           ],
           "hovertemplate": "keys=%{customdata[2]}<br>week_year=2020, Week 12<br>detectedstate=%{x}<br>counts=%{y}<br>total_ct=%{customdata[0]}<br>total_ct_daily=%{customdata[1]}<extra></extra>",
           "ids": [
            12,
            9,
            5,
            4,
            4,
            4,
            3,
            2,
            1,
            1,
            1
           ],
           "legendgroup": "Contact,Travel",
           "marker": {
            "color": "#FFA15A"
           },
           "name": "Contact,Travel",
           "offsetgroup": "Contact,Travel",
           "orientation": "v",
           "showlegend": true,
           "textposition": "auto",
           "type": "bar",
           "x": [
            "Maharashtra",
            "Karnataka",
            "West Bengal",
            "Tamil Nadu",
            "Kerala",
            "Andhra Pradesh",
            "Jammu and Kashmir",
            "Gujarat",
            "Andaman and Nicobar Islands",
            "Rajasthan",
            "Uttar Pradesh"
           ],
           "xaxis": "x",
           "y": [
            12,
            9,
            5,
            4,
            4,
            4,
            3,
            2,
            1,
            1,
            1
           ],
           "yaxis": "y"
          },
          {
           "alignmentgroup": "True",
           "customdata": [
            [
             11,
             3,
             "Contact,Investigation in Progress"
            ],
            [
             184,
             3,
             "Contact,Investigation in Progress"
            ],
            [
             1204,
             3,
             "Contact,Investigation in Progress"
            ]
           ],
           "hovertemplate": "keys=%{customdata[2]}<br>week_year=2020, Week 12<br>detectedstate=%{x}<br>counts=%{y}<br>total_ct=%{customdata[0]}<br>total_ct_daily=%{customdata[1]}<extra></extra>",
           "ids": [
            1,
            1,
            1
           ],
           "legendgroup": "Contact,Investigation in Progress",
           "marker": {
            "color": "#19d3f3"
           },
           "name": "Contact,Investigation in Progress",
           "offsetgroup": "Contact,Investigation in Progress",
           "orientation": "v",
           "showlegend": true,
           "textposition": "auto",
           "type": "bar",
           "x": [
            "Andaman and Nicobar Islands",
            "Punjab",
            "Tamil Nadu"
           ],
           "xaxis": "x",
           "y": [
            1,
            1,
            1
           ],
           "yaxis": "y"
          },
          {
           "alignmentgroup": "True",
           "customdata": [
            [
             1204,
             1,
             "Contact,Investigation in Progress,Travel"
            ]
           ],
           "hovertemplate": "keys=%{customdata[2]}<br>week_year=2020, Week 12<br>detectedstate=%{x}<br>counts=%{y}<br>total_ct=%{customdata[0]}<br>total_ct_daily=%{customdata[1]}<extra></extra>",
           "ids": [
            1
           ],
           "legendgroup": "Contact,Investigation in Progress,Travel",
           "marker": {
            "color": "#FF6692"
           },
           "name": "Contact,Investigation in Progress,Travel",
           "offsetgroup": "Contact,Investigation in Progress,Travel",
           "orientation": "v",
           "showlegend": true,
           "textposition": "auto",
           "type": "bar",
           "x": [
            "Tamil Nadu"
           ],
           "xaxis": "x",
           "y": [
            1
           ],
           "yaxis": "y"
          },
          {
           "alignmentgroup": "True",
           "customdata": [
            [
             969,
             6,
             "Govt Staff"
            ],
            [
             198,
             6,
             "Govt Staff"
            ],
            [
             386,
             6,
             "Govt Staff"
            ],
            [
             614,
             6,
             "Govt Staff"
            ]
           ],
           "hovertemplate": "keys=%{customdata[2]}<br>week_year=2020, Week 12<br>detectedstate=%{x}<br>counts=%{y}<br>total_ct=%{customdata[0]}<br>total_ct_daily=%{customdata[1]}<extra></extra>",
           "ids": [
            2,
            2,
            1,
            1
           ],
           "legendgroup": "Govt Staff",
           "marker": {
            "color": "#B6E880"
           },
           "name": "Govt Staff",
           "offsetgroup": "Govt Staff",
           "orientation": "v",
           "showlegend": true,
           "textposition": "auto",
           "type": "bar",
           "x": [
            "Rajasthan",
            "Haryana",
            "Kerala",
            "Madhya Pradesh"
           ],
           "xaxis": "x",
           "y": [
            2,
            2,
            1,
            1
           ],
           "yaxis": "y"
          },
          {
           "alignmentgroup": "True",
           "customdata": [
            [
             614,
             9,
             "Contact,No Travel History,Travel"
            ],
            [
             657,
             9,
             "Contact,No Travel History,Travel"
            ],
            [
             592,
             9,
             "Contact,No Travel History,Travel"
            ],
            [
             386,
             9,
             "Contact,No Travel History,Travel"
            ],
            [
             184,
             9,
             "Contact,No Travel History,Travel"
            ]
           ],
           "hovertemplate": "keys=%{customdata[2]}<br>week_year=2020, Week 12<br>detectedstate=%{x}<br>counts=%{y}<br>total_ct=%{customdata[0]}<br>total_ct_daily=%{customdata[1]}<extra></extra>",
           "ids": [
            5,
            1,
            1,
            1,
            1
           ],
           "legendgroup": "Contact,No Travel History,Travel",
           "marker": {
            "color": "#FF97FF"
           },
           "name": "Contact,No Travel History,Travel",
           "offsetgroup": "Contact,No Travel History,Travel",
           "orientation": "v",
           "showlegend": true,
           "textposition": "auto",
           "type": "bar",
           "x": [
            "Madhya Pradesh",
            "Uttar Pradesh",
            "Telangana",
            "Kerala",
            "Punjab"
           ],
           "xaxis": "x",
           "y": [
            5,
            1,
            1,
            1,
            1
           ],
           "yaxis": "y"
          },
          {
           "alignmentgroup": "True",
           "customdata": [
            [
             11,
             13,
             "Domestic Travel"
            ],
            [
             2455,
             13,
             "Domestic Travel"
            ],
            [
             1510,
             13,
             "Domestic Travel"
            ],
            [
             617,
             13,
             "Domestic Travel"
            ],
            [
             969,
             13,
             "Domestic Travel"
            ]
           ],
           "hovertemplate": "keys=%{customdata[2]}<br>week_year=2020, Week 12<br>detectedstate=%{x}<br>counts=%{y}<br>total_ct=%{customdata[0]}<br>total_ct_daily=%{customdata[1]}<extra></extra>",
           "ids": [
            5,
            5,
            1,
            1,
            1
           ],
           "legendgroup": "Domestic Travel",
           "marker": {
            "color": "#636efa"
           },
           "name": "Domestic Travel",
           "offsetgroup": "Domestic Travel",
           "orientation": "v",
           "showlegend": true,
           "textposition": "auto",
           "type": "bar",
           "x": [
            "Andaman and Nicobar Islands",
            "Maharashtra",
            "Delhi",
            "Gujarat",
            "Rajasthan"
           ],
           "xaxis": "x",
           "y": [
            5,
            5,
            1,
            1,
            1
           ],
           "yaxis": "y"
          },
          {
           "alignmentgroup": "True",
           "customdata": [
            [
             592,
             5,
             "Contact,Govt Staff"
            ],
            [
             969,
             5,
             "Contact,Govt Staff"
            ],
            [
             1510,
             5,
             "Contact,Govt Staff"
            ]
           ],
           "hovertemplate": "keys=%{customdata[2]}<br>week_year=2020, Week 12<br>detectedstate=%{x}<br>counts=%{y}<br>total_ct=%{customdata[0]}<br>total_ct_daily=%{customdata[1]}<extra></extra>",
           "ids": [
            2,
            2,
            1
           ],
           "legendgroup": "Contact,Govt Staff",
           "marker": {
            "color": "#EF553B"
           },
           "name": "Contact,Govt Staff",
           "offsetgroup": "Contact,Govt Staff",
           "orientation": "v",
           "showlegend": true,
           "textposition": "auto",
           "type": "bar",
           "x": [
            "Telangana",
            "Rajasthan",
            "Delhi"
           ],
           "xaxis": "x",
           "y": [
            2,
            2,
            1
           ],
           "yaxis": "y"
          },
          {
           "alignmentgroup": "True",
           "customdata": [
            [
             1510,
             11,
             "No Travel History,Travel"
            ],
            [
             1204,
             11,
             "No Travel History,Travel"
            ],
            [
             66,
             11,
             "No Travel History,Travel"
            ],
            [
             258,
             11,
             "No Travel History,Travel"
            ],
            [
             190,
             11,
             "No Travel History,Travel"
            ]
           ],
           "hovertemplate": "keys=%{customdata[2]}<br>week_year=2020, Week 12<br>detectedstate=%{x}<br>counts=%{y}<br>total_ct=%{customdata[0]}<br>total_ct_daily=%{customdata[1]}<extra></extra>",
           "ids": [
            4,
            3,
            2,
            1,
            1
           ],
           "legendgroup": "No Travel History,Travel",
           "marker": {
            "color": "#00cc96"
           },
           "name": "No Travel History,Travel",
           "offsetgroup": "No Travel History,Travel",
           "orientation": "v",
           "showlegend": true,
           "textposition": "auto",
           "type": "bar",
           "x": [
            "Delhi",
            "Tamil Nadu",
            "Bihar",
            "Karnataka",
            "West Bengal"
           ],
           "xaxis": "x",
           "y": [
            4,
            3,
            2,
            1,
            1
           ],
           "yaxis": "y"
          },
          {
           "alignmentgroup": "True",
           "customdata": [
            [
             33,
             8,
             "Govt Staff,Travel"
            ],
            [
             190,
             8,
             "Govt Staff,Travel"
            ],
            [
             35,
             8,
             "Govt Staff,Travel"
            ],
            [
             657,
             8,
             "Govt Staff,Travel"
            ],
            [
             592,
             8,
             "Govt Staff,Travel"
            ],
            [
             32,
             8,
             "Govt Staff,Travel"
            ],
            [
             473,
             8,
             "Govt Staff,Travel"
            ],
            [
             198,
             8,
             "Govt Staff,Travel"
            ]
           ],
           "hovertemplate": "keys=%{customdata[2]}<br>week_year=2020, Week 12<br>detectedstate=%{x}<br>counts=%{y}<br>total_ct=%{customdata[0]}<br>total_ct_daily=%{customdata[1]}<extra></extra>",
           "ids": [
            1,
            1,
            1,
            1,
            1,
            1,
            1,
            1
           ],
           "legendgroup": "Govt Staff,Travel",
           "marker": {
            "color": "#ab63fa"
           },
           "name": "Govt Staff,Travel",
           "offsetgroup": "Govt Staff,Travel",
           "orientation": "v",
           "showlegend": true,
           "textposition": "auto",
           "type": "bar",
           "x": [
            "Chhattisgarh",
            "West Bengal",
            "Uttarakhand",
            "Uttar Pradesh",
            "Telangana",
            "Himachal Pradesh",
            "Andhra Pradesh",
            "Haryana"
           ],
           "xaxis": "x",
           "y": [
            1,
            1,
            1,
            1,
            1,
            1,
            1,
            1
           ],
           "yaxis": "y"
          },
          {
           "alignmentgroup": "True",
           "customdata": [
            [
             1204,
             3,
             "No Travel History"
            ],
            [
             190,
             3,
             "No Travel History"
            ]
           ],
           "hovertemplate": "keys=%{customdata[2]}<br>week_year=2020, Week 12<br>detectedstate=%{x}<br>counts=%{y}<br>total_ct=%{customdata[0]}<br>total_ct_daily=%{customdata[1]}<extra></extra>",
           "ids": [
            2,
            1
           ],
           "legendgroup": "No Travel History",
           "marker": {
            "color": "#19d3f3"
           },
           "name": "No Travel History",
           "offsetgroup": "No Travel History",
           "orientation": "v",
           "showlegend": true,
           "textposition": "auto",
           "type": "bar",
           "x": [
            "Tamil Nadu",
            "West Bengal"
           ],
           "xaxis": "x",
           "y": [
            2,
            1
           ],
           "yaxis": "y"
          },
          {
           "alignmentgroup": "True",
           "customdata": [
            [
             657,
             1,
             "Contact,Family"
            ]
           ],
           "hovertemplate": "keys=%{customdata[2]}<br>week_year=2020, Week 12<br>detectedstate=%{x}<br>counts=%{y}<br>total_ct=%{customdata[0]}<br>total_ct_daily=%{customdata[1]}<extra></extra>",
           "ids": [
            1
           ],
           "legendgroup": "Contact,Family",
           "marker": {
            "color": "#FF6692"
           },
           "name": "Contact,Family",
           "offsetgroup": "Contact,Family",
           "orientation": "v",
           "showlegend": true,
           "textposition": "auto",
           "type": "bar",
           "x": [
            "Uttar Pradesh"
           ],
           "xaxis": "x",
           "y": [
            1
           ],
           "yaxis": "y"
          },
          {
           "alignmentgroup": "True",
           "customdata": [
            [
             592,
             1,
             "Family,Travel"
            ]
           ],
           "hovertemplate": "keys=%{customdata[2]}<br>week_year=2020, Week 12<br>detectedstate=%{x}<br>counts=%{y}<br>total_ct=%{customdata[0]}<br>total_ct_daily=%{customdata[1]}<extra></extra>",
           "ids": [
            1
           ],
           "legendgroup": "Family,Travel",
           "marker": {
            "color": "#636efa"
           },
           "name": "Family,Travel",
           "offsetgroup": "Family,Travel",
           "orientation": "v",
           "showlegend": true,
           "textposition": "auto",
           "type": "bar",
           "x": [
            "Telangana"
           ],
           "xaxis": "x",
           "y": [
            1
           ],
           "yaxis": "y"
          }
         ],
         "name": "2020, Week 12"
        },
        {
         "data": [
          {
           "alignmentgroup": "True",
           "customdata": [
            [
             969,
             29,
             "NA"
            ],
            [
             1510,
             29,
             "NA"
            ],
            [
             2455,
             29,
             "NA"
            ],
            [
             617,
             29,
             "NA"
            ],
            [
             17,
             29,
             "NA"
            ],
            [
             657,
             29,
             "NA"
            ]
           ],
           "hovertemplate": "keys=%{customdata[2]}<br>week_year=2020, Week 11<br>detectedstate=%{x}<br>counts=%{y}<br>total_ct=%{customdata[0]}<br>total_ct_daily=%{customdata[1]}<extra></extra>",
           "ids": [
            7,
            7,
            6,
            5,
            3,
            1
           ],
           "legendgroup": "NA",
           "marker": {
            "color": "#636efa"
           },
           "name": "NA",
           "offsetgroup": "NA",
           "orientation": "v",
           "showlegend": true,
           "textposition": "auto",
           "type": "bar",
           "x": [
            "Rajasthan",
            "Delhi",
            "Maharashtra",
            "Gujarat",
            "Ladakh",
            "Uttar Pradesh"
           ],
           "xaxis": "x",
           "y": [
            7,
            7,
            6,
            5,
            3,
            1
           ],
           "yaxis": "y"
          },
          {
           "alignmentgroup": "True",
           "customdata": [
            [
             617,
             1,
             "Domestic Travel Delhi"
            ]
           ],
           "hovertemplate": "keys=%{customdata[2]}<br>week_year=2020, Week 11<br>detectedstate=%{x}<br>counts=%{y}<br>total_ct=%{customdata[0]}<br>total_ct_daily=%{customdata[1]}<extra></extra>",
           "ids": [
            1
           ],
           "legendgroup": "Domestic Travel Delhi",
           "marker": {
            "color": "#EF553B"
           },
           "name": "Domestic Travel Delhi",
           "offsetgroup": "Domestic Travel Delhi",
           "orientation": "v",
           "showlegend": true,
           "textposition": "auto",
           "type": "bar",
           "x": [
            "Gujarat"
           ],
           "xaxis": "x",
           "y": [
            1
           ],
           "yaxis": "y"
          },
          {
           "alignmentgroup": "True",
           "customdata": [
            [
             386,
             175,
             "International Travel"
            ],
            [
             2455,
             175,
             "International Travel"
            ],
            [
             592,
             175,
             "International Travel"
            ],
            [
             258,
             175,
             "International Travel"
            ],
            [
             617,
             175,
             "International Travel"
            ],
            [
             657,
             175,
             "International Travel"
            ],
            [
             1510,
             175,
             "International Travel"
            ],
            [
             1204,
             175,
             "International Travel"
            ],
            [
             184,
             175,
             "International Travel"
            ],
            [
             198,
             175,
             "International Travel"
            ],
            [
             969,
             175,
             "International Travel"
            ],
            [
             473,
             175,
             "International Travel"
            ],
            [
             190,
             175,
             "International Travel"
            ],
            [
             60,
             175,
             "International Travel"
            ],
            [
             32,
             175,
             "International Travel"
            ],
            [
             278,
             175,
             "International Travel"
            ],
            [
             21,
             175,
             "International Travel"
            ],
            [
             66,
             175,
             "International Travel"
            ],
            [
             614,
             175,
             "International Travel"
            ],
            [
             33,
             175,
             "International Travel"
            ],
            [
             17,
             175,
             "International Travel"
            ],
            [
             7,
             175,
             "International Travel"
            ]
           ],
           "hovertemplate": "keys=%{customdata[2]}<br>week_year=2020, Week 11<br>detectedstate=%{x}<br>counts=%{y}<br>total_ct=%{customdata[0]}<br>total_ct_daily=%{customdata[1]}<extra></extra>",
           "ids": [
            38,
            27,
            22,
            15,
            10,
            9,
            9,
            7,
            6,
            5,
            5,
            4,
            3,
            2,
            2,
            2,
            2,
            2,
            2,
            1,
            1,
            1
           ],
           "legendgroup": "International Travel",
           "marker": {
            "color": "#00cc96"
           },
           "name": "International Travel",
           "offsetgroup": "International Travel",
           "orientation": "v",
           "showlegend": true,
           "textposition": "auto",
           "type": "bar",
           "x": [
            "Kerala",
            "Maharashtra",
            "Telangana",
            "Karnataka",
            "Gujarat",
            "Uttar Pradesh",
            "Delhi",
            "Tamil Nadu",
            "Punjab",
            "Haryana",
            "Rajasthan",
            "Andhra Pradesh",
            "West Bengal",
            "Odisha",
            "Himachal Pradesh",
            "Jammu and Kashmir",
            "Chandigarh",
            "Bihar",
            "Madhya Pradesh",
            "Chhattisgarh",
            "Ladakh",
            "Puducherry"
           ],
           "xaxis": "x",
           "y": [
            38,
            27,
            22,
            15,
            10,
            9,
            9,
            7,
            6,
            5,
            5,
            4,
            3,
            2,
            2,
            2,
            2,
            2,
            2,
            1,
            1,
            1
           ],
           "yaxis": "y"
          },
          {
           "alignmentgroup": "True",
           "customdata": [
            [
             184,
             40,
             "Contact"
            ],
            [
             2455,
             40,
             "Contact"
            ],
            [
             657,
             40,
             "Contact"
            ],
            [
             1510,
             40,
             "Contact"
            ],
            [
             21,
             40,
             "Contact"
            ],
            [
             190,
             40,
             "Contact"
            ],
            [
             386,
             40,
             "Contact"
            ],
            [
             258,
             40,
             "Contact"
            ],
            [
             473,
             40,
             "Contact"
            ],
            [
             198,
             40,
             "Contact"
            ],
            [
             17,
             40,
             "Contact"
            ],
            [
             614,
             40,
             "Contact"
            ],
            [
             592,
             40,
             "Contact"
            ]
           ],
           "hovertemplate": "keys=%{customdata[2]}<br>week_year=2020, Week 11<br>detectedstate=%{x}<br>counts=%{y}<br>total_ct=%{customdata[0]}<br>total_ct_daily=%{customdata[1]}<extra></extra>",
           "ids": [
            8,
            7,
            4,
            4,
            4,
            3,
            3,
            2,
            1,
            1,
            1,
            1,
            1
           ],
           "legendgroup": "Contact",
           "marker": {
            "color": "#ab63fa"
           },
           "name": "Contact",
           "offsetgroup": "Contact",
           "orientation": "v",
           "showlegend": true,
           "textposition": "auto",
           "type": "bar",
           "x": [
            "Punjab",
            "Maharashtra",
            "Uttar Pradesh",
            "Delhi",
            "Chandigarh",
            "West Bengal",
            "Kerala",
            "Karnataka",
            "Andhra Pradesh",
            "Haryana",
            "Ladakh",
            "Madhya Pradesh",
            "Telangana"
           ],
           "xaxis": "x",
           "y": [
            8,
            7,
            4,
            4,
            4,
            3,
            3,
            2,
            1,
            1,
            1,
            1,
            1
           ],
           "yaxis": "y"
          },
          {
           "alignmentgroup": "True",
           "customdata": [
            [
             614,
             20,
             "Contact,Travel"
            ],
            [
             35,
             20,
             "Contact,Travel"
            ],
            [
             657,
             20,
             "Contact,Travel"
            ],
            [
             969,
             20,
             "Contact,Travel"
            ],
            [
             2455,
             20,
             "Contact,Travel"
            ],
            [
             258,
             20,
             "Contact,Travel"
            ],
            [
             617,
             20,
             "Contact,Travel"
            ],
            [
             198,
             20,
             "Contact,Travel"
            ],
            [
             386,
             20,
             "Contact,Travel"
            ],
            [
             17,
             20,
             "Contact,Travel"
            ],
            [
             1204,
             20,
             "Contact,Travel"
            ],
            [
             592,
             20,
             "Contact,Travel"
            ],
            [
             190,
             20,
             "Contact,Travel"
            ]
           ],
           "hovertemplate": "keys=%{customdata[2]}<br>week_year=2020, Week 11<br>detectedstate=%{x}<br>counts=%{y}<br>total_ct=%{customdata[0]}<br>total_ct_daily=%{customdata[1]}<extra></extra>",
           "ids": [
            3,
            2,
            2,
            2,
            2,
            2,
            1,
            1,
            1,
            1,
            1,
            1,
            1
           ],
           "legendgroup": "Contact,Travel",
           "marker": {
            "color": "#FFA15A"
           },
           "name": "Contact,Travel",
           "offsetgroup": "Contact,Travel",
           "orientation": "v",
           "showlegend": true,
           "textposition": "auto",
           "type": "bar",
           "x": [
            "Madhya Pradesh",
            "Uttarakhand",
            "Uttar Pradesh",
            "Rajasthan",
            "Maharashtra",
            "Karnataka",
            "Gujarat",
            "Haryana",
            "Kerala",
            "Ladakh",
            "Tamil Nadu",
            "Telangana",
            "West Bengal"
           ],
           "xaxis": "x",
           "y": [
            3,
            2,
            2,
            2,
            2,
            2,
            1,
            1,
            1,
            1,
            1,
            1,
            1
           ],
           "yaxis": "y"
          },
          {
           "alignmentgroup": "True",
           "customdata": [
            [
             184,
             8,
             "Contact,Investigation in Progress"
            ],
            [
             17,
             8,
             "Contact,Investigation in Progress"
            ]
           ],
           "hovertemplate": "keys=%{customdata[2]}<br>week_year=2020, Week 11<br>detectedstate=%{x}<br>counts=%{y}<br>total_ct=%{customdata[0]}<br>total_ct_daily=%{customdata[1]}<extra></extra>",
           "ids": [
            5,
            3
           ],
           "legendgroup": "Contact,Investigation in Progress",
           "marker": {
            "color": "#19d3f3"
           },
           "name": "Contact,Investigation in Progress",
           "offsetgroup": "Contact,Investigation in Progress",
           "orientation": "v",
           "showlegend": true,
           "textposition": "auto",
           "type": "bar",
           "x": [
            "Punjab",
            "Ladakh"
           ],
           "xaxis": "x",
           "y": [
            5,
            3
           ],
           "yaxis": "y"
          },
          {
           "alignmentgroup": "True",
           "customdata": [
            [
             969,
             9,
             "Govt Staff"
            ],
            [
             1510,
             9,
             "Govt Staff"
            ],
            [
             258,
             9,
             "Govt Staff"
            ],
            [
             17,
             9,
             "Govt Staff"
            ],
            [
             657,
             9,
             "Govt Staff"
            ]
           ],
           "hovertemplate": "keys=%{customdata[2]}<br>week_year=2020, Week 11<br>detectedstate=%{x}<br>counts=%{y}<br>total_ct=%{customdata[0]}<br>total_ct_daily=%{customdata[1]}<extra></extra>",
           "ids": [
            5,
            1,
            1,
            1,
            1
           ],
           "legendgroup": "Govt Staff",
           "marker": {
            "color": "#B6E880"
           },
           "name": "Govt Staff",
           "offsetgroup": "Govt Staff",
           "orientation": "v",
           "showlegend": true,
           "textposition": "auto",
           "type": "bar",
           "x": [
            "Rajasthan",
            "Delhi",
            "Karnataka",
            "Ladakh",
            "Uttar Pradesh"
           ],
           "xaxis": "x",
           "y": [
            5,
            1,
            1,
            1,
            1
           ],
           "yaxis": "y"
          },
          {
           "alignmentgroup": "True",
           "customdata": [
            [
             969,
             5,
             "Contact,Govt Staff"
            ]
           ],
           "hovertemplate": "keys=%{customdata[2]}<br>week_year=2020, Week 11<br>detectedstate=%{x}<br>counts=%{y}<br>total_ct=%{customdata[0]}<br>total_ct_daily=%{customdata[1]}<extra></extra>",
           "ids": [
            5
           ],
           "legendgroup": "Contact,Govt Staff",
           "marker": {
            "color": "#EF553B"
           },
           "name": "Contact,Govt Staff",
           "offsetgroup": "Contact,Govt Staff",
           "orientation": "v",
           "showlegend": true,
           "textposition": "auto",
           "type": "bar",
           "x": [
            "Rajasthan"
           ],
           "xaxis": "x",
           "y": [
            5
           ],
           "yaxis": "y"
          },
          {
           "alignmentgroup": "True",
           "customdata": [
            [
             617,
             1,
             "No Travel History,Travel"
            ]
           ],
           "hovertemplate": "keys=%{customdata[2]}<br>week_year=2020, Week 11<br>detectedstate=%{x}<br>counts=%{y}<br>total_ct=%{customdata[0]}<br>total_ct_daily=%{customdata[1]}<extra></extra>",
           "ids": [
            1
           ],
           "legendgroup": "No Travel History,Travel",
           "marker": {
            "color": "#00cc96"
           },
           "name": "No Travel History,Travel",
           "offsetgroup": "No Travel History,Travel",
           "orientation": "v",
           "showlegend": true,
           "textposition": "auto",
           "type": "bar",
           "x": [
            "Gujarat"
           ],
           "xaxis": "x",
           "y": [
            1
           ],
           "yaxis": "y"
          },
          {
           "alignmentgroup": "True",
           "customdata": [
            [
             386,
             2,
             "Govt Staff,Travel"
            ],
            [
             969,
             2,
             "Govt Staff,Travel"
            ]
           ],
           "hovertemplate": "keys=%{customdata[2]}<br>week_year=2020, Week 11<br>detectedstate=%{x}<br>counts=%{y}<br>total_ct=%{customdata[0]}<br>total_ct_daily=%{customdata[1]}<extra></extra>",
           "ids": [
            1,
            1
           ],
           "legendgroup": "Govt Staff,Travel",
           "marker": {
            "color": "#ab63fa"
           },
           "name": "Govt Staff,Travel",
           "offsetgroup": "Govt Staff,Travel",
           "orientation": "v",
           "showlegend": true,
           "textposition": "auto",
           "type": "bar",
           "x": [
            "Kerala",
            "Rajasthan"
           ],
           "xaxis": "x",
           "y": [
            1,
            1
           ],
           "yaxis": "y"
          },
          {
           "alignmentgroup": "True",
           "customdata": [
            [
             184,
             1,
             "Family"
            ]
           ],
           "hovertemplate": "keys=%{customdata[2]}<br>week_year=2020, Week 11<br>detectedstate=%{x}<br>counts=%{y}<br>total_ct=%{customdata[0]}<br>total_ct_daily=%{customdata[1]}<extra></extra>",
           "ids": [
            1
           ],
           "legendgroup": "Family",
           "marker": {
            "color": "#FF97FF"
           },
           "name": "Family",
           "offsetgroup": "Family",
           "orientation": "v",
           "showlegend": true,
           "textposition": "auto",
           "type": "bar",
           "x": [
            "Punjab"
           ],
           "xaxis": "x",
           "y": [
            1
           ],
           "yaxis": "y"
          }
         ],
         "name": "2020, Week 11"
        },
        {
         "data": [
          {
           "alignmentgroup": "True",
           "customdata": [
            [
             2455,
             29,
             "International Travel"
            ],
            [
             386,
             29,
             "International Travel"
            ],
            [
             592,
             29,
             "International Travel"
            ],
            [
             969,
             29,
             "International Travel"
            ],
            [
             258,
             29,
             "International Travel"
            ],
            [
             473,
             29,
             "International Travel"
            ],
            [
             1510,
             29,
             "International Travel"
            ],
            [
             278,
             29,
             "International Travel"
            ],
            [
             17,
             29,
             "International Travel"
            ],
            [
             184,
             29,
             "International Travel"
            ],
            [
             35,
             29,
             "International Travel"
            ]
           ],
           "hovertemplate": "keys=%{customdata[2]}<br>week_year=2020, Week 10<br>detectedstate=%{x}<br>counts=%{y}<br>total_ct=%{customdata[0]}<br>total_ct_daily=%{customdata[1]}<extra></extra>",
           "ids": [
            12,
            6,
            2,
            2,
            1,
            1,
            1,
            1,
            1,
            1,
            1
           ],
           "legendgroup": "International Travel",
           "marker": {
            "color": "#00cc96"
           },
           "name": "International Travel",
           "offsetgroup": "International Travel",
           "orientation": "v",
           "showlegend": true,
           "textposition": "auto",
           "type": "bar",
           "x": [
            "Maharashtra",
            "Kerala",
            "Telangana",
            "Rajasthan",
            "Karnataka",
            "Andhra Pradesh",
            "Delhi",
            "Jammu and Kashmir",
            "Ladakh",
            "Punjab",
            "Uttarakhand"
           ],
           "xaxis": "x",
           "y": [
            12,
            6,
            2,
            2,
            1,
            1,
            1,
            1,
            1,
            1,
            1
           ],
           "yaxis": "y"
          },
          {
           "alignmentgroup": "True",
           "customdata": [
            [
             386,
             19,
             "Contact"
            ],
            [
             2455,
             19,
             "Contact"
            ],
            [
             657,
             19,
             "Contact"
            ],
            [
             258,
             19,
             "Contact"
            ],
            [
             1510,
             19,
             "Contact"
            ],
            [
             278,
             19,
             "Contact"
            ]
           ],
           "hovertemplate": "keys=%{customdata[2]}<br>week_year=2020, Week 10<br>detectedstate=%{x}<br>counts=%{y}<br>total_ct=%{customdata[0]}<br>total_ct_daily=%{customdata[1]}<extra></extra>",
           "ids": [
            8,
            4,
            3,
            2,
            1,
            1
           ],
           "legendgroup": "Contact",
           "marker": {
            "color": "#ab63fa"
           },
           "name": "Contact",
           "offsetgroup": "Contact",
           "orientation": "v",
           "showlegend": true,
           "textposition": "auto",
           "type": "bar",
           "x": [
            "Kerala",
            "Maharashtra",
            "Uttar Pradesh",
            "Karnataka",
            "Delhi",
            "Jammu and Kashmir"
           ],
           "xaxis": "x",
           "y": [
            8,
            4,
            3,
            2,
            1,
            1
           ],
           "yaxis": "y"
          },
          {
           "alignmentgroup": "True",
           "customdata": [
            [
             2455,
             20,
             "Contact,Travel"
            ],
            [
             258,
             20,
             "Contact,Travel"
            ],
            [
             657,
             20,
             "Contact,Travel"
            ],
            [
             1510,
             20,
             "Contact,Travel"
            ]
           ],
           "hovertemplate": "keys=%{customdata[2]}<br>week_year=2020, Week 10<br>detectedstate=%{x}<br>counts=%{y}<br>total_ct=%{customdata[0]}<br>total_ct_daily=%{customdata[1]}<extra></extra>",
           "ids": [
            15,
            3,
            1,
            1
           ],
           "legendgroup": "Contact,Travel",
           "marker": {
            "color": "#FFA15A"
           },
           "name": "Contact,Travel",
           "offsetgroup": "Contact,Travel",
           "orientation": "v",
           "showlegend": true,
           "textposition": "auto",
           "type": "bar",
           "x": [
            "Maharashtra",
            "Karnataka",
            "Uttar Pradesh",
            "Delhi"
           ],
           "xaxis": "x",
           "y": [
            15,
            3,
            1,
            1
           ],
           "yaxis": "y"
          },
          {
           "alignmentgroup": "True",
           "customdata": [
            [
             1510,
             1,
             "No Travel History,Travel"
            ]
           ],
           "hovertemplate": "keys=%{customdata[2]}<br>week_year=2020, Week 10<br>detectedstate=%{x}<br>counts=%{y}<br>total_ct=%{customdata[0]}<br>total_ct_daily=%{customdata[1]}<extra></extra>",
           "ids": [
            1
           ],
           "legendgroup": "No Travel History,Travel",
           "marker": {
            "color": "#00cc96"
           },
           "name": "No Travel History,Travel",
           "offsetgroup": "No Travel History,Travel",
           "orientation": "v",
           "showlegend": true,
           "textposition": "auto",
           "type": "bar",
           "x": [
            "Delhi"
           ],
           "xaxis": "x",
           "y": [
            1
           ],
           "yaxis": "y"
          },
          {
           "alignmentgroup": "True",
           "customdata": [
            [
             386,
             3,
             "Govt Staff,Travel"
            ],
            [
             2455,
             3,
             "Govt Staff,Travel"
            ],
            [
             657,
             3,
             "Govt Staff,Travel"
            ]
           ],
           "hovertemplate": "keys=%{customdata[2]}<br>week_year=2020, Week 10<br>detectedstate=%{x}<br>counts=%{y}<br>total_ct=%{customdata[0]}<br>total_ct_daily=%{customdata[1]}<extra></extra>",
           "ids": [
            1,
            1,
            1
           ],
           "legendgroup": "Govt Staff,Travel",
           "marker": {
            "color": "#ab63fa"
           },
           "name": "Govt Staff,Travel",
           "offsetgroup": "Govt Staff,Travel",
           "orientation": "v",
           "showlegend": true,
           "textposition": "auto",
           "type": "bar",
           "x": [
            "Kerala",
            "Maharashtra",
            "Uttar Pradesh"
           ],
           "xaxis": "x",
           "y": [
            1,
            1,
            1
           ],
           "yaxis": "y"
          },
          {
           "alignmentgroup": "True",
           "customdata": [
            [
             386,
             1,
             "Family,Travel"
            ]
           ],
           "hovertemplate": "keys=%{customdata[2]}<br>week_year=2020, Week 10<br>detectedstate=%{x}<br>counts=%{y}<br>total_ct=%{customdata[0]}<br>total_ct_daily=%{customdata[1]}<extra></extra>",
           "ids": [
            1
           ],
           "legendgroup": "Family,Travel",
           "marker": {
            "color": "#636efa"
           },
           "name": "Family,Travel",
           "offsetgroup": "Family,Travel",
           "orientation": "v",
           "showlegend": true,
           "textposition": "auto",
           "type": "bar",
           "x": [
            "Kerala"
           ],
           "xaxis": "x",
           "y": [
            1
           ],
           "yaxis": "y"
          }
         ],
         "name": "2020, Week 10"
        },
        {
         "data": [
          {
           "alignmentgroup": "True",
           "customdata": [
            [
             17,
             1,
             "NA"
            ]
           ],
           "hovertemplate": "keys=%{customdata[2]}<br>week_year=2020, Week 09<br>detectedstate=%{x}<br>counts=%{y}<br>total_ct=%{customdata[0]}<br>total_ct_daily=%{customdata[1]}<extra></extra>",
           "ids": [
            1
           ],
           "legendgroup": "NA",
           "marker": {
            "color": "#636efa"
           },
           "name": "NA",
           "offsetgroup": "NA",
           "orientation": "v",
           "showlegend": true,
           "textposition": "auto",
           "type": "bar",
           "x": [
            "Ladakh"
           ],
           "xaxis": "x",
           "y": [
            1
           ],
           "yaxis": "y"
          },
          {
           "alignmentgroup": "True",
           "customdata": [
            [
             198,
             25,
             "International Travel"
            ],
            [
             1510,
             25,
             "International Travel"
            ],
            [
             386,
             25,
             "International Travel"
            ],
            [
             17,
             25,
             "International Travel"
            ],
            [
             969,
             25,
             "International Travel"
            ],
            [
             1204,
             25,
             "International Travel"
            ],
            [
             592,
             25,
             "International Travel"
            ],
            [
             657,
             25,
             "International Travel"
            ]
           ],
           "hovertemplate": "keys=%{customdata[2]}<br>week_year=2020, Week 09<br>detectedstate=%{x}<br>counts=%{y}<br>total_ct=%{customdata[0]}<br>total_ct_daily=%{customdata[1]}<extra></extra>",
           "ids": [
            14,
            3,
            3,
            1,
            1,
            1,
            1,
            1
           ],
           "legendgroup": "International Travel",
           "marker": {
            "color": "#00cc96"
           },
           "name": "International Travel",
           "offsetgroup": "International Travel",
           "orientation": "v",
           "showlegend": true,
           "textposition": "auto",
           "type": "bar",
           "x": [
            "Haryana",
            "Delhi",
            "Kerala",
            "Ladakh",
            "Rajasthan",
            "Tamil Nadu",
            "Telangana",
            "Uttar Pradesh"
           ],
           "xaxis": "x",
           "y": [
            14,
            3,
            3,
            1,
            1,
            1,
            1,
            1
           ],
           "yaxis": "y"
          },
          {
           "alignmentgroup": "True",
           "customdata": [
            [
             657,
             8,
             "Contact"
            ],
            [
             386,
             8,
             "Contact"
            ]
           ],
           "hovertemplate": "keys=%{customdata[2]}<br>week_year=2020, Week 09<br>detectedstate=%{x}<br>counts=%{y}<br>total_ct=%{customdata[0]}<br>total_ct_daily=%{customdata[1]}<extra></extra>",
           "ids": [
            6,
            2
           ],
           "legendgroup": "Contact",
           "marker": {
            "color": "#ab63fa"
           },
           "name": "Contact",
           "offsetgroup": "Contact",
           "orientation": "v",
           "showlegend": true,
           "textposition": "auto",
           "type": "bar",
           "x": [
            "Uttar Pradesh",
            "Kerala"
           ],
           "xaxis": "x",
           "y": [
            6,
            2
           ],
           "yaxis": "y"
          },
          {
           "alignmentgroup": "True",
           "customdata": [
            [
             969,
             1,
             "Contact,Travel"
            ]
           ],
           "hovertemplate": "keys=%{customdata[2]}<br>week_year=2020, Week 09<br>detectedstate=%{x}<br>counts=%{y}<br>total_ct=%{customdata[0]}<br>total_ct_daily=%{customdata[1]}<extra></extra>",
           "ids": [
            1
           ],
           "legendgroup": "Contact,Travel",
           "marker": {
            "color": "#FFA15A"
           },
           "name": "Contact,Travel",
           "offsetgroup": "Contact,Travel",
           "orientation": "v",
           "showlegend": true,
           "textposition": "auto",
           "type": "bar",
           "x": [
            "Rajasthan"
           ],
           "xaxis": "x",
           "y": [
            1
           ],
           "yaxis": "y"
          },
          {
           "alignmentgroup": "True",
           "customdata": [
            [
             657,
             1,
             "Domestic Travel"
            ]
           ],
           "hovertemplate": "keys=%{customdata[2]}<br>week_year=2020, Week 09<br>detectedstate=%{x}<br>counts=%{y}<br>total_ct=%{customdata[0]}<br>total_ct_daily=%{customdata[1]}<extra></extra>",
           "ids": [
            1
           ],
           "legendgroup": "Domestic Travel",
           "marker": {
            "color": "#636efa"
           },
           "name": "Domestic Travel",
           "offsetgroup": "Domestic Travel",
           "orientation": "v",
           "showlegend": true,
           "textposition": "auto",
           "type": "bar",
           "x": [
            "Uttar Pradesh"
           ],
           "xaxis": "x",
           "y": [
            1
           ],
           "yaxis": "y"
          }
         ],
         "name": "2020, Week 09"
        },
        {
         "data": [
          {
           "alignmentgroup": "True",
           "customdata": [
            [
             386,
             2,
             "International Travel"
            ]
           ],
           "hovertemplate": "keys=%{customdata[2]}<br>week_year=2020, Week 04<br>detectedstate=%{x}<br>counts=%{y}<br>total_ct=%{customdata[0]}<br>total_ct_daily=%{customdata[1]}<extra></extra>",
           "ids": [
            2
           ],
           "legendgroup": "International Travel",
           "marker": {
            "color": "#00cc96"
           },
           "name": "International Travel",
           "offsetgroup": "International Travel",
           "orientation": "v",
           "showlegend": true,
           "textposition": "auto",
           "type": "bar",
           "x": [
            "Kerala"
           ],
           "xaxis": "x",
           "y": [
            2
           ],
           "yaxis": "y"
          }
         ],
         "name": "2020, Week 04"
        },
        {
         "data": [
          {
           "alignmentgroup": "True",
           "customdata": [
            [
             386,
             1,
             "International Travel"
            ]
           ],
           "hovertemplate": "keys=%{customdata[2]}<br>week_year=2020, Week 05<br>detectedstate=%{x}<br>counts=%{y}<br>total_ct=%{customdata[0]}<br>total_ct_daily=%{customdata[1]}<extra></extra>",
           "ids": [
            1
           ],
           "legendgroup": "International Travel",
           "marker": {
            "color": "#00cc96"
           },
           "name": "International Travel",
           "offsetgroup": "International Travel",
           "orientation": "v",
           "showlegend": true,
           "textposition": "auto",
           "type": "bar",
           "x": [
            "Kerala"
           ],
           "xaxis": "x",
           "y": [
            1
           ],
           "yaxis": "y"
          }
         ],
         "name": "2020, Week 05"
        }
       ],
       "layout": {
        "autosize": false,
        "barmode": "relative",
        "height": 700,
        "legend": {
         "title": {
          "text": "keys"
         },
         "tracegroupgap": 0
        },
        "margin": {
         "t": 60
        },
        "sliders": [
         {
          "active": 0,
          "currentvalue": {
           "prefix": "week_year="
          },
          "len": 0.9,
          "pad": {
           "b": 10,
           "t": 60
          },
          "steps": [
           {
            "args": [
             [
              "2020, Week 14"
             ],
             {
              "frame": {
               "duration": 0,
               "redraw": true
              },
              "fromcurrent": true,
              "mode": "immediate",
              "transition": {
               "duration": 0,
               "easing": "linear"
              }
             }
            ],
            "label": "2020, Week 14",
            "method": "animate"
           },
           {
            "args": [
             [
              "2020, Week 13"
             ],
             {
              "frame": {
               "duration": 0,
               "redraw": true
              },
              "fromcurrent": true,
              "mode": "immediate",
              "transition": {
               "duration": 0,
               "easing": "linear"
              }
             }
            ],
            "label": "2020, Week 13",
            "method": "animate"
           },
           {
            "args": [
             [
              "2020, Week 15"
             ],
             {
              "frame": {
               "duration": 0,
               "redraw": true
              },
              "fromcurrent": true,
              "mode": "immediate",
              "transition": {
               "duration": 0,
               "easing": "linear"
              }
             }
            ],
            "label": "2020, Week 15",
            "method": "animate"
           },
           {
            "args": [
             [
              "2020, Week 12"
             ],
             {
              "frame": {
               "duration": 0,
               "redraw": true
              },
              "fromcurrent": true,
              "mode": "immediate",
              "transition": {
               "duration": 0,
               "easing": "linear"
              }
             }
            ],
            "label": "2020, Week 12",
            "method": "animate"
           },
           {
            "args": [
             [
              "2020, Week 11"
             ],
             {
              "frame": {
               "duration": 0,
               "redraw": true
              },
              "fromcurrent": true,
              "mode": "immediate",
              "transition": {
               "duration": 0,
               "easing": "linear"
              }
             }
            ],
            "label": "2020, Week 11",
            "method": "animate"
           },
           {
            "args": [
             [
              "2020, Week 10"
             ],
             {
              "frame": {
               "duration": 0,
               "redraw": true
              },
              "fromcurrent": true,
              "mode": "immediate",
              "transition": {
               "duration": 0,
               "easing": "linear"
              }
             }
            ],
            "label": "2020, Week 10",
            "method": "animate"
           },
           {
            "args": [
             [
              "2020, Week 09"
             ],
             {
              "frame": {
               "duration": 0,
               "redraw": true
              },
              "fromcurrent": true,
              "mode": "immediate",
              "transition": {
               "duration": 0,
               "easing": "linear"
              }
             }
            ],
            "label": "2020, Week 09",
            "method": "animate"
           },
           {
            "args": [
             [
              "2020, Week 04"
             ],
             {
              "frame": {
               "duration": 0,
               "redraw": true
              },
              "fromcurrent": true,
              "mode": "immediate",
              "transition": {
               "duration": 0,
               "easing": "linear"
              }
             }
            ],
            "label": "2020, Week 04",
            "method": "animate"
           },
           {
            "args": [
             [
              "2020, Week 05"
             ],
             {
              "frame": {
               "duration": 0,
               "redraw": true
              },
              "fromcurrent": true,
              "mode": "immediate",
              "transition": {
               "duration": 0,
               "easing": "linear"
              }
             }
            ],
            "label": "2020, Week 05",
            "method": "animate"
           }
          ],
          "x": 0.1,
          "xanchor": "left",
          "y": 0,
          "yanchor": "top"
         }
        ],
        "template": {
         "data": {
          "bar": [
           {
            "error_x": {
             "color": "#2a3f5f"
            },
            "error_y": {
             "color": "#2a3f5f"
            },
            "marker": {
             "line": {
              "color": "#E5ECF6",
              "width": 0.5
             }
            },
            "type": "bar"
           }
          ],
          "barpolar": [
           {
            "marker": {
             "line": {
              "color": "#E5ECF6",
              "width": 0.5
             }
            },
            "type": "barpolar"
           }
          ],
          "carpet": [
           {
            "aaxis": {
             "endlinecolor": "#2a3f5f",
             "gridcolor": "white",
             "linecolor": "white",
             "minorgridcolor": "white",
             "startlinecolor": "#2a3f5f"
            },
            "baxis": {
             "endlinecolor": "#2a3f5f",
             "gridcolor": "white",
             "linecolor": "white",
             "minorgridcolor": "white",
             "startlinecolor": "#2a3f5f"
            },
            "type": "carpet"
           }
          ],
          "choropleth": [
           {
            "colorbar": {
             "outlinewidth": 0,
             "ticks": ""
            },
            "type": "choropleth"
           }
          ],
          "contour": [
           {
            "colorbar": {
             "outlinewidth": 0,
             "ticks": ""
            },
            "colorscale": [
             [
              0,
              "#0d0887"
             ],
             [
              0.1111111111111111,
              "#46039f"
             ],
             [
              0.2222222222222222,
              "#7201a8"
             ],
             [
              0.3333333333333333,
              "#9c179e"
             ],
             [
              0.4444444444444444,
              "#bd3786"
             ],
             [
              0.5555555555555556,
              "#d8576b"
             ],
             [
              0.6666666666666666,
              "#ed7953"
             ],
             [
              0.7777777777777778,
              "#fb9f3a"
             ],
             [
              0.8888888888888888,
              "#fdca26"
             ],
             [
              1,
              "#f0f921"
             ]
            ],
            "type": "contour"
           }
          ],
          "contourcarpet": [
           {
            "colorbar": {
             "outlinewidth": 0,
             "ticks": ""
            },
            "type": "contourcarpet"
           }
          ],
          "heatmap": [
           {
            "colorbar": {
             "outlinewidth": 0,
             "ticks": ""
            },
            "colorscale": [
             [
              0,
              "#0d0887"
             ],
             [
              0.1111111111111111,
              "#46039f"
             ],
             [
              0.2222222222222222,
              "#7201a8"
             ],
             [
              0.3333333333333333,
              "#9c179e"
             ],
             [
              0.4444444444444444,
              "#bd3786"
             ],
             [
              0.5555555555555556,
              "#d8576b"
             ],
             [
              0.6666666666666666,
              "#ed7953"
             ],
             [
              0.7777777777777778,
              "#fb9f3a"
             ],
             [
              0.8888888888888888,
              "#fdca26"
             ],
             [
              1,
              "#f0f921"
             ]
            ],
            "type": "heatmap"
           }
          ],
          "heatmapgl": [
           {
            "colorbar": {
             "outlinewidth": 0,
             "ticks": ""
            },
            "colorscale": [
             [
              0,
              "#0d0887"
             ],
             [
              0.1111111111111111,
              "#46039f"
             ],
             [
              0.2222222222222222,
              "#7201a8"
             ],
             [
              0.3333333333333333,
              "#9c179e"
             ],
             [
              0.4444444444444444,
              "#bd3786"
             ],
             [
              0.5555555555555556,
              "#d8576b"
             ],
             [
              0.6666666666666666,
              "#ed7953"
             ],
             [
              0.7777777777777778,
              "#fb9f3a"
             ],
             [
              0.8888888888888888,
              "#fdca26"
             ],
             [
              1,
              "#f0f921"
             ]
            ],
            "type": "heatmapgl"
           }
          ],
          "histogram": [
           {
            "marker": {
             "colorbar": {
              "outlinewidth": 0,
              "ticks": ""
             }
            },
            "type": "histogram"
           }
          ],
          "histogram2d": [
           {
            "colorbar": {
             "outlinewidth": 0,
             "ticks": ""
            },
            "colorscale": [
             [
              0,
              "#0d0887"
             ],
             [
              0.1111111111111111,
              "#46039f"
             ],
             [
              0.2222222222222222,
              "#7201a8"
             ],
             [
              0.3333333333333333,
              "#9c179e"
             ],
             [
              0.4444444444444444,
              "#bd3786"
             ],
             [
              0.5555555555555556,
              "#d8576b"
             ],
             [
              0.6666666666666666,
              "#ed7953"
             ],
             [
              0.7777777777777778,
              "#fb9f3a"
             ],
             [
              0.8888888888888888,
              "#fdca26"
             ],
             [
              1,
              "#f0f921"
             ]
            ],
            "type": "histogram2d"
           }
          ],
          "histogram2dcontour": [
           {
            "colorbar": {
             "outlinewidth": 0,
             "ticks": ""
            },
            "colorscale": [
             [
              0,
              "#0d0887"
             ],
             [
              0.1111111111111111,
              "#46039f"
             ],
             [
              0.2222222222222222,
              "#7201a8"
             ],
             [
              0.3333333333333333,
              "#9c179e"
             ],
             [
              0.4444444444444444,
              "#bd3786"
             ],
             [
              0.5555555555555556,
              "#d8576b"
             ],
             [
              0.6666666666666666,
              "#ed7953"
             ],
             [
              0.7777777777777778,
              "#fb9f3a"
             ],
             [
              0.8888888888888888,
              "#fdca26"
             ],
             [
              1,
              "#f0f921"
             ]
            ],
            "type": "histogram2dcontour"
           }
          ],
          "mesh3d": [
           {
            "colorbar": {
             "outlinewidth": 0,
             "ticks": ""
            },
            "type": "mesh3d"
           }
          ],
          "parcoords": [
           {
            "line": {
             "colorbar": {
              "outlinewidth": 0,
              "ticks": ""
             }
            },
            "type": "parcoords"
           }
          ],
          "pie": [
           {
            "automargin": true,
            "type": "pie"
           }
          ],
          "scatter": [
           {
            "marker": {
             "colorbar": {
              "outlinewidth": 0,
              "ticks": ""
             }
            },
            "type": "scatter"
           }
          ],
          "scatter3d": [
           {
            "line": {
             "colorbar": {
              "outlinewidth": 0,
              "ticks": ""
             }
            },
            "marker": {
             "colorbar": {
              "outlinewidth": 0,
              "ticks": ""
             }
            },
            "type": "scatter3d"
           }
          ],
          "scattercarpet": [
           {
            "marker": {
             "colorbar": {
              "outlinewidth": 0,
              "ticks": ""
             }
            },
            "type": "scattercarpet"
           }
          ],
          "scattergeo": [
           {
            "marker": {
             "colorbar": {
              "outlinewidth": 0,
              "ticks": ""
             }
            },
            "type": "scattergeo"
           }
          ],
          "scattergl": [
           {
            "marker": {
             "colorbar": {
              "outlinewidth": 0,
              "ticks": ""
             }
            },
            "type": "scattergl"
           }
          ],
          "scattermapbox": [
           {
            "marker": {
             "colorbar": {
              "outlinewidth": 0,
              "ticks": ""
             }
            },
            "type": "scattermapbox"
           }
          ],
          "scatterpolar": [
           {
            "marker": {
             "colorbar": {
              "outlinewidth": 0,
              "ticks": ""
             }
            },
            "type": "scatterpolar"
           }
          ],
          "scatterpolargl": [
           {
            "marker": {
             "colorbar": {
              "outlinewidth": 0,
              "ticks": ""
             }
            },
            "type": "scatterpolargl"
           }
          ],
          "scatterternary": [
           {
            "marker": {
             "colorbar": {
              "outlinewidth": 0,
              "ticks": ""
             }
            },
            "type": "scatterternary"
           }
          ],
          "surface": [
           {
            "colorbar": {
             "outlinewidth": 0,
             "ticks": ""
            },
            "colorscale": [
             [
              0,
              "#0d0887"
             ],
             [
              0.1111111111111111,
              "#46039f"
             ],
             [
              0.2222222222222222,
              "#7201a8"
             ],
             [
              0.3333333333333333,
              "#9c179e"
             ],
             [
              0.4444444444444444,
              "#bd3786"
             ],
             [
              0.5555555555555556,
              "#d8576b"
             ],
             [
              0.6666666666666666,
              "#ed7953"
             ],
             [
              0.7777777777777778,
              "#fb9f3a"
             ],
             [
              0.8888888888888888,
              "#fdca26"
             ],
             [
              1,
              "#f0f921"
             ]
            ],
            "type": "surface"
           }
          ],
          "table": [
           {
            "cells": {
             "fill": {
              "color": "#EBF0F8"
             },
             "line": {
              "color": "white"
             }
            },
            "header": {
             "fill": {
              "color": "#C8D4E3"
             },
             "line": {
              "color": "white"
             }
            },
            "type": "table"
           }
          ]
         },
         "layout": {
          "annotationdefaults": {
           "arrowcolor": "#2a3f5f",
           "arrowhead": 0,
           "arrowwidth": 1
          },
          "coloraxis": {
           "colorbar": {
            "outlinewidth": 0,
            "ticks": ""
           }
          },
          "colorscale": {
           "diverging": [
            [
             0,
             "#8e0152"
            ],
            [
             0.1,
             "#c51b7d"
            ],
            [
             0.2,
             "#de77ae"
            ],
            [
             0.3,
             "#f1b6da"
            ],
            [
             0.4,
             "#fde0ef"
            ],
            [
             0.5,
             "#f7f7f7"
            ],
            [
             0.6,
             "#e6f5d0"
            ],
            [
             0.7,
             "#b8e186"
            ],
            [
             0.8,
             "#7fbc41"
            ],
            [
             0.9,
             "#4d9221"
            ],
            [
             1,
             "#276419"
            ]
           ],
           "sequential": [
            [
             0,
             "#0d0887"
            ],
            [
             0.1111111111111111,
             "#46039f"
            ],
            [
             0.2222222222222222,
             "#7201a8"
            ],
            [
             0.3333333333333333,
             "#9c179e"
            ],
            [
             0.4444444444444444,
             "#bd3786"
            ],
            [
             0.5555555555555556,
             "#d8576b"
            ],
            [
             0.6666666666666666,
             "#ed7953"
            ],
            [
             0.7777777777777778,
             "#fb9f3a"
            ],
            [
             0.8888888888888888,
             "#fdca26"
            ],
            [
             1,
             "#f0f921"
            ]
           ],
           "sequentialminus": [
            [
             0,
             "#0d0887"
            ],
            [
             0.1111111111111111,
             "#46039f"
            ],
            [
             0.2222222222222222,
             "#7201a8"
            ],
            [
             0.3333333333333333,
             "#9c179e"
            ],
            [
             0.4444444444444444,
             "#bd3786"
            ],
            [
             0.5555555555555556,
             "#d8576b"
            ],
            [
             0.6666666666666666,
             "#ed7953"
            ],
            [
             0.7777777777777778,
             "#fb9f3a"
            ],
            [
             0.8888888888888888,
             "#fdca26"
            ],
            [
             1,
             "#f0f921"
            ]
           ]
          },
          "colorway": [
           "#636efa",
           "#EF553B",
           "#00cc96",
           "#ab63fa",
           "#FFA15A",
           "#19d3f3",
           "#FF6692",
           "#B6E880",
           "#FF97FF",
           "#FECB52"
          ],
          "font": {
           "color": "#2a3f5f"
          },
          "geo": {
           "bgcolor": "white",
           "lakecolor": "white",
           "landcolor": "#E5ECF6",
           "showlakes": true,
           "showland": true,
           "subunitcolor": "white"
          },
          "hoverlabel": {
           "align": "left"
          },
          "hovermode": "closest",
          "mapbox": {
           "style": "light"
          },
          "paper_bgcolor": "white",
          "plot_bgcolor": "#E5ECF6",
          "polar": {
           "angularaxis": {
            "gridcolor": "white",
            "linecolor": "white",
            "ticks": ""
           },
           "bgcolor": "#E5ECF6",
           "radialaxis": {
            "gridcolor": "white",
            "linecolor": "white",
            "ticks": ""
           }
          },
          "scene": {
           "xaxis": {
            "backgroundcolor": "#E5ECF6",
            "gridcolor": "white",
            "gridwidth": 2,
            "linecolor": "white",
            "showbackground": true,
            "ticks": "",
            "zerolinecolor": "white"
           },
           "yaxis": {
            "backgroundcolor": "#E5ECF6",
            "gridcolor": "white",
            "gridwidth": 2,
            "linecolor": "white",
            "showbackground": true,
            "ticks": "",
            "zerolinecolor": "white"
           },
           "zaxis": {
            "backgroundcolor": "#E5ECF6",
            "gridcolor": "white",
            "gridwidth": 2,
            "linecolor": "white",
            "showbackground": true,
            "ticks": "",
            "zerolinecolor": "white"
           }
          },
          "shapedefaults": {
           "line": {
            "color": "#2a3f5f"
           }
          },
          "ternary": {
           "aaxis": {
            "gridcolor": "white",
            "linecolor": "white",
            "ticks": ""
           },
           "baxis": {
            "gridcolor": "white",
            "linecolor": "white",
            "ticks": ""
           },
           "bgcolor": "#E5ECF6",
           "caxis": {
            "gridcolor": "white",
            "linecolor": "white",
            "ticks": ""
           }
          },
          "title": {
           "x": 0.05
          },
          "xaxis": {
           "automargin": true,
           "gridcolor": "white",
           "linecolor": "white",
           "ticks": "",
           "title": {
            "standoff": 15
           },
           "zerolinecolor": "white",
           "zerolinewidth": 2
          },
          "yaxis": {
           "automargin": true,
           "gridcolor": "white",
           "linecolor": "white",
           "ticks": "",
           "title": {
            "standoff": 15
           },
           "zerolinecolor": "white",
           "zerolinewidth": 2
          }
         }
        },
        "title": {
         "text": "Total Cases:11040"
        },
        "updatemenus": [
         {
          "buttons": [
           {
            "args": [
             null,
             {
              "frame": {
               "duration": 500,
               "redraw": true
              },
              "fromcurrent": true,
              "mode": "immediate",
              "transition": {
               "duration": 500,
               "easing": "linear"
              }
             }
            ],
            "label": "&#9654;",
            "method": "animate"
           },
           {
            "args": [
             [
              null
             ],
             {
              "frame": {
               "duration": 0,
               "redraw": true
              },
              "fromcurrent": true,
              "mode": "immediate",
              "transition": {
               "duration": 0,
               "easing": "linear"
              }
             }
            ],
            "label": "&#9724;",
            "method": "animate"
           }
          ],
          "direction": "left",
          "pad": {
           "r": 10,
           "t": 70
          },
          "showactive": false,
          "type": "buttons",
          "x": 0.1,
          "xanchor": "right",
          "y": 0,
          "yanchor": "top"
         }
        ],
        "width": 1500,
        "xaxis": {
         "anchor": "y",
         "domain": [
          0,
          1
         ],
         "tickmode": "linear",
         "title": {
          "text": "detectedstate"
         }
        },
        "yaxis": {
         "anchor": "x",
         "domain": [
          0,
          1
         ],
         "range": [
          0,
          1600
         ],
         "tickmode": "linear",
         "title": {
          "text": "counts"
         }
        }
       }
      },
      "text/html": [
       "<div>\n",
       "        \n",
       "        \n",
       "            <div id=\"e5f4d454-6552-4b41-9dfe-6965fc6eb309\" class=\"plotly-graph-div\" style=\"height:700px; width:1500px;\"></div>\n",
       "            <script type=\"text/javascript\">\n",
       "                require([\"plotly\"], function(Plotly) {\n",
       "                    window.PLOTLYENV=window.PLOTLYENV || {};\n",
       "                    \n",
       "                if (document.getElementById(\"e5f4d454-6552-4b41-9dfe-6965fc6eb309\")) {\n",
       "                    Plotly.newPlot(\n",
       "                        'e5f4d454-6552-4b41-9dfe-6965fc6eb309',\n",
       "                        [{\"alignmentgroup\": \"True\", \"customdata\": [[2455, 4503, \"NA\"], [1510, 4503, \"NA\"], [969, 4503, \"NA\"], [1204, 4503, \"NA\"], [614, 4503, \"NA\"], [617, 4503, \"NA\"], [592, 4503, \"NA\"], [473, 4503, \"NA\"], [657, 4503, \"NA\"], [278, 4503, \"NA\"], [198, 4503, \"NA\"], [184, 4503, \"NA\"], [190, 4503, \"NA\"], [33, 4503, \"NA\"], [386, 4503, \"NA\"], [258, 4503, \"NA\"], [60, 4503, \"NA\"], [32, 4503, \"NA\"], [35, 4503, \"NA\"], [66, 4503, \"NA\"], [24, 4503, \"NA\"], [21, 4503, \"NA\"], [2, 4503, \"NA\"], [31, 4503, \"NA\"], [1, 4503, \"NA\"], [17, 4503, \"NA\"], [1, 4503, \"NA\"]], \"hovertemplate\": \"keys=%{customdata[2]}<br>week_year=2020, Week 14<br>detectedstate=%{x}<br>counts=%{y}<br>total_ct=%{customdata[0]}<br>total_ct_daily=%{customdata[1]}<extra></extra>\", \"ids\": [1235, 641, 507, 458, 369, 330, 197, 164, 159, 139, 89, 58, 54, 21, 19, 15, 10, 9, 8, 8, 5, 3, 1, 1, 1, 1, 1], \"legendgroup\": \"NA\", \"marker\": {\"color\": \"#636efa\"}, \"name\": \"NA\", \"offsetgroup\": \"NA\", \"orientation\": \"v\", \"showlegend\": true, \"textposition\": \"auto\", \"type\": \"bar\", \"x\": [\"Maharashtra\", \"Delhi\", \"Rajasthan\", \"Tamil Nadu\", \"Madhya Pradesh\", \"Gujarat\", \"Telangana\", \"Andhra Pradesh\", \"Uttar Pradesh\", \"Jammu and Kashmir\", \"Haryana\", \"Punjab\", \"West Bengal\", \"Chhattisgarh\", \"Kerala\", \"Karnataka\", \"Odisha\", \"Himachal Pradesh\", \"Uttarakhand\", \"Bihar\", \"Jharkhand\", \"Chandigarh\", \"Tripura\", \"Assam\", \"Dadra and Nagar Haveli\", \"Ladakh\", \"Nagaland\"], \"xaxis\": \"x\", \"y\": [1235, 641, 507, 458, 369, 330, 197, 164, 159, 139, 89, 58, 54, 21, 19, 15, 10, 9, 8, 8, 5, 3, 1, 1, 1, 1, 1], \"yaxis\": \"y\"}, {\"alignmentgroup\": \"True\", \"customdata\": [[657, 145, \"Domestic Travel Delhi\"], [1204, 145, \"Domestic Travel Delhi\"], [198, 145, \"Domestic Travel Delhi\"], [258, 145, \"Domestic Travel Delhi\"], [1510, 145, \"Domestic Travel Delhi\"], [32, 145, \"Domestic Travel Delhi\"], [969, 145, \"Domestic Travel Delhi\"], [386, 145, \"Domestic Travel Delhi\"], [184, 145, \"Domestic Travel Delhi\"], [617, 145, \"Domestic Travel Delhi\"], [7, 145, \"Domestic Travel Delhi\"], [31, 145, \"Domestic Travel Delhi\"], [35, 145, \"Domestic Travel Delhi\"]], \"hovertemplate\": \"keys=%{customdata[2]}<br>week_year=2020, Week 14<br>detectedstate=%{x}<br>counts=%{y}<br>total_ct=%{customdata[0]}<br>total_ct_daily=%{customdata[1]}<extra></extra>\", \"ids\": [46, 31, 16, 13, 10, 9, 6, 4, 3, 3, 2, 1, 1], \"legendgroup\": \"Domestic Travel Delhi\", \"marker\": {\"color\": \"#EF553B\"}, \"name\": \"Domestic Travel Delhi\", \"offsetgroup\": \"Domestic Travel Delhi\", \"orientation\": \"v\", \"showlegend\": true, \"textposition\": \"auto\", \"type\": \"bar\", \"x\": [\"Uttar Pradesh\", \"Tamil Nadu\", \"Haryana\", \"Karnataka\", \"Delhi\", \"Himachal Pradesh\", \"Rajasthan\", \"Kerala\", \"Punjab\", \"Gujarat\", \"Puducherry\", \"Assam\", \"Uttarakhand\"], \"xaxis\": \"x\", \"y\": [46, 31, 16, 13, 10, 9, 6, 4, 3, 3, 2, 1, 1], \"yaxis\": \"y\"}, {\"alignmentgroup\": \"True\", \"customdata\": [[386, 36, \"International Travel\"], [617, 36, \"International Travel\"], [184, 36, \"International Travel\"], [66, 36, \"International Travel\"], [258, 36, \"International Travel\"], [60, 36, \"International Travel\"], [2, 36, \"International Travel\"], [31, 36, \"International Travel\"], [11, 36, \"International Travel\"]], \"hovertemplate\": \"keys=%{customdata[2]}<br>week_year=2020, Week 14<br>detectedstate=%{x}<br>counts=%{y}<br>total_ct=%{customdata[0]}<br>total_ct_daily=%{customdata[1]}<extra></extra>\", \"ids\": [17, 6, 3, 3, 2, 2, 1, 1, 1], \"legendgroup\": \"International Travel\", \"marker\": {\"color\": \"#00cc96\"}, \"name\": \"International Travel\", \"offsetgroup\": \"International Travel\", \"orientation\": \"v\", \"showlegend\": true, \"textposition\": \"auto\", \"type\": \"bar\", \"x\": [\"Kerala\", \"Gujarat\", \"Punjab\", \"Bihar\", \"Karnataka\", \"Odisha\", \"Tripura\", \"Assam\", \"Andaman and Nicobar Islands\"], \"xaxis\": \"x\", \"y\": [17, 6, 3, 3, 2, 2, 1, 1, 1], \"yaxis\": \"y\"}, {\"alignmentgroup\": \"True\", \"customdata\": [[617, 202, \"Contact\"], [258, 202, \"Contact\"], [184, 202, \"Contact\"], [969, 202, \"Contact\"], [66, 202, \"Contact\"], [386, 202, \"Contact\"], [24, 202, \"Contact\"], [60, 202, \"Contact\"]], \"hovertemplate\": \"keys=%{customdata[2]}<br>week_year=2020, Week 14<br>detectedstate=%{x}<br>counts=%{y}<br>total_ct=%{customdata[0]}<br>total_ct_daily=%{customdata[1]}<extra></extra>\", \"ids\": [49, 42, 35, 25, 21, 16, 11, 3], \"legendgroup\": \"Contact\", \"marker\": {\"color\": \"#ab63fa\"}, \"name\": \"Contact\", \"offsetgroup\": \"Contact\", \"orientation\": \"v\", \"showlegend\": true, \"textposition\": \"auto\", \"type\": \"bar\", \"x\": [\"Gujarat\", \"Karnataka\", \"Punjab\", \"Rajasthan\", \"Bihar\", \"Kerala\", \"Jharkhand\", \"Odisha\"], \"xaxis\": \"x\", \"y\": [49, 42, 35, 25, 21, 16, 11, 3], \"yaxis\": \"y\"}, {\"alignmentgroup\": \"True\", \"customdata\": [[258, 12, \"Contact,Travel\"], [386, 12, \"Contact,Travel\"], [184, 12, \"Contact,Travel\"]], \"hovertemplate\": \"keys=%{customdata[2]}<br>week_year=2020, Week 14<br>detectedstate=%{x}<br>counts=%{y}<br>total_ct=%{customdata[0]}<br>total_ct_daily=%{customdata[1]}<extra></extra>\", \"ids\": [5, 5, 2], \"legendgroup\": \"Contact,Travel\", \"marker\": {\"color\": \"#FFA15A\"}, \"name\": \"Contact,Travel\", \"offsetgroup\": \"Contact,Travel\", \"orientation\": \"v\", \"showlegend\": true, \"textposition\": \"auto\", \"type\": \"bar\", \"x\": [\"Karnataka\", \"Kerala\", \"Punjab\"], \"xaxis\": \"x\", \"y\": [5, 5, 2], \"yaxis\": \"y\"}, {\"alignmentgroup\": \"True\", \"customdata\": [[1204, 14, \"Contact,Investigation in Progress\"]], \"hovertemplate\": \"keys=%{customdata[2]}<br>week_year=2020, Week 14<br>detectedstate=%{x}<br>counts=%{y}<br>total_ct=%{customdata[0]}<br>total_ct_daily=%{customdata[1]}<extra></extra>\", \"ids\": [14], \"legendgroup\": \"Contact,Investigation in Progress\", \"marker\": {\"color\": \"#19d3f3\"}, \"name\": \"Contact,Investigation in Progress\", \"offsetgroup\": \"Contact,Investigation in Progress\", \"orientation\": \"v\", \"showlegend\": true, \"textposition\": \"auto\", \"type\": \"bar\", \"x\": [\"Tamil Nadu\"], \"xaxis\": \"x\", \"y\": [14], \"yaxis\": \"y\"}, {\"alignmentgroup\": \"True\", \"customdata\": [[258, 4, \"Domestic Travel\"], [184, 4, \"Domestic Travel\"], [1204, 4, \"Domestic Travel\"]], \"hovertemplate\": \"keys=%{customdata[2]}<br>week_year=2020, Week 14<br>detectedstate=%{x}<br>counts=%{y}<br>total_ct=%{customdata[0]}<br>total_ct_daily=%{customdata[1]}<extra></extra>\", \"ids\": [2, 1, 1], \"legendgroup\": \"Domestic Travel\", \"marker\": {\"color\": \"#636efa\"}, \"name\": \"Domestic Travel\", \"offsetgroup\": \"Domestic Travel\", \"orientation\": \"v\", \"showlegend\": true, \"textposition\": \"auto\", \"type\": \"bar\", \"x\": [\"Karnataka\", \"Punjab\", \"Tamil Nadu\"], \"xaxis\": \"x\", \"y\": [2, 1, 1], \"yaxis\": \"y\"}, {\"alignmentgroup\": \"True\", \"customdata\": [[258, 1, \"Contact,Family\"]], \"hovertemplate\": \"keys=%{customdata[2]}<br>week_year=2020, Week 14<br>detectedstate=%{x}<br>counts=%{y}<br>total_ct=%{customdata[0]}<br>total_ct_daily=%{customdata[1]}<extra></extra>\", \"ids\": [1], \"legendgroup\": \"Contact,Family\", \"marker\": {\"color\": \"#FF6692\"}, \"name\": \"Contact,Family\", \"offsetgroup\": \"Contact,Family\", \"orientation\": \"v\", \"showlegend\": true, \"textposition\": \"auto\", \"type\": \"bar\", \"x\": [\"Karnataka\"], \"xaxis\": \"x\", \"y\": [1], \"yaxis\": \"y\"}, {\"alignmentgroup\": \"True\", \"customdata\": [[258, 1, \"Family\"]], \"hovertemplate\": \"keys=%{customdata[2]}<br>week_year=2020, Week 14<br>detectedstate=%{x}<br>counts=%{y}<br>total_ct=%{customdata[0]}<br>total_ct_daily=%{customdata[1]}<extra></extra>\", \"ids\": [1], \"legendgroup\": \"Family\", \"marker\": {\"color\": \"#FF97FF\"}, \"name\": \"Family\", \"offsetgroup\": \"Family\", \"orientation\": \"v\", \"showlegend\": true, \"textposition\": \"auto\", \"type\": \"bar\", \"x\": [\"Karnataka\"], \"xaxis\": \"x\", \"y\": [1], \"yaxis\": \"y\"}],\n",
       "                        {\"autosize\": false, \"barmode\": \"relative\", \"height\": 700, \"legend\": {\"title\": {\"text\": \"keys\"}, \"tracegroupgap\": 0}, \"margin\": {\"t\": 60}, \"sliders\": [{\"active\": 0, \"currentvalue\": {\"prefix\": \"week_year=\"}, \"len\": 0.9, \"pad\": {\"b\": 10, \"t\": 60}, \"steps\": [{\"args\": [[\"2020, Week 14\"], {\"frame\": {\"duration\": 0, \"redraw\": true}, \"fromcurrent\": true, \"mode\": \"immediate\", \"transition\": {\"duration\": 0, \"easing\": \"linear\"}}], \"label\": \"2020, Week 14\", \"method\": \"animate\"}, {\"args\": [[\"2020, Week 13\"], {\"frame\": {\"duration\": 0, \"redraw\": true}, \"fromcurrent\": true, \"mode\": \"immediate\", \"transition\": {\"duration\": 0, \"easing\": \"linear\"}}], \"label\": \"2020, Week 13\", \"method\": \"animate\"}, {\"args\": [[\"2020, Week 15\"], {\"frame\": {\"duration\": 0, \"redraw\": true}, \"fromcurrent\": true, \"mode\": \"immediate\", \"transition\": {\"duration\": 0, \"easing\": \"linear\"}}], \"label\": \"2020, Week 15\", \"method\": \"animate\"}, {\"args\": [[\"2020, Week 12\"], {\"frame\": {\"duration\": 0, \"redraw\": true}, \"fromcurrent\": true, \"mode\": \"immediate\", \"transition\": {\"duration\": 0, \"easing\": \"linear\"}}], \"label\": \"2020, Week 12\", \"method\": \"animate\"}, {\"args\": [[\"2020, Week 11\"], {\"frame\": {\"duration\": 0, \"redraw\": true}, \"fromcurrent\": true, \"mode\": \"immediate\", \"transition\": {\"duration\": 0, \"easing\": \"linear\"}}], \"label\": \"2020, Week 11\", \"method\": \"animate\"}, {\"args\": [[\"2020, Week 10\"], {\"frame\": {\"duration\": 0, \"redraw\": true}, \"fromcurrent\": true, \"mode\": \"immediate\", \"transition\": {\"duration\": 0, \"easing\": \"linear\"}}], \"label\": \"2020, Week 10\", \"method\": \"animate\"}, {\"args\": [[\"2020, Week 09\"], {\"frame\": {\"duration\": 0, \"redraw\": true}, \"fromcurrent\": true, \"mode\": \"immediate\", \"transition\": {\"duration\": 0, \"easing\": \"linear\"}}], \"label\": \"2020, Week 09\", \"method\": \"animate\"}, {\"args\": [[\"2020, Week 04\"], {\"frame\": {\"duration\": 0, \"redraw\": true}, \"fromcurrent\": true, \"mode\": \"immediate\", \"transition\": {\"duration\": 0, \"easing\": \"linear\"}}], \"label\": \"2020, Week 04\", \"method\": \"animate\"}, {\"args\": [[\"2020, Week 05\"], {\"frame\": {\"duration\": 0, \"redraw\": true}, \"fromcurrent\": true, \"mode\": \"immediate\", \"transition\": {\"duration\": 0, \"easing\": \"linear\"}}], \"label\": \"2020, Week 05\", \"method\": \"animate\"}], \"x\": 0.1, \"xanchor\": \"left\", \"y\": 0, \"yanchor\": \"top\"}], \"template\": {\"data\": {\"bar\": [{\"error_x\": {\"color\": \"#2a3f5f\"}, \"error_y\": {\"color\": \"#2a3f5f\"}, \"marker\": {\"line\": {\"color\": \"#E5ECF6\", \"width\": 0.5}}, \"type\": \"bar\"}], \"barpolar\": [{\"marker\": {\"line\": {\"color\": \"#E5ECF6\", \"width\": 0.5}}, \"type\": \"barpolar\"}], \"carpet\": [{\"aaxis\": {\"endlinecolor\": \"#2a3f5f\", \"gridcolor\": \"white\", \"linecolor\": \"white\", \"minorgridcolor\": \"white\", \"startlinecolor\": \"#2a3f5f\"}, \"baxis\": {\"endlinecolor\": \"#2a3f5f\", \"gridcolor\": \"white\", \"linecolor\": \"white\", \"minorgridcolor\": \"white\", \"startlinecolor\": \"#2a3f5f\"}, \"type\": \"carpet\"}], \"choropleth\": [{\"colorbar\": {\"outlinewidth\": 0, \"ticks\": \"\"}, \"type\": \"choropleth\"}], \"contour\": [{\"colorbar\": {\"outlinewidth\": 0, \"ticks\": \"\"}, \"colorscale\": [[0.0, \"#0d0887\"], [0.1111111111111111, \"#46039f\"], [0.2222222222222222, \"#7201a8\"], [0.3333333333333333, \"#9c179e\"], [0.4444444444444444, \"#bd3786\"], [0.5555555555555556, \"#d8576b\"], [0.6666666666666666, \"#ed7953\"], [0.7777777777777778, \"#fb9f3a\"], [0.8888888888888888, \"#fdca26\"], [1.0, \"#f0f921\"]], \"type\": \"contour\"}], \"contourcarpet\": [{\"colorbar\": {\"outlinewidth\": 0, \"ticks\": \"\"}, \"type\": \"contourcarpet\"}], \"heatmap\": [{\"colorbar\": {\"outlinewidth\": 0, \"ticks\": \"\"}, \"colorscale\": [[0.0, \"#0d0887\"], [0.1111111111111111, \"#46039f\"], [0.2222222222222222, \"#7201a8\"], [0.3333333333333333, \"#9c179e\"], [0.4444444444444444, \"#bd3786\"], [0.5555555555555556, \"#d8576b\"], [0.6666666666666666, \"#ed7953\"], [0.7777777777777778, \"#fb9f3a\"], [0.8888888888888888, \"#fdca26\"], [1.0, \"#f0f921\"]], \"type\": \"heatmap\"}], \"heatmapgl\": [{\"colorbar\": {\"outlinewidth\": 0, \"ticks\": \"\"}, \"colorscale\": [[0.0, \"#0d0887\"], [0.1111111111111111, \"#46039f\"], [0.2222222222222222, \"#7201a8\"], [0.3333333333333333, \"#9c179e\"], [0.4444444444444444, \"#bd3786\"], [0.5555555555555556, \"#d8576b\"], [0.6666666666666666, \"#ed7953\"], [0.7777777777777778, \"#fb9f3a\"], [0.8888888888888888, \"#fdca26\"], [1.0, \"#f0f921\"]], \"type\": \"heatmapgl\"}], \"histogram\": [{\"marker\": {\"colorbar\": {\"outlinewidth\": 0, \"ticks\": \"\"}}, \"type\": \"histogram\"}], \"histogram2d\": [{\"colorbar\": {\"outlinewidth\": 0, \"ticks\": \"\"}, \"colorscale\": [[0.0, \"#0d0887\"], [0.1111111111111111, \"#46039f\"], [0.2222222222222222, \"#7201a8\"], [0.3333333333333333, \"#9c179e\"], [0.4444444444444444, \"#bd3786\"], [0.5555555555555556, \"#d8576b\"], [0.6666666666666666, \"#ed7953\"], [0.7777777777777778, \"#fb9f3a\"], [0.8888888888888888, \"#fdca26\"], [1.0, \"#f0f921\"]], \"type\": \"histogram2d\"}], \"histogram2dcontour\": [{\"colorbar\": {\"outlinewidth\": 0, \"ticks\": \"\"}, \"colorscale\": [[0.0, \"#0d0887\"], [0.1111111111111111, \"#46039f\"], [0.2222222222222222, \"#7201a8\"], [0.3333333333333333, \"#9c179e\"], [0.4444444444444444, \"#bd3786\"], [0.5555555555555556, \"#d8576b\"], [0.6666666666666666, \"#ed7953\"], [0.7777777777777778, \"#fb9f3a\"], [0.8888888888888888, \"#fdca26\"], [1.0, \"#f0f921\"]], \"type\": \"histogram2dcontour\"}], \"mesh3d\": [{\"colorbar\": {\"outlinewidth\": 0, \"ticks\": \"\"}, \"type\": \"mesh3d\"}], \"parcoords\": [{\"line\": {\"colorbar\": {\"outlinewidth\": 0, \"ticks\": \"\"}}, \"type\": \"parcoords\"}], \"pie\": [{\"automargin\": true, \"type\": \"pie\"}], \"scatter\": [{\"marker\": {\"colorbar\": {\"outlinewidth\": 0, \"ticks\": \"\"}}, \"type\": \"scatter\"}], \"scatter3d\": [{\"line\": {\"colorbar\": {\"outlinewidth\": 0, \"ticks\": \"\"}}, \"marker\": {\"colorbar\": {\"outlinewidth\": 0, \"ticks\": \"\"}}, \"type\": \"scatter3d\"}], \"scattercarpet\": [{\"marker\": {\"colorbar\": {\"outlinewidth\": 0, \"ticks\": \"\"}}, \"type\": \"scattercarpet\"}], \"scattergeo\": [{\"marker\": {\"colorbar\": {\"outlinewidth\": 0, \"ticks\": \"\"}}, \"type\": \"scattergeo\"}], \"scattergl\": [{\"marker\": {\"colorbar\": {\"outlinewidth\": 0, \"ticks\": \"\"}}, \"type\": \"scattergl\"}], \"scattermapbox\": [{\"marker\": {\"colorbar\": {\"outlinewidth\": 0, \"ticks\": \"\"}}, \"type\": \"scattermapbox\"}], \"scatterpolar\": [{\"marker\": {\"colorbar\": {\"outlinewidth\": 0, \"ticks\": \"\"}}, \"type\": \"scatterpolar\"}], \"scatterpolargl\": [{\"marker\": {\"colorbar\": {\"outlinewidth\": 0, \"ticks\": \"\"}}, \"type\": \"scatterpolargl\"}], \"scatterternary\": [{\"marker\": {\"colorbar\": {\"outlinewidth\": 0, \"ticks\": \"\"}}, \"type\": \"scatterternary\"}], \"surface\": [{\"colorbar\": {\"outlinewidth\": 0, \"ticks\": \"\"}, \"colorscale\": [[0.0, \"#0d0887\"], [0.1111111111111111, \"#46039f\"], [0.2222222222222222, \"#7201a8\"], [0.3333333333333333, \"#9c179e\"], [0.4444444444444444, \"#bd3786\"], [0.5555555555555556, \"#d8576b\"], [0.6666666666666666, \"#ed7953\"], [0.7777777777777778, \"#fb9f3a\"], [0.8888888888888888, \"#fdca26\"], [1.0, \"#f0f921\"]], \"type\": \"surface\"}], \"table\": [{\"cells\": {\"fill\": {\"color\": \"#EBF0F8\"}, \"line\": {\"color\": \"white\"}}, \"header\": {\"fill\": {\"color\": \"#C8D4E3\"}, \"line\": {\"color\": \"white\"}}, \"type\": \"table\"}]}, \"layout\": {\"annotationdefaults\": {\"arrowcolor\": \"#2a3f5f\", \"arrowhead\": 0, \"arrowwidth\": 1}, \"coloraxis\": {\"colorbar\": {\"outlinewidth\": 0, \"ticks\": \"\"}}, \"colorscale\": {\"diverging\": [[0, \"#8e0152\"], [0.1, \"#c51b7d\"], [0.2, \"#de77ae\"], [0.3, \"#f1b6da\"], [0.4, \"#fde0ef\"], [0.5, \"#f7f7f7\"], [0.6, \"#e6f5d0\"], [0.7, \"#b8e186\"], [0.8, \"#7fbc41\"], [0.9, \"#4d9221\"], [1, \"#276419\"]], \"sequential\": [[0.0, \"#0d0887\"], [0.1111111111111111, \"#46039f\"], [0.2222222222222222, \"#7201a8\"], [0.3333333333333333, \"#9c179e\"], [0.4444444444444444, \"#bd3786\"], [0.5555555555555556, \"#d8576b\"], [0.6666666666666666, \"#ed7953\"], [0.7777777777777778, \"#fb9f3a\"], [0.8888888888888888, \"#fdca26\"], [1.0, \"#f0f921\"]], \"sequentialminus\": [[0.0, \"#0d0887\"], [0.1111111111111111, \"#46039f\"], [0.2222222222222222, \"#7201a8\"], [0.3333333333333333, \"#9c179e\"], [0.4444444444444444, \"#bd3786\"], [0.5555555555555556, \"#d8576b\"], [0.6666666666666666, \"#ed7953\"], [0.7777777777777778, \"#fb9f3a\"], [0.8888888888888888, \"#fdca26\"], [1.0, \"#f0f921\"]]}, \"colorway\": [\"#636efa\", \"#EF553B\", \"#00cc96\", \"#ab63fa\", \"#FFA15A\", \"#19d3f3\", \"#FF6692\", \"#B6E880\", \"#FF97FF\", \"#FECB52\"], \"font\": {\"color\": \"#2a3f5f\"}, \"geo\": {\"bgcolor\": \"white\", \"lakecolor\": \"white\", \"landcolor\": \"#E5ECF6\", \"showlakes\": true, \"showland\": true, \"subunitcolor\": \"white\"}, \"hoverlabel\": {\"align\": \"left\"}, \"hovermode\": \"closest\", \"mapbox\": {\"style\": \"light\"}, \"paper_bgcolor\": \"white\", \"plot_bgcolor\": \"#E5ECF6\", \"polar\": {\"angularaxis\": {\"gridcolor\": \"white\", \"linecolor\": \"white\", \"ticks\": \"\"}, \"bgcolor\": \"#E5ECF6\", \"radialaxis\": {\"gridcolor\": \"white\", \"linecolor\": \"white\", \"ticks\": \"\"}}, \"scene\": {\"xaxis\": {\"backgroundcolor\": \"#E5ECF6\", \"gridcolor\": \"white\", \"gridwidth\": 2, \"linecolor\": \"white\", \"showbackground\": true, \"ticks\": \"\", \"zerolinecolor\": \"white\"}, \"yaxis\": {\"backgroundcolor\": \"#E5ECF6\", \"gridcolor\": \"white\", \"gridwidth\": 2, \"linecolor\": \"white\", \"showbackground\": true, \"ticks\": \"\", \"zerolinecolor\": \"white\"}, \"zaxis\": {\"backgroundcolor\": \"#E5ECF6\", \"gridcolor\": \"white\", \"gridwidth\": 2, \"linecolor\": \"white\", \"showbackground\": true, \"ticks\": \"\", \"zerolinecolor\": \"white\"}}, \"shapedefaults\": {\"line\": {\"color\": \"#2a3f5f\"}}, \"ternary\": {\"aaxis\": {\"gridcolor\": \"white\", \"linecolor\": \"white\", \"ticks\": \"\"}, \"baxis\": {\"gridcolor\": \"white\", \"linecolor\": \"white\", \"ticks\": \"\"}, \"bgcolor\": \"#E5ECF6\", \"caxis\": {\"gridcolor\": \"white\", \"linecolor\": \"white\", \"ticks\": \"\"}}, \"title\": {\"x\": 0.05}, \"xaxis\": {\"automargin\": true, \"gridcolor\": \"white\", \"linecolor\": \"white\", \"ticks\": \"\", \"title\": {\"standoff\": 15}, \"zerolinecolor\": \"white\", \"zerolinewidth\": 2}, \"yaxis\": {\"automargin\": true, \"gridcolor\": \"white\", \"linecolor\": \"white\", \"ticks\": \"\", \"title\": {\"standoff\": 15}, \"zerolinecolor\": \"white\", \"zerolinewidth\": 2}}}, \"title\": {\"text\": \"Total Cases:11040\"}, \"updatemenus\": [{\"buttons\": [{\"args\": [null, {\"frame\": {\"duration\": 500, \"redraw\": true}, \"fromcurrent\": true, \"mode\": \"immediate\", \"transition\": {\"duration\": 500, \"easing\": \"linear\"}}], \"label\": \"&#9654;\", \"method\": \"animate\"}, {\"args\": [[null], {\"frame\": {\"duration\": 0, \"redraw\": true}, \"fromcurrent\": true, \"mode\": \"immediate\", \"transition\": {\"duration\": 0, \"easing\": \"linear\"}}], \"label\": \"&#9724;\", \"method\": \"animate\"}], \"direction\": \"left\", \"pad\": {\"r\": 10, \"t\": 70}, \"showactive\": false, \"type\": \"buttons\", \"x\": 0.1, \"xanchor\": \"right\", \"y\": 0, \"yanchor\": \"top\"}], \"width\": 1500, \"xaxis\": {\"anchor\": \"y\", \"domain\": [0.0, 1.0], \"tickmode\": \"linear\", \"title\": {\"text\": \"detectedstate\"}}, \"yaxis\": {\"anchor\": \"x\", \"domain\": [0.0, 1.0], \"range\": [0, 1600], \"tickmode\": \"linear\", \"title\": {\"text\": \"counts\"}}},\n",
       "                        {\"responsive\": true}\n",
       "                    ).then(function(){\n",
       "                            Plotly.addFrames('e5f4d454-6552-4b41-9dfe-6965fc6eb309', [{\"data\": [{\"alignmentgroup\": \"True\", \"customdata\": [[2455, 4503, \"NA\"], [1510, 4503, \"NA\"], [969, 4503, \"NA\"], [1204, 4503, \"NA\"], [614, 4503, \"NA\"], [617, 4503, \"NA\"], [592, 4503, \"NA\"], [473, 4503, \"NA\"], [657, 4503, \"NA\"], [278, 4503, \"NA\"], [198, 4503, \"NA\"], [184, 4503, \"NA\"], [190, 4503, \"NA\"], [33, 4503, \"NA\"], [386, 4503, \"NA\"], [258, 4503, \"NA\"], [60, 4503, \"NA\"], [32, 4503, \"NA\"], [35, 4503, \"NA\"], [66, 4503, \"NA\"], [24, 4503, \"NA\"], [21, 4503, \"NA\"], [2, 4503, \"NA\"], [31, 4503, \"NA\"], [1, 4503, \"NA\"], [17, 4503, \"NA\"], [1, 4503, \"NA\"]], \"hovertemplate\": \"keys=%{customdata[2]}<br>week_year=2020, Week 14<br>detectedstate=%{x}<br>counts=%{y}<br>total_ct=%{customdata[0]}<br>total_ct_daily=%{customdata[1]}<extra></extra>\", \"ids\": [1235, 641, 507, 458, 369, 330, 197, 164, 159, 139, 89, 58, 54, 21, 19, 15, 10, 9, 8, 8, 5, 3, 1, 1, 1, 1, 1], \"legendgroup\": \"NA\", \"marker\": {\"color\": \"#636efa\"}, \"name\": \"NA\", \"offsetgroup\": \"NA\", \"orientation\": \"v\", \"showlegend\": true, \"textposition\": \"auto\", \"x\": [\"Maharashtra\", \"Delhi\", \"Rajasthan\", \"Tamil Nadu\", \"Madhya Pradesh\", \"Gujarat\", \"Telangana\", \"Andhra Pradesh\", \"Uttar Pradesh\", \"Jammu and Kashmir\", \"Haryana\", \"Punjab\", \"West Bengal\", \"Chhattisgarh\", \"Kerala\", \"Karnataka\", \"Odisha\", \"Himachal Pradesh\", \"Uttarakhand\", \"Bihar\", \"Jharkhand\", \"Chandigarh\", \"Tripura\", \"Assam\", \"Dadra and Nagar Haveli\", \"Ladakh\", \"Nagaland\"], \"xaxis\": \"x\", \"y\": [1235, 641, 507, 458, 369, 330, 197, 164, 159, 139, 89, 58, 54, 21, 19, 15, 10, 9, 8, 8, 5, 3, 1, 1, 1, 1, 1], \"yaxis\": \"y\", \"type\": \"bar\"}, {\"alignmentgroup\": \"True\", \"customdata\": [[657, 145, \"Domestic Travel Delhi\"], [1204, 145, \"Domestic Travel Delhi\"], [198, 145, \"Domestic Travel Delhi\"], [258, 145, \"Domestic Travel Delhi\"], [1510, 145, \"Domestic Travel Delhi\"], [32, 145, \"Domestic Travel Delhi\"], [969, 145, \"Domestic Travel Delhi\"], [386, 145, \"Domestic Travel Delhi\"], [184, 145, \"Domestic Travel Delhi\"], [617, 145, \"Domestic Travel Delhi\"], [7, 145, \"Domestic Travel Delhi\"], [31, 145, \"Domestic Travel Delhi\"], [35, 145, \"Domestic Travel Delhi\"]], \"hovertemplate\": \"keys=%{customdata[2]}<br>week_year=2020, Week 14<br>detectedstate=%{x}<br>counts=%{y}<br>total_ct=%{customdata[0]}<br>total_ct_daily=%{customdata[1]}<extra></extra>\", \"ids\": [46, 31, 16, 13, 10, 9, 6, 4, 3, 3, 2, 1, 1], \"legendgroup\": \"Domestic Travel Delhi\", \"marker\": {\"color\": \"#EF553B\"}, \"name\": \"Domestic Travel Delhi\", \"offsetgroup\": \"Domestic Travel Delhi\", \"orientation\": \"v\", \"showlegend\": true, \"textposition\": \"auto\", \"x\": [\"Uttar Pradesh\", \"Tamil Nadu\", \"Haryana\", \"Karnataka\", \"Delhi\", \"Himachal Pradesh\", \"Rajasthan\", \"Kerala\", \"Punjab\", \"Gujarat\", \"Puducherry\", \"Assam\", \"Uttarakhand\"], \"xaxis\": \"x\", \"y\": [46, 31, 16, 13, 10, 9, 6, 4, 3, 3, 2, 1, 1], \"yaxis\": \"y\", \"type\": \"bar\"}, {\"alignmentgroup\": \"True\", \"customdata\": [[386, 36, \"International Travel\"], [617, 36, \"International Travel\"], [184, 36, \"International Travel\"], [66, 36, \"International Travel\"], [258, 36, \"International Travel\"], [60, 36, \"International Travel\"], [2, 36, \"International Travel\"], [31, 36, \"International Travel\"], [11, 36, \"International Travel\"]], \"hovertemplate\": \"keys=%{customdata[2]}<br>week_year=2020, Week 14<br>detectedstate=%{x}<br>counts=%{y}<br>total_ct=%{customdata[0]}<br>total_ct_daily=%{customdata[1]}<extra></extra>\", \"ids\": [17, 6, 3, 3, 2, 2, 1, 1, 1], \"legendgroup\": \"International Travel\", \"marker\": {\"color\": \"#00cc96\"}, \"name\": \"International Travel\", \"offsetgroup\": \"International Travel\", \"orientation\": \"v\", \"showlegend\": true, \"textposition\": \"auto\", \"x\": [\"Kerala\", \"Gujarat\", \"Punjab\", \"Bihar\", \"Karnataka\", \"Odisha\", \"Tripura\", \"Assam\", \"Andaman and Nicobar Islands\"], \"xaxis\": \"x\", \"y\": [17, 6, 3, 3, 2, 2, 1, 1, 1], \"yaxis\": \"y\", \"type\": \"bar\"}, {\"alignmentgroup\": \"True\", \"customdata\": [[617, 202, \"Contact\"], [258, 202, \"Contact\"], [184, 202, \"Contact\"], [969, 202, \"Contact\"], [66, 202, \"Contact\"], [386, 202, \"Contact\"], [24, 202, \"Contact\"], [60, 202, \"Contact\"]], \"hovertemplate\": \"keys=%{customdata[2]}<br>week_year=2020, Week 14<br>detectedstate=%{x}<br>counts=%{y}<br>total_ct=%{customdata[0]}<br>total_ct_daily=%{customdata[1]}<extra></extra>\", \"ids\": [49, 42, 35, 25, 21, 16, 11, 3], \"legendgroup\": \"Contact\", \"marker\": {\"color\": \"#ab63fa\"}, \"name\": \"Contact\", \"offsetgroup\": \"Contact\", \"orientation\": \"v\", \"showlegend\": true, \"textposition\": \"auto\", \"x\": [\"Gujarat\", \"Karnataka\", \"Punjab\", \"Rajasthan\", \"Bihar\", \"Kerala\", \"Jharkhand\", \"Odisha\"], \"xaxis\": \"x\", \"y\": [49, 42, 35, 25, 21, 16, 11, 3], \"yaxis\": \"y\", \"type\": \"bar\"}, {\"alignmentgroup\": \"True\", \"customdata\": [[258, 12, \"Contact,Travel\"], [386, 12, \"Contact,Travel\"], [184, 12, \"Contact,Travel\"]], \"hovertemplate\": \"keys=%{customdata[2]}<br>week_year=2020, Week 14<br>detectedstate=%{x}<br>counts=%{y}<br>total_ct=%{customdata[0]}<br>total_ct_daily=%{customdata[1]}<extra></extra>\", \"ids\": [5, 5, 2], \"legendgroup\": \"Contact,Travel\", \"marker\": {\"color\": \"#FFA15A\"}, \"name\": \"Contact,Travel\", \"offsetgroup\": \"Contact,Travel\", \"orientation\": \"v\", \"showlegend\": true, \"textposition\": \"auto\", \"x\": [\"Karnataka\", \"Kerala\", \"Punjab\"], \"xaxis\": \"x\", \"y\": [5, 5, 2], \"yaxis\": \"y\", \"type\": \"bar\"}, {\"alignmentgroup\": \"True\", \"customdata\": [[1204, 14, \"Contact,Investigation in Progress\"]], \"hovertemplate\": \"keys=%{customdata[2]}<br>week_year=2020, Week 14<br>detectedstate=%{x}<br>counts=%{y}<br>total_ct=%{customdata[0]}<br>total_ct_daily=%{customdata[1]}<extra></extra>\", \"ids\": [14], \"legendgroup\": \"Contact,Investigation in Progress\", \"marker\": {\"color\": \"#19d3f3\"}, \"name\": \"Contact,Investigation in Progress\", \"offsetgroup\": \"Contact,Investigation in Progress\", \"orientation\": \"v\", \"showlegend\": true, \"textposition\": \"auto\", \"x\": [\"Tamil Nadu\"], \"xaxis\": \"x\", \"y\": [14], \"yaxis\": \"y\", \"type\": \"bar\"}, {\"alignmentgroup\": \"True\", \"customdata\": [[258, 4, \"Domestic Travel\"], [184, 4, \"Domestic Travel\"], [1204, 4, \"Domestic Travel\"]], \"hovertemplate\": \"keys=%{customdata[2]}<br>week_year=2020, Week 14<br>detectedstate=%{x}<br>counts=%{y}<br>total_ct=%{customdata[0]}<br>total_ct_daily=%{customdata[1]}<extra></extra>\", \"ids\": [2, 1, 1], \"legendgroup\": \"Domestic Travel\", \"marker\": {\"color\": \"#636efa\"}, \"name\": \"Domestic Travel\", \"offsetgroup\": \"Domestic Travel\", \"orientation\": \"v\", \"showlegend\": true, \"textposition\": \"auto\", \"x\": [\"Karnataka\", \"Punjab\", \"Tamil Nadu\"], \"xaxis\": \"x\", \"y\": [2, 1, 1], \"yaxis\": \"y\", \"type\": \"bar\"}, {\"alignmentgroup\": \"True\", \"customdata\": [[258, 1, \"Contact,Family\"]], \"hovertemplate\": \"keys=%{customdata[2]}<br>week_year=2020, Week 14<br>detectedstate=%{x}<br>counts=%{y}<br>total_ct=%{customdata[0]}<br>total_ct_daily=%{customdata[1]}<extra></extra>\", \"ids\": [1], \"legendgroup\": \"Contact,Family\", \"marker\": {\"color\": \"#FF6692\"}, \"name\": \"Contact,Family\", \"offsetgroup\": \"Contact,Family\", \"orientation\": \"v\", \"showlegend\": true, \"textposition\": \"auto\", \"x\": [\"Karnataka\"], \"xaxis\": \"x\", \"y\": [1], \"yaxis\": \"y\", \"type\": \"bar\"}, {\"alignmentgroup\": \"True\", \"customdata\": [[258, 1, \"Family\"]], \"hovertemplate\": \"keys=%{customdata[2]}<br>week_year=2020, Week 14<br>detectedstate=%{x}<br>counts=%{y}<br>total_ct=%{customdata[0]}<br>total_ct_daily=%{customdata[1]}<extra></extra>\", \"ids\": [1], \"legendgroup\": \"Family\", \"marker\": {\"color\": \"#FF97FF\"}, \"name\": \"Family\", \"offsetgroup\": \"Family\", \"orientation\": \"v\", \"showlegend\": true, \"textposition\": \"auto\", \"x\": [\"Karnataka\"], \"xaxis\": \"x\", \"y\": [1], \"yaxis\": \"y\", \"type\": \"bar\"}], \"name\": \"2020, Week 14\"}, {\"data\": [{\"alignmentgroup\": \"True\", \"customdata\": [[2455, 2043, \"NA\"], [1510, 2043, \"NA\"], [592, 2043, \"NA\"], [473, 2043, \"NA\"], [614, 2043, \"NA\"], [657, 2043, \"NA\"], [969, 2043, \"NA\"], [190, 2043, \"NA\"], [386, 2043, \"NA\"], [198, 2043, \"NA\"], [278, 2043, \"NA\"], [60, 2043, \"NA\"], [35, 2043, \"NA\"], [184, 2043, \"NA\"], [617, 2043, \"NA\"], [1204, 2043, \"NA\"], [32, 2043, \"NA\"], [258, 2043, \"NA\"], [66, 2043, \"NA\"], [31, 2043, \"NA\"], [7, 2043, \"NA\"], [11, 2043, \"NA\"], [21, 2043, \"NA\"], [24, 2043, \"NA\"], [17, 2043, \"NA\"]], \"hovertemplate\": \"keys=%{customdata[2]}<br>week_year=2020, Week 13<br>detectedstate=%{x}<br>counts=%{y}<br>total_ct=%{customdata[0]}<br>total_ct_daily=%{customdata[1]}<extra></extra>\", \"ids\": [535, 410, 249, 169, 142, 136, 108, 58, 51, 47, 44, 25, 16, 11, 11, 8, 5, 4, 4, 4, 2, 1, 1, 1, 1], \"legendgroup\": \"NA\", \"marker\": {\"color\": \"#636efa\"}, \"name\": \"NA\", \"offsetgroup\": \"NA\", \"orientation\": \"v\", \"showlegend\": true, \"textposition\": \"auto\", \"x\": [\"Maharashtra\", \"Delhi\", \"Telangana\", \"Andhra Pradesh\", \"Madhya Pradesh\", \"Uttar Pradesh\", \"Rajasthan\", \"West Bengal\", \"Kerala\", \"Haryana\", \"Jammu and Kashmir\", \"Odisha\", \"Uttarakhand\", \"Punjab\", \"Gujarat\", \"Tamil Nadu\", \"Himachal Pradesh\", \"Karnataka\", \"Bihar\", \"Assam\", \"Puducherry\", \"Andaman and Nicobar Islands\", \"Chandigarh\", \"Jharkhand\", \"Ladakh\"], \"xaxis\": \"x\", \"y\": [535, 410, 249, 169, 142, 136, 108, 58, 51, 47, 44, 25, 16, 11, 11, 8, 5, 4, 4, 4, 2, 1, 1, 1, 1], \"yaxis\": \"y\", \"type\": \"bar\"}, {\"alignmentgroup\": \"True\", \"customdata\": [[1204, 731, \"Domestic Travel Delhi\"], [657, 731, \"Domestic Travel Delhi\"], [473, 731, \"Domestic Travel Delhi\"], [31, 731, \"Domestic Travel Delhi\"], [258, 731, \"Domestic Travel Delhi\"], [1510, 731, \"Domestic Travel Delhi\"], [969, 731, \"Domestic Travel Delhi\"], [592, 731, \"Domestic Travel Delhi\"], [617, 731, \"Domestic Travel Delhi\"], [386, 731, \"Domestic Travel Delhi\"], [32, 731, \"Domestic Travel Delhi\"], [2455, 731, \"Domestic Travel Delhi\"], [184, 731, \"Domestic Travel Delhi\"], [35, 731, \"Domestic Travel Delhi\"], [7, 731, \"Domestic Travel Delhi\"], [1, 731, \"Domestic Travel Delhi\"], [33, 731, \"Domestic Travel Delhi\"], [2, 731, \"Domestic Travel Delhi\"], [60, 731, \"Domestic Travel Delhi\"]], \"hovertemplate\": \"keys=%{customdata[2]}<br>week_year=2020, Week 13<br>detectedstate=%{x}<br>counts=%{y}<br>total_ct=%{customdata[0]}<br>total_ct_daily=%{customdata[1]}<extra></extra>\", \"ids\": [481, 61, 57, 22, 19, 18, 18, 15, 7, 7, 6, 6, 5, 3, 2, 1, 1, 1, 1], \"legendgroup\": \"Domestic Travel Delhi\", \"marker\": {\"color\": \"#EF553B\"}, \"name\": \"Domestic Travel Delhi\", \"offsetgroup\": \"Domestic Travel Delhi\", \"orientation\": \"v\", \"showlegend\": true, \"textposition\": \"auto\", \"x\": [\"Tamil Nadu\", \"Uttar Pradesh\", \"Andhra Pradesh\", \"Assam\", \"Karnataka\", \"Delhi\", \"Rajasthan\", \"Telangana\", \"Gujarat\", \"Kerala\", \"Himachal Pradesh\", \"Maharashtra\", \"Punjab\", \"Uttarakhand\", \"Puducherry\", \"Arunachal Pradesh\", \"Chhattisgarh\", \"Manipur\", \"Odisha\"], \"xaxis\": \"x\", \"y\": [481, 61, 57, 22, 19, 18, 18, 15, 7, 7, 6, 6, 5, 3, 2, 1, 1, 1, 1], \"yaxis\": \"y\", \"type\": \"bar\"}, {\"alignmentgroup\": \"True\", \"customdata\": [[969, 96, \"International Travel\"], [386, 96, \"International Travel\"], [258, 96, \"International Travel\"], [66, 96, \"International Travel\"], [60, 96, \"International Travel\"], [21, 96, \"International Travel\"], [617, 96, \"International Travel\"], [1204, 96, \"International Travel\"], [33, 96, \"International Travel\"], [7, 96, \"International Travel\"], [24, 96, \"International Travel\"], [473, 96, \"International Travel\"], [614, 96, \"International Travel\"]], \"hovertemplate\": \"keys=%{customdata[2]}<br>week_year=2020, Week 13<br>detectedstate=%{x}<br>counts=%{y}<br>total_ct=%{customdata[0]}<br>total_ct_daily=%{customdata[1]}<extra></extra>\", \"ids\": [34, 18, 15, 11, 3, 3, 2, 2, 2, 2, 2, 1, 1], \"legendgroup\": \"International Travel\", \"marker\": {\"color\": \"#00cc96\"}, \"name\": \"International Travel\", \"offsetgroup\": \"International Travel\", \"orientation\": \"v\", \"showlegend\": true, \"textposition\": \"auto\", \"x\": [\"Rajasthan\", \"Kerala\", \"Karnataka\", \"Bihar\", \"Odisha\", \"Chandigarh\", \"Gujarat\", \"Tamil Nadu\", \"Chhattisgarh\", \"Goa\", \"Jharkhand\", \"Andhra Pradesh\", \"Madhya Pradesh\"], \"xaxis\": \"x\", \"y\": [34, 18, 15, 11, 3, 3, 2, 2, 2, 2, 2, 1, 1], \"yaxis\": \"y\", \"type\": \"bar\"}, {\"alignmentgroup\": \"True\", \"customdata\": [[617, 190, \"Contact\"], [386, 190, \"Contact\"], [278, 190, \"Contact\"], [969, 190, \"Contact\"], [258, 190, \"Contact\"], [1204, 190, \"Contact\"], [184, 190, \"Contact\"], [198, 190, \"Contact\"], [21, 190, \"Contact\"], [657, 190, \"Contact\"], [2455, 190, \"Contact\"], [66, 190, \"Contact\"], [473, 190, \"Contact\"], [614, 190, \"Contact\"]], \"hovertemplate\": \"keys=%{customdata[2]}<br>week_year=2020, Week 13<br>detectedstate=%{x}<br>counts=%{y}<br>total_ct=%{customdata[0]}<br>total_ct_daily=%{customdata[1]}<extra></extra>\", \"ids\": [43, 34, 24, 22, 21, 12, 10, 8, 4, 4, 3, 2, 2, 1], \"legendgroup\": \"Contact\", \"marker\": {\"color\": \"#ab63fa\"}, \"name\": \"Contact\", \"offsetgroup\": \"Contact\", \"orientation\": \"v\", \"showlegend\": true, \"textposition\": \"auto\", \"x\": [\"Gujarat\", \"Kerala\", \"Jammu and Kashmir\", \"Rajasthan\", \"Karnataka\", \"Tamil Nadu\", \"Punjab\", \"Haryana\", \"Chandigarh\", \"Uttar Pradesh\", \"Maharashtra\", \"Bihar\", \"Andhra Pradesh\", \"Madhya Pradesh\"], \"xaxis\": \"x\", \"y\": [43, 34, 24, 22, 21, 12, 10, 8, 4, 4, 3, 2, 2, 1], \"yaxis\": \"y\", \"type\": \"bar\"}, {\"alignmentgroup\": \"True\", \"customdata\": [[1204, 33, \"Contact,Travel\"], [614, 33, \"Contact,Travel\"], [258, 33, \"Contact,Travel\"], [473, 33, \"Contact,Travel\"], [657, 33, \"Contact,Travel\"], [21, 33, \"Contact,Travel\"]], \"hovertemplate\": \"keys=%{customdata[2]}<br>week_year=2020, Week 13<br>detectedstate=%{x}<br>counts=%{y}<br>total_ct=%{customdata[0]}<br>total_ct_daily=%{customdata[1]}<extra></extra>\", \"ids\": [12, 10, 5, 3, 2, 1], \"legendgroup\": \"Contact,Travel\", \"marker\": {\"color\": \"#FFA15A\"}, \"name\": \"Contact,Travel\", \"offsetgroup\": \"Contact,Travel\", \"orientation\": \"v\", \"showlegend\": true, \"textposition\": \"auto\", \"x\": [\"Tamil Nadu\", \"Madhya Pradesh\", \"Karnataka\", \"Andhra Pradesh\", \"Uttar Pradesh\", \"Chandigarh\"], \"xaxis\": \"x\", \"y\": [12, 10, 5, 3, 2, 1], \"yaxis\": \"y\", \"type\": \"bar\"}, {\"alignmentgroup\": \"True\", \"customdata\": [[969, 19, \"Contact,Investigation in Progress\"], [1204, 19, \"Contact,Investigation in Progress\"], [60, 19, \"Contact,Investigation in Progress\"], [473, 19, \"Contact,Investigation in Progress\"], [21, 19, \"Contact,Investigation in Progress\"]], \"hovertemplate\": \"keys=%{customdata[2]}<br>week_year=2020, Week 13<br>detectedstate=%{x}<br>counts=%{y}<br>total_ct=%{customdata[0]}<br>total_ct_daily=%{customdata[1]}<extra></extra>\", \"ids\": [10, 4, 2, 2, 1], \"legendgroup\": \"Contact,Investigation in Progress\", \"marker\": {\"color\": \"#19d3f3\"}, \"name\": \"Contact,Investigation in Progress\", \"offsetgroup\": \"Contact,Investigation in Progress\", \"orientation\": \"v\", \"showlegend\": true, \"textposition\": \"auto\", \"x\": [\"Rajasthan\", \"Tamil Nadu\", \"Odisha\", \"Andhra Pradesh\", \"Chandigarh\"], \"xaxis\": \"x\", \"y\": [10, 4, 2, 2, 1], \"yaxis\": \"y\", \"type\": \"bar\"}, {\"alignmentgroup\": \"True\", \"customdata\": [[969, 9, \"Contact,Investigation in Progress,Travel\"], [473, 9, \"Contact,Investigation in Progress,Travel\"], [258, 9, \"Contact,Investigation in Progress,Travel\"]], \"hovertemplate\": \"keys=%{customdata[2]}<br>week_year=2020, Week 13<br>detectedstate=%{x}<br>counts=%{y}<br>total_ct=%{customdata[0]}<br>total_ct_daily=%{customdata[1]}<extra></extra>\", \"ids\": [7, 1, 1], \"legendgroup\": \"Contact,Investigation in Progress,Travel\", \"marker\": {\"color\": \"#FF6692\"}, \"name\": \"Contact,Investigation in Progress,Travel\", \"offsetgroup\": \"Contact,Investigation in Progress,Travel\", \"orientation\": \"v\", \"showlegend\": true, \"textposition\": \"auto\", \"x\": [\"Rajasthan\", \"Andhra Pradesh\", \"Karnataka\"], \"xaxis\": \"x\", \"y\": [7, 1, 1], \"yaxis\": \"y\", \"type\": \"bar\"}, {\"alignmentgroup\": \"True\", \"customdata\": [[1510, 1, \"Govt Staff\"]], \"hovertemplate\": \"keys=%{customdata[2]}<br>week_year=2020, Week 13<br>detectedstate=%{x}<br>counts=%{y}<br>total_ct=%{customdata[0]}<br>total_ct_daily=%{customdata[1]}<extra></extra>\", \"ids\": [1], \"legendgroup\": \"Govt Staff\", \"marker\": {\"color\": \"#B6E880\"}, \"name\": \"Govt Staff\", \"offsetgroup\": \"Govt Staff\", \"orientation\": \"v\", \"showlegend\": true, \"textposition\": \"auto\", \"x\": [\"Delhi\"], \"xaxis\": \"x\", \"y\": [1], \"yaxis\": \"y\", \"type\": \"bar\"}, {\"alignmentgroup\": \"True\", \"customdata\": [[60, 5, \"Investigation in Progress,Tenant\"]], \"hovertemplate\": \"keys=%{customdata[2]}<br>week_year=2020, Week 13<br>detectedstate=%{x}<br>counts=%{y}<br>total_ct=%{customdata[0]}<br>total_ct_daily=%{customdata[1]}<extra></extra>\", \"ids\": [5], \"legendgroup\": \"Investigation in Progress,Tenant\", \"marker\": {\"color\": \"#FECB52\"}, \"name\": \"Investigation in Progress,Tenant\", \"offsetgroup\": \"Investigation in Progress,Tenant\", \"orientation\": \"v\", \"showlegend\": true, \"textposition\": \"auto\", \"x\": [\"Odisha\"], \"xaxis\": \"x\", \"y\": [5], \"yaxis\": \"y\", \"type\": \"bar\"}, {\"alignmentgroup\": \"True\", \"customdata\": [[969, 7, \"Domestic Travel\"], [617, 7, \"Domestic Travel\"], [184, 7, \"Domestic Travel\"]], \"hovertemplate\": \"keys=%{customdata[2]}<br>week_year=2020, Week 13<br>detectedstate=%{x}<br>counts=%{y}<br>total_ct=%{customdata[0]}<br>total_ct_daily=%{customdata[1]}<extra></extra>\", \"ids\": [5, 1, 1], \"legendgroup\": \"Domestic Travel\", \"marker\": {\"color\": \"#636efa\"}, \"name\": \"Domestic Travel\", \"offsetgroup\": \"Domestic Travel\", \"orientation\": \"v\", \"showlegend\": true, \"textposition\": \"auto\", \"x\": [\"Rajasthan\", \"Gujarat\", \"Punjab\"], \"xaxis\": \"x\", \"y\": [5, 1, 1], \"yaxis\": \"y\", \"type\": \"bar\"}, {\"alignmentgroup\": \"True\", \"customdata\": [[657, 1, \"Contact,Govt Staff\"]], \"hovertemplate\": \"keys=%{customdata[2]}<br>week_year=2020, Week 13<br>detectedstate=%{x}<br>counts=%{y}<br>total_ct=%{customdata[0]}<br>total_ct_daily=%{customdata[1]}<extra></extra>\", \"ids\": [1], \"legendgroup\": \"Contact,Govt Staff\", \"marker\": {\"color\": \"#EF553B\"}, \"name\": \"Contact,Govt Staff\", \"offsetgroup\": \"Contact,Govt Staff\", \"orientation\": \"v\", \"showlegend\": true, \"textposition\": \"auto\", \"x\": [\"Uttar Pradesh\"], \"xaxis\": \"x\", \"y\": [1], \"yaxis\": \"y\", \"type\": \"bar\"}, {\"alignmentgroup\": \"True\", \"customdata\": [[184, 6, \"No Travel History,Travel\"], [617, 6, \"No Travel History,Travel\"], [1204, 6, \"No Travel History,Travel\"], [657, 6, \"No Travel History,Travel\"], [190, 6, \"No Travel History,Travel\"]], \"hovertemplate\": \"keys=%{customdata[2]}<br>week_year=2020, Week 13<br>detectedstate=%{x}<br>counts=%{y}<br>total_ct=%{customdata[0]}<br>total_ct_daily=%{customdata[1]}<extra></extra>\", \"ids\": [2, 1, 1, 1, 1], \"legendgroup\": \"No Travel History,Travel\", \"marker\": {\"color\": \"#00cc96\"}, \"name\": \"No Travel History,Travel\", \"offsetgroup\": \"No Travel History,Travel\", \"orientation\": \"v\", \"showlegend\": true, \"textposition\": \"auto\", \"x\": [\"Punjab\", \"Gujarat\", \"Tamil Nadu\", \"Uttar Pradesh\", \"West Bengal\"], \"xaxis\": \"x\", \"y\": [2, 1, 1, 1, 1], \"yaxis\": \"y\", \"type\": \"bar\"}, {\"alignmentgroup\": \"True\", \"customdata\": [[969, 4, \"Govt Staff,Travel\"], [1510, 4, \"Govt Staff,Travel\"]], \"hovertemplate\": \"keys=%{customdata[2]}<br>week_year=2020, Week 13<br>detectedstate=%{x}<br>counts=%{y}<br>total_ct=%{customdata[0]}<br>total_ct_daily=%{customdata[1]}<extra></extra>\", \"ids\": [3, 1], \"legendgroup\": \"Govt Staff,Travel\", \"marker\": {\"color\": \"#ab63fa\"}, \"name\": \"Govt Staff,Travel\", \"offsetgroup\": \"Govt Staff,Travel\", \"orientation\": \"v\", \"showlegend\": true, \"textposition\": \"auto\", \"x\": [\"Rajasthan\", \"Delhi\"], \"xaxis\": \"x\", \"y\": [3, 1], \"yaxis\": \"y\", \"type\": \"bar\"}, {\"alignmentgroup\": \"True\", \"customdata\": [[258, 3, \"Investigation in Progress\"]], \"hovertemplate\": \"keys=%{customdata[2]}<br>week_year=2020, Week 13<br>detectedstate=%{x}<br>counts=%{y}<br>total_ct=%{customdata[0]}<br>total_ct_daily=%{customdata[1]}<extra></extra>\", \"ids\": [3], \"legendgroup\": \"Investigation in Progress\", \"marker\": {\"color\": \"#FFA15A\"}, \"name\": \"Investigation in Progress\", \"offsetgroup\": \"Investigation in Progress\", \"orientation\": \"v\", \"showlegend\": true, \"textposition\": \"auto\", \"x\": [\"Karnataka\"], \"xaxis\": \"x\", \"y\": [3], \"yaxis\": \"y\", \"type\": \"bar\"}, {\"alignmentgroup\": \"True\", \"customdata\": [[1204, 1, \"No Travel History\"]], \"hovertemplate\": \"keys=%{customdata[2]}<br>week_year=2020, Week 13<br>detectedstate=%{x}<br>counts=%{y}<br>total_ct=%{customdata[0]}<br>total_ct_daily=%{customdata[1]}<extra></extra>\", \"ids\": [1], \"legendgroup\": \"No Travel History\", \"marker\": {\"color\": \"#19d3f3\"}, \"name\": \"No Travel History\", \"offsetgroup\": \"No Travel History\", \"orientation\": \"v\", \"showlegend\": true, \"textposition\": \"auto\", \"x\": [\"Tamil Nadu\"], \"xaxis\": \"x\", \"y\": [1], \"yaxis\": \"y\", \"type\": \"bar\"}, {\"alignmentgroup\": \"True\", \"customdata\": [[184, 1, \"Contact,Family,Travel\"]], \"hovertemplate\": \"keys=%{customdata[2]}<br>week_year=2020, Week 13<br>detectedstate=%{x}<br>counts=%{y}<br>total_ct=%{customdata[0]}<br>total_ct_daily=%{customdata[1]}<extra></extra>\", \"ids\": [1], \"legendgroup\": \"Contact,Family,Travel\", \"marker\": {\"color\": \"#B6E880\"}, \"name\": \"Contact,Family,Travel\", \"offsetgroup\": \"Contact,Family,Travel\", \"orientation\": \"v\", \"showlegend\": true, \"textposition\": \"auto\", \"x\": [\"Punjab\"], \"xaxis\": \"x\", \"y\": [1], \"yaxis\": \"y\", \"type\": \"bar\"}, {\"alignmentgroup\": \"True\", \"customdata\": [[386, 2, \"Family\"], [657, 2, \"Family\"]], \"hovertemplate\": \"keys=%{customdata[2]}<br>week_year=2020, Week 13<br>detectedstate=%{x}<br>counts=%{y}<br>total_ct=%{customdata[0]}<br>total_ct_daily=%{customdata[1]}<extra></extra>\", \"ids\": [1, 1], \"legendgroup\": \"Family\", \"marker\": {\"color\": \"#FF97FF\"}, \"name\": \"Family\", \"offsetgroup\": \"Family\", \"orientation\": \"v\", \"showlegend\": true, \"textposition\": \"auto\", \"x\": [\"Kerala\", \"Uttar Pradesh\"], \"xaxis\": \"x\", \"y\": [1, 1], \"yaxis\": \"y\", \"type\": \"bar\"}, {\"alignmentgroup\": \"True\", \"customdata\": [[1510, 1, \"Family,Govt Staff,Investigation in Progress,Travel\"]], \"hovertemplate\": \"keys=%{customdata[2]}<br>week_year=2020, Week 13<br>detectedstate=%{x}<br>counts=%{y}<br>total_ct=%{customdata[0]}<br>total_ct_daily=%{customdata[1]}<extra></extra>\", \"ids\": [1], \"legendgroup\": \"Family,Govt Staff,Investigation in Progress,Travel\", \"marker\": {\"color\": \"#FECB52\"}, \"name\": \"Family,Govt Staff,Investigation in Progress,Travel\", \"offsetgroup\": \"Family,Govt Staff,Investigation in Progress,Travel\", \"orientation\": \"v\", \"showlegend\": true, \"textposition\": \"auto\", \"x\": [\"Delhi\"], \"xaxis\": \"x\", \"y\": [1], \"yaxis\": \"y\", \"type\": \"bar\"}, {\"alignmentgroup\": \"True\", \"customdata\": [[386, 1, \"Family,Travel\"]], \"hovertemplate\": \"keys=%{customdata[2]}<br>week_year=2020, Week 13<br>detectedstate=%{x}<br>counts=%{y}<br>total_ct=%{customdata[0]}<br>total_ct_daily=%{customdata[1]}<extra></extra>\", \"ids\": [1], \"legendgroup\": \"Family,Travel\", \"marker\": {\"color\": \"#636efa\"}, \"name\": \"Family,Travel\", \"offsetgroup\": \"Family,Travel\", \"orientation\": \"v\", \"showlegend\": true, \"textposition\": \"auto\", \"x\": [\"Kerala\"], \"xaxis\": \"x\", \"y\": [1], \"yaxis\": \"y\", \"type\": \"bar\"}], \"name\": \"2020, Week 13\"}, {\"data\": [{\"alignmentgroup\": \"True\", \"customdata\": [[2455, 1678, \"NA\"], [1510, 1678, \"NA\"], [657, 1678, \"NA\"], [969, 1678, \"NA\"], [1204, 1678, \"NA\"], [617, 1678, \"NA\"], [592, 1678, \"NA\"], [190, 1678, \"NA\"], [473, 1678, \"NA\"], [614, 1678, \"NA\"], [278, 1678, \"NA\"], [24, 1678, \"NA\"], [184, 1678, \"NA\"], [258, 1678, \"NA\"], [198, 1678, \"NA\"], [60, 1678, \"NA\"], [33, 1678, \"NA\"], [17, 1678, \"NA\"], [386, 1678, \"NA\"], [66, 1678, \"NA\"], [31, 1678, \"NA\"]], \"hovertemplate\": \"keys=%{customdata[2]}<br>week_year=2020, Week 15<br>detectedstate=%{x}<br>counts=%{y}<br>total_ct=%{customdata[0]}<br>total_ct_daily=%{customdata[1]}<extra></extra>\", \"ids\": [473, 356, 174, 165, 129, 101, 61, 56, 53, 52, 33, 5, 4, 3, 3, 3, 2, 2, 1, 1, 1], \"legendgroup\": \"NA\", \"marker\": {\"color\": \"#636efa\"}, \"name\": \"NA\", \"offsetgroup\": \"NA\", \"orientation\": \"v\", \"showlegend\": true, \"textposition\": \"auto\", \"x\": [\"Maharashtra\", \"Delhi\", \"Uttar Pradesh\", \"Rajasthan\", \"Tamil Nadu\", \"Gujarat\", \"Telangana\", \"West Bengal\", \"Andhra Pradesh\", \"Madhya Pradesh\", \"Jammu and Kashmir\", \"Jharkhand\", \"Punjab\", \"Karnataka\", \"Haryana\", \"Odisha\", \"Chhattisgarh\", \"Ladakh\", \"Kerala\", \"Bihar\", \"Assam\"], \"xaxis\": \"x\", \"y\": [473, 356, 174, 165, 129, 101, 61, 56, 53, 52, 33, 5, 4, 3, 3, 3, 2, 2, 1, 1, 1], \"yaxis\": \"y\", \"type\": \"bar\"}, {\"alignmentgroup\": \"True\", \"customdata\": [[258, 1, \"Domestic Travel Delhi\"]], \"hovertemplate\": \"keys=%{customdata[2]}<br>week_year=2020, Week 15<br>detectedstate=%{x}<br>counts=%{y}<br>total_ct=%{customdata[0]}<br>total_ct_daily=%{customdata[1]}<extra></extra>\", \"ids\": [1], \"legendgroup\": \"Domestic Travel Delhi\", \"marker\": {\"color\": \"#EF553B\"}, \"name\": \"Domestic Travel Delhi\", \"offsetgroup\": \"Domestic Travel Delhi\", \"orientation\": \"v\", \"showlegend\": true, \"textposition\": \"auto\", \"x\": [\"Karnataka\"], \"xaxis\": \"x\", \"y\": [1], \"yaxis\": \"y\", \"type\": \"bar\"}, {\"alignmentgroup\": \"True\", \"customdata\": [[386, 8, \"International Travel\"], [258, 8, \"International Travel\"], [66, 8, \"International Travel\"]], \"hovertemplate\": \"keys=%{customdata[2]}<br>week_year=2020, Week 15<br>detectedstate=%{x}<br>counts=%{y}<br>total_ct=%{customdata[0]}<br>total_ct_daily=%{customdata[1]}<extra></extra>\", \"ids\": [5, 2, 1], \"legendgroup\": \"International Travel\", \"marker\": {\"color\": \"#00cc96\"}, \"name\": \"International Travel\", \"offsetgroup\": \"International Travel\", \"orientation\": \"v\", \"showlegend\": true, \"textposition\": \"auto\", \"x\": [\"Kerala\", \"Karnataka\", \"Bihar\"], \"xaxis\": \"x\", \"y\": [5, 2, 1], \"yaxis\": \"y\", \"type\": \"bar\"}, {\"alignmentgroup\": \"True\", \"customdata\": [[258, 37, \"Contact\"], [184, 37, \"Contact\"], [386, 37, \"Contact\"], [60, 37, \"Contact\"]], \"hovertemplate\": \"keys=%{customdata[2]}<br>week_year=2020, Week 15<br>detectedstate=%{x}<br>counts=%{y}<br>total_ct=%{customdata[0]}<br>total_ct_daily=%{customdata[1]}<extra></extra>\", \"ids\": [20, 10, 4, 3], \"legendgroup\": \"Contact\", \"marker\": {\"color\": \"#ab63fa\"}, \"name\": \"Contact\", \"offsetgroup\": \"Contact\", \"orientation\": \"v\", \"showlegend\": true, \"textposition\": \"auto\", \"x\": [\"Karnataka\", \"Punjab\", \"Kerala\", \"Odisha\"], \"xaxis\": \"x\", \"y\": [20, 10, 4, 3], \"yaxis\": \"y\", \"type\": \"bar\"}, {\"alignmentgroup\": \"True\", \"customdata\": [[31, 2, \"Contact,Travel\"], [386, 2, \"Contact,Travel\"]], \"hovertemplate\": \"keys=%{customdata[2]}<br>week_year=2020, Week 15<br>detectedstate=%{x}<br>counts=%{y}<br>total_ct=%{customdata[0]}<br>total_ct_daily=%{customdata[1]}<extra></extra>\", \"ids\": [1, 1], \"legendgroup\": \"Contact,Travel\", \"marker\": {\"color\": \"#FFA15A\"}, \"name\": \"Contact,Travel\", \"offsetgroup\": \"Contact,Travel\", \"orientation\": \"v\", \"showlegend\": true, \"textposition\": \"auto\", \"x\": [\"Assam\", \"Kerala\"], \"xaxis\": \"x\", \"y\": [1, 1], \"yaxis\": \"y\", \"type\": \"bar\"}, {\"alignmentgroup\": \"True\", \"customdata\": [[1, 1, \"Govt Staff,Travel\"]], \"hovertemplate\": \"keys=%{customdata[2]}<br>week_year=2020, Week 15<br>detectedstate=%{x}<br>counts=%{y}<br>total_ct=%{customdata[0]}<br>total_ct_daily=%{customdata[1]}<extra></extra>\", \"ids\": [1], \"legendgroup\": \"Govt Staff,Travel\", \"marker\": {\"color\": \"#ab63fa\"}, \"name\": \"Govt Staff,Travel\", \"offsetgroup\": \"Govt Staff,Travel\", \"orientation\": \"v\", \"showlegend\": true, \"textposition\": \"auto\", \"x\": [\"Meghalaya\"], \"xaxis\": \"x\", \"y\": [1], \"yaxis\": \"y\", \"type\": \"bar\"}], \"name\": \"2020, Week 15\"}, {\"data\": [{\"alignmentgroup\": \"True\", \"customdata\": [[2455, 286, \"NA\"], [1510, 286, \"NA\"], [657, 286, \"NA\"], [592, 286, \"NA\"], [617, 286, \"NA\"], [969, 286, \"NA\"], [614, 286, \"NA\"], [278, 286, \"NA\"], [386, 286, \"NA\"], [198, 286, \"NA\"], [184, 286, \"NA\"], [66, 286, \"NA\"], [33, 286, \"NA\"], [190, 286, \"NA\"], [35, 286, \"NA\"], [60, 286, \"NA\"]], \"hovertemplate\": \"keys=%{customdata[2]}<br>week_year=2020, Week 12<br>detectedstate=%{x}<br>counts=%{y}<br>total_ct=%{customdata[0]}<br>total_ct_daily=%{customdata[1]}<extra></extra>\", \"ids\": [97, 32, 25, 24, 19, 19, 17, 14, 10, 9, 7, 7, 3, 1, 1, 1], \"legendgroup\": \"NA\", \"marker\": {\"color\": \"#636efa\"}, \"name\": \"NA\", \"offsetgroup\": \"NA\", \"orientation\": \"v\", \"showlegend\": true, \"textposition\": \"auto\", \"x\": [\"Maharashtra\", \"Delhi\", \"Uttar Pradesh\", \"Telangana\", \"Gujarat\", \"Rajasthan\", \"Madhya Pradesh\", \"Jammu and Kashmir\", \"Kerala\", \"Haryana\", \"Punjab\", \"Bihar\", \"Chhattisgarh\", \"West Bengal\", \"Uttarakhand\", \"Odisha\"], \"xaxis\": \"x\", \"y\": [97, 32, 25, 24, 19, 19, 17, 14, 10, 9, 7, 7, 3, 1, 1, 1], \"yaxis\": \"y\", \"type\": \"bar\"}, {\"alignmentgroup\": \"True\", \"customdata\": [[1510, 17, \"Domestic Travel Delhi\"], [1204, 17, \"Domestic Travel Delhi\"], [592, 17, \"Domestic Travel Delhi\"], [11, 17, \"Domestic Travel Delhi\"], [473, 17, \"Domestic Travel Delhi\"], [278, 17, \"Domestic Travel Delhi\"], [657, 17, \"Domestic Travel Delhi\"]], \"hovertemplate\": \"keys=%{customdata[2]}<br>week_year=2020, Week 12<br>detectedstate=%{x}<br>counts=%{y}<br>total_ct=%{customdata[0]}<br>total_ct_daily=%{customdata[1]}<extra></extra>\", \"ids\": [6, 4, 2, 2, 1, 1, 1], \"legendgroup\": \"Domestic Travel Delhi\", \"marker\": {\"color\": \"#EF553B\"}, \"name\": \"Domestic Travel Delhi\", \"offsetgroup\": \"Domestic Travel Delhi\", \"orientation\": \"v\", \"showlegend\": true, \"textposition\": \"auto\", \"x\": [\"Delhi\", \"Tamil Nadu\", \"Telangana\", \"Andaman and Nicobar Islands\", \"Andhra Pradesh\", \"Jammu and Kashmir\", \"Uttar Pradesh\"], \"xaxis\": \"x\", \"y\": [6, 4, 2, 2, 1, 1, 1], \"yaxis\": \"y\", \"type\": \"bar\"}, {\"alignmentgroup\": \"True\", \"customdata\": [[386, 211, \"International Travel\"], [258, 211, \"International Travel\"], [1204, 211, \"International Travel\"], [617, 211, \"International Travel\"], [2455, 211, \"International Travel\"], [592, 211, \"International Travel\"], [278, 211, \"International Travel\"], [473, 211, \"International Travel\"], [657, 211, \"International Travel\"], [7, 211, \"International Travel\"], [614, 211, \"International Travel\"], [190, 211, \"International Travel\"], [969, 211, \"International Travel\"], [66, 211, \"International Travel\"], [33, 211, \"International Travel\"], [21, 211, \"International Travel\"], [198, 211, \"International Travel\"], [2, 211, \"International Travel\"], [1, 211, \"International Travel\"], [35, 211, \"International Travel\"]], \"hovertemplate\": \"keys=%{customdata[2]}<br>week_year=2020, Week 12<br>detectedstate=%{x}<br>counts=%{y}<br>total_ct=%{customdata[0]}<br>total_ct_daily=%{customdata[1]}<extra></extra>\", \"ids\": [104, 27, 18, 10, 9, 8, 5, 5, 4, 4, 3, 3, 2, 2, 2, 1, 1, 1, 1, 1], \"legendgroup\": \"International Travel\", \"marker\": {\"color\": \"#00cc96\"}, \"name\": \"International Travel\", \"offsetgroup\": \"International Travel\", \"orientation\": \"v\", \"showlegend\": true, \"textposition\": \"auto\", \"x\": [\"Kerala\", \"Karnataka\", \"Tamil Nadu\", \"Gujarat\", \"Maharashtra\", \"Telangana\", \"Jammu and Kashmir\", \"Andhra Pradesh\", \"Uttar Pradesh\", \"Goa\", \"Madhya Pradesh\", \"West Bengal\", \"Rajasthan\", \"Bihar\", \"Chhattisgarh\", \"Chandigarh\", \"Haryana\", \"Manipur\", \"Mizoram\", \"Uttarakhand\"], \"xaxis\": \"x\", \"y\": [104, 27, 18, 10, 9, 8, 5, 5, 4, 4, 3, 3, 2, 2, 2, 1, 1, 1, 1, 1], \"yaxis\": \"y\", \"type\": \"bar\"}, {\"alignmentgroup\": \"True\", \"customdata\": [[258, 115, \"Contact\"], [386, 115, \"Contact\"], [617, 115, \"Contact\"], [278, 115, \"Contact\"], [657, 115, \"Contact\"], [1204, 115, \"Contact\"], [184, 115, \"Contact\"], [614, 115, \"Contact\"], [2455, 115, \"Contact\"], [592, 115, \"Contact\"], [473, 115, \"Contact\"], [969, 115, \"Contact\"], [190, 115, \"Contact\"], [66, 115, \"Contact\"], [21, 115, \"Contact\"], [7, 115, \"Contact\"], [198, 115, \"Contact\"], [35, 115, \"Contact\"]], \"hovertemplate\": \"keys=%{customdata[2]}<br>week_year=2020, Week 12<br>detectedstate=%{x}<br>counts=%{y}<br>total_ct=%{customdata[0]}<br>total_ct_daily=%{customdata[1]}<extra></extra>\", \"ids\": [20, 15, 13, 11, 8, 8, 8, 7, 6, 4, 4, 3, 2, 2, 1, 1, 1, 1], \"legendgroup\": \"Contact\", \"marker\": {\"color\": \"#ab63fa\"}, \"name\": \"Contact\", \"offsetgroup\": \"Contact\", \"orientation\": \"v\", \"showlegend\": true, \"textposition\": \"auto\", \"x\": [\"Karnataka\", \"Kerala\", \"Gujarat\", \"Jammu and Kashmir\", \"Uttar Pradesh\", \"Tamil Nadu\", \"Punjab\", \"Madhya Pradesh\", \"Maharashtra\", \"Telangana\", \"Andhra Pradesh\", \"Rajasthan\", \"West Bengal\", \"Bihar\", \"Chandigarh\", \"Goa\", \"Haryana\", \"Uttarakhand\"], \"xaxis\": \"x\", \"y\": [20, 15, 13, 11, 8, 8, 8, 7, 6, 4, 4, 3, 2, 2, 1, 1, 1, 1], \"yaxis\": \"y\", \"type\": \"bar\"}, {\"alignmentgroup\": \"True\", \"customdata\": [[2455, 46, \"Contact,Travel\"], [258, 46, \"Contact,Travel\"], [190, 46, \"Contact,Travel\"], [1204, 46, \"Contact,Travel\"], [386, 46, \"Contact,Travel\"], [473, 46, \"Contact,Travel\"], [278, 46, \"Contact,Travel\"], [617, 46, \"Contact,Travel\"], [11, 46, \"Contact,Travel\"], [969, 46, \"Contact,Travel\"], [657, 46, \"Contact,Travel\"]], \"hovertemplate\": \"keys=%{customdata[2]}<br>week_year=2020, Week 12<br>detectedstate=%{x}<br>counts=%{y}<br>total_ct=%{customdata[0]}<br>total_ct_daily=%{customdata[1]}<extra></extra>\", \"ids\": [12, 9, 5, 4, 4, 4, 3, 2, 1, 1, 1], \"legendgroup\": \"Contact,Travel\", \"marker\": {\"color\": \"#FFA15A\"}, \"name\": \"Contact,Travel\", \"offsetgroup\": \"Contact,Travel\", \"orientation\": \"v\", \"showlegend\": true, \"textposition\": \"auto\", \"x\": [\"Maharashtra\", \"Karnataka\", \"West Bengal\", \"Tamil Nadu\", \"Kerala\", \"Andhra Pradesh\", \"Jammu and Kashmir\", \"Gujarat\", \"Andaman and Nicobar Islands\", \"Rajasthan\", \"Uttar Pradesh\"], \"xaxis\": \"x\", \"y\": [12, 9, 5, 4, 4, 4, 3, 2, 1, 1, 1], \"yaxis\": \"y\", \"type\": \"bar\"}, {\"alignmentgroup\": \"True\", \"customdata\": [[11, 3, \"Contact,Investigation in Progress\"], [184, 3, \"Contact,Investigation in Progress\"], [1204, 3, \"Contact,Investigation in Progress\"]], \"hovertemplate\": \"keys=%{customdata[2]}<br>week_year=2020, Week 12<br>detectedstate=%{x}<br>counts=%{y}<br>total_ct=%{customdata[0]}<br>total_ct_daily=%{customdata[1]}<extra></extra>\", \"ids\": [1, 1, 1], \"legendgroup\": \"Contact,Investigation in Progress\", \"marker\": {\"color\": \"#19d3f3\"}, \"name\": \"Contact,Investigation in Progress\", \"offsetgroup\": \"Contact,Investigation in Progress\", \"orientation\": \"v\", \"showlegend\": true, \"textposition\": \"auto\", \"x\": [\"Andaman and Nicobar Islands\", \"Punjab\", \"Tamil Nadu\"], \"xaxis\": \"x\", \"y\": [1, 1, 1], \"yaxis\": \"y\", \"type\": \"bar\"}, {\"alignmentgroup\": \"True\", \"customdata\": [[1204, 1, \"Contact,Investigation in Progress,Travel\"]], \"hovertemplate\": \"keys=%{customdata[2]}<br>week_year=2020, Week 12<br>detectedstate=%{x}<br>counts=%{y}<br>total_ct=%{customdata[0]}<br>total_ct_daily=%{customdata[1]}<extra></extra>\", \"ids\": [1], \"legendgroup\": \"Contact,Investigation in Progress,Travel\", \"marker\": {\"color\": \"#FF6692\"}, \"name\": \"Contact,Investigation in Progress,Travel\", \"offsetgroup\": \"Contact,Investigation in Progress,Travel\", \"orientation\": \"v\", \"showlegend\": true, \"textposition\": \"auto\", \"x\": [\"Tamil Nadu\"], \"xaxis\": \"x\", \"y\": [1], \"yaxis\": \"y\", \"type\": \"bar\"}, {\"alignmentgroup\": \"True\", \"customdata\": [[969, 6, \"Govt Staff\"], [198, 6, \"Govt Staff\"], [386, 6, \"Govt Staff\"], [614, 6, \"Govt Staff\"]], \"hovertemplate\": \"keys=%{customdata[2]}<br>week_year=2020, Week 12<br>detectedstate=%{x}<br>counts=%{y}<br>total_ct=%{customdata[0]}<br>total_ct_daily=%{customdata[1]}<extra></extra>\", \"ids\": [2, 2, 1, 1], \"legendgroup\": \"Govt Staff\", \"marker\": {\"color\": \"#B6E880\"}, \"name\": \"Govt Staff\", \"offsetgroup\": \"Govt Staff\", \"orientation\": \"v\", \"showlegend\": true, \"textposition\": \"auto\", \"x\": [\"Rajasthan\", \"Haryana\", \"Kerala\", \"Madhya Pradesh\"], \"xaxis\": \"x\", \"y\": [2, 2, 1, 1], \"yaxis\": \"y\", \"type\": \"bar\"}, {\"alignmentgroup\": \"True\", \"customdata\": [[614, 9, \"Contact,No Travel History,Travel\"], [657, 9, \"Contact,No Travel History,Travel\"], [592, 9, \"Contact,No Travel History,Travel\"], [386, 9, \"Contact,No Travel History,Travel\"], [184, 9, \"Contact,No Travel History,Travel\"]], \"hovertemplate\": \"keys=%{customdata[2]}<br>week_year=2020, Week 12<br>detectedstate=%{x}<br>counts=%{y}<br>total_ct=%{customdata[0]}<br>total_ct_daily=%{customdata[1]}<extra></extra>\", \"ids\": [5, 1, 1, 1, 1], \"legendgroup\": \"Contact,No Travel History,Travel\", \"marker\": {\"color\": \"#FF97FF\"}, \"name\": \"Contact,No Travel History,Travel\", \"offsetgroup\": \"Contact,No Travel History,Travel\", \"orientation\": \"v\", \"showlegend\": true, \"textposition\": \"auto\", \"x\": [\"Madhya Pradesh\", \"Uttar Pradesh\", \"Telangana\", \"Kerala\", \"Punjab\"], \"xaxis\": \"x\", \"y\": [5, 1, 1, 1, 1], \"yaxis\": \"y\", \"type\": \"bar\"}, {\"alignmentgroup\": \"True\", \"customdata\": [[11, 13, \"Domestic Travel\"], [2455, 13, \"Domestic Travel\"], [1510, 13, \"Domestic Travel\"], [617, 13, \"Domestic Travel\"], [969, 13, \"Domestic Travel\"]], \"hovertemplate\": \"keys=%{customdata[2]}<br>week_year=2020, Week 12<br>detectedstate=%{x}<br>counts=%{y}<br>total_ct=%{customdata[0]}<br>total_ct_daily=%{customdata[1]}<extra></extra>\", \"ids\": [5, 5, 1, 1, 1], \"legendgroup\": \"Domestic Travel\", \"marker\": {\"color\": \"#636efa\"}, \"name\": \"Domestic Travel\", \"offsetgroup\": \"Domestic Travel\", \"orientation\": \"v\", \"showlegend\": true, \"textposition\": \"auto\", \"x\": [\"Andaman and Nicobar Islands\", \"Maharashtra\", \"Delhi\", \"Gujarat\", \"Rajasthan\"], \"xaxis\": \"x\", \"y\": [5, 5, 1, 1, 1], \"yaxis\": \"y\", \"type\": \"bar\"}, {\"alignmentgroup\": \"True\", \"customdata\": [[592, 5, \"Contact,Govt Staff\"], [969, 5, \"Contact,Govt Staff\"], [1510, 5, \"Contact,Govt Staff\"]], \"hovertemplate\": \"keys=%{customdata[2]}<br>week_year=2020, Week 12<br>detectedstate=%{x}<br>counts=%{y}<br>total_ct=%{customdata[0]}<br>total_ct_daily=%{customdata[1]}<extra></extra>\", \"ids\": [2, 2, 1], \"legendgroup\": \"Contact,Govt Staff\", \"marker\": {\"color\": \"#EF553B\"}, \"name\": \"Contact,Govt Staff\", \"offsetgroup\": \"Contact,Govt Staff\", \"orientation\": \"v\", \"showlegend\": true, \"textposition\": \"auto\", \"x\": [\"Telangana\", \"Rajasthan\", \"Delhi\"], \"xaxis\": \"x\", \"y\": [2, 2, 1], \"yaxis\": \"y\", \"type\": \"bar\"}, {\"alignmentgroup\": \"True\", \"customdata\": [[1510, 11, \"No Travel History,Travel\"], [1204, 11, \"No Travel History,Travel\"], [66, 11, \"No Travel History,Travel\"], [258, 11, \"No Travel History,Travel\"], [190, 11, \"No Travel History,Travel\"]], \"hovertemplate\": \"keys=%{customdata[2]}<br>week_year=2020, Week 12<br>detectedstate=%{x}<br>counts=%{y}<br>total_ct=%{customdata[0]}<br>total_ct_daily=%{customdata[1]}<extra></extra>\", \"ids\": [4, 3, 2, 1, 1], \"legendgroup\": \"No Travel History,Travel\", \"marker\": {\"color\": \"#00cc96\"}, \"name\": \"No Travel History,Travel\", \"offsetgroup\": \"No Travel History,Travel\", \"orientation\": \"v\", \"showlegend\": true, \"textposition\": \"auto\", \"x\": [\"Delhi\", \"Tamil Nadu\", \"Bihar\", \"Karnataka\", \"West Bengal\"], \"xaxis\": \"x\", \"y\": [4, 3, 2, 1, 1], \"yaxis\": \"y\", \"type\": \"bar\"}, {\"alignmentgroup\": \"True\", \"customdata\": [[33, 8, \"Govt Staff,Travel\"], [190, 8, \"Govt Staff,Travel\"], [35, 8, \"Govt Staff,Travel\"], [657, 8, \"Govt Staff,Travel\"], [592, 8, \"Govt Staff,Travel\"], [32, 8, \"Govt Staff,Travel\"], [473, 8, \"Govt Staff,Travel\"], [198, 8, \"Govt Staff,Travel\"]], \"hovertemplate\": \"keys=%{customdata[2]}<br>week_year=2020, Week 12<br>detectedstate=%{x}<br>counts=%{y}<br>total_ct=%{customdata[0]}<br>total_ct_daily=%{customdata[1]}<extra></extra>\", \"ids\": [1, 1, 1, 1, 1, 1, 1, 1], \"legendgroup\": \"Govt Staff,Travel\", \"marker\": {\"color\": \"#ab63fa\"}, \"name\": \"Govt Staff,Travel\", \"offsetgroup\": \"Govt Staff,Travel\", \"orientation\": \"v\", \"showlegend\": true, \"textposition\": \"auto\", \"x\": [\"Chhattisgarh\", \"West Bengal\", \"Uttarakhand\", \"Uttar Pradesh\", \"Telangana\", \"Himachal Pradesh\", \"Andhra Pradesh\", \"Haryana\"], \"xaxis\": \"x\", \"y\": [1, 1, 1, 1, 1, 1, 1, 1], \"yaxis\": \"y\", \"type\": \"bar\"}, {\"alignmentgroup\": \"True\", \"customdata\": [[1204, 3, \"No Travel History\"], [190, 3, \"No Travel History\"]], \"hovertemplate\": \"keys=%{customdata[2]}<br>week_year=2020, Week 12<br>detectedstate=%{x}<br>counts=%{y}<br>total_ct=%{customdata[0]}<br>total_ct_daily=%{customdata[1]}<extra></extra>\", \"ids\": [2, 1], \"legendgroup\": \"No Travel History\", \"marker\": {\"color\": \"#19d3f3\"}, \"name\": \"No Travel History\", \"offsetgroup\": \"No Travel History\", \"orientation\": \"v\", \"showlegend\": true, \"textposition\": \"auto\", \"x\": [\"Tamil Nadu\", \"West Bengal\"], \"xaxis\": \"x\", \"y\": [2, 1], \"yaxis\": \"y\", \"type\": \"bar\"}, {\"alignmentgroup\": \"True\", \"customdata\": [[657, 1, \"Contact,Family\"]], \"hovertemplate\": \"keys=%{customdata[2]}<br>week_year=2020, Week 12<br>detectedstate=%{x}<br>counts=%{y}<br>total_ct=%{customdata[0]}<br>total_ct_daily=%{customdata[1]}<extra></extra>\", \"ids\": [1], \"legendgroup\": \"Contact,Family\", \"marker\": {\"color\": \"#FF6692\"}, \"name\": \"Contact,Family\", \"offsetgroup\": \"Contact,Family\", \"orientation\": \"v\", \"showlegend\": true, \"textposition\": \"auto\", \"x\": [\"Uttar Pradesh\"], \"xaxis\": \"x\", \"y\": [1], \"yaxis\": \"y\", \"type\": \"bar\"}, {\"alignmentgroup\": \"True\", \"customdata\": [[592, 1, \"Family,Travel\"]], \"hovertemplate\": \"keys=%{customdata[2]}<br>week_year=2020, Week 12<br>detectedstate=%{x}<br>counts=%{y}<br>total_ct=%{customdata[0]}<br>total_ct_daily=%{customdata[1]}<extra></extra>\", \"ids\": [1], \"legendgroup\": \"Family,Travel\", \"marker\": {\"color\": \"#636efa\"}, \"name\": \"Family,Travel\", \"offsetgroup\": \"Family,Travel\", \"orientation\": \"v\", \"showlegend\": true, \"textposition\": \"auto\", \"x\": [\"Telangana\"], \"xaxis\": \"x\", \"y\": [1], \"yaxis\": \"y\", \"type\": \"bar\"}], \"name\": \"2020, Week 12\"}, {\"data\": [{\"alignmentgroup\": \"True\", \"customdata\": [[969, 29, \"NA\"], [1510, 29, \"NA\"], [2455, 29, \"NA\"], [617, 29, \"NA\"], [17, 29, \"NA\"], [657, 29, \"NA\"]], \"hovertemplate\": \"keys=%{customdata[2]}<br>week_year=2020, Week 11<br>detectedstate=%{x}<br>counts=%{y}<br>total_ct=%{customdata[0]}<br>total_ct_daily=%{customdata[1]}<extra></extra>\", \"ids\": [7, 7, 6, 5, 3, 1], \"legendgroup\": \"NA\", \"marker\": {\"color\": \"#636efa\"}, \"name\": \"NA\", \"offsetgroup\": \"NA\", \"orientation\": \"v\", \"showlegend\": true, \"textposition\": \"auto\", \"x\": [\"Rajasthan\", \"Delhi\", \"Maharashtra\", \"Gujarat\", \"Ladakh\", \"Uttar Pradesh\"], \"xaxis\": \"x\", \"y\": [7, 7, 6, 5, 3, 1], \"yaxis\": \"y\", \"type\": \"bar\"}, {\"alignmentgroup\": \"True\", \"customdata\": [[617, 1, \"Domestic Travel Delhi\"]], \"hovertemplate\": \"keys=%{customdata[2]}<br>week_year=2020, Week 11<br>detectedstate=%{x}<br>counts=%{y}<br>total_ct=%{customdata[0]}<br>total_ct_daily=%{customdata[1]}<extra></extra>\", \"ids\": [1], \"legendgroup\": \"Domestic Travel Delhi\", \"marker\": {\"color\": \"#EF553B\"}, \"name\": \"Domestic Travel Delhi\", \"offsetgroup\": \"Domestic Travel Delhi\", \"orientation\": \"v\", \"showlegend\": true, \"textposition\": \"auto\", \"x\": [\"Gujarat\"], \"xaxis\": \"x\", \"y\": [1], \"yaxis\": \"y\", \"type\": \"bar\"}, {\"alignmentgroup\": \"True\", \"customdata\": [[386, 175, \"International Travel\"], [2455, 175, \"International Travel\"], [592, 175, \"International Travel\"], [258, 175, \"International Travel\"], [617, 175, \"International Travel\"], [657, 175, \"International Travel\"], [1510, 175, \"International Travel\"], [1204, 175, \"International Travel\"], [184, 175, \"International Travel\"], [198, 175, \"International Travel\"], [969, 175, \"International Travel\"], [473, 175, \"International Travel\"], [190, 175, \"International Travel\"], [60, 175, \"International Travel\"], [32, 175, \"International Travel\"], [278, 175, \"International Travel\"], [21, 175, \"International Travel\"], [66, 175, \"International Travel\"], [614, 175, \"International Travel\"], [33, 175, \"International Travel\"], [17, 175, \"International Travel\"], [7, 175, \"International Travel\"]], \"hovertemplate\": \"keys=%{customdata[2]}<br>week_year=2020, Week 11<br>detectedstate=%{x}<br>counts=%{y}<br>total_ct=%{customdata[0]}<br>total_ct_daily=%{customdata[1]}<extra></extra>\", \"ids\": [38, 27, 22, 15, 10, 9, 9, 7, 6, 5, 5, 4, 3, 2, 2, 2, 2, 2, 2, 1, 1, 1], \"legendgroup\": \"International Travel\", \"marker\": {\"color\": \"#00cc96\"}, \"name\": \"International Travel\", \"offsetgroup\": \"International Travel\", \"orientation\": \"v\", \"showlegend\": true, \"textposition\": \"auto\", \"x\": [\"Kerala\", \"Maharashtra\", \"Telangana\", \"Karnataka\", \"Gujarat\", \"Uttar Pradesh\", \"Delhi\", \"Tamil Nadu\", \"Punjab\", \"Haryana\", \"Rajasthan\", \"Andhra Pradesh\", \"West Bengal\", \"Odisha\", \"Himachal Pradesh\", \"Jammu and Kashmir\", \"Chandigarh\", \"Bihar\", \"Madhya Pradesh\", \"Chhattisgarh\", \"Ladakh\", \"Puducherry\"], \"xaxis\": \"x\", \"y\": [38, 27, 22, 15, 10, 9, 9, 7, 6, 5, 5, 4, 3, 2, 2, 2, 2, 2, 2, 1, 1, 1], \"yaxis\": \"y\", \"type\": \"bar\"}, {\"alignmentgroup\": \"True\", \"customdata\": [[184, 40, \"Contact\"], [2455, 40, \"Contact\"], [657, 40, \"Contact\"], [1510, 40, \"Contact\"], [21, 40, \"Contact\"], [190, 40, \"Contact\"], [386, 40, \"Contact\"], [258, 40, \"Contact\"], [473, 40, \"Contact\"], [198, 40, \"Contact\"], [17, 40, \"Contact\"], [614, 40, \"Contact\"], [592, 40, \"Contact\"]], \"hovertemplate\": \"keys=%{customdata[2]}<br>week_year=2020, Week 11<br>detectedstate=%{x}<br>counts=%{y}<br>total_ct=%{customdata[0]}<br>total_ct_daily=%{customdata[1]}<extra></extra>\", \"ids\": [8, 7, 4, 4, 4, 3, 3, 2, 1, 1, 1, 1, 1], \"legendgroup\": \"Contact\", \"marker\": {\"color\": \"#ab63fa\"}, \"name\": \"Contact\", \"offsetgroup\": \"Contact\", \"orientation\": \"v\", \"showlegend\": true, \"textposition\": \"auto\", \"x\": [\"Punjab\", \"Maharashtra\", \"Uttar Pradesh\", \"Delhi\", \"Chandigarh\", \"West Bengal\", \"Kerala\", \"Karnataka\", \"Andhra Pradesh\", \"Haryana\", \"Ladakh\", \"Madhya Pradesh\", \"Telangana\"], \"xaxis\": \"x\", \"y\": [8, 7, 4, 4, 4, 3, 3, 2, 1, 1, 1, 1, 1], \"yaxis\": \"y\", \"type\": \"bar\"}, {\"alignmentgroup\": \"True\", \"customdata\": [[614, 20, \"Contact,Travel\"], [35, 20, \"Contact,Travel\"], [657, 20, \"Contact,Travel\"], [969, 20, \"Contact,Travel\"], [2455, 20, \"Contact,Travel\"], [258, 20, \"Contact,Travel\"], [617, 20, \"Contact,Travel\"], [198, 20, \"Contact,Travel\"], [386, 20, \"Contact,Travel\"], [17, 20, \"Contact,Travel\"], [1204, 20, \"Contact,Travel\"], [592, 20, \"Contact,Travel\"], [190, 20, \"Contact,Travel\"]], \"hovertemplate\": \"keys=%{customdata[2]}<br>week_year=2020, Week 11<br>detectedstate=%{x}<br>counts=%{y}<br>total_ct=%{customdata[0]}<br>total_ct_daily=%{customdata[1]}<extra></extra>\", \"ids\": [3, 2, 2, 2, 2, 2, 1, 1, 1, 1, 1, 1, 1], \"legendgroup\": \"Contact,Travel\", \"marker\": {\"color\": \"#FFA15A\"}, \"name\": \"Contact,Travel\", \"offsetgroup\": \"Contact,Travel\", \"orientation\": \"v\", \"showlegend\": true, \"textposition\": \"auto\", \"x\": [\"Madhya Pradesh\", \"Uttarakhand\", \"Uttar Pradesh\", \"Rajasthan\", \"Maharashtra\", \"Karnataka\", \"Gujarat\", \"Haryana\", \"Kerala\", \"Ladakh\", \"Tamil Nadu\", \"Telangana\", \"West Bengal\"], \"xaxis\": \"x\", \"y\": [3, 2, 2, 2, 2, 2, 1, 1, 1, 1, 1, 1, 1], \"yaxis\": \"y\", \"type\": \"bar\"}, {\"alignmentgroup\": \"True\", \"customdata\": [[184, 8, \"Contact,Investigation in Progress\"], [17, 8, \"Contact,Investigation in Progress\"]], \"hovertemplate\": \"keys=%{customdata[2]}<br>week_year=2020, Week 11<br>detectedstate=%{x}<br>counts=%{y}<br>total_ct=%{customdata[0]}<br>total_ct_daily=%{customdata[1]}<extra></extra>\", \"ids\": [5, 3], \"legendgroup\": \"Contact,Investigation in Progress\", \"marker\": {\"color\": \"#19d3f3\"}, \"name\": \"Contact,Investigation in Progress\", \"offsetgroup\": \"Contact,Investigation in Progress\", \"orientation\": \"v\", \"showlegend\": true, \"textposition\": \"auto\", \"x\": [\"Punjab\", \"Ladakh\"], \"xaxis\": \"x\", \"y\": [5, 3], \"yaxis\": \"y\", \"type\": \"bar\"}, {\"alignmentgroup\": \"True\", \"customdata\": [[969, 9, \"Govt Staff\"], [1510, 9, \"Govt Staff\"], [258, 9, \"Govt Staff\"], [17, 9, \"Govt Staff\"], [657, 9, \"Govt Staff\"]], \"hovertemplate\": \"keys=%{customdata[2]}<br>week_year=2020, Week 11<br>detectedstate=%{x}<br>counts=%{y}<br>total_ct=%{customdata[0]}<br>total_ct_daily=%{customdata[1]}<extra></extra>\", \"ids\": [5, 1, 1, 1, 1], \"legendgroup\": \"Govt Staff\", \"marker\": {\"color\": \"#B6E880\"}, \"name\": \"Govt Staff\", \"offsetgroup\": \"Govt Staff\", \"orientation\": \"v\", \"showlegend\": true, \"textposition\": \"auto\", \"x\": [\"Rajasthan\", \"Delhi\", \"Karnataka\", \"Ladakh\", \"Uttar Pradesh\"], \"xaxis\": \"x\", \"y\": [5, 1, 1, 1, 1], \"yaxis\": \"y\", \"type\": \"bar\"}, {\"alignmentgroup\": \"True\", \"customdata\": [[969, 5, \"Contact,Govt Staff\"]], \"hovertemplate\": \"keys=%{customdata[2]}<br>week_year=2020, Week 11<br>detectedstate=%{x}<br>counts=%{y}<br>total_ct=%{customdata[0]}<br>total_ct_daily=%{customdata[1]}<extra></extra>\", \"ids\": [5], \"legendgroup\": \"Contact,Govt Staff\", \"marker\": {\"color\": \"#EF553B\"}, \"name\": \"Contact,Govt Staff\", \"offsetgroup\": \"Contact,Govt Staff\", \"orientation\": \"v\", \"showlegend\": true, \"textposition\": \"auto\", \"x\": [\"Rajasthan\"], \"xaxis\": \"x\", \"y\": [5], \"yaxis\": \"y\", \"type\": \"bar\"}, {\"alignmentgroup\": \"True\", \"customdata\": [[617, 1, \"No Travel History,Travel\"]], \"hovertemplate\": \"keys=%{customdata[2]}<br>week_year=2020, Week 11<br>detectedstate=%{x}<br>counts=%{y}<br>total_ct=%{customdata[0]}<br>total_ct_daily=%{customdata[1]}<extra></extra>\", \"ids\": [1], \"legendgroup\": \"No Travel History,Travel\", \"marker\": {\"color\": \"#00cc96\"}, \"name\": \"No Travel History,Travel\", \"offsetgroup\": \"No Travel History,Travel\", \"orientation\": \"v\", \"showlegend\": true, \"textposition\": \"auto\", \"x\": [\"Gujarat\"], \"xaxis\": \"x\", \"y\": [1], \"yaxis\": \"y\", \"type\": \"bar\"}, {\"alignmentgroup\": \"True\", \"customdata\": [[386, 2, \"Govt Staff,Travel\"], [969, 2, \"Govt Staff,Travel\"]], \"hovertemplate\": \"keys=%{customdata[2]}<br>week_year=2020, Week 11<br>detectedstate=%{x}<br>counts=%{y}<br>total_ct=%{customdata[0]}<br>total_ct_daily=%{customdata[1]}<extra></extra>\", \"ids\": [1, 1], \"legendgroup\": \"Govt Staff,Travel\", \"marker\": {\"color\": \"#ab63fa\"}, \"name\": \"Govt Staff,Travel\", \"offsetgroup\": \"Govt Staff,Travel\", \"orientation\": \"v\", \"showlegend\": true, \"textposition\": \"auto\", \"x\": [\"Kerala\", \"Rajasthan\"], \"xaxis\": \"x\", \"y\": [1, 1], \"yaxis\": \"y\", \"type\": \"bar\"}, {\"alignmentgroup\": \"True\", \"customdata\": [[184, 1, \"Family\"]], \"hovertemplate\": \"keys=%{customdata[2]}<br>week_year=2020, Week 11<br>detectedstate=%{x}<br>counts=%{y}<br>total_ct=%{customdata[0]}<br>total_ct_daily=%{customdata[1]}<extra></extra>\", \"ids\": [1], \"legendgroup\": \"Family\", \"marker\": {\"color\": \"#FF97FF\"}, \"name\": \"Family\", \"offsetgroup\": \"Family\", \"orientation\": \"v\", \"showlegend\": true, \"textposition\": \"auto\", \"x\": [\"Punjab\"], \"xaxis\": \"x\", \"y\": [1], \"yaxis\": \"y\", \"type\": \"bar\"}], \"name\": \"2020, Week 11\"}, {\"data\": [{\"alignmentgroup\": \"True\", \"customdata\": [[2455, 29, \"International Travel\"], [386, 29, \"International Travel\"], [592, 29, \"International Travel\"], [969, 29, \"International Travel\"], [258, 29, \"International Travel\"], [473, 29, \"International Travel\"], [1510, 29, \"International Travel\"], [278, 29, \"International Travel\"], [17, 29, \"International Travel\"], [184, 29, \"International Travel\"], [35, 29, \"International Travel\"]], \"hovertemplate\": \"keys=%{customdata[2]}<br>week_year=2020, Week 10<br>detectedstate=%{x}<br>counts=%{y}<br>total_ct=%{customdata[0]}<br>total_ct_daily=%{customdata[1]}<extra></extra>\", \"ids\": [12, 6, 2, 2, 1, 1, 1, 1, 1, 1, 1], \"legendgroup\": \"International Travel\", \"marker\": {\"color\": \"#00cc96\"}, \"name\": \"International Travel\", \"offsetgroup\": \"International Travel\", \"orientation\": \"v\", \"showlegend\": true, \"textposition\": \"auto\", \"x\": [\"Maharashtra\", \"Kerala\", \"Telangana\", \"Rajasthan\", \"Karnataka\", \"Andhra Pradesh\", \"Delhi\", \"Jammu and Kashmir\", \"Ladakh\", \"Punjab\", \"Uttarakhand\"], \"xaxis\": \"x\", \"y\": [12, 6, 2, 2, 1, 1, 1, 1, 1, 1, 1], \"yaxis\": \"y\", \"type\": \"bar\"}, {\"alignmentgroup\": \"True\", \"customdata\": [[386, 19, \"Contact\"], [2455, 19, \"Contact\"], [657, 19, \"Contact\"], [258, 19, \"Contact\"], [1510, 19, \"Contact\"], [278, 19, \"Contact\"]], \"hovertemplate\": \"keys=%{customdata[2]}<br>week_year=2020, Week 10<br>detectedstate=%{x}<br>counts=%{y}<br>total_ct=%{customdata[0]}<br>total_ct_daily=%{customdata[1]}<extra></extra>\", \"ids\": [8, 4, 3, 2, 1, 1], \"legendgroup\": \"Contact\", \"marker\": {\"color\": \"#ab63fa\"}, \"name\": \"Contact\", \"offsetgroup\": \"Contact\", \"orientation\": \"v\", \"showlegend\": true, \"textposition\": \"auto\", \"x\": [\"Kerala\", \"Maharashtra\", \"Uttar Pradesh\", \"Karnataka\", \"Delhi\", \"Jammu and Kashmir\"], \"xaxis\": \"x\", \"y\": [8, 4, 3, 2, 1, 1], \"yaxis\": \"y\", \"type\": \"bar\"}, {\"alignmentgroup\": \"True\", \"customdata\": [[2455, 20, \"Contact,Travel\"], [258, 20, \"Contact,Travel\"], [657, 20, \"Contact,Travel\"], [1510, 20, \"Contact,Travel\"]], \"hovertemplate\": \"keys=%{customdata[2]}<br>week_year=2020, Week 10<br>detectedstate=%{x}<br>counts=%{y}<br>total_ct=%{customdata[0]}<br>total_ct_daily=%{customdata[1]}<extra></extra>\", \"ids\": [15, 3, 1, 1], \"legendgroup\": \"Contact,Travel\", \"marker\": {\"color\": \"#FFA15A\"}, \"name\": \"Contact,Travel\", \"offsetgroup\": \"Contact,Travel\", \"orientation\": \"v\", \"showlegend\": true, \"textposition\": \"auto\", \"x\": [\"Maharashtra\", \"Karnataka\", \"Uttar Pradesh\", \"Delhi\"], \"xaxis\": \"x\", \"y\": [15, 3, 1, 1], \"yaxis\": \"y\", \"type\": \"bar\"}, {\"alignmentgroup\": \"True\", \"customdata\": [[1510, 1, \"No Travel History,Travel\"]], \"hovertemplate\": \"keys=%{customdata[2]}<br>week_year=2020, Week 10<br>detectedstate=%{x}<br>counts=%{y}<br>total_ct=%{customdata[0]}<br>total_ct_daily=%{customdata[1]}<extra></extra>\", \"ids\": [1], \"legendgroup\": \"No Travel History,Travel\", \"marker\": {\"color\": \"#00cc96\"}, \"name\": \"No Travel History,Travel\", \"offsetgroup\": \"No Travel History,Travel\", \"orientation\": \"v\", \"showlegend\": true, \"textposition\": \"auto\", \"x\": [\"Delhi\"], \"xaxis\": \"x\", \"y\": [1], \"yaxis\": \"y\", \"type\": \"bar\"}, {\"alignmentgroup\": \"True\", \"customdata\": [[386, 3, \"Govt Staff,Travel\"], [2455, 3, \"Govt Staff,Travel\"], [657, 3, \"Govt Staff,Travel\"]], \"hovertemplate\": \"keys=%{customdata[2]}<br>week_year=2020, Week 10<br>detectedstate=%{x}<br>counts=%{y}<br>total_ct=%{customdata[0]}<br>total_ct_daily=%{customdata[1]}<extra></extra>\", \"ids\": [1, 1, 1], \"legendgroup\": \"Govt Staff,Travel\", \"marker\": {\"color\": \"#ab63fa\"}, \"name\": \"Govt Staff,Travel\", \"offsetgroup\": \"Govt Staff,Travel\", \"orientation\": \"v\", \"showlegend\": true, \"textposition\": \"auto\", \"x\": [\"Kerala\", \"Maharashtra\", \"Uttar Pradesh\"], \"xaxis\": \"x\", \"y\": [1, 1, 1], \"yaxis\": \"y\", \"type\": \"bar\"}, {\"alignmentgroup\": \"True\", \"customdata\": [[386, 1, \"Family,Travel\"]], \"hovertemplate\": \"keys=%{customdata[2]}<br>week_year=2020, Week 10<br>detectedstate=%{x}<br>counts=%{y}<br>total_ct=%{customdata[0]}<br>total_ct_daily=%{customdata[1]}<extra></extra>\", \"ids\": [1], \"legendgroup\": \"Family,Travel\", \"marker\": {\"color\": \"#636efa\"}, \"name\": \"Family,Travel\", \"offsetgroup\": \"Family,Travel\", \"orientation\": \"v\", \"showlegend\": true, \"textposition\": \"auto\", \"x\": [\"Kerala\"], \"xaxis\": \"x\", \"y\": [1], \"yaxis\": \"y\", \"type\": \"bar\"}], \"name\": \"2020, Week 10\"}, {\"data\": [{\"alignmentgroup\": \"True\", \"customdata\": [[17, 1, \"NA\"]], \"hovertemplate\": \"keys=%{customdata[2]}<br>week_year=2020, Week 09<br>detectedstate=%{x}<br>counts=%{y}<br>total_ct=%{customdata[0]}<br>total_ct_daily=%{customdata[1]}<extra></extra>\", \"ids\": [1], \"legendgroup\": \"NA\", \"marker\": {\"color\": \"#636efa\"}, \"name\": \"NA\", \"offsetgroup\": \"NA\", \"orientation\": \"v\", \"showlegend\": true, \"textposition\": \"auto\", \"x\": [\"Ladakh\"], \"xaxis\": \"x\", \"y\": [1], \"yaxis\": \"y\", \"type\": \"bar\"}, {\"alignmentgroup\": \"True\", \"customdata\": [[198, 25, \"International Travel\"], [1510, 25, \"International Travel\"], [386, 25, \"International Travel\"], [17, 25, \"International Travel\"], [969, 25, \"International Travel\"], [1204, 25, \"International Travel\"], [592, 25, \"International Travel\"], [657, 25, \"International Travel\"]], \"hovertemplate\": \"keys=%{customdata[2]}<br>week_year=2020, Week 09<br>detectedstate=%{x}<br>counts=%{y}<br>total_ct=%{customdata[0]}<br>total_ct_daily=%{customdata[1]}<extra></extra>\", \"ids\": [14, 3, 3, 1, 1, 1, 1, 1], \"legendgroup\": \"International Travel\", \"marker\": {\"color\": \"#00cc96\"}, \"name\": \"International Travel\", \"offsetgroup\": \"International Travel\", \"orientation\": \"v\", \"showlegend\": true, \"textposition\": \"auto\", \"x\": [\"Haryana\", \"Delhi\", \"Kerala\", \"Ladakh\", \"Rajasthan\", \"Tamil Nadu\", \"Telangana\", \"Uttar Pradesh\"], \"xaxis\": \"x\", \"y\": [14, 3, 3, 1, 1, 1, 1, 1], \"yaxis\": \"y\", \"type\": \"bar\"}, {\"alignmentgroup\": \"True\", \"customdata\": [[657, 8, \"Contact\"], [386, 8, \"Contact\"]], \"hovertemplate\": \"keys=%{customdata[2]}<br>week_year=2020, Week 09<br>detectedstate=%{x}<br>counts=%{y}<br>total_ct=%{customdata[0]}<br>total_ct_daily=%{customdata[1]}<extra></extra>\", \"ids\": [6, 2], \"legendgroup\": \"Contact\", \"marker\": {\"color\": \"#ab63fa\"}, \"name\": \"Contact\", \"offsetgroup\": \"Contact\", \"orientation\": \"v\", \"showlegend\": true, \"textposition\": \"auto\", \"x\": [\"Uttar Pradesh\", \"Kerala\"], \"xaxis\": \"x\", \"y\": [6, 2], \"yaxis\": \"y\", \"type\": \"bar\"}, {\"alignmentgroup\": \"True\", \"customdata\": [[969, 1, \"Contact,Travel\"]], \"hovertemplate\": \"keys=%{customdata[2]}<br>week_year=2020, Week 09<br>detectedstate=%{x}<br>counts=%{y}<br>total_ct=%{customdata[0]}<br>total_ct_daily=%{customdata[1]}<extra></extra>\", \"ids\": [1], \"legendgroup\": \"Contact,Travel\", \"marker\": {\"color\": \"#FFA15A\"}, \"name\": \"Contact,Travel\", \"offsetgroup\": \"Contact,Travel\", \"orientation\": \"v\", \"showlegend\": true, \"textposition\": \"auto\", \"x\": [\"Rajasthan\"], \"xaxis\": \"x\", \"y\": [1], \"yaxis\": \"y\", \"type\": \"bar\"}, {\"alignmentgroup\": \"True\", \"customdata\": [[657, 1, \"Domestic Travel\"]], \"hovertemplate\": \"keys=%{customdata[2]}<br>week_year=2020, Week 09<br>detectedstate=%{x}<br>counts=%{y}<br>total_ct=%{customdata[0]}<br>total_ct_daily=%{customdata[1]}<extra></extra>\", \"ids\": [1], \"legendgroup\": \"Domestic Travel\", \"marker\": {\"color\": \"#636efa\"}, \"name\": \"Domestic Travel\", \"offsetgroup\": \"Domestic Travel\", \"orientation\": \"v\", \"showlegend\": true, \"textposition\": \"auto\", \"x\": [\"Uttar Pradesh\"], \"xaxis\": \"x\", \"y\": [1], \"yaxis\": \"y\", \"type\": \"bar\"}], \"name\": \"2020, Week 09\"}, {\"data\": [{\"alignmentgroup\": \"True\", \"customdata\": [[386, 2, \"International Travel\"]], \"hovertemplate\": \"keys=%{customdata[2]}<br>week_year=2020, Week 04<br>detectedstate=%{x}<br>counts=%{y}<br>total_ct=%{customdata[0]}<br>total_ct_daily=%{customdata[1]}<extra></extra>\", \"ids\": [2], \"legendgroup\": \"International Travel\", \"marker\": {\"color\": \"#00cc96\"}, \"name\": \"International Travel\", \"offsetgroup\": \"International Travel\", \"orientation\": \"v\", \"showlegend\": true, \"textposition\": \"auto\", \"x\": [\"Kerala\"], \"xaxis\": \"x\", \"y\": [2], \"yaxis\": \"y\", \"type\": \"bar\"}], \"name\": \"2020, Week 04\"}, {\"data\": [{\"alignmentgroup\": \"True\", \"customdata\": [[386, 1, \"International Travel\"]], \"hovertemplate\": \"keys=%{customdata[2]}<br>week_year=2020, Week 05<br>detectedstate=%{x}<br>counts=%{y}<br>total_ct=%{customdata[0]}<br>total_ct_daily=%{customdata[1]}<extra></extra>\", \"ids\": [1], \"legendgroup\": \"International Travel\", \"marker\": {\"color\": \"#00cc96\"}, \"name\": \"International Travel\", \"offsetgroup\": \"International Travel\", \"orientation\": \"v\", \"showlegend\": true, \"textposition\": \"auto\", \"x\": [\"Kerala\"], \"xaxis\": \"x\", \"y\": [1], \"yaxis\": \"y\", \"type\": \"bar\"}], \"name\": \"2020, Week 05\"}]);\n",
       "                        }).then(function(){\n",
       "                            \n",
       "var gd = document.getElementById('e5f4d454-6552-4b41-9dfe-6965fc6eb309');\n",
       "var x = new MutationObserver(function (mutations, observer) {{\n",
       "        var display = window.getComputedStyle(gd).display;\n",
       "        if (!display || display === 'none') {{\n",
       "            console.log([gd, 'removed!']);\n",
       "            Plotly.purge(gd);\n",
       "            observer.disconnect();\n",
       "        }}\n",
       "}});\n",
       "\n",
       "// Listen for the removal of the full notebook cells\n",
       "var notebookContainer = gd.closest('#notebook-container');\n",
       "if (notebookContainer) {{\n",
       "    x.observe(notebookContainer, {childList: true});\n",
       "}}\n",
       "\n",
       "// Listen for the clearing of the current output cell\n",
       "var outputEl = gd.closest('.output');\n",
       "if (outputEl) {{\n",
       "    x.observe(outputEl, {childList: true});\n",
       "}}\n",
       "\n",
       "                        })\n",
       "                };\n",
       "                });\n",
       "            </script>\n",
       "        </div>"
      ]
     },
     "metadata": {},
     "output_type": "display_data"
    }
   ],
   "source": [
    "df1 = df[df['keys']!='_']\n",
    "df1 = df1[df1['keys']!='N_A']\n",
    "#dateannounced\n",
    "#df1 = df1[df1['travel']==True]\n",
    "print(len(df1))\n",
    "dfa = pd.DataFrame(df1.groupby(['keys', 'week_year','detectedstate']).size().reset_index(name='counts'))\n",
    "dfa = dfa.sort_values(by=['counts'], ascending=False)\n",
    "dfa['total_ct'] = dfa.groupby('detectedstate')['counts'].transform('sum')\n",
    "dfa['total_ct_daily'] = dfa.groupby(['week_year','keys'])['counts'].transform('sum')\n",
    "#dfa = dfa.sort_values(by=['week_year'], ascending=True)\n",
    "#dfa = dfa.sort_values(by=['detectedstate'])\n",
    "#dfa = dfa.sort_values(by=['total_ct'])\n",
    "\n",
    "fig = px.bar(dfa, y='counts', x='detectedstate',color='keys', hover_data=['total_ct','total_ct_daily','keys']\n",
    "            )\n",
    "fig.update_layout(\n",
    "    autosize=False,\n",
    "    width=1500,\n",
    "    height=700,\n",
    "    title_text='Total Cases:'+str(len(df)),\n",
    "    xaxis=dict(\n",
    "        tickmode='linear')\n",
    "    )\n",
    "\n",
    "fig.show()\n",
    "fig.write_html(\"index.html\")\n",
    "\n",
    "\n",
    "\n",
    "\n",
    "fig = px.bar(dfa, y='counts', x='detectedstate',color='keys', hover_data=['total_ct','total_ct_daily','keys']\n",
    "            , animation_frame=\"week_year\",animation_group=\"counts\",range_y=[0,1600])\n",
    "fig.update_layout(\n",
    "    autosize=False,\n",
    "    width=1500,\n",
    "    height=700,\n",
    "    title_text='Total Cases:'+str(len(df)),\n",
    "    )\n",
    "fig.update_yaxes(tickvals=dfa['detectedstate'].unique())\n",
    "fig.show()\n",
    "fig.write_html(\"index2.html\")\n",
    "a= \"<body>\"\n",
    "b='<body><a href=\"index2.html\">Click here to view case growth by weeks</a></br><a href=\"scatter_plot_breakdown.html\">Click here to view the scatter plot</a>'\n",
    "with open(\"index.html\", 'r') as fd:\n",
    "    fi = fd.read()\n",
    "    pl1 = fi.replace(a,b)\n",
    "    \n",
    "with open(\"index.html\", 'w') as fd:\n",
    "    fd.write(pl1)\n"
   ]
  },
  {
   "cell_type": "code",
   "execution_count": 65,
   "metadata": {},
   "outputs": [],
   "source": []
  },
  {
   "cell_type": "code",
   "execution_count": null,
   "metadata": {},
   "outputs": [],
   "source": []
  }
 ],
 "metadata": {
  "kernelspec": {
   "display_name": "Python 3",
   "language": "python",
   "name": "python3"
  },
  "language_info": {
   "codemirror_mode": {
    "name": "ipython",
    "version": 3
   },
   "file_extension": ".py",
   "mimetype": "text/x-python",
   "name": "python",
   "nbconvert_exporter": "python",
   "pygments_lexer": "ipython3",
   "version": "3.6.6"
  }
 },
 "nbformat": 4,
 "nbformat_minor": 2
}
